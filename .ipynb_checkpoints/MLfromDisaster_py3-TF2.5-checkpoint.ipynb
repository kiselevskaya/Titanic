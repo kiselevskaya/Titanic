{
 "cells": [
  {
   "cell_type": "markdown",
   "id": "e7f51664",
   "metadata": {},
   "source": [
    "# Titanic - Machine Learning from Disaster"
   ]
  },
  {
   "cell_type": "markdown",
   "id": "50563cff",
   "metadata": {},
   "source": [
    "##### Python 3.8 Tenserflow 2.7 enviroment"
   ]
  },
  {
   "cell_type": "markdown",
   "id": "dacad270",
   "metadata": {},
   "source": [
    "## Import libraries"
   ]
  },
  {
   "cell_type": "code",
   "execution_count": 1,
   "id": "ae7bc203",
   "metadata": {},
   "outputs": [],
   "source": [
    "import numpy as np \n",
    "import pandas as pd \n",
    "import matplotlib.pyplot as plt \n",
    "import seaborn as sns\n",
    "sns.set()"
   ]
  },
  {
   "cell_type": "markdown",
   "id": "955a98a4",
   "metadata": {},
   "source": [
    "## Load data"
   ]
  },
  {
   "cell_type": "code",
   "execution_count": 2,
   "id": "44e697bd",
   "metadata": {},
   "outputs": [
    {
     "data": {
      "text/html": [
       "<div>\n",
       "<style scoped>\n",
       "    .dataframe tbody tr th:only-of-type {\n",
       "        vertical-align: middle;\n",
       "    }\n",
       "\n",
       "    .dataframe tbody tr th {\n",
       "        vertical-align: top;\n",
       "    }\n",
       "\n",
       "    .dataframe thead th {\n",
       "        text-align: right;\n",
       "    }\n",
       "</style>\n",
       "<table border=\"1\" class=\"dataframe\">\n",
       "  <thead>\n",
       "    <tr style=\"text-align: right;\">\n",
       "      <th></th>\n",
       "      <th>PassengerId</th>\n",
       "      <th>Survived</th>\n",
       "      <th>Pclass</th>\n",
       "      <th>Name</th>\n",
       "      <th>Sex</th>\n",
       "      <th>Age</th>\n",
       "      <th>SibSp</th>\n",
       "      <th>Parch</th>\n",
       "      <th>Ticket</th>\n",
       "      <th>Fare</th>\n",
       "      <th>Cabin</th>\n",
       "      <th>Embarked</th>\n",
       "    </tr>\n",
       "  </thead>\n",
       "  <tbody>\n",
       "    <tr>\n",
       "      <th>0</th>\n",
       "      <td>1</td>\n",
       "      <td>0</td>\n",
       "      <td>3</td>\n",
       "      <td>Braund, Mr. Owen Harris</td>\n",
       "      <td>male</td>\n",
       "      <td>22.0</td>\n",
       "      <td>1</td>\n",
       "      <td>0</td>\n",
       "      <td>A/5 21171</td>\n",
       "      <td>7.2500</td>\n",
       "      <td>NaN</td>\n",
       "      <td>S</td>\n",
       "    </tr>\n",
       "    <tr>\n",
       "      <th>1</th>\n",
       "      <td>2</td>\n",
       "      <td>1</td>\n",
       "      <td>1</td>\n",
       "      <td>Cumings, Mrs. John Bradley (Florence Briggs Th...</td>\n",
       "      <td>female</td>\n",
       "      <td>38.0</td>\n",
       "      <td>1</td>\n",
       "      <td>0</td>\n",
       "      <td>PC 17599</td>\n",
       "      <td>71.2833</td>\n",
       "      <td>C85</td>\n",
       "      <td>C</td>\n",
       "    </tr>\n",
       "    <tr>\n",
       "      <th>2</th>\n",
       "      <td>3</td>\n",
       "      <td>1</td>\n",
       "      <td>3</td>\n",
       "      <td>Heikkinen, Miss. Laina</td>\n",
       "      <td>female</td>\n",
       "      <td>26.0</td>\n",
       "      <td>0</td>\n",
       "      <td>0</td>\n",
       "      <td>STON/O2. 3101282</td>\n",
       "      <td>7.9250</td>\n",
       "      <td>NaN</td>\n",
       "      <td>S</td>\n",
       "    </tr>\n",
       "    <tr>\n",
       "      <th>3</th>\n",
       "      <td>4</td>\n",
       "      <td>1</td>\n",
       "      <td>1</td>\n",
       "      <td>Futrelle, Mrs. Jacques Heath (Lily May Peel)</td>\n",
       "      <td>female</td>\n",
       "      <td>35.0</td>\n",
       "      <td>1</td>\n",
       "      <td>0</td>\n",
       "      <td>113803</td>\n",
       "      <td>53.1000</td>\n",
       "      <td>C123</td>\n",
       "      <td>S</td>\n",
       "    </tr>\n",
       "    <tr>\n",
       "      <th>4</th>\n",
       "      <td>5</td>\n",
       "      <td>0</td>\n",
       "      <td>3</td>\n",
       "      <td>Allen, Mr. William Henry</td>\n",
       "      <td>male</td>\n",
       "      <td>35.0</td>\n",
       "      <td>0</td>\n",
       "      <td>0</td>\n",
       "      <td>373450</td>\n",
       "      <td>8.0500</td>\n",
       "      <td>NaN</td>\n",
       "      <td>S</td>\n",
       "    </tr>\n",
       "    <tr>\n",
       "      <th>...</th>\n",
       "      <td>...</td>\n",
       "      <td>...</td>\n",
       "      <td>...</td>\n",
       "      <td>...</td>\n",
       "      <td>...</td>\n",
       "      <td>...</td>\n",
       "      <td>...</td>\n",
       "      <td>...</td>\n",
       "      <td>...</td>\n",
       "      <td>...</td>\n",
       "      <td>...</td>\n",
       "      <td>...</td>\n",
       "    </tr>\n",
       "    <tr>\n",
       "      <th>886</th>\n",
       "      <td>887</td>\n",
       "      <td>0</td>\n",
       "      <td>2</td>\n",
       "      <td>Montvila, Rev. Juozas</td>\n",
       "      <td>male</td>\n",
       "      <td>27.0</td>\n",
       "      <td>0</td>\n",
       "      <td>0</td>\n",
       "      <td>211536</td>\n",
       "      <td>13.0000</td>\n",
       "      <td>NaN</td>\n",
       "      <td>S</td>\n",
       "    </tr>\n",
       "    <tr>\n",
       "      <th>887</th>\n",
       "      <td>888</td>\n",
       "      <td>1</td>\n",
       "      <td>1</td>\n",
       "      <td>Graham, Miss. Margaret Edith</td>\n",
       "      <td>female</td>\n",
       "      <td>19.0</td>\n",
       "      <td>0</td>\n",
       "      <td>0</td>\n",
       "      <td>112053</td>\n",
       "      <td>30.0000</td>\n",
       "      <td>B42</td>\n",
       "      <td>S</td>\n",
       "    </tr>\n",
       "    <tr>\n",
       "      <th>888</th>\n",
       "      <td>889</td>\n",
       "      <td>0</td>\n",
       "      <td>3</td>\n",
       "      <td>Johnston, Miss. Catherine Helen \"Carrie\"</td>\n",
       "      <td>female</td>\n",
       "      <td>NaN</td>\n",
       "      <td>1</td>\n",
       "      <td>2</td>\n",
       "      <td>W./C. 6607</td>\n",
       "      <td>23.4500</td>\n",
       "      <td>NaN</td>\n",
       "      <td>S</td>\n",
       "    </tr>\n",
       "    <tr>\n",
       "      <th>889</th>\n",
       "      <td>890</td>\n",
       "      <td>1</td>\n",
       "      <td>1</td>\n",
       "      <td>Behr, Mr. Karl Howell</td>\n",
       "      <td>male</td>\n",
       "      <td>26.0</td>\n",
       "      <td>0</td>\n",
       "      <td>0</td>\n",
       "      <td>111369</td>\n",
       "      <td>30.0000</td>\n",
       "      <td>C148</td>\n",
       "      <td>C</td>\n",
       "    </tr>\n",
       "    <tr>\n",
       "      <th>890</th>\n",
       "      <td>891</td>\n",
       "      <td>0</td>\n",
       "      <td>3</td>\n",
       "      <td>Dooley, Mr. Patrick</td>\n",
       "      <td>male</td>\n",
       "      <td>32.0</td>\n",
       "      <td>0</td>\n",
       "      <td>0</td>\n",
       "      <td>370376</td>\n",
       "      <td>7.7500</td>\n",
       "      <td>NaN</td>\n",
       "      <td>Q</td>\n",
       "    </tr>\n",
       "  </tbody>\n",
       "</table>\n",
       "<p>891 rows × 12 columns</p>\n",
       "</div>"
      ],
      "text/plain": [
       "     PassengerId  Survived  Pclass  \\\n",
       "0              1         0       3   \n",
       "1              2         1       1   \n",
       "2              3         1       3   \n",
       "3              4         1       1   \n",
       "4              5         0       3   \n",
       "..           ...       ...     ...   \n",
       "886          887         0       2   \n",
       "887          888         1       1   \n",
       "888          889         0       3   \n",
       "889          890         1       1   \n",
       "890          891         0       3   \n",
       "\n",
       "                                                  Name     Sex   Age  SibSp  \\\n",
       "0                              Braund, Mr. Owen Harris    male  22.0      1   \n",
       "1    Cumings, Mrs. John Bradley (Florence Briggs Th...  female  38.0      1   \n",
       "2                               Heikkinen, Miss. Laina  female  26.0      0   \n",
       "3         Futrelle, Mrs. Jacques Heath (Lily May Peel)  female  35.0      1   \n",
       "4                             Allen, Mr. William Henry    male  35.0      0   \n",
       "..                                                 ...     ...   ...    ...   \n",
       "886                              Montvila, Rev. Juozas    male  27.0      0   \n",
       "887                       Graham, Miss. Margaret Edith  female  19.0      0   \n",
       "888           Johnston, Miss. Catherine Helen \"Carrie\"  female   NaN      1   \n",
       "889                              Behr, Mr. Karl Howell    male  26.0      0   \n",
       "890                                Dooley, Mr. Patrick    male  32.0      0   \n",
       "\n",
       "     Parch            Ticket     Fare Cabin Embarked  \n",
       "0        0         A/5 21171   7.2500   NaN        S  \n",
       "1        0          PC 17599  71.2833   C85        C  \n",
       "2        0  STON/O2. 3101282   7.9250   NaN        S  \n",
       "3        0            113803  53.1000  C123        S  \n",
       "4        0            373450   8.0500   NaN        S  \n",
       "..     ...               ...      ...   ...      ...  \n",
       "886      0            211536  13.0000   NaN        S  \n",
       "887      0            112053  30.0000   B42        S  \n",
       "888      2        W./C. 6607  23.4500   NaN        S  \n",
       "889      0            111369  30.0000  C148        C  \n",
       "890      0            370376   7.7500   NaN        Q  \n",
       "\n",
       "[891 rows x 12 columns]"
      ]
     },
     "execution_count": 2,
     "metadata": {},
     "output_type": "execute_result"
    }
   ],
   "source": [
    "train_data = pd.read_csv('train.csv')\n",
    "train_data"
   ]
  },
  {
   "cell_type": "markdown",
   "id": "80451cbe",
   "metadata": {},
   "source": [
    "## Copy Dataframe"
   ]
  },
  {
   "cell_type": "code",
   "execution_count": 3,
   "id": "6d412a9e",
   "metadata": {},
   "outputs": [],
   "source": [
    "train_df = train_data.copy()"
   ]
  },
  {
   "cell_type": "markdown",
   "id": "782495f0",
   "metadata": {},
   "source": [
    "## Explore data"
   ]
  },
  {
   "cell_type": "code",
   "execution_count": 4,
   "id": "1da6cfd4",
   "metadata": {},
   "outputs": [
    {
     "data": {
      "text/html": [
       "<div>\n",
       "<style scoped>\n",
       "    .dataframe tbody tr th:only-of-type {\n",
       "        vertical-align: middle;\n",
       "    }\n",
       "\n",
       "    .dataframe tbody tr th {\n",
       "        vertical-align: top;\n",
       "    }\n",
       "\n",
       "    .dataframe thead th {\n",
       "        text-align: right;\n",
       "    }\n",
       "</style>\n",
       "<table border=\"1\" class=\"dataframe\">\n",
       "  <thead>\n",
       "    <tr style=\"text-align: right;\">\n",
       "      <th></th>\n",
       "      <th>PassengerId</th>\n",
       "      <th>Survived</th>\n",
       "      <th>Pclass</th>\n",
       "      <th>Age</th>\n",
       "      <th>SibSp</th>\n",
       "      <th>Parch</th>\n",
       "      <th>Fare</th>\n",
       "    </tr>\n",
       "  </thead>\n",
       "  <tbody>\n",
       "    <tr>\n",
       "      <th>count</th>\n",
       "      <td>891.000000</td>\n",
       "      <td>891.000000</td>\n",
       "      <td>891.000000</td>\n",
       "      <td>714.000000</td>\n",
       "      <td>891.000000</td>\n",
       "      <td>891.000000</td>\n",
       "      <td>891.000000</td>\n",
       "    </tr>\n",
       "    <tr>\n",
       "      <th>mean</th>\n",
       "      <td>446.000000</td>\n",
       "      <td>0.383838</td>\n",
       "      <td>2.308642</td>\n",
       "      <td>29.699118</td>\n",
       "      <td>0.523008</td>\n",
       "      <td>0.381594</td>\n",
       "      <td>32.204208</td>\n",
       "    </tr>\n",
       "    <tr>\n",
       "      <th>std</th>\n",
       "      <td>257.353842</td>\n",
       "      <td>0.486592</td>\n",
       "      <td>0.836071</td>\n",
       "      <td>14.526497</td>\n",
       "      <td>1.102743</td>\n",
       "      <td>0.806057</td>\n",
       "      <td>49.693429</td>\n",
       "    </tr>\n",
       "    <tr>\n",
       "      <th>min</th>\n",
       "      <td>1.000000</td>\n",
       "      <td>0.000000</td>\n",
       "      <td>1.000000</td>\n",
       "      <td>0.420000</td>\n",
       "      <td>0.000000</td>\n",
       "      <td>0.000000</td>\n",
       "      <td>0.000000</td>\n",
       "    </tr>\n",
       "    <tr>\n",
       "      <th>25%</th>\n",
       "      <td>223.500000</td>\n",
       "      <td>0.000000</td>\n",
       "      <td>2.000000</td>\n",
       "      <td>20.125000</td>\n",
       "      <td>0.000000</td>\n",
       "      <td>0.000000</td>\n",
       "      <td>7.910400</td>\n",
       "    </tr>\n",
       "    <tr>\n",
       "      <th>50%</th>\n",
       "      <td>446.000000</td>\n",
       "      <td>0.000000</td>\n",
       "      <td>3.000000</td>\n",
       "      <td>28.000000</td>\n",
       "      <td>0.000000</td>\n",
       "      <td>0.000000</td>\n",
       "      <td>14.454200</td>\n",
       "    </tr>\n",
       "    <tr>\n",
       "      <th>75%</th>\n",
       "      <td>668.500000</td>\n",
       "      <td>1.000000</td>\n",
       "      <td>3.000000</td>\n",
       "      <td>38.000000</td>\n",
       "      <td>1.000000</td>\n",
       "      <td>0.000000</td>\n",
       "      <td>31.000000</td>\n",
       "    </tr>\n",
       "    <tr>\n",
       "      <th>max</th>\n",
       "      <td>891.000000</td>\n",
       "      <td>1.000000</td>\n",
       "      <td>3.000000</td>\n",
       "      <td>80.000000</td>\n",
       "      <td>8.000000</td>\n",
       "      <td>6.000000</td>\n",
       "      <td>512.329200</td>\n",
       "    </tr>\n",
       "  </tbody>\n",
       "</table>\n",
       "</div>"
      ],
      "text/plain": [
       "       PassengerId    Survived      Pclass         Age       SibSp  \\\n",
       "count   891.000000  891.000000  891.000000  714.000000  891.000000   \n",
       "mean    446.000000    0.383838    2.308642   29.699118    0.523008   \n",
       "std     257.353842    0.486592    0.836071   14.526497    1.102743   \n",
       "min       1.000000    0.000000    1.000000    0.420000    0.000000   \n",
       "25%     223.500000    0.000000    2.000000   20.125000    0.000000   \n",
       "50%     446.000000    0.000000    3.000000   28.000000    0.000000   \n",
       "75%     668.500000    1.000000    3.000000   38.000000    1.000000   \n",
       "max     891.000000    1.000000    3.000000   80.000000    8.000000   \n",
       "\n",
       "            Parch        Fare  \n",
       "count  891.000000  891.000000  \n",
       "mean     0.381594   32.204208  \n",
       "std      0.806057   49.693429  \n",
       "min      0.000000    0.000000  \n",
       "25%      0.000000    7.910400  \n",
       "50%      0.000000   14.454200  \n",
       "75%      0.000000   31.000000  \n",
       "max      6.000000  512.329200  "
      ]
     },
     "execution_count": 4,
     "metadata": {},
     "output_type": "execute_result"
    }
   ],
   "source": [
    "train_df.describe()"
   ]
  },
  {
   "cell_type": "code",
   "execution_count": 5,
   "id": "a2f7126f",
   "metadata": {},
   "outputs": [
    {
     "data": {
      "text/plain": [
       "PassengerId      0\n",
       "Survived         0\n",
       "Pclass           0\n",
       "Name             0\n",
       "Sex              0\n",
       "Age            177\n",
       "SibSp            0\n",
       "Parch            0\n",
       "Ticket           0\n",
       "Fare             0\n",
       "Cabin          687\n",
       "Embarked         2\n",
       "dtype: int64"
      ]
     },
     "execution_count": 5,
     "metadata": {},
     "output_type": "execute_result"
    }
   ],
   "source": [
    "# Count missing values for train data\n",
    "train_df.isna().sum()"
   ]
  },
  {
   "cell_type": "code",
   "execution_count": 6,
   "id": "33a518d0",
   "metadata": {},
   "outputs": [
    {
     "data": {
      "image/png": "[encoded data removed]",
      "text/plain": [
       "<Figure size 432x288 with 2 Axes>"
      ]
     },
     "metadata": {},
     "output_type": "display_data"
    }
   ],
   "source": [
    "# Plot a heat map to see the correlation between the parameters and the target variable (Survived)\n",
    "# The higher the (absolut?) value the higher the correlation\n",
    "heatmap = sns.heatmap(train_df[['Survived', 'SibSp', 'Parch', 'Age', 'Fare', 'Pclass']].corr(), annot = True)\n",
    "sns.set(rc={'figure.figsize':(7,5)})"
   ]
  },
  {
   "cell_type": "code",
   "execution_count": 7,
   "id": "13ef3631",
   "metadata": {},
   "outputs": [
    {
     "data": {
      "text/plain": [
       "<matplotlib.legend.Legend at 0x1f97fc7d400>"
      ]
     },
     "execution_count": 7,
     "metadata": {},
     "output_type": "execute_result"
    },
    {
     "data": {
      "image/png": "[encoded data removed]",
      "text/plain": [
       "<Figure size 1800x504 with 1 Axes>"
      ]
     },
     "metadata": {},
     "output_type": "display_data"
    }
   ],
   "source": [
    "# Correlation between Fare and Surviving\n",
    "plt.figure(figsize=(25, 7))\n",
    "plt.hist([train_df[train_df['Survived']==1]['Fare'], train_df[train_df['Survived']==0]['Fare']], \n",
    "         stacked=True, color=['dodgerblue','navy'],\n",
    "         bins=30, label=['Survived', 'Died']\n",
    "        )\n",
    "plt.xlabel('Fare')\n",
    "plt.ylabel('Number of passenger')\n",
    "plt.legend()"
   ]
  },
  {
   "cell_type": "code",
   "execution_count": 8,
   "id": "37ecdbc6",
   "metadata": {},
   "outputs": [
    {
     "data": {
      "text/plain": [
       "<matplotlib.legend.Legend at 0x1f97fd59df0>"
      ]
     },
     "execution_count": 8,
     "metadata": {},
     "output_type": "execute_result"
    },
    {
     "data": {
      "image/png": "[encoded data removed]",
      "text/plain": [
       "<Figure size 1800x504 with 1 Axes>"
      ]
     },
     "metadata": {},
     "output_type": "display_data"
    }
   ],
   "source": [
    "# Correlation between family size and Surviving\n",
    "plt.figure(figsize=(25, 7))\n",
    "plt.hist([train_df[train_df['Survived']==1]['Parch']+train_df[train_df['Survived']==1]['SibSp'],\n",
    "          train_df[train_df['Survived']==0]['Parch']+train_df[train_df['Survived']==0]['SibSp']], \n",
    "          stacked=True, color=['steelblue','navy'],\n",
    "          bins=30, label=['Survived', 'Died']\n",
    "         )\n",
    "plt.xlabel('Family')\n",
    "plt.ylabel('Number of passenger')\n",
    "plt.legend()"
   ]
  },
  {
   "cell_type": "markdown",
   "id": "c3508c30",
   "metadata": {},
   "source": [
    "###### Seems pasangers with 1 to 3 family members have more chances to survive "
   ]
  },
  {
   "cell_type": "code",
   "execution_count": 9,
   "id": "baf6c78b",
   "metadata": {},
   "outputs": [
    {
     "data": {
      "text/plain": [
       "<matplotlib.legend.Legend at 0x1f90d0849d0>"
      ]
     },
     "execution_count": 9,
     "metadata": {},
     "output_type": "execute_result"
    },
    {
     "data": {
      "image/png": "[encoded data removed]",
      "text/plain": [
       "<Figure size 1800x504 with 1 Axes>"
      ]
     },
     "metadata": {},
     "output_type": "display_data"
    }
   ],
   "source": [
    "# Correlation between Age and Surviving\n",
    "plt.figure(figsize=(25, 7))\n",
    "plt.hist([train_df[train_df['Survived']==1]['Age'], train_df[train_df['Survived']==0]['Age']], \n",
    "         stacked=True, color=['darkturquoise','navy'],\n",
    "         bins=30, label=['Survived', 'Died']\n",
    "        )\n",
    "plt.xlabel('Age')\n",
    "plt.ylabel('Number of passenger')\n",
    "plt.legend()"
   ]
  },
  {
   "cell_type": "markdown",
   "id": "7990e3b2",
   "metadata": {},
   "source": [
    "###### Seems there is higher rate of surviving only among children around less than 8"
   ]
  },
  {
   "cell_type": "code",
   "execution_count": 10,
   "id": "48568958",
   "metadata": {},
   "outputs": [
    {
     "data": {
      "text/plain": [
       "<matplotlib.legend.Legend at 0x1f97fd638b0>"
      ]
     },
     "execution_count": 10,
     "metadata": {},
     "output_type": "execute_result"
    },
    {
     "data": {
      "image/png": "[encoded data removed]",
      "text/plain": [
       "<Figure size 1080x360 with 1 Axes>"
      ]
     },
     "metadata": {},
     "output_type": "display_data"
    }
   ],
   "source": [
    "# Correlation between Class and Surviving\n",
    "plt.figure(figsize=(15, 5))\n",
    "plt.hist([train_df[train_df['Survived']==1]['Pclass'], train_df[train_df['Survived']==0]['Pclass']], \n",
    "         stacked=True, color=['darkcyan','navy'],\n",
    "         bins=30, label=['Survived', 'Died']\n",
    "        )\n",
    "plt.xlabel('Class')\n",
    "plt.ylabel('Number of passenger')\n",
    "plt.legend()"
   ]
  },
  {
   "cell_type": "code",
   "execution_count": 11,
   "id": "5d06a303",
   "metadata": {},
   "outputs": [
    {
     "data": {
      "text/plain": [
       "<matplotlib.legend.Legend at 0x1f90d7395b0>"
      ]
     },
     "execution_count": 11,
     "metadata": {},
     "output_type": "execute_result"
    },
    {
     "data": {
      "image/png": "[encoded data removed]",
      "text/plain": [
       "<Figure size 504x360 with 1 Axes>"
      ]
     },
     "metadata": {},
     "output_type": "display_data"
    }
   ],
   "source": [
    "# Correlation between Gender and Surviving\n",
    "plt.figure(figsize=(7, 5))\n",
    "plt.hist([train_df[train_df['Survived']==1]['Sex'], train_df[train_df['Survived']==0]['Sex']], \n",
    "         stacked=True, color=['aqua','navy'],\n",
    "         bins=3, label=['Survived', 'Died']\n",
    "        )\n",
    "plt.xlabel('Sex')\n",
    "plt.ylabel('Number of Survived')\n",
    "plt.legend()"
   ]
  },
  {
   "cell_type": "markdown",
   "id": "b16e3540",
   "metadata": {},
   "source": [
    "###### Seems  women had more chances for surviving"
   ]
  },
  {
   "cell_type": "code",
   "execution_count": 12,
   "id": "c092b3ec",
   "metadata": {},
   "outputs": [
    {
     "data": {
      "text/plain": [
       "<matplotlib.legend.Legend at 0x1f90d76d100>"
      ]
     },
     "execution_count": 12,
     "metadata": {},
     "output_type": "execute_result"
    },
    {
     "data": {
      "image/png": "[encoded data removed]",
      "text/plain": [
       "<Figure size 504x360 with 1 Axes>"
      ]
     },
     "metadata": {},
     "output_type": "display_data"
    }
   ],
   "source": [
    "# Correlation between Embarked and Surviving\n",
    "plt.figure(figsize=(7, 5))\n",
    "plt.hist([train_df[train_df['Survived']==1]['Embarked'].map(lambda x: str(x)), \n",
    "          train_df[train_df['Survived']==0]['Embarked'].map(lambda x: str(x))], \n",
    "          stacked=True, color=['teal','navy'],\n",
    "          bins=3, label=['Survived', 'Died']\n",
    "         )\n",
    "plt.xlabel('Embarked')\n",
    "plt.ylabel('Number of Survived')\n",
    "plt.legend()"
   ]
  },
  {
   "cell_type": "markdown",
   "id": "06c75c60",
   "metadata": {},
   "source": [
    "## Data processing"
   ]
  },
  {
   "cell_type": "markdown",
   "id": "5d2a0024",
   "metadata": {},
   "source": [
    "### Missing age values"
   ]
  },
  {
   "cell_type": "code",
   "execution_count": 13,
   "id": "ae9bc0a8",
   "metadata": {},
   "outputs": [],
   "source": [
    "# Fill missing age values with random between mean-std and mean+std\n",
    "age_mean = train_df[\"Age\"].mean()\n",
    "age_std = train_df[\"Age\"].std()\n",
    "\n",
    "# Remember age_mean and age_std to preprocess_data dictionary\n",
    "preprocess_data = {'age_mean':age_mean, 'age_std':age_std}\n",
    "\n",
    "def fill_missing_age(df, mean, std):\n",
    "    is_null = df[\"Age\"].isnull().sum()\n",
    "    # compute random numbers in range of mean +/- std and size of is_null values\n",
    "    rand_age = np.random.randint(mean - std, mean + std, size = is_null)\n",
    "    # fill NaN values in Age column with random values generated\n",
    "    age_slice = df[\"Age\"].copy()\n",
    "    age_slice[np.isnan(age_slice)] = rand_age\n",
    "    df[\"Age\"] = age_slice\n",
    "    df[\"Age\"] = df[\"Age\"].astype(int)\n",
    "    return df\n",
    "\n",
    "train_df = fill_missing_age(train_df, age_mean, age_std)"
   ]
  },
  {
   "cell_type": "markdown",
   "id": "a96a4187",
   "metadata": {},
   "source": [
    "### Missing fare values"
   ]
  },
  {
   "cell_type": "code",
   "execution_count": 14,
   "id": "42acbebe",
   "metadata": {},
   "outputs": [],
   "source": [
    "# Fill fare missing values with mean \n",
    "fare_mean = train_df[\"Fare\"].mean()\n",
    "\n",
    "# Remember fare mean to preprocess_data dictionary\n",
    "preprocess_data['fare_mean'] = fare_mean\n",
    "    \n",
    "train_df['Fare'] = train_df['Fare'].fillna(train_df['Fare'].mean())"
   ]
  },
  {
   "cell_type": "markdown",
   "id": "8f370d58",
   "metadata": {},
   "source": [
    "### Missing embarked values"
   ]
  },
  {
   "cell_type": "code",
   "execution_count": 15,
   "id": "b9dbd1aa",
   "metadata": {},
   "outputs": [],
   "source": [
    "# Fill missing values with most common\n",
    "embarked_mode = train_df['Embarked'].mode().iloc[0]\n",
    "\n",
    "# Remember embarked mode to preprocess_data dictionary\n",
    "preprocess_data['embarked_mode'] = embarked_mode\n",
    "\n",
    "train_df['Embarked'] = train_df['Embarked'].fillna(embarked_mode)"
   ]
  },
  {
   "cell_type": "code",
   "execution_count": 16,
   "id": "47215947",
   "metadata": {},
   "outputs": [
    {
     "data": {
      "text/plain": [
       "PassengerId      0\n",
       "Survived         0\n",
       "Pclass           0\n",
       "Name             0\n",
       "Sex              0\n",
       "Age              0\n",
       "SibSp            0\n",
       "Parch            0\n",
       "Ticket           0\n",
       "Fare             0\n",
       "Cabin          687\n",
       "Embarked         0\n",
       "dtype: int64"
      ]
     },
     "execution_count": 16,
     "metadata": {},
     "output_type": "execute_result"
    }
   ],
   "source": [
    "train_df.isna().sum()"
   ]
  },
  {
   "cell_type": "markdown",
   "id": "8ee75785",
   "metadata": {},
   "source": [
    "## Feature engineering"
   ]
  },
  {
   "cell_type": "markdown",
   "id": "1706a105",
   "metadata": {},
   "source": [
    "### Cabin"
   ]
  },
  {
   "cell_type": "code",
   "execution_count": 17,
   "id": "1252a9d9",
   "metadata": {},
   "outputs": [],
   "source": [
    "# Turn Cabin number into Deck \n",
    "decks = ['A', 'B', 'C', 'D', 'E', 'F', 'G', 'T', np.nan]\n",
    "\n",
    "# Remember decks to preprocess_data dictionary\n",
    "preprocess_data['decks'] = decks\n",
    "\n",
    "def substring_in(inp, sub):\n",
    "    for s in sub:\n",
    "        if str(inp) == str(s) or str(inp).find(s) != -1:\n",
    "            return s\n",
    "    return\n",
    "\n",
    "train_df['Deck'] = train_df['Cabin'].map(lambda x: substring_in(x, decks))"
   ]
  },
  {
   "cell_type": "markdown",
   "id": "a23c61ac",
   "metadata": {},
   "source": [
    "### Relatives"
   ]
  },
  {
   "cell_type": "code",
   "execution_count": 18,
   "id": "54d5afee",
   "metadata": {},
   "outputs": [],
   "source": [
    "# Combine SibSp, Parch (siblings/spouse/parents/children) into new feature\n",
    "train_df['Relatives'] = train_df['SibSp']+train_df['Parch']"
   ]
  },
  {
   "cell_type": "code",
   "execution_count": 19,
   "id": "c2de1d7e",
   "metadata": {},
   "outputs": [
    {
     "data": {
      "text/html": [
       "<div>\n",
       "<style scoped>\n",
       "    .dataframe tbody tr th:only-of-type {\n",
       "        vertical-align: middle;\n",
       "    }\n",
       "\n",
       "    .dataframe tbody tr th {\n",
       "        vertical-align: top;\n",
       "    }\n",
       "\n",
       "    .dataframe thead th {\n",
       "        text-align: right;\n",
       "    }\n",
       "</style>\n",
       "<table border=\"1\" class=\"dataframe\">\n",
       "  <thead>\n",
       "    <tr style=\"text-align: right;\">\n",
       "      <th></th>\n",
       "      <th>PassengerId</th>\n",
       "      <th>Survived</th>\n",
       "      <th>Pclass</th>\n",
       "      <th>Name</th>\n",
       "      <th>Sex</th>\n",
       "      <th>Age</th>\n",
       "      <th>SibSp</th>\n",
       "      <th>Parch</th>\n",
       "      <th>Ticket</th>\n",
       "      <th>Fare</th>\n",
       "      <th>Cabin</th>\n",
       "      <th>Embarked</th>\n",
       "      <th>Deck</th>\n",
       "      <th>Relatives</th>\n",
       "    </tr>\n",
       "  </thead>\n",
       "  <tbody>\n",
       "    <tr>\n",
       "      <th>0</th>\n",
       "      <td>1</td>\n",
       "      <td>0</td>\n",
       "      <td>3</td>\n",
       "      <td>Braund, Mr. Owen Harris</td>\n",
       "      <td>male</td>\n",
       "      <td>22</td>\n",
       "      <td>1</td>\n",
       "      <td>0</td>\n",
       "      <td>A/5 21171</td>\n",
       "      <td>7.2500</td>\n",
       "      <td>NaN</td>\n",
       "      <td>S</td>\n",
       "      <td>NaN</td>\n",
       "      <td>SmallFamily</td>\n",
       "    </tr>\n",
       "    <tr>\n",
       "      <th>1</th>\n",
       "      <td>2</td>\n",
       "      <td>1</td>\n",
       "      <td>1</td>\n",
       "      <td>Cumings, Mrs. John Bradley (Florence Briggs Th...</td>\n",
       "      <td>female</td>\n",
       "      <td>38</td>\n",
       "      <td>1</td>\n",
       "      <td>0</td>\n",
       "      <td>PC 17599</td>\n",
       "      <td>71.2833</td>\n",
       "      <td>C85</td>\n",
       "      <td>C</td>\n",
       "      <td>C</td>\n",
       "      <td>SmallFamily</td>\n",
       "    </tr>\n",
       "    <tr>\n",
       "      <th>2</th>\n",
       "      <td>3</td>\n",
       "      <td>1</td>\n",
       "      <td>3</td>\n",
       "      <td>Heikkinen, Miss. Laina</td>\n",
       "      <td>female</td>\n",
       "      <td>26</td>\n",
       "      <td>0</td>\n",
       "      <td>0</td>\n",
       "      <td>STON/O2. 3101282</td>\n",
       "      <td>7.9250</td>\n",
       "      <td>NaN</td>\n",
       "      <td>S</td>\n",
       "      <td>NaN</td>\n",
       "      <td>Singleton</td>\n",
       "    </tr>\n",
       "    <tr>\n",
       "      <th>3</th>\n",
       "      <td>4</td>\n",
       "      <td>1</td>\n",
       "      <td>1</td>\n",
       "      <td>Futrelle, Mrs. Jacques Heath (Lily May Peel)</td>\n",
       "      <td>female</td>\n",
       "      <td>35</td>\n",
       "      <td>1</td>\n",
       "      <td>0</td>\n",
       "      <td>113803</td>\n",
       "      <td>53.1000</td>\n",
       "      <td>C123</td>\n",
       "      <td>S</td>\n",
       "      <td>C</td>\n",
       "      <td>SmallFamily</td>\n",
       "    </tr>\n",
       "    <tr>\n",
       "      <th>4</th>\n",
       "      <td>5</td>\n",
       "      <td>0</td>\n",
       "      <td>3</td>\n",
       "      <td>Allen, Mr. William Henry</td>\n",
       "      <td>male</td>\n",
       "      <td>35</td>\n",
       "      <td>0</td>\n",
       "      <td>0</td>\n",
       "      <td>373450</td>\n",
       "      <td>8.0500</td>\n",
       "      <td>NaN</td>\n",
       "      <td>S</td>\n",
       "      <td>NaN</td>\n",
       "      <td>Singleton</td>\n",
       "    </tr>\n",
       "  </tbody>\n",
       "</table>\n",
       "</div>"
      ],
      "text/plain": [
       "   PassengerId  Survived  Pclass  \\\n",
       "0            1         0       3   \n",
       "1            2         1       1   \n",
       "2            3         1       3   \n",
       "3            4         1       1   \n",
       "4            5         0       3   \n",
       "\n",
       "                                                Name     Sex  Age  SibSp  \\\n",
       "0                            Braund, Mr. Owen Harris    male   22      1   \n",
       "1  Cumings, Mrs. John Bradley (Florence Briggs Th...  female   38      1   \n",
       "2                             Heikkinen, Miss. Laina  female   26      0   \n",
       "3       Futrelle, Mrs. Jacques Heath (Lily May Peel)  female   35      1   \n",
       "4                           Allen, Mr. William Henry    male   35      0   \n",
       "\n",
       "   Parch            Ticket     Fare Cabin Embarked Deck    Relatives  \n",
       "0      0         A/5 21171   7.2500   NaN        S  NaN  SmallFamily  \n",
       "1      0          PC 17599  71.2833   C85        C    C  SmallFamily  \n",
       "2      0  STON/O2. 3101282   7.9250   NaN        S  NaN    Singleton  \n",
       "3      0            113803  53.1000  C123        S    C  SmallFamily  \n",
       "4      0            373450   8.0500   NaN        S  NaN    Singleton  "
      ]
     },
     "execution_count": 19,
     "metadata": {},
     "output_type": "execute_result"
    }
   ],
   "source": [
    "# Extend field 'Relatives' into 3 categories: Singleton, SmallFamily, LargerFamily\n",
    "def family_size(relatives):\n",
    "    if relatives == 0:\n",
    "        return 'Singleton'\n",
    "    elif 0 < relatives <= 3:\n",
    "        return 'SmallFamily'\n",
    "    else:\n",
    "        return 'LargerFamily'\n",
    "    \n",
    "train_df['Relatives'] = train_df['Relatives'].map(lambda x: family_size(x))\n",
    "train_df.head()"
   ]
  },
  {
   "cell_type": "markdown",
   "id": "b5e80647",
   "metadata": {},
   "source": [
    "### Title"
   ]
  },
  {
   "cell_type": "code",
   "execution_count": 20,
   "id": "a15d1043",
   "metadata": {},
   "outputs": [
    {
     "data": {
      "text/plain": [
       "array(['Mr', 'Mrs', 'Miss', 'Master', 'Don', 'Rev', 'Dr', 'Mme', 'Ms',\n",
       "       'Major', 'Lady', 'Sir', 'Mlle', 'Col', 'Capt', 'the Countess',\n",
       "       'Jonkheer'], dtype=object)"
      ]
     },
     "execution_count": 20,
     "metadata": {},
     "output_type": "execute_result"
    }
   ],
   "source": [
    "# Extract from Name field title (it might be that some education or profession correlate with surviving)\n",
    "train_df['Title'] = train_df['Name'].map(lambda name: name.split(',')[1].split('.')[0].strip())\n",
    "train_df['Title'].unique()"
   ]
  },
  {
   "cell_type": "markdown",
   "id": "b50487e0",
   "metadata": {},
   "source": [
    "### Drop extra features"
   ]
  },
  {
   "cell_type": "code",
   "execution_count": 21,
   "id": "731170db",
   "metadata": {},
   "outputs": [
    {
     "data": {
      "text/html": [
       "<div>\n",
       "<style scoped>\n",
       "    .dataframe tbody tr th:only-of-type {\n",
       "        vertical-align: middle;\n",
       "    }\n",
       "\n",
       "    .dataframe tbody tr th {\n",
       "        vertical-align: top;\n",
       "    }\n",
       "\n",
       "    .dataframe thead th {\n",
       "        text-align: right;\n",
       "    }\n",
       "</style>\n",
       "<table border=\"1\" class=\"dataframe\">\n",
       "  <thead>\n",
       "    <tr style=\"text-align: right;\">\n",
       "      <th></th>\n",
       "      <th>Survived</th>\n",
       "      <th>Pclass</th>\n",
       "      <th>Sex</th>\n",
       "      <th>Age</th>\n",
       "      <th>Fare</th>\n",
       "      <th>Embarked</th>\n",
       "      <th>Deck</th>\n",
       "      <th>Relatives</th>\n",
       "      <th>Title</th>\n",
       "    </tr>\n",
       "  </thead>\n",
       "  <tbody>\n",
       "    <tr>\n",
       "      <th>0</th>\n",
       "      <td>0</td>\n",
       "      <td>3</td>\n",
       "      <td>male</td>\n",
       "      <td>22</td>\n",
       "      <td>7.2500</td>\n",
       "      <td>S</td>\n",
       "      <td>NaN</td>\n",
       "      <td>SmallFamily</td>\n",
       "      <td>Mr</td>\n",
       "    </tr>\n",
       "    <tr>\n",
       "      <th>1</th>\n",
       "      <td>1</td>\n",
       "      <td>1</td>\n",
       "      <td>female</td>\n",
       "      <td>38</td>\n",
       "      <td>71.2833</td>\n",
       "      <td>C</td>\n",
       "      <td>C</td>\n",
       "      <td>SmallFamily</td>\n",
       "      <td>Mrs</td>\n",
       "    </tr>\n",
       "    <tr>\n",
       "      <th>2</th>\n",
       "      <td>1</td>\n",
       "      <td>3</td>\n",
       "      <td>female</td>\n",
       "      <td>26</td>\n",
       "      <td>7.9250</td>\n",
       "      <td>S</td>\n",
       "      <td>NaN</td>\n",
       "      <td>Singleton</td>\n",
       "      <td>Miss</td>\n",
       "    </tr>\n",
       "    <tr>\n",
       "      <th>3</th>\n",
       "      <td>1</td>\n",
       "      <td>1</td>\n",
       "      <td>female</td>\n",
       "      <td>35</td>\n",
       "      <td>53.1000</td>\n",
       "      <td>S</td>\n",
       "      <td>C</td>\n",
       "      <td>SmallFamily</td>\n",
       "      <td>Mrs</td>\n",
       "    </tr>\n",
       "    <tr>\n",
       "      <th>4</th>\n",
       "      <td>0</td>\n",
       "      <td>3</td>\n",
       "      <td>male</td>\n",
       "      <td>35</td>\n",
       "      <td>8.0500</td>\n",
       "      <td>S</td>\n",
       "      <td>NaN</td>\n",
       "      <td>Singleton</td>\n",
       "      <td>Mr</td>\n",
       "    </tr>\n",
       "  </tbody>\n",
       "</table>\n",
       "</div>"
      ],
      "text/plain": [
       "   Survived  Pclass     Sex  Age     Fare Embarked Deck    Relatives Title\n",
       "0         0       3    male   22   7.2500        S  NaN  SmallFamily    Mr\n",
       "1         1       1  female   38  71.2833        C    C  SmallFamily   Mrs\n",
       "2         1       3  female   26   7.9250        S  NaN    Singleton  Miss\n",
       "3         1       1  female   35  53.1000        S    C  SmallFamily   Mrs\n",
       "4         0       3    male   35   8.0500        S  NaN    Singleton    Mr"
      ]
     },
     "execution_count": 21,
     "metadata": {},
     "output_type": "execute_result"
    }
   ],
   "source": [
    "train_df = train_df.drop(['PassengerId', 'Name', 'SibSp', 'Parch', 'Ticket', 'Cabin'], axis=1)\n",
    "train_df.head()"
   ]
  },
  {
   "cell_type": "markdown",
   "id": "7ab5ce67",
   "metadata": {},
   "source": [
    "## Scale numerical data"
   ]
  },
  {
   "cell_type": "code",
   "execution_count": 22,
   "id": "8afccfbd",
   "metadata": {},
   "outputs": [
    {
     "data": {
      "text/plain": [
       "Survived       int64\n",
       "Pclass         int64\n",
       "Sex           object\n",
       "Age            int32\n",
       "Fare         float64\n",
       "Embarked      object\n",
       "Deck          object\n",
       "Relatives     object\n",
       "Title         object\n",
       "dtype: object"
      ]
     },
     "execution_count": 22,
     "metadata": {},
     "output_type": "execute_result"
    }
   ],
   "source": [
    "train_df.dtypes"
   ]
  },
  {
   "cell_type": "code",
   "execution_count": 23,
   "id": "b88e85d2",
   "metadata": {},
   "outputs": [],
   "source": [
    "# Change Pclass type as it is a categorical variable\n",
    "train_df['Pclass'] = train_df['Pclass'].astype(str)"
   ]
  },
  {
   "cell_type": "code",
   "execution_count": 24,
   "id": "995d27dd",
   "metadata": {},
   "outputs": [
    {
     "data": {
      "text/html": [
       "<div>\n",
       "<style scoped>\n",
       "    .dataframe tbody tr th:only-of-type {\n",
       "        vertical-align: middle;\n",
       "    }\n",
       "\n",
       "    .dataframe tbody tr th {\n",
       "        vertical-align: top;\n",
       "    }\n",
       "\n",
       "    .dataframe thead th {\n",
       "        text-align: right;\n",
       "    }\n",
       "</style>\n",
       "<table border=\"1\" class=\"dataframe\">\n",
       "  <thead>\n",
       "    <tr style=\"text-align: right;\">\n",
       "      <th></th>\n",
       "      <th>Survived</th>\n",
       "      <th>Pclass</th>\n",
       "      <th>Sex</th>\n",
       "      <th>Age</th>\n",
       "      <th>Fare</th>\n",
       "      <th>Embarked</th>\n",
       "      <th>Deck</th>\n",
       "      <th>Relatives</th>\n",
       "      <th>Title</th>\n",
       "    </tr>\n",
       "  </thead>\n",
       "  <tbody>\n",
       "    <tr>\n",
       "      <th>0</th>\n",
       "      <td>0</td>\n",
       "      <td>3</td>\n",
       "      <td>male</td>\n",
       "      <td>-0.563652</td>\n",
       "      <td>-0.502445</td>\n",
       "      <td>S</td>\n",
       "      <td>NaN</td>\n",
       "      <td>SmallFamily</td>\n",
       "      <td>Mr</td>\n",
       "    </tr>\n",
       "    <tr>\n",
       "      <th>1</th>\n",
       "      <td>1</td>\n",
       "      <td>1</td>\n",
       "      <td>female</td>\n",
       "      <td>0.619420</td>\n",
       "      <td>0.786845</td>\n",
       "      <td>C</td>\n",
       "      <td>C</td>\n",
       "      <td>SmallFamily</td>\n",
       "      <td>Mrs</td>\n",
       "    </tr>\n",
       "    <tr>\n",
       "      <th>2</th>\n",
       "      <td>1</td>\n",
       "      <td>3</td>\n",
       "      <td>female</td>\n",
       "      <td>-0.267884</td>\n",
       "      <td>-0.488854</td>\n",
       "      <td>S</td>\n",
       "      <td>NaN</td>\n",
       "      <td>Singleton</td>\n",
       "      <td>Miss</td>\n",
       "    </tr>\n",
       "    <tr>\n",
       "      <th>3</th>\n",
       "      <td>1</td>\n",
       "      <td>1</td>\n",
       "      <td>female</td>\n",
       "      <td>0.397594</td>\n",
       "      <td>0.420730</td>\n",
       "      <td>S</td>\n",
       "      <td>C</td>\n",
       "      <td>SmallFamily</td>\n",
       "      <td>Mrs</td>\n",
       "    </tr>\n",
       "    <tr>\n",
       "      <th>4</th>\n",
       "      <td>0</td>\n",
       "      <td>3</td>\n",
       "      <td>male</td>\n",
       "      <td>0.397594</td>\n",
       "      <td>-0.486337</td>\n",
       "      <td>S</td>\n",
       "      <td>NaN</td>\n",
       "      <td>Singleton</td>\n",
       "      <td>Mr</td>\n",
       "    </tr>\n",
       "  </tbody>\n",
       "</table>\n",
       "</div>"
      ],
      "text/plain": [
       "   Survived Pclass     Sex       Age      Fare Embarked Deck    Relatives  \\\n",
       "0         0      3    male -0.563652 -0.502445        S  NaN  SmallFamily   \n",
       "1         1      1  female  0.619420  0.786845        C    C  SmallFamily   \n",
       "2         1      3  female -0.267884 -0.488854        S  NaN    Singleton   \n",
       "3         1      1  female  0.397594  0.420730        S    C  SmallFamily   \n",
       "4         0      3    male  0.397594 -0.486337        S  NaN    Singleton   \n",
       "\n",
       "  Title  \n",
       "0    Mr  \n",
       "1   Mrs  \n",
       "2  Miss  \n",
       "3   Mrs  \n",
       "4    Mr  "
      ]
     },
     "execution_count": 24,
     "metadata": {},
     "output_type": "execute_result"
    }
   ],
   "source": [
    "from sklearn.preprocessing import StandardScaler\n",
    "\n",
    "# Copy Dataframes before scaling\n",
    "train_scaled = train_df.copy()\n",
    "\n",
    "# Determine features to scale\n",
    "features_to_scale = list(train_scaled.select_dtypes(include=['float64', 'int32']).columns)\n",
    "\n",
    "# Fit scaler with train data\n",
    "scaler = StandardScaler()\n",
    "scaler.fit(train_scaled[features_to_scale])\n",
    "\n",
    "# Remember features_to_scale and scaler to scale_data dictionary\n",
    "scale_data = {'features_to_scale':features_to_scale, 'scaler':scaler}\n",
    "\n",
    "# Transform numerical values\n",
    "train_scaled[features_to_scale] = scaler.transform(train_scaled[features_to_scale])\n",
    "train_scaled.head()"
   ]
  },
  {
   "cell_type": "markdown",
   "id": "1b0ee57e",
   "metadata": {},
   "source": [
    "## Transform categorical variables into dummies"
   ]
  },
  {
   "cell_type": "code",
   "execution_count": 25,
   "id": "ec2b1c62",
   "metadata": {},
   "outputs": [
    {
     "data": {
      "text/plain": [
       "['Pclass', 'Sex', 'Embarked', 'Deck', 'Relatives', 'Title']"
      ]
     },
     "execution_count": 25,
     "metadata": {},
     "output_type": "execute_result"
    }
   ],
   "source": [
    "# Determine other features to encode with dummies\n",
    "features_to_encode = list(train_scaled.select_dtypes(include=['object']).columns)\n",
    "features_to_encode"
   ]
  },
  {
   "cell_type": "code",
   "execution_count": 26,
   "id": "45b22c7e",
   "metadata": {},
   "outputs": [
    {
     "data": {
      "text/html": [
       "<div>\n",
       "<style scoped>\n",
       "    .dataframe tbody tr th:only-of-type {\n",
       "        vertical-align: middle;\n",
       "    }\n",
       "\n",
       "    .dataframe tbody tr th {\n",
       "        vertical-align: top;\n",
       "    }\n",
       "\n",
       "    .dataframe thead th {\n",
       "        text-align: right;\n",
       "    }\n",
       "</style>\n",
       "<table border=\"1\" class=\"dataframe\">\n",
       "  <thead>\n",
       "    <tr style=\"text-align: right;\">\n",
       "      <th></th>\n",
       "      <th>Pclass_2</th>\n",
       "      <th>Pclass_3</th>\n",
       "      <th>Sex_male</th>\n",
       "      <th>Embarked_Q</th>\n",
       "      <th>Embarked_S</th>\n",
       "      <th>Deck_B</th>\n",
       "      <th>Deck_C</th>\n",
       "      <th>Deck_D</th>\n",
       "      <th>Deck_E</th>\n",
       "      <th>Deck_F</th>\n",
       "      <th>...</th>\n",
       "      <th>Title_Master</th>\n",
       "      <th>Title_Miss</th>\n",
       "      <th>Title_Mlle</th>\n",
       "      <th>Title_Mme</th>\n",
       "      <th>Title_Mr</th>\n",
       "      <th>Title_Mrs</th>\n",
       "      <th>Title_Ms</th>\n",
       "      <th>Title_Rev</th>\n",
       "      <th>Title_Sir</th>\n",
       "      <th>Title_the Countess</th>\n",
       "    </tr>\n",
       "  </thead>\n",
       "  <tbody>\n",
       "    <tr>\n",
       "      <th>0</th>\n",
       "      <td>0</td>\n",
       "      <td>1</td>\n",
       "      <td>1</td>\n",
       "      <td>0</td>\n",
       "      <td>1</td>\n",
       "      <td>0</td>\n",
       "      <td>0</td>\n",
       "      <td>0</td>\n",
       "      <td>0</td>\n",
       "      <td>0</td>\n",
       "      <td>...</td>\n",
       "      <td>0</td>\n",
       "      <td>0</td>\n",
       "      <td>0</td>\n",
       "      <td>0</td>\n",
       "      <td>1</td>\n",
       "      <td>0</td>\n",
       "      <td>0</td>\n",
       "      <td>0</td>\n",
       "      <td>0</td>\n",
       "      <td>0</td>\n",
       "    </tr>\n",
       "    <tr>\n",
       "      <th>1</th>\n",
       "      <td>0</td>\n",
       "      <td>0</td>\n",
       "      <td>0</td>\n",
       "      <td>0</td>\n",
       "      <td>0</td>\n",
       "      <td>0</td>\n",
       "      <td>1</td>\n",
       "      <td>0</td>\n",
       "      <td>0</td>\n",
       "      <td>0</td>\n",
       "      <td>...</td>\n",
       "      <td>0</td>\n",
       "      <td>0</td>\n",
       "      <td>0</td>\n",
       "      <td>0</td>\n",
       "      <td>0</td>\n",
       "      <td>1</td>\n",
       "      <td>0</td>\n",
       "      <td>0</td>\n",
       "      <td>0</td>\n",
       "      <td>0</td>\n",
       "    </tr>\n",
       "    <tr>\n",
       "      <th>2</th>\n",
       "      <td>0</td>\n",
       "      <td>1</td>\n",
       "      <td>0</td>\n",
       "      <td>0</td>\n",
       "      <td>1</td>\n",
       "      <td>0</td>\n",
       "      <td>0</td>\n",
       "      <td>0</td>\n",
       "      <td>0</td>\n",
       "      <td>0</td>\n",
       "      <td>...</td>\n",
       "      <td>0</td>\n",
       "      <td>1</td>\n",
       "      <td>0</td>\n",
       "      <td>0</td>\n",
       "      <td>0</td>\n",
       "      <td>0</td>\n",
       "      <td>0</td>\n",
       "      <td>0</td>\n",
       "      <td>0</td>\n",
       "      <td>0</td>\n",
       "    </tr>\n",
       "    <tr>\n",
       "      <th>3</th>\n",
       "      <td>0</td>\n",
       "      <td>0</td>\n",
       "      <td>0</td>\n",
       "      <td>0</td>\n",
       "      <td>1</td>\n",
       "      <td>0</td>\n",
       "      <td>1</td>\n",
       "      <td>0</td>\n",
       "      <td>0</td>\n",
       "      <td>0</td>\n",
       "      <td>...</td>\n",
       "      <td>0</td>\n",
       "      <td>0</td>\n",
       "      <td>0</td>\n",
       "      <td>0</td>\n",
       "      <td>0</td>\n",
       "      <td>1</td>\n",
       "      <td>0</td>\n",
       "      <td>0</td>\n",
       "      <td>0</td>\n",
       "      <td>0</td>\n",
       "    </tr>\n",
       "    <tr>\n",
       "      <th>4</th>\n",
       "      <td>0</td>\n",
       "      <td>1</td>\n",
       "      <td>1</td>\n",
       "      <td>0</td>\n",
       "      <td>1</td>\n",
       "      <td>0</td>\n",
       "      <td>0</td>\n",
       "      <td>0</td>\n",
       "      <td>0</td>\n",
       "      <td>0</td>\n",
       "      <td>...</td>\n",
       "      <td>0</td>\n",
       "      <td>0</td>\n",
       "      <td>0</td>\n",
       "      <td>0</td>\n",
       "      <td>1</td>\n",
       "      <td>0</td>\n",
       "      <td>0</td>\n",
       "      <td>0</td>\n",
       "      <td>0</td>\n",
       "      <td>0</td>\n",
       "    </tr>\n",
       "    <tr>\n",
       "      <th>...</th>\n",
       "      <td>...</td>\n",
       "      <td>...</td>\n",
       "      <td>...</td>\n",
       "      <td>...</td>\n",
       "      <td>...</td>\n",
       "      <td>...</td>\n",
       "      <td>...</td>\n",
       "      <td>...</td>\n",
       "      <td>...</td>\n",
       "      <td>...</td>\n",
       "      <td>...</td>\n",
       "      <td>...</td>\n",
       "      <td>...</td>\n",
       "      <td>...</td>\n",
       "      <td>...</td>\n",
       "      <td>...</td>\n",
       "      <td>...</td>\n",
       "      <td>...</td>\n",
       "      <td>...</td>\n",
       "      <td>...</td>\n",
       "      <td>...</td>\n",
       "    </tr>\n",
       "    <tr>\n",
       "      <th>886</th>\n",
       "      <td>1</td>\n",
       "      <td>0</td>\n",
       "      <td>1</td>\n",
       "      <td>0</td>\n",
       "      <td>1</td>\n",
       "      <td>0</td>\n",
       "      <td>0</td>\n",
       "      <td>0</td>\n",
       "      <td>0</td>\n",
       "      <td>0</td>\n",
       "      <td>...</td>\n",
       "      <td>0</td>\n",
       "      <td>0</td>\n",
       "      <td>0</td>\n",
       "      <td>0</td>\n",
       "      <td>0</td>\n",
       "      <td>0</td>\n",
       "      <td>0</td>\n",
       "      <td>1</td>\n",
       "      <td>0</td>\n",
       "      <td>0</td>\n",
       "    </tr>\n",
       "    <tr>\n",
       "      <th>887</th>\n",
       "      <td>0</td>\n",
       "      <td>0</td>\n",
       "      <td>0</td>\n",
       "      <td>0</td>\n",
       "      <td>1</td>\n",
       "      <td>1</td>\n",
       "      <td>0</td>\n",
       "      <td>0</td>\n",
       "      <td>0</td>\n",
       "      <td>0</td>\n",
       "      <td>...</td>\n",
       "      <td>0</td>\n",
       "      <td>1</td>\n",
       "      <td>0</td>\n",
       "      <td>0</td>\n",
       "      <td>0</td>\n",
       "      <td>0</td>\n",
       "      <td>0</td>\n",
       "      <td>0</td>\n",
       "      <td>0</td>\n",
       "      <td>0</td>\n",
       "    </tr>\n",
       "    <tr>\n",
       "      <th>888</th>\n",
       "      <td>0</td>\n",
       "      <td>1</td>\n",
       "      <td>0</td>\n",
       "      <td>0</td>\n",
       "      <td>1</td>\n",
       "      <td>0</td>\n",
       "      <td>0</td>\n",
       "      <td>0</td>\n",
       "      <td>0</td>\n",
       "      <td>0</td>\n",
       "      <td>...</td>\n",
       "      <td>0</td>\n",
       "      <td>1</td>\n",
       "      <td>0</td>\n",
       "      <td>0</td>\n",
       "      <td>0</td>\n",
       "      <td>0</td>\n",
       "      <td>0</td>\n",
       "      <td>0</td>\n",
       "      <td>0</td>\n",
       "      <td>0</td>\n",
       "    </tr>\n",
       "    <tr>\n",
       "      <th>889</th>\n",
       "      <td>0</td>\n",
       "      <td>0</td>\n",
       "      <td>1</td>\n",
       "      <td>0</td>\n",
       "      <td>0</td>\n",
       "      <td>0</td>\n",
       "      <td>1</td>\n",
       "      <td>0</td>\n",
       "      <td>0</td>\n",
       "      <td>0</td>\n",
       "      <td>...</td>\n",
       "      <td>0</td>\n",
       "      <td>0</td>\n",
       "      <td>0</td>\n",
       "      <td>0</td>\n",
       "      <td>1</td>\n",
       "      <td>0</td>\n",
       "      <td>0</td>\n",
       "      <td>0</td>\n",
       "      <td>0</td>\n",
       "      <td>0</td>\n",
       "    </tr>\n",
       "    <tr>\n",
       "      <th>890</th>\n",
       "      <td>0</td>\n",
       "      <td>1</td>\n",
       "      <td>1</td>\n",
       "      <td>1</td>\n",
       "      <td>0</td>\n",
       "      <td>0</td>\n",
       "      <td>0</td>\n",
       "      <td>0</td>\n",
       "      <td>0</td>\n",
       "      <td>0</td>\n",
       "      <td>...</td>\n",
       "      <td>0</td>\n",
       "      <td>0</td>\n",
       "      <td>0</td>\n",
       "      <td>0</td>\n",
       "      <td>1</td>\n",
       "      <td>0</td>\n",
       "      <td>0</td>\n",
       "      <td>0</td>\n",
       "      <td>0</td>\n",
       "      <td>0</td>\n",
       "    </tr>\n",
       "  </tbody>\n",
       "</table>\n",
       "<p>891 rows × 31 columns</p>\n",
       "</div>"
      ],
      "text/plain": [
       "     Pclass_2  Pclass_3  Sex_male  Embarked_Q  Embarked_S  Deck_B  Deck_C  \\\n",
       "0           0         1         1           0           1       0       0   \n",
       "1           0         0         0           0           0       0       1   \n",
       "2           0         1         0           0           1       0       0   \n",
       "3           0         0         0           0           1       0       1   \n",
       "4           0         1         1           0           1       0       0   \n",
       "..        ...       ...       ...         ...         ...     ...     ...   \n",
       "886         1         0         1           0           1       0       0   \n",
       "887         0         0         0           0           1       1       0   \n",
       "888         0         1         0           0           1       0       0   \n",
       "889         0         0         1           0           0       0       1   \n",
       "890         0         1         1           1           0       0       0   \n",
       "\n",
       "     Deck_D  Deck_E  Deck_F  ...  Title_Master  Title_Miss  Title_Mlle  \\\n",
       "0         0       0       0  ...             0           0           0   \n",
       "1         0       0       0  ...             0           0           0   \n",
       "2         0       0       0  ...             0           1           0   \n",
       "3         0       0       0  ...             0           0           0   \n",
       "4         0       0       0  ...             0           0           0   \n",
       "..      ...     ...     ...  ...           ...         ...         ...   \n",
       "886       0       0       0  ...             0           0           0   \n",
       "887       0       0       0  ...             0           1           0   \n",
       "888       0       0       0  ...             0           1           0   \n",
       "889       0       0       0  ...             0           0           0   \n",
       "890       0       0       0  ...             0           0           0   \n",
       "\n",
       "     Title_Mme  Title_Mr  Title_Mrs  Title_Ms  Title_Rev  Title_Sir  \\\n",
       "0            0         1          0         0          0          0   \n",
       "1            0         0          1         0          0          0   \n",
       "2            0         0          0         0          0          0   \n",
       "3            0         0          1         0          0          0   \n",
       "4            0         1          0         0          0          0   \n",
       "..         ...       ...        ...       ...        ...        ...   \n",
       "886          0         0          0         0          1          0   \n",
       "887          0         0          0         0          0          0   \n",
       "888          0         0          0         0          0          0   \n",
       "889          0         1          0         0          0          0   \n",
       "890          0         1          0         0          0          0   \n",
       "\n",
       "     Title_the Countess  \n",
       "0                     0  \n",
       "1                     0  \n",
       "2                     0  \n",
       "3                     0  \n",
       "4                     0  \n",
       "..                  ...  \n",
       "886                   0  \n",
       "887                   0  \n",
       "888                   0  \n",
       "889                   0  \n",
       "890                   0  \n",
       "\n",
       "[891 rows x 31 columns]"
      ]
     },
     "execution_count": 26,
     "metadata": {},
     "output_type": "execute_result"
    }
   ],
   "source": [
    "from sklearn.preprocessing import OneHotEncoder\n",
    "# Create binary dummies using OneHotEncoder to overcome the mismatch in features of train and test data\n",
    "encoder = OneHotEncoder(drop='first', dtype='int64', handle_unknown = 'ignore')\n",
    "\n",
    "# Remember features_to_encode, encoder to encode_data dictionary\n",
    "encode_data = {'features_to_encode':features_to_encode, 'encoder':encoder}\n",
    "\n",
    "encoded_df = encoder.fit_transform(train_scaled[features_to_encode])\n",
    "\n",
    "encoded_features = encoder.get_feature_names_out(features_to_encode)\n",
    "encoded_df = pd.DataFrame(encoded_df.todense(), columns=encoded_features)\n",
    "encoded_df"
   ]
  },
  {
   "cell_type": "code",
   "execution_count": 27,
   "id": "88dee9bb",
   "metadata": {
    "scrolled": true
   },
   "outputs": [
    {
     "data": {
      "text/html": [
       "<div>\n",
       "<style scoped>\n",
       "    .dataframe tbody tr th:only-of-type {\n",
       "        vertical-align: middle;\n",
       "    }\n",
       "\n",
       "    .dataframe tbody tr th {\n",
       "        vertical-align: top;\n",
       "    }\n",
       "\n",
       "    .dataframe thead th {\n",
       "        text-align: right;\n",
       "    }\n",
       "</style>\n",
       "<table border=\"1\" class=\"dataframe\">\n",
       "  <thead>\n",
       "    <tr style=\"text-align: right;\">\n",
       "      <th></th>\n",
       "      <th>Survived</th>\n",
       "      <th>Age</th>\n",
       "      <th>Fare</th>\n",
       "      <th>Pclass_2</th>\n",
       "      <th>Pclass_3</th>\n",
       "      <th>Sex_male</th>\n",
       "      <th>Embarked_Q</th>\n",
       "      <th>Embarked_S</th>\n",
       "      <th>Deck_B</th>\n",
       "      <th>Deck_C</th>\n",
       "      <th>...</th>\n",
       "      <th>Title_Master</th>\n",
       "      <th>Title_Miss</th>\n",
       "      <th>Title_Mlle</th>\n",
       "      <th>Title_Mme</th>\n",
       "      <th>Title_Mr</th>\n",
       "      <th>Title_Mrs</th>\n",
       "      <th>Title_Ms</th>\n",
       "      <th>Title_Rev</th>\n",
       "      <th>Title_Sir</th>\n",
       "      <th>Title_the Countess</th>\n",
       "    </tr>\n",
       "  </thead>\n",
       "  <tbody>\n",
       "    <tr>\n",
       "      <th>0</th>\n",
       "      <td>0</td>\n",
       "      <td>-0.563652</td>\n",
       "      <td>-0.502445</td>\n",
       "      <td>0</td>\n",
       "      <td>1</td>\n",
       "      <td>1</td>\n",
       "      <td>0</td>\n",
       "      <td>1</td>\n",
       "      <td>0</td>\n",
       "      <td>0</td>\n",
       "      <td>...</td>\n",
       "      <td>0</td>\n",
       "      <td>0</td>\n",
       "      <td>0</td>\n",
       "      <td>0</td>\n",
       "      <td>1</td>\n",
       "      <td>0</td>\n",
       "      <td>0</td>\n",
       "      <td>0</td>\n",
       "      <td>0</td>\n",
       "      <td>0</td>\n",
       "    </tr>\n",
       "    <tr>\n",
       "      <th>1</th>\n",
       "      <td>1</td>\n",
       "      <td>0.619420</td>\n",
       "      <td>0.786845</td>\n",
       "      <td>0</td>\n",
       "      <td>0</td>\n",
       "      <td>0</td>\n",
       "      <td>0</td>\n",
       "      <td>0</td>\n",
       "      <td>0</td>\n",
       "      <td>1</td>\n",
       "      <td>...</td>\n",
       "      <td>0</td>\n",
       "      <td>0</td>\n",
       "      <td>0</td>\n",
       "      <td>0</td>\n",
       "      <td>0</td>\n",
       "      <td>1</td>\n",
       "      <td>0</td>\n",
       "      <td>0</td>\n",
       "      <td>0</td>\n",
       "      <td>0</td>\n",
       "    </tr>\n",
       "    <tr>\n",
       "      <th>2</th>\n",
       "      <td>1</td>\n",
       "      <td>-0.267884</td>\n",
       "      <td>-0.488854</td>\n",
       "      <td>0</td>\n",
       "      <td>1</td>\n",
       "      <td>0</td>\n",
       "      <td>0</td>\n",
       "      <td>1</td>\n",
       "      <td>0</td>\n",
       "      <td>0</td>\n",
       "      <td>...</td>\n",
       "      <td>0</td>\n",
       "      <td>1</td>\n",
       "      <td>0</td>\n",
       "      <td>0</td>\n",
       "      <td>0</td>\n",
       "      <td>0</td>\n",
       "      <td>0</td>\n",
       "      <td>0</td>\n",
       "      <td>0</td>\n",
       "      <td>0</td>\n",
       "    </tr>\n",
       "    <tr>\n",
       "      <th>3</th>\n",
       "      <td>1</td>\n",
       "      <td>0.397594</td>\n",
       "      <td>0.420730</td>\n",
       "      <td>0</td>\n",
       "      <td>0</td>\n",
       "      <td>0</td>\n",
       "      <td>0</td>\n",
       "      <td>1</td>\n",
       "      <td>0</td>\n",
       "      <td>1</td>\n",
       "      <td>...</td>\n",
       "      <td>0</td>\n",
       "      <td>0</td>\n",
       "      <td>0</td>\n",
       "      <td>0</td>\n",
       "      <td>0</td>\n",
       "      <td>1</td>\n",
       "      <td>0</td>\n",
       "      <td>0</td>\n",
       "      <td>0</td>\n",
       "      <td>0</td>\n",
       "    </tr>\n",
       "    <tr>\n",
       "      <th>4</th>\n",
       "      <td>0</td>\n",
       "      <td>0.397594</td>\n",
       "      <td>-0.486337</td>\n",
       "      <td>0</td>\n",
       "      <td>1</td>\n",
       "      <td>1</td>\n",
       "      <td>0</td>\n",
       "      <td>1</td>\n",
       "      <td>0</td>\n",
       "      <td>0</td>\n",
       "      <td>...</td>\n",
       "      <td>0</td>\n",
       "      <td>0</td>\n",
       "      <td>0</td>\n",
       "      <td>0</td>\n",
       "      <td>1</td>\n",
       "      <td>0</td>\n",
       "      <td>0</td>\n",
       "      <td>0</td>\n",
       "      <td>0</td>\n",
       "      <td>0</td>\n",
       "    </tr>\n",
       "  </tbody>\n",
       "</table>\n",
       "<p>5 rows × 34 columns</p>\n",
       "</div>"
      ],
      "text/plain": [
       "   Survived       Age      Fare  Pclass_2  Pclass_3  Sex_male  Embarked_Q  \\\n",
       "0         0 -0.563652 -0.502445         0         1         1           0   \n",
       "1         1  0.619420  0.786845         0         0         0           0   \n",
       "2         1 -0.267884 -0.488854         0         1         0           0   \n",
       "3         1  0.397594  0.420730         0         0         0           0   \n",
       "4         0  0.397594 -0.486337         0         1         1           0   \n",
       "\n",
       "   Embarked_S  Deck_B  Deck_C  ...  Title_Master  Title_Miss  Title_Mlle  \\\n",
       "0           1       0       0  ...             0           0           0   \n",
       "1           0       0       1  ...             0           0           0   \n",
       "2           1       0       0  ...             0           1           0   \n",
       "3           1       0       1  ...             0           0           0   \n",
       "4           1       0       0  ...             0           0           0   \n",
       "\n",
       "   Title_Mme  Title_Mr  Title_Mrs  Title_Ms  Title_Rev  Title_Sir  \\\n",
       "0          0         1          0         0          0          0   \n",
       "1          0         0          1         0          0          0   \n",
       "2          0         0          0         0          0          0   \n",
       "3          0         0          1         0          0          0   \n",
       "4          0         1          0         0          0          0   \n",
       "\n",
       "   Title_the Countess  \n",
       "0                   0  \n",
       "1                   0  \n",
       "2                   0  \n",
       "3                   0  \n",
       "4                   0  \n",
       "\n",
       "[5 rows x 34 columns]"
      ]
     },
     "execution_count": 27,
     "metadata": {},
     "output_type": "execute_result"
    }
   ],
   "source": [
    "# Concatenate scaled DataFrame and encoded DataFrame, drop already encoded features\n",
    "train_encoded = pd.concat([train_scaled.copy(), encoded_df], axis=1)\n",
    "train_encoded = train_encoded.drop(features_to_encode, axis=1)\n",
    "train_encoded.head()"
   ]
  },
  {
   "cell_type": "markdown",
   "id": "67043613",
   "metadata": {},
   "source": [
    "## Save data used for preprocess, scale and encode features into files"
   ]
  },
  {
   "cell_type": "code",
   "execution_count": 28,
   "id": "6c195c0b",
   "metadata": {},
   "outputs": [
    {
     "data": {
      "text/plain": [
       "({'age_mean': 29.69911764705882,\n",
       "  'age_std': 14.526497332334042,\n",
       "  'fare_mean': 32.204207968574636,\n",
       "  'embarked_mode': 'S',\n",
       "  'decks': ['A', 'B', 'C', 'D', 'E', 'F', 'G', 'T', nan]},\n",
       " {'features_to_scale': ['Age', 'Fare'], 'scaler': StandardScaler()},\n",
       " {'features_to_encode': ['Pclass',\n",
       "   'Sex',\n",
       "   'Embarked',\n",
       "   'Deck',\n",
       "   'Relatives',\n",
       "   'Title'],\n",
       "  'encoder': OneHotEncoder(drop='first', dtype='int64', handle_unknown='ignore')})"
      ]
     },
     "execution_count": 28,
     "metadata": {},
     "output_type": "execute_result"
    }
   ],
   "source": [
    "preprocess_data, scale_data, encode_data"
   ]
  },
  {
   "cell_type": "code",
   "execution_count": 29,
   "id": "e41f87e5",
   "metadata": {},
   "outputs": [],
   "source": [
    "import pickle\n",
    "\n",
    "with open('preprocess_data.pkl', 'wb') as f:\n",
    "    pickle.dump(preprocess_data, f)\n",
    "    \n",
    "with open('scale_data.pkl', 'wb') as f:\n",
    "    pickle.dump(scale_data, f)\n",
    "    \n",
    "with open('encode_data.pkl', 'wb') as f:\n",
    "    pickle.dump(encode_data, f)"
   ]
  },
  {
   "cell_type": "markdown",
   "id": "24ce7da9",
   "metadata": {},
   "source": [
    "## Balance training data"
   ]
  },
  {
   "cell_type": "code",
   "execution_count": 30,
   "id": "a9c8ea4e",
   "metadata": {},
   "outputs": [
    {
     "data": {
      "text/plain": [
       "(0    549\n",
       " Name: Survived, dtype: int64,\n",
       " 1    342\n",
       " Name: Survived, dtype: int64)"
      ]
     },
     "execution_count": 30,
     "metadata": {},
     "output_type": "execute_result"
    }
   ],
   "source": [
    "died = train_encoded.query('Survived == 0')\n",
    "survived = train_encoded.query('Survived == 1')\n",
    "died['Survived'].value_counts(), survived['Survived'].value_counts()"
   ]
  },
  {
   "cell_type": "code",
   "execution_count": 31,
   "id": "4713be05",
   "metadata": {},
   "outputs": [
    {
     "data": {
      "text/plain": [
       "1    342\n",
       "0    342\n",
       "Name: Survived, dtype: int64"
      ]
     },
     "execution_count": 31,
     "metadata": {},
     "output_type": "execute_result"
    }
   ],
   "source": [
    "balanced_df = pd.concat([survived, died.sample(len(survived), random_state=42)])\n",
    "balanced_df['Survived'].value_counts()"
   ]
  },
  {
   "cell_type": "markdown",
   "id": "42febc58",
   "metadata": {},
   "source": [
    "## Split training data into train, validation and test sets"
   ]
  },
  {
   "cell_type": "code",
   "execution_count": 32,
   "id": "42501c07",
   "metadata": {},
   "outputs": [
    {
     "data": {
      "text/plain": [
       "((547, 33), (547,), (137, 33), (137,))"
      ]
     },
     "execution_count": 32,
     "metadata": {},
     "output_type": "execute_result"
    }
   ],
   "source": [
    "from sklearn.model_selection import train_test_split\n",
    "\n",
    "# # Randomize data\n",
    "# balanced_df = balanced_df.sample(frac=1)\n",
    "features = balanced_df.columns[1:]\n",
    "target = 'Survived'\n",
    "\n",
    "# Split data into train and test sets in ratio 80%/20%  \n",
    "X_train, X_test, y_train, y_test = train_test_split(balanced_df[features], \n",
    "                                                  balanced_df[target].to_numpy(), \n",
    "                                                  train_size=0.8,\n",
    "                                                  random_state=42)\n",
    "\n",
    "X_train.shape, y_train.shape, X_test.shape, y_test.shape"
   ]
  },
  {
   "cell_type": "markdown",
   "id": "2eec025f",
   "metadata": {},
   "source": [
    "## Build prediction models"
   ]
  },
  {
   "cell_type": "code",
   "execution_count": 33,
   "id": "a46801dd",
   "metadata": {},
   "outputs": [],
   "source": [
    "from sklearn.metrics import classification_report"
   ]
  },
  {
   "cell_type": "markdown",
   "id": "c39f7809",
   "metadata": {},
   "source": [
    "## LogisticRegression"
   ]
  },
  {
   "cell_type": "code",
   "execution_count": 34,
   "id": "aba490b9",
   "metadata": {},
   "outputs": [
    {
     "name": "stdout",
     "output_type": "stream",
     "text": [
      "              precision    recall  f1-score   support\n",
      "\n",
      "        Died       0.71      0.80      0.75        59\n",
      "    Survived       0.83      0.76      0.79        78\n",
      "\n",
      "    accuracy                           0.77       137\n",
      "   macro avg       0.77      0.78      0.77       137\n",
      "weighted avg       0.78      0.77      0.77       137\n",
      "\n"
     ]
    }
   ],
   "source": [
    "from sklearn.linear_model import LogisticRegression\n",
    "\n",
    "logistic_model = LogisticRegression(random_state=42)\n",
    "logistic_model.fit(X_train, y_train)\n",
    "\n",
    "# Returning classification report on logistic regression model prediction\n",
    "print(classification_report(y_test, logistic_model.predict(X_test), target_names = ['Died', 'Survived']))"
   ]
  },
  {
   "cell_type": "code",
   "execution_count": 35,
   "id": "d1260d44",
   "metadata": {},
   "outputs": [
    {
     "data": {
      "text/plain": [
       "{'C': 1.0,\n",
       " 'class_weight': None,\n",
       " 'dual': False,\n",
       " 'fit_intercept': True,\n",
       " 'intercept_scaling': 1,\n",
       " 'l1_ratio': None,\n",
       " 'max_iter': 100,\n",
       " 'multi_class': 'auto',\n",
       " 'n_jobs': None,\n",
       " 'penalty': 'l2',\n",
       " 'random_state': 42,\n",
       " 'solver': 'lbfgs',\n",
       " 'tol': 0.0001,\n",
       " 'verbose': 0,\n",
       " 'warm_start': False}"
      ]
     },
     "execution_count": 35,
     "metadata": {},
     "output_type": "execute_result"
    }
   ],
   "source": [
    "logistic_model.get_params(deep=True)"
   ]
  },
  {
   "cell_type": "markdown",
   "id": "16ee2b99",
   "metadata": {},
   "source": [
    "### Import GridSearchCV for auto search optimal hyperparameters"
   ]
  },
  {
   "cell_type": "code",
   "execution_count": 36,
   "id": "6c4ec3b7",
   "metadata": {},
   "outputs": [],
   "source": [
    "from sklearn.model_selection import GridSearchCV"
   ]
  },
  {
   "cell_type": "markdown",
   "id": "7d83ea12",
   "metadata": {},
   "source": [
    "**GridSearchCV** loops through every combination of the values in the grid,\n",
    " evaluating the performance using cross-validation to find the optimum combination of values\n",
    "\n",
    "**estimator**: Model instance\n",
    "<br>**param_grid**: Dictionary object that holds the hyperparameters we wish to experiment with\n",
    "<br>**scoring**: Strategy to evaluate the performance of the cross-validated model on the test set\n",
    "<br>**n_jobs**: Number of processes you wish to run in parallel for this task if it is -1 it will use all available processors\n",
    "<br>**cv**: The total number of cross-validations we perform for each hyperparameter\n",
    "<br>**verbose**: Detailed print out of your fit of the data\n",
    "<br>**error_score**: Value to assign to the score if an error occurs in estimator fitting"
   ]
  },
  {
   "cell_type": "markdown",
   "id": "a2cc601e",
   "metadata": {},
   "source": [
    "### LogisticRegression hyperparameters tuning"
   ]
  },
  {
   "cell_type": "markdown",
   "id": "66e5e548",
   "metadata": {},
   "source": [
    "**penalty**: Specify the norm of the penalty (regularisation technique to prevent overfitting)\n",
    "<br>**C**: Inverse of regularization strength; must be a positive float. Smaller values specify stronger regularization\n",
    "<br>**solver**: Algorithm to use in the optimization problem\n",
    "<br>**max_iter**: Maximum number of iterations taken for the solvers to converge"
   ]
  },
  {
   "cell_type": "code",
   "execution_count": 37,
   "id": "0fc1e488",
   "metadata": {},
   "outputs": [
    {
     "data": {
      "text/plain": [
       "GridSearchCV(cv=3, estimator=LogisticRegression(random_state=42), n_jobs=-1,\n",
       "             param_grid={'C': array([1.00000000e-04, 2.63665090e-04, 6.95192796e-04, 1.83298071e-03,\n",
       "       4.83293024e-03, 1.27427499e-02, 3.35981829e-02, 8.85866790e-02,\n",
       "       2.33572147e-01, 6.15848211e-01, 1.62377674e+00, 4.28133240e+00,\n",
       "       1.12883789e+01, 2.97635144e+01, 7.84759970e+01, 2.06913808e+02,\n",
       "       5.45559478e+02, 1.43844989e+03, 3.79269019e+03, 1.00000000e+04]),\n",
       "                         'max_iter': [100, 1000, 2500, 5000],\n",
       "                         'solver': ['newton-cg', 'lbfgs', 'liblinear', 'sag',\n",
       "                                    'saga']})"
      ]
     },
     "execution_count": 37,
     "metadata": {},
     "output_type": "execute_result"
    }
   ],
   "source": [
    "# Silent warnings\n",
    "import warnings\n",
    "warnings.filterwarnings('ignore')\n",
    "warnings.simplefilter('ignore')\n",
    "\n",
    "lm_params_grid = {'C': np.logspace(-4, 4, 20),\n",
    "                  'solver': ['newton-cg','lbfgs','liblinear','sag','saga'],\n",
    "                  'max_iter': [100, 1000, 2500, 5000]                \n",
    "                 }\n",
    "\n",
    "lm_grid = GridSearchCV(estimator=LogisticRegression(random_state=42),\n",
    "                       param_grid=lm_params_grid,\n",
    "                       n_jobs=-1,\n",
    "                       cv=3,     \n",
    "                       verbose=0,\n",
    "                      )\n",
    "\n",
    "lm_grid.fit(X_train, y_train)"
   ]
  },
  {
   "cell_type": "code",
   "execution_count": 38,
   "id": "f956e16d",
   "metadata": {},
   "outputs": [
    {
     "data": {
      "text/plain": [
       "{'C': 1.623776739188721, 'max_iter': 100, 'solver': 'newton-cg'}"
      ]
     },
     "execution_count": 38,
     "metadata": {},
     "output_type": "execute_result"
    }
   ],
   "source": [
    "lm_grid.best_params_"
   ]
  },
  {
   "cell_type": "code",
   "execution_count": 39,
   "id": "240766f8",
   "metadata": {},
   "outputs": [
    {
     "name": "stdout",
     "output_type": "stream",
     "text": [
      "              precision    recall  f1-score   support\n",
      "\n",
      "        Died       0.71      0.80      0.75        59\n",
      "    Survived       0.83      0.76      0.79        78\n",
      "\n",
      "    accuracy                           0.77       137\n",
      "   macro avg       0.77      0.78      0.77       137\n",
      "weighted avg       0.78      0.77      0.77       137\n",
      "\n"
     ]
    }
   ],
   "source": [
    "lm_param_tuned = LogisticRegression().set_params(**lm_grid.best_params_)\n",
    "lm_param_tuned.fit(X_train, y_train)\n",
    "\n",
    "# Returning classification report on tuned logistic regression model prediction\n",
    "print(classification_report(y_test, lm_param_tuned.predict(X_test), target_names = ['Died', 'Survived']))"
   ]
  },
  {
   "cell_type": "markdown",
   "id": "1cee9b4e",
   "metadata": {},
   "source": [
    "### Plot features by importance for Linear Regression"
   ]
  },
  {
   "cell_type": "code",
   "execution_count": 40,
   "id": "315767da",
   "metadata": {},
   "outputs": [],
   "source": [
    "def feature_importance(model):\n",
    "    feat_imp = abs(model.coef_[0])\n",
    "    feat_imp = pd.Series(feat_imp, features).sort_values(ascending=False)\n",
    "    feat_imp.plot(kind='bar', title='Feature Importances')\n",
    "    plt.ylabel('Feature Importance Score')"
   ]
  },
  {
   "cell_type": "code",
   "execution_count": 41,
   "id": "210f3327",
   "metadata": {},
   "outputs": [
    {
     "data": {
      "image/png": "[encoded data removed]",
      "text/plain": [
       "<Figure size 504x360 with 1 Axes>"
      ]
     },
     "metadata": {},
     "output_type": "display_data"
    }
   ],
   "source": [
    "feature_importance(lm_param_tuned)"
   ]
  },
  {
   "cell_type": "markdown",
   "id": "bb03cddc",
   "metadata": {},
   "source": [
    "## Try HalvingGridSearchCV"
   ]
  },
  {
   "cell_type": "code",
   "execution_count": 42,
   "id": "de74173f",
   "metadata": {},
   "outputs": [
    {
     "data": {
      "text/plain": [
       "HalvingGridSearchCV(cv=3, estimator=LogisticRegression(random_state=42),\n",
       "                    n_jobs=-1,\n",
       "                    param_grid={'C': array([1.00000000e-04, 2.63665090e-04, 6.95192796e-04, 1.83298071e-03,\n",
       "       4.83293024e-03, 1.27427499e-02, 3.35981829e-02, 8.85866790e-02,\n",
       "       2.33572147e-01, 6.15848211e-01, 1.62377674e+00, 4.28133240e+00,\n",
       "       1.12883789e+01, 2.97635144e+01, 7.84759970e+01, 2.06913808e+02,\n",
       "       5.45559478e+02, 1.43844989e+03, 3.79269019e+03, 1.00000000e+04]),\n",
       "                                'max_iter': [100, 1000, 2500, 5000],\n",
       "                                'solver': ['newton-cg', 'lbfgs', 'liblinear',\n",
       "                                           'sag', 'saga']})"
      ]
     },
     "execution_count": 42,
     "metadata": {},
     "output_type": "execute_result"
    }
   ],
   "source": [
    "# explicitly require this experimental feature\n",
    "from sklearn.experimental import enable_halving_search_cv # noqa\n",
    "# now you can import normally from model_selection\n",
    "from sklearn.model_selection import HalvingGridSearchCV\n",
    "\n",
    "lm_halv = HalvingGridSearchCV(estimator=LogisticRegression(random_state=42),\n",
    "                              param_grid=lm_params_grid,\n",
    "                              n_jobs=-1,\n",
    "                              cv=3,     \n",
    "                              verbose=0,\n",
    "                             )\n",
    "\n",
    "lm_halv.fit(X_train, y_train)"
   ]
  },
  {
   "cell_type": "code",
   "execution_count": 43,
   "id": "fb53be28",
   "metadata": {},
   "outputs": [
    {
     "data": {
      "text/plain": [
       "{'C': 0.23357214690901212, 'max_iter': 100, 'solver': 'saga'}"
      ]
     },
     "execution_count": 43,
     "metadata": {},
     "output_type": "execute_result"
    }
   ],
   "source": [
    "lm_halv.best_params_"
   ]
  },
  {
   "cell_type": "code",
   "execution_count": 44,
   "id": "8a7d4db0",
   "metadata": {},
   "outputs": [
    {
     "name": "stdout",
     "output_type": "stream",
     "text": [
      "              precision    recall  f1-score   support\n",
      "\n",
      "        Died       0.72      0.80      0.76        59\n",
      "    Survived       0.83      0.77      0.80        78\n",
      "\n",
      "    accuracy                           0.78       137\n",
      "   macro avg       0.78      0.78      0.78       137\n",
      "weighted avg       0.79      0.78      0.78       137\n",
      "\n"
     ]
    }
   ],
   "source": [
    "lm_halv_param_tuned = LogisticRegression().set_params(**lm_halv.best_params_)\n",
    "lm_halv_param_tuned.fit(X_train, y_train)\n",
    "\n",
    "# Returning classification report on tuned with HalvingGridSearchCV logistic regression model prediction\n",
    "print(classification_report(y_test, lm_halv_param_tuned.predict(X_test), target_names = ['Died', 'Survived']))"
   ]
  },
  {
   "cell_type": "code",
   "execution_count": 45,
   "id": "2a75d6fa",
   "metadata": {},
   "outputs": [
    {
     "data": {
      "image/png": "[encoded data removed]",
      "text/plain": [
       "<Figure size 504x360 with 2 Axes>"
      ]
     },
     "metadata": {},
     "output_type": "display_data"
    }
   ],
   "source": [
    "from sklearn.metrics import plot_confusion_matrix\n",
    "\n",
    "# Plot confusion matrix for logistic regression with tuned hyperparameters\n",
    "plot_confusion_matrix(lm_param_tuned, X_test, y_test, values_format='d', display_labels=['Died', 'Survived'])\n",
    "plt.grid(False)"
   ]
  },
  {
   "cell_type": "markdown",
   "id": "f9a63cad",
   "metadata": {},
   "source": [
    "## Support Vector Machine"
   ]
  },
  {
   "cell_type": "code",
   "execution_count": 46,
   "id": "52717624",
   "metadata": {},
   "outputs": [
    {
     "data": {
      "text/plain": [
       "SVC(random_state=42)"
      ]
     },
     "execution_count": 46,
     "metadata": {},
     "output_type": "execute_result"
    }
   ],
   "source": [
    "from sklearn import svm\n",
    "\n",
    "clf_svm = svm.SVC(random_state=42)\n",
    "clf_svm.fit(X_train, y_train)"
   ]
  },
  {
   "cell_type": "code",
   "execution_count": 47,
   "id": "a4066b67",
   "metadata": {},
   "outputs": [
    {
     "data": {
      "text/plain": [
       "{'C': 1.0,\n",
       " 'break_ties': False,\n",
       " 'cache_size': 200,\n",
       " 'class_weight': None,\n",
       " 'coef0': 0.0,\n",
       " 'decision_function_shape': 'ovr',\n",
       " 'degree': 3,\n",
       " 'gamma': 'scale',\n",
       " 'kernel': 'rbf',\n",
       " 'max_iter': -1,\n",
       " 'probability': False,\n",
       " 'random_state': 42,\n",
       " 'shrinking': True,\n",
       " 'tol': 0.001,\n",
       " 'verbose': False}"
      ]
     },
     "execution_count": 47,
     "metadata": {},
     "output_type": "execute_result"
    }
   ],
   "source": [
    "clf_svm.get_params(deep=True)"
   ]
  },
  {
   "cell_type": "code",
   "execution_count": 48,
   "id": "43540b58",
   "metadata": {},
   "outputs": [
    {
     "name": "stdout",
     "output_type": "stream",
     "text": [
      "              precision    recall  f1-score   support\n",
      "\n",
      "        Died       0.71      0.83      0.77        59\n",
      "    Survived       0.85      0.74      0.79        78\n",
      "\n",
      "    accuracy                           0.78       137\n",
      "   macro avg       0.78      0.79      0.78       137\n",
      "weighted avg       0.79      0.78      0.78       137\n",
      "\n"
     ]
    }
   ],
   "source": [
    "# Returning classification report on SVM model prediction\n",
    "print(classification_report(y_test, clf_svm.predict(X_test), target_names = ['Died', 'Survived']))"
   ]
  },
  {
   "cell_type": "code",
   "execution_count": 49,
   "id": "f32a903f",
   "metadata": {
    "scrolled": true
   },
   "outputs": [
    {
     "data": {
      "image/png": "[encoded data removed]",
      "text/plain": [
       "<Figure size 504x360 with 2 Axes>"
      ]
     },
     "metadata": {},
     "output_type": "display_data"
    }
   ],
   "source": [
    "# Plot confusion matrix\n",
    "plot_confusion_matrix(clf_svm, X_test, y_test, values_format='d', display_labels=['Died', 'Survived'])\n",
    "plt.grid(False)"
   ]
  },
  {
   "cell_type": "markdown",
   "id": "19171c04",
   "metadata": {},
   "source": [
    "From **59** passengers who died **49(83%)** were correctly classified, and from **78** who survived **57(73%)** were correctly classified. "
   ]
  },
  {
   "cell_type": "markdown",
   "id": "d88c038c",
   "metadata": {},
   "source": [
    "## SVM hyperparameters tuning"
   ]
  },
  {
   "cell_type": "markdown",
   "id": "e41a965a",
   "metadata": {},
   "source": [
    "**C**: C > 0, controls the trade off between smooth decision boundary and classifying the training points correctly\n",
    "<br>**gamma**: higher gamma value tries to exactly fit the train data set\n",
    "<br>**kernel**: selects the type of hyperplane, rbf stands for Radial Basis Function Kernel"
   ]
  },
  {
   "cell_type": "code",
   "execution_count": 50,
   "id": "71a504a8",
   "metadata": {},
   "outputs": [
    {
     "data": {
      "text/plain": [
       "GridSearchCV(cv=5, estimator=SVC(random_state=42), n_jobs=-1,\n",
       "             param_grid={'C': [0.5, 1, 10, 100],\n",
       "                         'gamma': ['scale', 1, 0.1, 0.01, 0.001, 0.0001],\n",
       "                         'kernel': ['rbf']},\n",
       "             scoring='recall')"
      ]
     },
     "execution_count": 50,
     "metadata": {},
     "output_type": "execute_result"
    }
   ],
   "source": [
    "svm_params_grid = {'C': [0.5, 1, 10, 100],  # \n",
    "                   'gamma': ['scale', 1, 0.1, 0.01, 0.001, 0.0001],\n",
    "                   'kernel': ['rbf']           \n",
    "                  }\n",
    "\n",
    "svm_grid = GridSearchCV(estimator=svm.SVC(random_state=42),\n",
    "                        param_grid=svm_params_grid,\n",
    "                        scoring='recall',  # this scorring parameter showed the best result\n",
    "                        n_jobs=-1,\n",
    "                        cv=5,     \n",
    "                        verbose=0,\n",
    "                       )\n",
    "\n",
    "svm_grid.fit(X_train, y_train)"
   ]
  },
  {
   "cell_type": "code",
   "execution_count": 51,
   "id": "a207343c",
   "metadata": {},
   "outputs": [
    {
     "data": {
      "text/plain": [
       "{'C': 0.5, 'gamma': 1, 'kernel': 'rbf'}"
      ]
     },
     "execution_count": 51,
     "metadata": {},
     "output_type": "execute_result"
    }
   ],
   "source": [
    "svm_grid.best_params_    # best parameters {'C': 0.5, 'gamma': 1, 'kernel': 'rbf'}"
   ]
  },
  {
   "cell_type": "code",
   "execution_count": 52,
   "id": "95c032cb",
   "metadata": {},
   "outputs": [
    {
     "name": "stdout",
     "output_type": "stream",
     "text": [
      "              precision    recall  f1-score   support\n",
      "\n",
      "        Died       0.80      0.80      0.80        59\n",
      "    Survived       0.85      0.85      0.85        78\n",
      "\n",
      "    accuracy                           0.82       137\n",
      "   macro avg       0.82      0.82      0.82       137\n",
      "weighted avg       0.82      0.82      0.82       137\n",
      "\n"
     ]
    }
   ],
   "source": [
    "svm_grid_param_tuned = svm.SVC().set_params(**svm_grid.best_params_)\n",
    "svm_grid_param_tuned.fit(X_train, y_train)\n",
    "\n",
    "# Returning classification report on tuned SVM model prediction\n",
    "print(classification_report(y_test, svm_grid_param_tuned.predict(X_test), target_names = ['Died', 'Survived']))"
   ]
  },
  {
   "cell_type": "code",
   "execution_count": 53,
   "id": "a7b5b2f9",
   "metadata": {},
   "outputs": [
    {
     "data": {
      "image/png": "[encoded data removed]",
      "text/plain": [
       "<Figure size 504x360 with 2 Axes>"
      ]
     },
     "metadata": {},
     "output_type": "display_data"
    }
   ],
   "source": [
    "# Plot confusion matrix\n",
    "plot_confusion_matrix(svm_grid_param_tuned, X_test, y_test, values_format='d', display_labels=['Died', 'Survived'])\n",
    "plt.grid(False)"
   ]
  },
  {
   "cell_type": "code",
   "execution_count": 54,
   "id": "0f494e46",
   "metadata": {},
   "outputs": [],
   "source": [
    "best_result = 82\n",
    "\n",
    "if int(svm_grid_param_tuned.score(X_test, y_test).round(2)*100) >= best_result:\n",
    "\n",
    "    file_name = f\"svm_{str(int(svm_grid_param_tuned.score(X_test, y_test).round(2)*100))}.pkl\"\n",
    "\n",
    "    with open(file_name, 'wb') as f:\n",
    "        pickle.dump(svm_grid_param_tuned, f)"
   ]
  },
  {
   "cell_type": "markdown",
   "id": "c8396c03",
   "metadata": {},
   "source": [
    "## PCA \n",
    "@StatQuest (https://www.youtube.com/watch?v=8A7L0GsBiLQ&list=PLblh5JKOoLUL3IJ4-yor0HzkqDQ3JmJkc&index=5)"
   ]
  },
  {
   "cell_type": "code",
   "execution_count": 62,
   "id": "af954750",
   "metadata": {},
   "outputs": [
    {
     "data": {
      "text/plain": [
       "33"
      ]
     },
     "execution_count": 62,
     "metadata": {},
     "output_type": "execute_result"
    }
   ],
   "source": [
    "len(features)"
   ]
  },
  {
   "cell_type": "code",
   "execution_count": 61,
   "id": "058f3016",
   "metadata": {},
   "outputs": [],
   "source": [
    "from sklearn.decomposition import PCA\n",
    "\n",
    "pca = PCA()\n",
    "X_train_pca = pca.fit_transform(X_train)\n",
    "\n",
    "with open('pca.pkl', 'wb') as f:\n",
    "    pickle.dump(pca, f)"
   ]
  },
  {
   "cell_type": "code",
   "execution_count": 65,
   "id": "1d83ce01",
   "metadata": {},
   "outputs": [
    {
     "data": {
      "image/png": "[encoded data removed]",
      "text/plain": [
       "<Figure size 504x360 with 1 Axes>"
      ]
     },
     "metadata": {},
     "output_type": "display_data"
    }
   ],
   "source": [
    "per_var = np.round(pca.explained_variance_ratio_*100, decimals=1)\n",
    "labels = [str(x) for x in range(1, len(per_var)+1)]\n",
    "\n",
    "plt.bar(x=range(1, len(per_var)+1), height=per_var)\n",
    "plt.tick_params(axis='x', which='both', bottom=False, top=False, labelbottom=False)\n",
    "plt.ylabel('Percentage of Explained Variance')\n",
    "plt.xlabel('Principal Components')\n",
    "plt.title('Scree Plot')\n",
    "plt.show()"
   ]
  },
  {
   "cell_type": "markdown",
   "id": "4b173ffc",
   "metadata": {},
   "source": [
    "PC1 and PC2 significantly taller than the rest, which is good. This two principal components should accurately reflect the original data."
   ]
  },
  {
   "cell_type": "code",
   "execution_count": 66,
   "id": "c1be32e5",
   "metadata": {},
   "outputs": [
    {
     "ename": "NameError",
     "evalue": "name 'scale' is not defined",
     "output_type": "error",
     "traceback": [
      "\u001b[1;31m---------------------------------------------------------------------------\u001b[0m",
      "\u001b[1;31mNameError\u001b[0m                                 Traceback (most recent call last)",
      "\u001b[1;32m<ipython-input-66-3795f4903d04>\u001b[0m in \u001b[0;36m<module>\u001b[1;34m\u001b[0m\n\u001b[0;32m      3\u001b[0m \u001b[1;33m\u001b[0m\u001b[0m\n\u001b[0;32m      4\u001b[0m \u001b[1;31m#Center and scale the PCs\u001b[0m\u001b[1;33m\u001b[0m\u001b[1;33m\u001b[0m\u001b[1;33m\u001b[0m\u001b[0m\n\u001b[1;32m----> 5\u001b[1;33m \u001b[0mpca_train_scaled\u001b[0m \u001b[1;33m=\u001b[0m \u001b[0mscale\u001b[0m\u001b[1;33m(\u001b[0m\u001b[0mnp\u001b[0m\u001b[1;33m.\u001b[0m\u001b[0mcolumn_stack\u001b[0m\u001b[1;33m(\u001b[0m\u001b[1;33m(\u001b[0m\u001b[0mtrain_pc1_coords\u001b[0m\u001b[1;33m,\u001b[0m \u001b[0mtrain_pc2_coords\u001b[0m\u001b[1;33m)\u001b[0m\u001b[1;33m)\u001b[0m\u001b[1;33m)\u001b[0m\u001b[1;33m\u001b[0m\u001b[1;33m\u001b[0m\u001b[0m\n\u001b[0m\u001b[0;32m      6\u001b[0m \u001b[1;33m\u001b[0m\u001b[0m\n\u001b[0;32m      7\u001b[0m \u001b[1;31m# Optimise the SVM fit to the x and y-axis coordinates\u001b[0m\u001b[1;33m\u001b[0m\u001b[1;33m\u001b[0m\u001b[1;33m\u001b[0m\u001b[0m\n",
      "\u001b[1;31mNameError\u001b[0m: name 'scale' is not defined"
     ]
    }
   ],
   "source": [
    "train_pc1_coords = X_train_pca[:, 0] # x-axis coordinates of the data after PCA\n",
    "train_pc2_coords = X_train_pca[:, 1] # y-axis coordinates of the data after PCA\n",
    "\n",
    "#Center and scale the PCs\n",
    "pca_train_scaled = scale(np.column_stack((train_pc1_coords, train_pc2_coords)))\n",
    "\n",
    "# Optimise the SVM fit to the x and y-axis coordinates\n",
    "svm_pca = GridSearchCV(estimator=svm.SVC(random_state=42),\n",
    "                       param_grid=svm_params_grid,\n",
    "                       scoring='recall',  # this scorring parameter showed the best result\n",
    "                       n_jobs=-1,\n",
    "                       cv=5,     \n",
    "                       verbose=0,\n",
    "                      )\n",
    "\n",
    "svm_pca.fit(pca_train_scaled, y_train)"
   ]
  },
  {
   "cell_type": "markdown",
   "id": "ec184f76",
   "metadata": {},
   "source": [
    "## Load and  preprocess new data"
   ]
  },
  {
   "cell_type": "code",
   "execution_count": 55,
   "id": "4a9a8d6d",
   "metadata": {},
   "outputs": [
    {
     "data": {
      "text/html": [
       "<div>\n",
       "<style scoped>\n",
       "    .dataframe tbody tr th:only-of-type {\n",
       "        vertical-align: middle;\n",
       "    }\n",
       "\n",
       "    .dataframe tbody tr th {\n",
       "        vertical-align: top;\n",
       "    }\n",
       "\n",
       "    .dataframe thead th {\n",
       "        text-align: right;\n",
       "    }\n",
       "</style>\n",
       "<table border=\"1\" class=\"dataframe\">\n",
       "  <thead>\n",
       "    <tr style=\"text-align: right;\">\n",
       "      <th></th>\n",
       "      <th>PassengerId</th>\n",
       "      <th>Pclass</th>\n",
       "      <th>Name</th>\n",
       "      <th>Sex</th>\n",
       "      <th>Age</th>\n",
       "      <th>SibSp</th>\n",
       "      <th>Parch</th>\n",
       "      <th>Ticket</th>\n",
       "      <th>Fare</th>\n",
       "      <th>Cabin</th>\n",
       "      <th>Embarked</th>\n",
       "    </tr>\n",
       "  </thead>\n",
       "  <tbody>\n",
       "    <tr>\n",
       "      <th>0</th>\n",
       "      <td>892</td>\n",
       "      <td>3</td>\n",
       "      <td>Kelly, Mr. James</td>\n",
       "      <td>male</td>\n",
       "      <td>34.5</td>\n",
       "      <td>0</td>\n",
       "      <td>0</td>\n",
       "      <td>330911</td>\n",
       "      <td>7.8292</td>\n",
       "      <td>NaN</td>\n",
       "      <td>Q</td>\n",
       "    </tr>\n",
       "    <tr>\n",
       "      <th>1</th>\n",
       "      <td>893</td>\n",
       "      <td>3</td>\n",
       "      <td>Wilkes, Mrs. James (Ellen Needs)</td>\n",
       "      <td>female</td>\n",
       "      <td>47.0</td>\n",
       "      <td>1</td>\n",
       "      <td>0</td>\n",
       "      <td>363272</td>\n",
       "      <td>7.0000</td>\n",
       "      <td>NaN</td>\n",
       "      <td>S</td>\n",
       "    </tr>\n",
       "    <tr>\n",
       "      <th>2</th>\n",
       "      <td>894</td>\n",
       "      <td>2</td>\n",
       "      <td>Myles, Mr. Thomas Francis</td>\n",
       "      <td>male</td>\n",
       "      <td>62.0</td>\n",
       "      <td>0</td>\n",
       "      <td>0</td>\n",
       "      <td>240276</td>\n",
       "      <td>9.6875</td>\n",
       "      <td>NaN</td>\n",
       "      <td>Q</td>\n",
       "    </tr>\n",
       "    <tr>\n",
       "      <th>3</th>\n",
       "      <td>895</td>\n",
       "      <td>3</td>\n",
       "      <td>Wirz, Mr. Albert</td>\n",
       "      <td>male</td>\n",
       "      <td>27.0</td>\n",
       "      <td>0</td>\n",
       "      <td>0</td>\n",
       "      <td>315154</td>\n",
       "      <td>8.6625</td>\n",
       "      <td>NaN</td>\n",
       "      <td>S</td>\n",
       "    </tr>\n",
       "    <tr>\n",
       "      <th>4</th>\n",
       "      <td>896</td>\n",
       "      <td>3</td>\n",
       "      <td>Hirvonen, Mrs. Alexander (Helga E Lindqvist)</td>\n",
       "      <td>female</td>\n",
       "      <td>22.0</td>\n",
       "      <td>1</td>\n",
       "      <td>1</td>\n",
       "      <td>3101298</td>\n",
       "      <td>12.2875</td>\n",
       "      <td>NaN</td>\n",
       "      <td>S</td>\n",
       "    </tr>\n",
       "    <tr>\n",
       "      <th>...</th>\n",
       "      <td>...</td>\n",
       "      <td>...</td>\n",
       "      <td>...</td>\n",
       "      <td>...</td>\n",
       "      <td>...</td>\n",
       "      <td>...</td>\n",
       "      <td>...</td>\n",
       "      <td>...</td>\n",
       "      <td>...</td>\n",
       "      <td>...</td>\n",
       "      <td>...</td>\n",
       "    </tr>\n",
       "    <tr>\n",
       "      <th>413</th>\n",
       "      <td>1305</td>\n",
       "      <td>3</td>\n",
       "      <td>Spector, Mr. Woolf</td>\n",
       "      <td>male</td>\n",
       "      <td>NaN</td>\n",
       "      <td>0</td>\n",
       "      <td>0</td>\n",
       "      <td>A.5. 3236</td>\n",
       "      <td>8.0500</td>\n",
       "      <td>NaN</td>\n",
       "      <td>S</td>\n",
       "    </tr>\n",
       "    <tr>\n",
       "      <th>414</th>\n",
       "      <td>1306</td>\n",
       "      <td>1</td>\n",
       "      <td>Oliva y Ocana, Dona. Fermina</td>\n",
       "      <td>female</td>\n",
       "      <td>39.0</td>\n",
       "      <td>0</td>\n",
       "      <td>0</td>\n",
       "      <td>PC 17758</td>\n",
       "      <td>108.9000</td>\n",
       "      <td>C105</td>\n",
       "      <td>C</td>\n",
       "    </tr>\n",
       "    <tr>\n",
       "      <th>415</th>\n",
       "      <td>1307</td>\n",
       "      <td>3</td>\n",
       "      <td>Saether, Mr. Simon Sivertsen</td>\n",
       "      <td>male</td>\n",
       "      <td>38.5</td>\n",
       "      <td>0</td>\n",
       "      <td>0</td>\n",
       "      <td>SOTON/O.Q. 3101262</td>\n",
       "      <td>7.2500</td>\n",
       "      <td>NaN</td>\n",
       "      <td>S</td>\n",
       "    </tr>\n",
       "    <tr>\n",
       "      <th>416</th>\n",
       "      <td>1308</td>\n",
       "      <td>3</td>\n",
       "      <td>Ware, Mr. Frederick</td>\n",
       "      <td>male</td>\n",
       "      <td>NaN</td>\n",
       "      <td>0</td>\n",
       "      <td>0</td>\n",
       "      <td>359309</td>\n",
       "      <td>8.0500</td>\n",
       "      <td>NaN</td>\n",
       "      <td>S</td>\n",
       "    </tr>\n",
       "    <tr>\n",
       "      <th>417</th>\n",
       "      <td>1309</td>\n",
       "      <td>3</td>\n",
       "      <td>Peter, Master. Michael J</td>\n",
       "      <td>male</td>\n",
       "      <td>NaN</td>\n",
       "      <td>1</td>\n",
       "      <td>1</td>\n",
       "      <td>2668</td>\n",
       "      <td>22.3583</td>\n",
       "      <td>NaN</td>\n",
       "      <td>C</td>\n",
       "    </tr>\n",
       "  </tbody>\n",
       "</table>\n",
       "<p>418 rows × 11 columns</p>\n",
       "</div>"
      ],
      "text/plain": [
       "     PassengerId  Pclass                                          Name  \\\n",
       "0            892       3                              Kelly, Mr. James   \n",
       "1            893       3              Wilkes, Mrs. James (Ellen Needs)   \n",
       "2            894       2                     Myles, Mr. Thomas Francis   \n",
       "3            895       3                              Wirz, Mr. Albert   \n",
       "4            896       3  Hirvonen, Mrs. Alexander (Helga E Lindqvist)   \n",
       "..           ...     ...                                           ...   \n",
       "413         1305       3                            Spector, Mr. Woolf   \n",
       "414         1306       1                  Oliva y Ocana, Dona. Fermina   \n",
       "415         1307       3                  Saether, Mr. Simon Sivertsen   \n",
       "416         1308       3                           Ware, Mr. Frederick   \n",
       "417         1309       3                      Peter, Master. Michael J   \n",
       "\n",
       "        Sex   Age  SibSp  Parch              Ticket      Fare Cabin Embarked  \n",
       "0      male  34.5      0      0              330911    7.8292   NaN        Q  \n",
       "1    female  47.0      1      0              363272    7.0000   NaN        S  \n",
       "2      male  62.0      0      0              240276    9.6875   NaN        Q  \n",
       "3      male  27.0      0      0              315154    8.6625   NaN        S  \n",
       "4    female  22.0      1      1             3101298   12.2875   NaN        S  \n",
       "..      ...   ...    ...    ...                 ...       ...   ...      ...  \n",
       "413    male   NaN      0      0           A.5. 3236    8.0500   NaN        S  \n",
       "414  female  39.0      0      0            PC 17758  108.9000  C105        C  \n",
       "415    male  38.5      0      0  SOTON/O.Q. 3101262    7.2500   NaN        S  \n",
       "416    male   NaN      0      0              359309    8.0500   NaN        S  \n",
       "417    male   NaN      1      1                2668   22.3583   NaN        C  \n",
       "\n",
       "[418 rows x 11 columns]"
      ]
     },
     "execution_count": 55,
     "metadata": {},
     "output_type": "execute_result"
    }
   ],
   "source": [
    "# Load new data\n",
    "test_data = pd.read_csv('test.csv')\n",
    "test_data"
   ]
  },
  {
   "cell_type": "code",
   "execution_count": 56,
   "id": "50e41daf",
   "metadata": {},
   "outputs": [
    {
     "data": {
      "text/html": [
       "<div>\n",
       "<style scoped>\n",
       "    .dataframe tbody tr th:only-of-type {\n",
       "        vertical-align: middle;\n",
       "    }\n",
       "\n",
       "    .dataframe tbody tr th {\n",
       "        vertical-align: top;\n",
       "    }\n",
       "\n",
       "    .dataframe thead th {\n",
       "        text-align: right;\n",
       "    }\n",
       "</style>\n",
       "<table border=\"1\" class=\"dataframe\">\n",
       "  <thead>\n",
       "    <tr style=\"text-align: right;\">\n",
       "      <th></th>\n",
       "      <th>PassengerId</th>\n",
       "      <th>Pclass</th>\n",
       "      <th>Age</th>\n",
       "      <th>SibSp</th>\n",
       "      <th>Parch</th>\n",
       "      <th>Fare</th>\n",
       "    </tr>\n",
       "  </thead>\n",
       "  <tbody>\n",
       "    <tr>\n",
       "      <th>count</th>\n",
       "      <td>418.000000</td>\n",
       "      <td>418.000000</td>\n",
       "      <td>332.000000</td>\n",
       "      <td>418.000000</td>\n",
       "      <td>418.000000</td>\n",
       "      <td>417.000000</td>\n",
       "    </tr>\n",
       "    <tr>\n",
       "      <th>mean</th>\n",
       "      <td>1100.500000</td>\n",
       "      <td>2.265550</td>\n",
       "      <td>30.272590</td>\n",
       "      <td>0.447368</td>\n",
       "      <td>0.392344</td>\n",
       "      <td>35.627188</td>\n",
       "    </tr>\n",
       "    <tr>\n",
       "      <th>std</th>\n",
       "      <td>120.810458</td>\n",
       "      <td>0.841838</td>\n",
       "      <td>14.181209</td>\n",
       "      <td>0.896760</td>\n",
       "      <td>0.981429</td>\n",
       "      <td>55.907576</td>\n",
       "    </tr>\n",
       "    <tr>\n",
       "      <th>min</th>\n",
       "      <td>892.000000</td>\n",
       "      <td>1.000000</td>\n",
       "      <td>0.170000</td>\n",
       "      <td>0.000000</td>\n",
       "      <td>0.000000</td>\n",
       "      <td>0.000000</td>\n",
       "    </tr>\n",
       "    <tr>\n",
       "      <th>25%</th>\n",
       "      <td>996.250000</td>\n",
       "      <td>1.000000</td>\n",
       "      <td>21.000000</td>\n",
       "      <td>0.000000</td>\n",
       "      <td>0.000000</td>\n",
       "      <td>7.895800</td>\n",
       "    </tr>\n",
       "    <tr>\n",
       "      <th>50%</th>\n",
       "      <td>1100.500000</td>\n",
       "      <td>3.000000</td>\n",
       "      <td>27.000000</td>\n",
       "      <td>0.000000</td>\n",
       "      <td>0.000000</td>\n",
       "      <td>14.454200</td>\n",
       "    </tr>\n",
       "    <tr>\n",
       "      <th>75%</th>\n",
       "      <td>1204.750000</td>\n",
       "      <td>3.000000</td>\n",
       "      <td>39.000000</td>\n",
       "      <td>1.000000</td>\n",
       "      <td>0.000000</td>\n",
       "      <td>31.500000</td>\n",
       "    </tr>\n",
       "    <tr>\n",
       "      <th>max</th>\n",
       "      <td>1309.000000</td>\n",
       "      <td>3.000000</td>\n",
       "      <td>76.000000</td>\n",
       "      <td>8.000000</td>\n",
       "      <td>9.000000</td>\n",
       "      <td>512.329200</td>\n",
       "    </tr>\n",
       "  </tbody>\n",
       "</table>\n",
       "</div>"
      ],
      "text/plain": [
       "       PassengerId      Pclass         Age       SibSp       Parch        Fare\n",
       "count   418.000000  418.000000  332.000000  418.000000  418.000000  417.000000\n",
       "mean   1100.500000    2.265550   30.272590    0.447368    0.392344   35.627188\n",
       "std     120.810458    0.841838   14.181209    0.896760    0.981429   55.907576\n",
       "min     892.000000    1.000000    0.170000    0.000000    0.000000    0.000000\n",
       "25%     996.250000    1.000000   21.000000    0.000000    0.000000    7.895800\n",
       "50%    1100.500000    3.000000   27.000000    0.000000    0.000000   14.454200\n",
       "75%    1204.750000    3.000000   39.000000    1.000000    0.000000   31.500000\n",
       "max    1309.000000    3.000000   76.000000    8.000000    9.000000  512.329200"
      ]
     },
     "execution_count": 56,
     "metadata": {},
     "output_type": "execute_result"
    }
   ],
   "source": [
    "# Copy data and explore\n",
    "test_df = test_data.copy()\n",
    "test_df.describe()"
   ]
  },
  {
   "cell_type": "markdown",
   "id": "83ddfd57",
   "metadata": {},
   "source": [
    "### Preprocess new data"
   ]
  },
  {
   "cell_type": "code",
   "execution_count": 57,
   "id": "47b686d9",
   "metadata": {},
   "outputs": [
    {
     "data": {
      "text/html": [
       "<div>\n",
       "<style scoped>\n",
       "    .dataframe tbody tr th:only-of-type {\n",
       "        vertical-align: middle;\n",
       "    }\n",
       "\n",
       "    .dataframe tbody tr th {\n",
       "        vertical-align: top;\n",
       "    }\n",
       "\n",
       "    .dataframe thead th {\n",
       "        text-align: right;\n",
       "    }\n",
       "</style>\n",
       "<table border=\"1\" class=\"dataframe\">\n",
       "  <thead>\n",
       "    <tr style=\"text-align: right;\">\n",
       "      <th></th>\n",
       "      <th>Pclass</th>\n",
       "      <th>Sex</th>\n",
       "      <th>Age</th>\n",
       "      <th>Fare</th>\n",
       "      <th>Embarked</th>\n",
       "      <th>Deck</th>\n",
       "      <th>Relatives</th>\n",
       "      <th>Title</th>\n",
       "    </tr>\n",
       "  </thead>\n",
       "  <tbody>\n",
       "    <tr>\n",
       "      <th>0</th>\n",
       "      <td>3</td>\n",
       "      <td>male</td>\n",
       "      <td>34</td>\n",
       "      <td>7.8292</td>\n",
       "      <td>Q</td>\n",
       "      <td>NaN</td>\n",
       "      <td>Singleton</td>\n",
       "      <td>Mr</td>\n",
       "    </tr>\n",
       "    <tr>\n",
       "      <th>1</th>\n",
       "      <td>3</td>\n",
       "      <td>female</td>\n",
       "      <td>47</td>\n",
       "      <td>7.0000</td>\n",
       "      <td>S</td>\n",
       "      <td>NaN</td>\n",
       "      <td>SmallFamily</td>\n",
       "      <td>Mrs</td>\n",
       "    </tr>\n",
       "    <tr>\n",
       "      <th>2</th>\n",
       "      <td>2</td>\n",
       "      <td>male</td>\n",
       "      <td>62</td>\n",
       "      <td>9.6875</td>\n",
       "      <td>Q</td>\n",
       "      <td>NaN</td>\n",
       "      <td>Singleton</td>\n",
       "      <td>Mr</td>\n",
       "    </tr>\n",
       "    <tr>\n",
       "      <th>3</th>\n",
       "      <td>3</td>\n",
       "      <td>male</td>\n",
       "      <td>27</td>\n",
       "      <td>8.6625</td>\n",
       "      <td>S</td>\n",
       "      <td>NaN</td>\n",
       "      <td>Singleton</td>\n",
       "      <td>Mr</td>\n",
       "    </tr>\n",
       "    <tr>\n",
       "      <th>4</th>\n",
       "      <td>3</td>\n",
       "      <td>female</td>\n",
       "      <td>22</td>\n",
       "      <td>12.2875</td>\n",
       "      <td>S</td>\n",
       "      <td>NaN</td>\n",
       "      <td>SmallFamily</td>\n",
       "      <td>Mrs</td>\n",
       "    </tr>\n",
       "    <tr>\n",
       "      <th>...</th>\n",
       "      <td>...</td>\n",
       "      <td>...</td>\n",
       "      <td>...</td>\n",
       "      <td>...</td>\n",
       "      <td>...</td>\n",
       "      <td>...</td>\n",
       "      <td>...</td>\n",
       "      <td>...</td>\n",
       "    </tr>\n",
       "    <tr>\n",
       "      <th>413</th>\n",
       "      <td>3</td>\n",
       "      <td>male</td>\n",
       "      <td>16</td>\n",
       "      <td>8.0500</td>\n",
       "      <td>S</td>\n",
       "      <td>NaN</td>\n",
       "      <td>Singleton</td>\n",
       "      <td>Mr</td>\n",
       "    </tr>\n",
       "    <tr>\n",
       "      <th>414</th>\n",
       "      <td>1</td>\n",
       "      <td>female</td>\n",
       "      <td>39</td>\n",
       "      <td>108.9000</td>\n",
       "      <td>C</td>\n",
       "      <td>C</td>\n",
       "      <td>Singleton</td>\n",
       "      <td>Dona</td>\n",
       "    </tr>\n",
       "    <tr>\n",
       "      <th>415</th>\n",
       "      <td>3</td>\n",
       "      <td>male</td>\n",
       "      <td>38</td>\n",
       "      <td>7.2500</td>\n",
       "      <td>S</td>\n",
       "      <td>NaN</td>\n",
       "      <td>Singleton</td>\n",
       "      <td>Mr</td>\n",
       "    </tr>\n",
       "    <tr>\n",
       "      <th>416</th>\n",
       "      <td>3</td>\n",
       "      <td>male</td>\n",
       "      <td>23</td>\n",
       "      <td>8.0500</td>\n",
       "      <td>S</td>\n",
       "      <td>NaN</td>\n",
       "      <td>Singleton</td>\n",
       "      <td>Mr</td>\n",
       "    </tr>\n",
       "    <tr>\n",
       "      <th>417</th>\n",
       "      <td>3</td>\n",
       "      <td>male</td>\n",
       "      <td>30</td>\n",
       "      <td>22.3583</td>\n",
       "      <td>C</td>\n",
       "      <td>NaN</td>\n",
       "      <td>SmallFamily</td>\n",
       "      <td>Master</td>\n",
       "    </tr>\n",
       "  </tbody>\n",
       "</table>\n",
       "<p>418 rows × 8 columns</p>\n",
       "</div>"
      ],
      "text/plain": [
       "     Pclass     Sex  Age      Fare Embarked Deck    Relatives   Title\n",
       "0         3    male   34    7.8292        Q  NaN    Singleton      Mr\n",
       "1         3  female   47    7.0000        S  NaN  SmallFamily     Mrs\n",
       "2         2    male   62    9.6875        Q  NaN    Singleton      Mr\n",
       "3         3    male   27    8.6625        S  NaN    Singleton      Mr\n",
       "4         3  female   22   12.2875        S  NaN  SmallFamily     Mrs\n",
       "..      ...     ...  ...       ...      ...  ...          ...     ...\n",
       "413       3    male   16    8.0500        S  NaN    Singleton      Mr\n",
       "414       1  female   39  108.9000        C    C    Singleton    Dona\n",
       "415       3    male   38    7.2500        S  NaN    Singleton      Mr\n",
       "416       3    male   23    8.0500        S  NaN    Singleton      Mr\n",
       "417       3    male   30   22.3583        C  NaN  SmallFamily  Master\n",
       "\n",
       "[418 rows x 8 columns]"
      ]
     },
     "execution_count": 57,
     "metadata": {},
     "output_type": "execute_result"
    }
   ],
   "source": [
    "def new_data_preprocess(df):\n",
    "    # Load preprocessing data\n",
    "    with open('preprocess_data.pkl', 'rb') as f:\n",
    "        preprocess_data = pickle.load(f)\n",
    "        \n",
    "    # Fill missing age values\n",
    "    df = fill_missing_age(df, preprocess_data['age_mean'], preprocess_data['age_std'])\n",
    "    \n",
    "    # Fill missing fare values\n",
    "    df['Fare'] = df['Fare'].fillna(preprocess_data['fare_mean'])\n",
    "    \n",
    "    # Fill missing embarked values if any\n",
    "    df['Embarked'] = df['Embarked'].fillna(preprocess_data['embarked_mode'])\n",
    "    \n",
    "    # Turn Cabin number into Deck    \n",
    "    df['Deck'] = df['Cabin'].map(lambda x: substring_in(x, preprocess_data['decks']))\n",
    "    \n",
    "    # Combine SibSp, Parch (siblings/spouse/parents/children) into new feature\n",
    "    df['Relatives'] = df['SibSp']+df['Parch']\n",
    "    # Extend field 'Relatives' into 3 categories: Singleton, SmallFamily, LargerFamily with family_size() function\n",
    "    df['Relatives'] = df['Relatives'].map(lambda x: family_size(x))\n",
    "    \n",
    "    # Extract from Name field title (it might be that some education or profession correlate with surviving)\n",
    "    df['Title'] = df['Name'].map(lambda name: name.split(',')[1].split('.')[0].strip())\n",
    "    \n",
    "    # Drop extra features\n",
    "    df = df.drop(['PassengerId', 'Name', 'SibSp', 'Parch', 'Ticket', 'Cabin'], axis=1)\n",
    "\n",
    "    return df\n",
    "\n",
    "test_df = new_data_preprocess(test_df)\n",
    "test_df"
   ]
  },
  {
   "cell_type": "markdown",
   "id": "eb1166c8",
   "metadata": {},
   "source": [
    "### Scale new data numerical values"
   ]
  },
  {
   "cell_type": "code",
   "execution_count": 58,
   "id": "2032b0eb",
   "metadata": {},
   "outputs": [
    {
     "data": {
      "text/html": [
       "<div>\n",
       "<style scoped>\n",
       "    .dataframe tbody tr th:only-of-type {\n",
       "        vertical-align: middle;\n",
       "    }\n",
       "\n",
       "    .dataframe tbody tr th {\n",
       "        vertical-align: top;\n",
       "    }\n",
       "\n",
       "    .dataframe thead th {\n",
       "        text-align: right;\n",
       "    }\n",
       "</style>\n",
       "<table border=\"1\" class=\"dataframe\">\n",
       "  <thead>\n",
       "    <tr style=\"text-align: right;\">\n",
       "      <th></th>\n",
       "      <th>Pclass</th>\n",
       "      <th>Sex</th>\n",
       "      <th>Age</th>\n",
       "      <th>Fare</th>\n",
       "      <th>Embarked</th>\n",
       "      <th>Deck</th>\n",
       "      <th>Relatives</th>\n",
       "      <th>Title</th>\n",
       "    </tr>\n",
       "  </thead>\n",
       "  <tbody>\n",
       "    <tr>\n",
       "      <th>0</th>\n",
       "      <td>3</td>\n",
       "      <td>male</td>\n",
       "      <td>0.323652</td>\n",
       "      <td>-0.490783</td>\n",
       "      <td>Q</td>\n",
       "      <td>NaN</td>\n",
       "      <td>Singleton</td>\n",
       "      <td>Mr</td>\n",
       "    </tr>\n",
       "    <tr>\n",
       "      <th>1</th>\n",
       "      <td>3</td>\n",
       "      <td>female</td>\n",
       "      <td>1.284898</td>\n",
       "      <td>-0.507479</td>\n",
       "      <td>S</td>\n",
       "      <td>NaN</td>\n",
       "      <td>SmallFamily</td>\n",
       "      <td>Mrs</td>\n",
       "    </tr>\n",
       "    <tr>\n",
       "      <th>2</th>\n",
       "      <td>2</td>\n",
       "      <td>male</td>\n",
       "      <td>2.394028</td>\n",
       "      <td>-0.453367</td>\n",
       "      <td>Q</td>\n",
       "      <td>NaN</td>\n",
       "      <td>Singleton</td>\n",
       "      <td>Mr</td>\n",
       "    </tr>\n",
       "    <tr>\n",
       "      <th>3</th>\n",
       "      <td>3</td>\n",
       "      <td>male</td>\n",
       "      <td>-0.193942</td>\n",
       "      <td>-0.474005</td>\n",
       "      <td>S</td>\n",
       "      <td>NaN</td>\n",
       "      <td>Singleton</td>\n",
       "      <td>Mr</td>\n",
       "    </tr>\n",
       "    <tr>\n",
       "      <th>4</th>\n",
       "      <td>3</td>\n",
       "      <td>female</td>\n",
       "      <td>-0.563652</td>\n",
       "      <td>-0.401017</td>\n",
       "      <td>S</td>\n",
       "      <td>NaN</td>\n",
       "      <td>SmallFamily</td>\n",
       "      <td>Mrs</td>\n",
       "    </tr>\n",
       "    <tr>\n",
       "      <th>...</th>\n",
       "      <td>...</td>\n",
       "      <td>...</td>\n",
       "      <td>...</td>\n",
       "      <td>...</td>\n",
       "      <td>...</td>\n",
       "      <td>...</td>\n",
       "      <td>...</td>\n",
       "      <td>...</td>\n",
       "    </tr>\n",
       "    <tr>\n",
       "      <th>413</th>\n",
       "      <td>3</td>\n",
       "      <td>male</td>\n",
       "      <td>-1.007304</td>\n",
       "      <td>-0.486337</td>\n",
       "      <td>S</td>\n",
       "      <td>NaN</td>\n",
       "      <td>Singleton</td>\n",
       "      <td>Mr</td>\n",
       "    </tr>\n",
       "    <tr>\n",
       "      <th>414</th>\n",
       "      <td>1</td>\n",
       "      <td>female</td>\n",
       "      <td>0.693362</td>\n",
       "      <td>1.544246</td>\n",
       "      <td>C</td>\n",
       "      <td>C</td>\n",
       "      <td>Singleton</td>\n",
       "      <td>Dona</td>\n",
       "    </tr>\n",
       "    <tr>\n",
       "      <th>415</th>\n",
       "      <td>3</td>\n",
       "      <td>male</td>\n",
       "      <td>0.619420</td>\n",
       "      <td>-0.502445</td>\n",
       "      <td>S</td>\n",
       "      <td>NaN</td>\n",
       "      <td>Singleton</td>\n",
       "      <td>Mr</td>\n",
       "    </tr>\n",
       "    <tr>\n",
       "      <th>416</th>\n",
       "      <td>3</td>\n",
       "      <td>male</td>\n",
       "      <td>-0.489710</td>\n",
       "      <td>-0.486337</td>\n",
       "      <td>S</td>\n",
       "      <td>NaN</td>\n",
       "      <td>Singleton</td>\n",
       "      <td>Mr</td>\n",
       "    </tr>\n",
       "    <tr>\n",
       "      <th>417</th>\n",
       "      <td>3</td>\n",
       "      <td>male</td>\n",
       "      <td>0.027884</td>\n",
       "      <td>-0.198244</td>\n",
       "      <td>C</td>\n",
       "      <td>NaN</td>\n",
       "      <td>SmallFamily</td>\n",
       "      <td>Master</td>\n",
       "    </tr>\n",
       "  </tbody>\n",
       "</table>\n",
       "<p>418 rows × 8 columns</p>\n",
       "</div>"
      ],
      "text/plain": [
       "    Pclass     Sex       Age      Fare Embarked Deck    Relatives   Title\n",
       "0        3    male  0.323652 -0.490783        Q  NaN    Singleton      Mr\n",
       "1        3  female  1.284898 -0.507479        S  NaN  SmallFamily     Mrs\n",
       "2        2    male  2.394028 -0.453367        Q  NaN    Singleton      Mr\n",
       "3        3    male -0.193942 -0.474005        S  NaN    Singleton      Mr\n",
       "4        3  female -0.563652 -0.401017        S  NaN  SmallFamily     Mrs\n",
       "..     ...     ...       ...       ...      ...  ...          ...     ...\n",
       "413      3    male -1.007304 -0.486337        S  NaN    Singleton      Mr\n",
       "414      1  female  0.693362  1.544246        C    C    Singleton    Dona\n",
       "415      3    male  0.619420 -0.502445        S  NaN    Singleton      Mr\n",
       "416      3    male -0.489710 -0.486337        S  NaN    Singleton      Mr\n",
       "417      3    male  0.027884 -0.198244        C  NaN  SmallFamily  Master\n",
       "\n",
       "[418 rows x 8 columns]"
      ]
     },
     "execution_count": 58,
     "metadata": {},
     "output_type": "execute_result"
    }
   ],
   "source": [
    "def new_data_scale(df):\n",
    "    # Change Pclass type as it is a categorical variable\n",
    "    df['Pclass'] = df['Pclass'].astype(str)\n",
    "\n",
    "    # Load scale data\n",
    "    with open('scale_data.pkl', 'rb') as f:\n",
    "        scale_data = pickle.load(f)\n",
    "\n",
    "    #Transform numerical values\n",
    "    scaler, features_to_scale = scale_data['scaler'], scale_data['features_to_scale']\n",
    "    df[features_to_scale] = scaler.transform(df[features_to_scale])\n",
    "        \n",
    "    return df\n",
    "\n",
    "# Copy Dataframes before scaling\n",
    "test_scaled = test_df.copy()\n",
    "\n",
    "test_scaled = new_data_scale(test_scaled)\n",
    "test_scaled"
   ]
  },
  {
   "cell_type": "markdown",
   "id": "708af17d",
   "metadata": {},
   "source": [
    "### Transform new data categorical variables into dummies"
   ]
  },
  {
   "cell_type": "code",
   "execution_count": 59,
   "id": "cd0566ed",
   "metadata": {},
   "outputs": [
    {
     "data": {
      "text/html": [
       "<div>\n",
       "<style scoped>\n",
       "    .dataframe tbody tr th:only-of-type {\n",
       "        vertical-align: middle;\n",
       "    }\n",
       "\n",
       "    .dataframe tbody tr th {\n",
       "        vertical-align: top;\n",
       "    }\n",
       "\n",
       "    .dataframe thead th {\n",
       "        text-align: right;\n",
       "    }\n",
       "</style>\n",
       "<table border=\"1\" class=\"dataframe\">\n",
       "  <thead>\n",
       "    <tr style=\"text-align: right;\">\n",
       "      <th></th>\n",
       "      <th>Age</th>\n",
       "      <th>Fare</th>\n",
       "      <th>Pclass_2</th>\n",
       "      <th>Pclass_3</th>\n",
       "      <th>Sex_male</th>\n",
       "      <th>Embarked_Q</th>\n",
       "      <th>Embarked_S</th>\n",
       "      <th>Deck_B</th>\n",
       "      <th>Deck_C</th>\n",
       "      <th>Deck_D</th>\n",
       "      <th>...</th>\n",
       "      <th>Title_Master</th>\n",
       "      <th>Title_Miss</th>\n",
       "      <th>Title_Mlle</th>\n",
       "      <th>Title_Mme</th>\n",
       "      <th>Title_Mr</th>\n",
       "      <th>Title_Mrs</th>\n",
       "      <th>Title_Ms</th>\n",
       "      <th>Title_Rev</th>\n",
       "      <th>Title_Sir</th>\n",
       "      <th>Title_the Countess</th>\n",
       "    </tr>\n",
       "  </thead>\n",
       "  <tbody>\n",
       "    <tr>\n",
       "      <th>0</th>\n",
       "      <td>0.323652</td>\n",
       "      <td>-0.490783</td>\n",
       "      <td>0</td>\n",
       "      <td>1</td>\n",
       "      <td>1</td>\n",
       "      <td>1</td>\n",
       "      <td>0</td>\n",
       "      <td>0</td>\n",
       "      <td>0</td>\n",
       "      <td>0</td>\n",
       "      <td>...</td>\n",
       "      <td>0</td>\n",
       "      <td>0</td>\n",
       "      <td>0</td>\n",
       "      <td>0</td>\n",
       "      <td>1</td>\n",
       "      <td>0</td>\n",
       "      <td>0</td>\n",
       "      <td>0</td>\n",
       "      <td>0</td>\n",
       "      <td>0</td>\n",
       "    </tr>\n",
       "    <tr>\n",
       "      <th>1</th>\n",
       "      <td>1.284898</td>\n",
       "      <td>-0.507479</td>\n",
       "      <td>0</td>\n",
       "      <td>1</td>\n",
       "      <td>0</td>\n",
       "      <td>0</td>\n",
       "      <td>1</td>\n",
       "      <td>0</td>\n",
       "      <td>0</td>\n",
       "      <td>0</td>\n",
       "      <td>...</td>\n",
       "      <td>0</td>\n",
       "      <td>0</td>\n",
       "      <td>0</td>\n",
       "      <td>0</td>\n",
       "      <td>0</td>\n",
       "      <td>1</td>\n",
       "      <td>0</td>\n",
       "      <td>0</td>\n",
       "      <td>0</td>\n",
       "      <td>0</td>\n",
       "    </tr>\n",
       "    <tr>\n",
       "      <th>2</th>\n",
       "      <td>2.394028</td>\n",
       "      <td>-0.453367</td>\n",
       "      <td>1</td>\n",
       "      <td>0</td>\n",
       "      <td>1</td>\n",
       "      <td>1</td>\n",
       "      <td>0</td>\n",
       "      <td>0</td>\n",
       "      <td>0</td>\n",
       "      <td>0</td>\n",
       "      <td>...</td>\n",
       "      <td>0</td>\n",
       "      <td>0</td>\n",
       "      <td>0</td>\n",
       "      <td>0</td>\n",
       "      <td>1</td>\n",
       "      <td>0</td>\n",
       "      <td>0</td>\n",
       "      <td>0</td>\n",
       "      <td>0</td>\n",
       "      <td>0</td>\n",
       "    </tr>\n",
       "    <tr>\n",
       "      <th>3</th>\n",
       "      <td>-0.193942</td>\n",
       "      <td>-0.474005</td>\n",
       "      <td>0</td>\n",
       "      <td>1</td>\n",
       "      <td>1</td>\n",
       "      <td>0</td>\n",
       "      <td>1</td>\n",
       "      <td>0</td>\n",
       "      <td>0</td>\n",
       "      <td>0</td>\n",
       "      <td>...</td>\n",
       "      <td>0</td>\n",
       "      <td>0</td>\n",
       "      <td>0</td>\n",
       "      <td>0</td>\n",
       "      <td>1</td>\n",
       "      <td>0</td>\n",
       "      <td>0</td>\n",
       "      <td>0</td>\n",
       "      <td>0</td>\n",
       "      <td>0</td>\n",
       "    </tr>\n",
       "    <tr>\n",
       "      <th>4</th>\n",
       "      <td>-0.563652</td>\n",
       "      <td>-0.401017</td>\n",
       "      <td>0</td>\n",
       "      <td>1</td>\n",
       "      <td>0</td>\n",
       "      <td>0</td>\n",
       "      <td>1</td>\n",
       "      <td>0</td>\n",
       "      <td>0</td>\n",
       "      <td>0</td>\n",
       "      <td>...</td>\n",
       "      <td>0</td>\n",
       "      <td>0</td>\n",
       "      <td>0</td>\n",
       "      <td>0</td>\n",
       "      <td>0</td>\n",
       "      <td>1</td>\n",
       "      <td>0</td>\n",
       "      <td>0</td>\n",
       "      <td>0</td>\n",
       "      <td>0</td>\n",
       "    </tr>\n",
       "    <tr>\n",
       "      <th>...</th>\n",
       "      <td>...</td>\n",
       "      <td>...</td>\n",
       "      <td>...</td>\n",
       "      <td>...</td>\n",
       "      <td>...</td>\n",
       "      <td>...</td>\n",
       "      <td>...</td>\n",
       "      <td>...</td>\n",
       "      <td>...</td>\n",
       "      <td>...</td>\n",
       "      <td>...</td>\n",
       "      <td>...</td>\n",
       "      <td>...</td>\n",
       "      <td>...</td>\n",
       "      <td>...</td>\n",
       "      <td>...</td>\n",
       "      <td>...</td>\n",
       "      <td>...</td>\n",
       "      <td>...</td>\n",
       "      <td>...</td>\n",
       "      <td>...</td>\n",
       "    </tr>\n",
       "    <tr>\n",
       "      <th>413</th>\n",
       "      <td>-1.007304</td>\n",
       "      <td>-0.486337</td>\n",
       "      <td>0</td>\n",
       "      <td>1</td>\n",
       "      <td>1</td>\n",
       "      <td>0</td>\n",
       "      <td>1</td>\n",
       "      <td>0</td>\n",
       "      <td>0</td>\n",
       "      <td>0</td>\n",
       "      <td>...</td>\n",
       "      <td>0</td>\n",
       "      <td>0</td>\n",
       "      <td>0</td>\n",
       "      <td>0</td>\n",
       "      <td>1</td>\n",
       "      <td>0</td>\n",
       "      <td>0</td>\n",
       "      <td>0</td>\n",
       "      <td>0</td>\n",
       "      <td>0</td>\n",
       "    </tr>\n",
       "    <tr>\n",
       "      <th>414</th>\n",
       "      <td>0.693362</td>\n",
       "      <td>1.544246</td>\n",
       "      <td>0</td>\n",
       "      <td>0</td>\n",
       "      <td>0</td>\n",
       "      <td>0</td>\n",
       "      <td>0</td>\n",
       "      <td>0</td>\n",
       "      <td>1</td>\n",
       "      <td>0</td>\n",
       "      <td>...</td>\n",
       "      <td>0</td>\n",
       "      <td>0</td>\n",
       "      <td>0</td>\n",
       "      <td>0</td>\n",
       "      <td>0</td>\n",
       "      <td>0</td>\n",
       "      <td>0</td>\n",
       "      <td>0</td>\n",
       "      <td>0</td>\n",
       "      <td>0</td>\n",
       "    </tr>\n",
       "    <tr>\n",
       "      <th>415</th>\n",
       "      <td>0.619420</td>\n",
       "      <td>-0.502445</td>\n",
       "      <td>0</td>\n",
       "      <td>1</td>\n",
       "      <td>1</td>\n",
       "      <td>0</td>\n",
       "      <td>1</td>\n",
       "      <td>0</td>\n",
       "      <td>0</td>\n",
       "      <td>0</td>\n",
       "      <td>...</td>\n",
       "      <td>0</td>\n",
       "      <td>0</td>\n",
       "      <td>0</td>\n",
       "      <td>0</td>\n",
       "      <td>1</td>\n",
       "      <td>0</td>\n",
       "      <td>0</td>\n",
       "      <td>0</td>\n",
       "      <td>0</td>\n",
       "      <td>0</td>\n",
       "    </tr>\n",
       "    <tr>\n",
       "      <th>416</th>\n",
       "      <td>-0.489710</td>\n",
       "      <td>-0.486337</td>\n",
       "      <td>0</td>\n",
       "      <td>1</td>\n",
       "      <td>1</td>\n",
       "      <td>0</td>\n",
       "      <td>1</td>\n",
       "      <td>0</td>\n",
       "      <td>0</td>\n",
       "      <td>0</td>\n",
       "      <td>...</td>\n",
       "      <td>0</td>\n",
       "      <td>0</td>\n",
       "      <td>0</td>\n",
       "      <td>0</td>\n",
       "      <td>1</td>\n",
       "      <td>0</td>\n",
       "      <td>0</td>\n",
       "      <td>0</td>\n",
       "      <td>0</td>\n",
       "      <td>0</td>\n",
       "    </tr>\n",
       "    <tr>\n",
       "      <th>417</th>\n",
       "      <td>0.027884</td>\n",
       "      <td>-0.198244</td>\n",
       "      <td>0</td>\n",
       "      <td>1</td>\n",
       "      <td>1</td>\n",
       "      <td>0</td>\n",
       "      <td>0</td>\n",
       "      <td>0</td>\n",
       "      <td>0</td>\n",
       "      <td>0</td>\n",
       "      <td>...</td>\n",
       "      <td>1</td>\n",
       "      <td>0</td>\n",
       "      <td>0</td>\n",
       "      <td>0</td>\n",
       "      <td>0</td>\n",
       "      <td>0</td>\n",
       "      <td>0</td>\n",
       "      <td>0</td>\n",
       "      <td>0</td>\n",
       "      <td>0</td>\n",
       "    </tr>\n",
       "  </tbody>\n",
       "</table>\n",
       "<p>418 rows × 33 columns</p>\n",
       "</div>"
      ],
      "text/plain": [
       "          Age      Fare  Pclass_2  Pclass_3  Sex_male  Embarked_Q  Embarked_S  \\\n",
       "0    0.323652 -0.490783         0         1         1           1           0   \n",
       "1    1.284898 -0.507479         0         1         0           0           1   \n",
       "2    2.394028 -0.453367         1         0         1           1           0   \n",
       "3   -0.193942 -0.474005         0         1         1           0           1   \n",
       "4   -0.563652 -0.401017         0         1         0           0           1   \n",
       "..        ...       ...       ...       ...       ...         ...         ...   \n",
       "413 -1.007304 -0.486337         0         1         1           0           1   \n",
       "414  0.693362  1.544246         0         0         0           0           0   \n",
       "415  0.619420 -0.502445         0         1         1           0           1   \n",
       "416 -0.489710 -0.486337         0         1         1           0           1   \n",
       "417  0.027884 -0.198244         0         1         1           0           0   \n",
       "\n",
       "     Deck_B  Deck_C  Deck_D  ...  Title_Master  Title_Miss  Title_Mlle  \\\n",
       "0         0       0       0  ...             0           0           0   \n",
       "1         0       0       0  ...             0           0           0   \n",
       "2         0       0       0  ...             0           0           0   \n",
       "3         0       0       0  ...             0           0           0   \n",
       "4         0       0       0  ...             0           0           0   \n",
       "..      ...     ...     ...  ...           ...         ...         ...   \n",
       "413       0       0       0  ...             0           0           0   \n",
       "414       0       1       0  ...             0           0           0   \n",
       "415       0       0       0  ...             0           0           0   \n",
       "416       0       0       0  ...             0           0           0   \n",
       "417       0       0       0  ...             1           0           0   \n",
       "\n",
       "     Title_Mme  Title_Mr  Title_Mrs  Title_Ms  Title_Rev  Title_Sir  \\\n",
       "0            0         1          0         0          0          0   \n",
       "1            0         0          1         0          0          0   \n",
       "2            0         1          0         0          0          0   \n",
       "3            0         1          0         0          0          0   \n",
       "4            0         0          1         0          0          0   \n",
       "..         ...       ...        ...       ...        ...        ...   \n",
       "413          0         1          0         0          0          0   \n",
       "414          0         0          0         0          0          0   \n",
       "415          0         1          0         0          0          0   \n",
       "416          0         1          0         0          0          0   \n",
       "417          0         0          0         0          0          0   \n",
       "\n",
       "     Title_the Countess  \n",
       "0                     0  \n",
       "1                     0  \n",
       "2                     0  \n",
       "3                     0  \n",
       "4                     0  \n",
       "..                  ...  \n",
       "413                   0  \n",
       "414                   0  \n",
       "415                   0  \n",
       "416                   0  \n",
       "417                   0  \n",
       "\n",
       "[418 rows x 33 columns]"
      ]
     },
     "execution_count": 59,
     "metadata": {},
     "output_type": "execute_result"
    }
   ],
   "source": [
    "def new_data_one_hot(df):\n",
    "    # Load encode data\n",
    "    with open('encode_data.pkl', 'rb') as f:\n",
    "        encode_data = pickle.load(f)\n",
    "    \n",
    "    # Transform features listed in features_to_encode into dummies\n",
    "    encoder, features_to_encode = encode_data['encoder'], encode_data['features_to_encode']\n",
    "    encoded_df = encoder.transform(df[features_to_encode])\n",
    "\n",
    "    # Get DataFrame from dummies matrix\n",
    "    encoded_features = encoder.get_feature_names_out(features_to_encode)    \n",
    "    encoded_df = pd.DataFrame(encoded_df.todense(), columns=encoded_features)\n",
    "    \n",
    "    # Concatenate scaled DataFrame and encoded DataFrame, drop already encoded features\n",
    "    df = pd.concat([df, encoded_df], axis=1)\n",
    "    df = df.drop(features_to_encode, axis=1)    \n",
    "    return df\n",
    "\n",
    "# Copy Dataframes before scaling\n",
    "test_encoded = test_scaled.copy()\n",
    "\n",
    "test_encoded = new_data_one_hot(test_encoded)\n",
    "test_encoded"
   ]
  },
  {
   "cell_type": "markdown",
   "id": "36f32dd8",
   "metadata": {},
   "source": [
    "### Check there is no mismatch in features in train and new data sets"
   ]
  },
  {
   "cell_type": "code",
   "execution_count": 60,
   "id": "3722e258",
   "metadata": {},
   "outputs": [
    {
     "name": "stdout",
     "output_type": "stream",
     "text": [
      "True\n"
     ]
    }
   ],
   "source": [
    "comparison = train_encoded.columns.values[1:] == test_encoded.columns.values\n",
    "equal_features = comparison.all()\n",
    "  \n",
    "print(equal_features)"
   ]
  },
  {
   "cell_type": "markdown",
   "id": "cdc8a228",
   "metadata": {},
   "source": [
    "## Run best perforemed model on new data and save prediction as submission.csv "
   ]
  },
  {
   "cell_type": "code",
   "execution_count": null,
   "id": "ddfb5d1b",
   "metadata": {},
   "outputs": [],
   "source": []
  }
 ],
 "metadata": {
  "kernelspec": {
   "display_name": "python3.8_TF2.7",
   "language": "python",
   "name": "python3.8_tf2.7"
  },
  "language_info": {
   "codemirror_mode": {
    "name": "ipython",
    "version": 3
   },
   "file_extension": ".py",
   "mimetype": "text/x-python",
   "name": "python",
   "nbconvert_exporter": "python",
   "pygments_lexer": "ipython3",
   "version": "3.8.12"
  }
 },
 "nbformat": 4,
 "nbformat_minor": 5
}
