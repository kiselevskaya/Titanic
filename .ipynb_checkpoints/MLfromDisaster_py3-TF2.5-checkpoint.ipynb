{
 "cells": [
  {
   "cell_type": "markdown",
   "id": "e7f51664",
   "metadata": {},
   "source": [
    "# Titanic - Machine Learning from Disaster"
   ]
  },
  {
   "cell_type": "markdown",
   "id": "50563cff",
   "metadata": {},
   "source": [
    "##### Python 3.8 Tenserflow 2.7 enviroment"
   ]
  },
  {
   "cell_type": "markdown",
   "id": "dacad270",
   "metadata": {},
   "source": [
    "## Import libraries"
   ]
  },
  {
   "cell_type": "code",
   "execution_count": 1,
   "id": "ae7bc203",
   "metadata": {},
   "outputs": [],
   "source": [
    "import numpy as np \n",
    "import pandas as pd \n",
    "import matplotlib.pyplot as plt \n",
    "import seaborn as sns\n",
    "sns.set()"
   ]
  },
  {
   "cell_type": "markdown",
   "id": "955a98a4",
   "metadata": {},
   "source": [
    "## Load data"
   ]
  },
  {
   "cell_type": "code",
   "execution_count": 2,
   "id": "44e697bd",
   "metadata": {},
   "outputs": [
    {
     "data": {
      "text/html": [
       "<div>\n",
       "<style scoped>\n",
       "    .dataframe tbody tr th:only-of-type {\n",
       "        vertical-align: middle;\n",
       "    }\n",
       "\n",
       "    .dataframe tbody tr th {\n",
       "        vertical-align: top;\n",
       "    }\n",
       "\n",
       "    .dataframe thead th {\n",
       "        text-align: right;\n",
       "    }\n",
       "</style>\n",
       "<table border=\"1\" class=\"dataframe\">\n",
       "  <thead>\n",
       "    <tr style=\"text-align: right;\">\n",
       "      <th></th>\n",
       "      <th>PassengerId</th>\n",
       "      <th>Survived</th>\n",
       "      <th>Pclass</th>\n",
       "      <th>Name</th>\n",
       "      <th>Sex</th>\n",
       "      <th>Age</th>\n",
       "      <th>SibSp</th>\n",
       "      <th>Parch</th>\n",
       "      <th>Ticket</th>\n",
       "      <th>Fare</th>\n",
       "      <th>Cabin</th>\n",
       "      <th>Embarked</th>\n",
       "    </tr>\n",
       "  </thead>\n",
       "  <tbody>\n",
       "    <tr>\n",
       "      <th>0</th>\n",
       "      <td>1</td>\n",
       "      <td>0</td>\n",
       "      <td>3</td>\n",
       "      <td>Braund, Mr. Owen Harris</td>\n",
       "      <td>male</td>\n",
       "      <td>22.0</td>\n",
       "      <td>1</td>\n",
       "      <td>0</td>\n",
       "      <td>A/5 21171</td>\n",
       "      <td>7.2500</td>\n",
       "      <td>NaN</td>\n",
       "      <td>S</td>\n",
       "    </tr>\n",
       "    <tr>\n",
       "      <th>1</th>\n",
       "      <td>2</td>\n",
       "      <td>1</td>\n",
       "      <td>1</td>\n",
       "      <td>Cumings, Mrs. John Bradley (Florence Briggs Th...</td>\n",
       "      <td>female</td>\n",
       "      <td>38.0</td>\n",
       "      <td>1</td>\n",
       "      <td>0</td>\n",
       "      <td>PC 17599</td>\n",
       "      <td>71.2833</td>\n",
       "      <td>C85</td>\n",
       "      <td>C</td>\n",
       "    </tr>\n",
       "    <tr>\n",
       "      <th>2</th>\n",
       "      <td>3</td>\n",
       "      <td>1</td>\n",
       "      <td>3</td>\n",
       "      <td>Heikkinen, Miss. Laina</td>\n",
       "      <td>female</td>\n",
       "      <td>26.0</td>\n",
       "      <td>0</td>\n",
       "      <td>0</td>\n",
       "      <td>STON/O2. 3101282</td>\n",
       "      <td>7.9250</td>\n",
       "      <td>NaN</td>\n",
       "      <td>S</td>\n",
       "    </tr>\n",
       "    <tr>\n",
       "      <th>3</th>\n",
       "      <td>4</td>\n",
       "      <td>1</td>\n",
       "      <td>1</td>\n",
       "      <td>Futrelle, Mrs. Jacques Heath (Lily May Peel)</td>\n",
       "      <td>female</td>\n",
       "      <td>35.0</td>\n",
       "      <td>1</td>\n",
       "      <td>0</td>\n",
       "      <td>113803</td>\n",
       "      <td>53.1000</td>\n",
       "      <td>C123</td>\n",
       "      <td>S</td>\n",
       "    </tr>\n",
       "    <tr>\n",
       "      <th>4</th>\n",
       "      <td>5</td>\n",
       "      <td>0</td>\n",
       "      <td>3</td>\n",
       "      <td>Allen, Mr. William Henry</td>\n",
       "      <td>male</td>\n",
       "      <td>35.0</td>\n",
       "      <td>0</td>\n",
       "      <td>0</td>\n",
       "      <td>373450</td>\n",
       "      <td>8.0500</td>\n",
       "      <td>NaN</td>\n",
       "      <td>S</td>\n",
       "    </tr>\n",
       "    <tr>\n",
       "      <th>...</th>\n",
       "      <td>...</td>\n",
       "      <td>...</td>\n",
       "      <td>...</td>\n",
       "      <td>...</td>\n",
       "      <td>...</td>\n",
       "      <td>...</td>\n",
       "      <td>...</td>\n",
       "      <td>...</td>\n",
       "      <td>...</td>\n",
       "      <td>...</td>\n",
       "      <td>...</td>\n",
       "      <td>...</td>\n",
       "    </tr>\n",
       "    <tr>\n",
       "      <th>886</th>\n",
       "      <td>887</td>\n",
       "      <td>0</td>\n",
       "      <td>2</td>\n",
       "      <td>Montvila, Rev. Juozas</td>\n",
       "      <td>male</td>\n",
       "      <td>27.0</td>\n",
       "      <td>0</td>\n",
       "      <td>0</td>\n",
       "      <td>211536</td>\n",
       "      <td>13.0000</td>\n",
       "      <td>NaN</td>\n",
       "      <td>S</td>\n",
       "    </tr>\n",
       "    <tr>\n",
       "      <th>887</th>\n",
       "      <td>888</td>\n",
       "      <td>1</td>\n",
       "      <td>1</td>\n",
       "      <td>Graham, Miss. Margaret Edith</td>\n",
       "      <td>female</td>\n",
       "      <td>19.0</td>\n",
       "      <td>0</td>\n",
       "      <td>0</td>\n",
       "      <td>112053</td>\n",
       "      <td>30.0000</td>\n",
       "      <td>B42</td>\n",
       "      <td>S</td>\n",
       "    </tr>\n",
       "    <tr>\n",
       "      <th>888</th>\n",
       "      <td>889</td>\n",
       "      <td>0</td>\n",
       "      <td>3</td>\n",
       "      <td>Johnston, Miss. Catherine Helen \"Carrie\"</td>\n",
       "      <td>female</td>\n",
       "      <td>NaN</td>\n",
       "      <td>1</td>\n",
       "      <td>2</td>\n",
       "      <td>W./C. 6607</td>\n",
       "      <td>23.4500</td>\n",
       "      <td>NaN</td>\n",
       "      <td>S</td>\n",
       "    </tr>\n",
       "    <tr>\n",
       "      <th>889</th>\n",
       "      <td>890</td>\n",
       "      <td>1</td>\n",
       "      <td>1</td>\n",
       "      <td>Behr, Mr. Karl Howell</td>\n",
       "      <td>male</td>\n",
       "      <td>26.0</td>\n",
       "      <td>0</td>\n",
       "      <td>0</td>\n",
       "      <td>111369</td>\n",
       "      <td>30.0000</td>\n",
       "      <td>C148</td>\n",
       "      <td>C</td>\n",
       "    </tr>\n",
       "    <tr>\n",
       "      <th>890</th>\n",
       "      <td>891</td>\n",
       "      <td>0</td>\n",
       "      <td>3</td>\n",
       "      <td>Dooley, Mr. Patrick</td>\n",
       "      <td>male</td>\n",
       "      <td>32.0</td>\n",
       "      <td>0</td>\n",
       "      <td>0</td>\n",
       "      <td>370376</td>\n",
       "      <td>7.7500</td>\n",
       "      <td>NaN</td>\n",
       "      <td>Q</td>\n",
       "    </tr>\n",
       "  </tbody>\n",
       "</table>\n",
       "<p>891 rows × 12 columns</p>\n",
       "</div>"
      ],
      "text/plain": [
       "     PassengerId  Survived  Pclass  \\\n",
       "0              1         0       3   \n",
       "1              2         1       1   \n",
       "2              3         1       3   \n",
       "3              4         1       1   \n",
       "4              5         0       3   \n",
       "..           ...       ...     ...   \n",
       "886          887         0       2   \n",
       "887          888         1       1   \n",
       "888          889         0       3   \n",
       "889          890         1       1   \n",
       "890          891         0       3   \n",
       "\n",
       "                                                  Name     Sex   Age  SibSp  \\\n",
       "0                              Braund, Mr. Owen Harris    male  22.0      1   \n",
       "1    Cumings, Mrs. John Bradley (Florence Briggs Th...  female  38.0      1   \n",
       "2                               Heikkinen, Miss. Laina  female  26.0      0   \n",
       "3         Futrelle, Mrs. Jacques Heath (Lily May Peel)  female  35.0      1   \n",
       "4                             Allen, Mr. William Henry    male  35.0      0   \n",
       "..                                                 ...     ...   ...    ...   \n",
       "886                              Montvila, Rev. Juozas    male  27.0      0   \n",
       "887                       Graham, Miss. Margaret Edith  female  19.0      0   \n",
       "888           Johnston, Miss. Catherine Helen \"Carrie\"  female   NaN      1   \n",
       "889                              Behr, Mr. Karl Howell    male  26.0      0   \n",
       "890                                Dooley, Mr. Patrick    male  32.0      0   \n",
       "\n",
       "     Parch            Ticket     Fare Cabin Embarked  \n",
       "0        0         A/5 21171   7.2500   NaN        S  \n",
       "1        0          PC 17599  71.2833   C85        C  \n",
       "2        0  STON/O2. 3101282   7.9250   NaN        S  \n",
       "3        0            113803  53.1000  C123        S  \n",
       "4        0            373450   8.0500   NaN        S  \n",
       "..     ...               ...      ...   ...      ...  \n",
       "886      0            211536  13.0000   NaN        S  \n",
       "887      0            112053  30.0000   B42        S  \n",
       "888      2        W./C. 6607  23.4500   NaN        S  \n",
       "889      0            111369  30.0000  C148        C  \n",
       "890      0            370376   7.7500   NaN        Q  \n",
       "\n",
       "[891 rows x 12 columns]"
      ]
     },
     "execution_count": 2,
     "metadata": {},
     "output_type": "execute_result"
    }
   ],
   "source": [
    "train_data = pd.read_csv('train.csv')\n",
    "train_data"
   ]
  },
  {
   "cell_type": "markdown",
   "id": "80451cbe",
   "metadata": {},
   "source": [
    "## Copy Dataframe"
   ]
  },
  {
   "cell_type": "code",
   "execution_count": 3,
   "id": "6d412a9e",
   "metadata": {},
   "outputs": [],
   "source": [
    "train_df = train_data.copy()"
   ]
  },
  {
   "cell_type": "markdown",
   "id": "782495f0",
   "metadata": {},
   "source": [
    "## Explore data"
   ]
  },
  {
   "cell_type": "code",
   "execution_count": 4,
   "id": "1da6cfd4",
   "metadata": {},
   "outputs": [
    {
     "data": {
      "text/html": [
       "<div>\n",
       "<style scoped>\n",
       "    .dataframe tbody tr th:only-of-type {\n",
       "        vertical-align: middle;\n",
       "    }\n",
       "\n",
       "    .dataframe tbody tr th {\n",
       "        vertical-align: top;\n",
       "    }\n",
       "\n",
       "    .dataframe thead th {\n",
       "        text-align: right;\n",
       "    }\n",
       "</style>\n",
       "<table border=\"1\" class=\"dataframe\">\n",
       "  <thead>\n",
       "    <tr style=\"text-align: right;\">\n",
       "      <th></th>\n",
       "      <th>PassengerId</th>\n",
       "      <th>Survived</th>\n",
       "      <th>Pclass</th>\n",
       "      <th>Age</th>\n",
       "      <th>SibSp</th>\n",
       "      <th>Parch</th>\n",
       "      <th>Fare</th>\n",
       "    </tr>\n",
       "  </thead>\n",
       "  <tbody>\n",
       "    <tr>\n",
       "      <th>count</th>\n",
       "      <td>891.000000</td>\n",
       "      <td>891.000000</td>\n",
       "      <td>891.000000</td>\n",
       "      <td>714.000000</td>\n",
       "      <td>891.000000</td>\n",
       "      <td>891.000000</td>\n",
       "      <td>891.000000</td>\n",
       "    </tr>\n",
       "    <tr>\n",
       "      <th>mean</th>\n",
       "      <td>446.000000</td>\n",
       "      <td>0.383838</td>\n",
       "      <td>2.308642</td>\n",
       "      <td>29.699118</td>\n",
       "      <td>0.523008</td>\n",
       "      <td>0.381594</td>\n",
       "      <td>32.204208</td>\n",
       "    </tr>\n",
       "    <tr>\n",
       "      <th>std</th>\n",
       "      <td>257.353842</td>\n",
       "      <td>0.486592</td>\n",
       "      <td>0.836071</td>\n",
       "      <td>14.526497</td>\n",
       "      <td>1.102743</td>\n",
       "      <td>0.806057</td>\n",
       "      <td>49.693429</td>\n",
       "    </tr>\n",
       "    <tr>\n",
       "      <th>min</th>\n",
       "      <td>1.000000</td>\n",
       "      <td>0.000000</td>\n",
       "      <td>1.000000</td>\n",
       "      <td>0.420000</td>\n",
       "      <td>0.000000</td>\n",
       "      <td>0.000000</td>\n",
       "      <td>0.000000</td>\n",
       "    </tr>\n",
       "    <tr>\n",
       "      <th>25%</th>\n",
       "      <td>223.500000</td>\n",
       "      <td>0.000000</td>\n",
       "      <td>2.000000</td>\n",
       "      <td>20.125000</td>\n",
       "      <td>0.000000</td>\n",
       "      <td>0.000000</td>\n",
       "      <td>7.910400</td>\n",
       "    </tr>\n",
       "    <tr>\n",
       "      <th>50%</th>\n",
       "      <td>446.000000</td>\n",
       "      <td>0.000000</td>\n",
       "      <td>3.000000</td>\n",
       "      <td>28.000000</td>\n",
       "      <td>0.000000</td>\n",
       "      <td>0.000000</td>\n",
       "      <td>14.454200</td>\n",
       "    </tr>\n",
       "    <tr>\n",
       "      <th>75%</th>\n",
       "      <td>668.500000</td>\n",
       "      <td>1.000000</td>\n",
       "      <td>3.000000</td>\n",
       "      <td>38.000000</td>\n",
       "      <td>1.000000</td>\n",
       "      <td>0.000000</td>\n",
       "      <td>31.000000</td>\n",
       "    </tr>\n",
       "    <tr>\n",
       "      <th>max</th>\n",
       "      <td>891.000000</td>\n",
       "      <td>1.000000</td>\n",
       "      <td>3.000000</td>\n",
       "      <td>80.000000</td>\n",
       "      <td>8.000000</td>\n",
       "      <td>6.000000</td>\n",
       "      <td>512.329200</td>\n",
       "    </tr>\n",
       "  </tbody>\n",
       "</table>\n",
       "</div>"
      ],
      "text/plain": [
       "       PassengerId    Survived      Pclass         Age       SibSp  \\\n",
       "count   891.000000  891.000000  891.000000  714.000000  891.000000   \n",
       "mean    446.000000    0.383838    2.308642   29.699118    0.523008   \n",
       "std     257.353842    0.486592    0.836071   14.526497    1.102743   \n",
       "min       1.000000    0.000000    1.000000    0.420000    0.000000   \n",
       "25%     223.500000    0.000000    2.000000   20.125000    0.000000   \n",
       "50%     446.000000    0.000000    3.000000   28.000000    0.000000   \n",
       "75%     668.500000    1.000000    3.000000   38.000000    1.000000   \n",
       "max     891.000000    1.000000    3.000000   80.000000    8.000000   \n",
       "\n",
       "            Parch        Fare  \n",
       "count  891.000000  891.000000  \n",
       "mean     0.381594   32.204208  \n",
       "std      0.806057   49.693429  \n",
       "min      0.000000    0.000000  \n",
       "25%      0.000000    7.910400  \n",
       "50%      0.000000   14.454200  \n",
       "75%      0.000000   31.000000  \n",
       "max      6.000000  512.329200  "
      ]
     },
     "execution_count": 4,
     "metadata": {},
     "output_type": "execute_result"
    }
   ],
   "source": [
    "train_df.describe()"
   ]
  },
  {
   "cell_type": "code",
   "execution_count": 5,
   "id": "a2f7126f",
   "metadata": {},
   "outputs": [
    {
     "data": {
      "text/plain": [
       "PassengerId      0\n",
       "Survived         0\n",
       "Pclass           0\n",
       "Name             0\n",
       "Sex              0\n",
       "Age            177\n",
       "SibSp            0\n",
       "Parch            0\n",
       "Ticket           0\n",
       "Fare             0\n",
       "Cabin          687\n",
       "Embarked         2\n",
       "dtype: int64"
      ]
     },
     "execution_count": 5,
     "metadata": {},
     "output_type": "execute_result"
    }
   ],
   "source": [
    "# Count missing values for train data\n",
    "train_df.isna().sum()"
   ]
  },
  {
   "cell_type": "code",
   "execution_count": 6,
   "id": "33a518d0",
   "metadata": {},
   "outputs": [
    {
     "data": {
      "image/png": "[encoded data removed]",
      "text/plain": [
       "<Figure size 432x288 with 2 Axes>"
      ]
     },
     "metadata": {},
     "output_type": "display_data"
    }
   ],
   "source": [
    "# Plot a heat map to see the correlation between the parameters and the target variable (Survived)\n",
    "# The higher the (absolut?) value the higher the correlation\n",
    "heatmap = sns.heatmap(train_df[['Survived', 'SibSp', 'Parch', 'Age', 'Fare', 'Pclass']].corr(), annot = True)\n",
    "sns.set(rc={'figure.figsize':(7,5)})"
   ]
  },
  {
   "cell_type": "code",
   "execution_count": 7,
   "id": "13ef3631",
   "metadata": {},
   "outputs": [
    {
     "data": {
      "text/plain": [
       "<matplotlib.legend.Legend at 0x25d65754790>"
      ]
     },
     "execution_count": 7,
     "metadata": {},
     "output_type": "execute_result"
    },
    {
     "data": {
      "image/png": "[encoded data removed]",
      "text/plain": [
       "<Figure size 1800x504 with 1 Axes>"
      ]
     },
     "metadata": {},
     "output_type": "display_data"
    }
   ],
   "source": [
    "# Correlation between Fare and Surviving\n",
    "plt.figure(figsize=(25, 7))\n",
    "plt.hist([train_df[train_df['Survived']==1]['Fare'], train_df[train_df['Survived']==0]['Fare']], \n",
    "         stacked=True, color=['dodgerblue','navy'],\n",
    "         bins=30, label=['Survived', 'Died']\n",
    "        )\n",
    "plt.xlabel('Fare')\n",
    "plt.ylabel('Number of passenger')\n",
    "plt.legend()"
   ]
  },
  {
   "cell_type": "code",
   "execution_count": 8,
   "id": "37ecdbc6",
   "metadata": {},
   "outputs": [
    {
     "data": {
      "text/plain": [
       "<matplotlib.legend.Legend at 0x25d67e49940>"
      ]
     },
     "execution_count": 8,
     "metadata": {},
     "output_type": "execute_result"
    },
    {
     "data": {
      "image/png": "[encoded data removed]",
      "text/plain": [
       "<Figure size 1800x504 with 1 Axes>"
      ]
     },
     "metadata": {},
     "output_type": "display_data"
    }
   ],
   "source": [
    "# Correlation between family size and Surviving\n",
    "plt.figure(figsize=(25, 7))\n",
    "plt.hist([train_df[train_df['Survived']==1]['Parch']+train_df[train_df['Survived']==1]['SibSp'],\n",
    "          train_df[train_df['Survived']==0]['Parch']+train_df[train_df['Survived']==0]['SibSp']], \n",
    "          stacked=True, color=['steelblue','navy'],\n",
    "          bins=30, label=['Survived', 'Died']\n",
    "         )\n",
    "plt.xlabel('Family')\n",
    "plt.ylabel('Number of passenger')\n",
    "plt.legend()"
   ]
  },
  {
   "cell_type": "markdown",
   "id": "c3508c30",
   "metadata": {},
   "source": [
    "###### Seems pasangers with 1 to 3 family members have more chances to survive "
   ]
  },
  {
   "cell_type": "code",
   "execution_count": 9,
   "id": "baf6c78b",
   "metadata": {},
   "outputs": [
    {
     "data": {
      "text/plain": [
       "<matplotlib.legend.Legend at 0x25d248120d0>"
      ]
     },
     "execution_count": 9,
     "metadata": {},
     "output_type": "execute_result"
    },
    {
     "data": {
      "image/png": "[encoded data removed]",
      "text/plain": [
       "<Figure size 1800x504 with 1 Axes>"
      ]
     },
     "metadata": {},
     "output_type": "display_data"
    }
   ],
   "source": [
    "# Correlation between Age and Surviving\n",
    "plt.figure(figsize=(25, 7))\n",
    "plt.hist([train_df[train_df['Survived']==1]['Age'], train_df[train_df['Survived']==0]['Age']], \n",
    "         stacked=True, color=['darkturquoise','navy'],\n",
    "         bins=30, label=['Survived', 'Died']\n",
    "        )\n",
    "plt.xlabel('Age')\n",
    "plt.ylabel('Number of passenger')\n",
    "plt.legend()"
   ]
  },
  {
   "cell_type": "markdown",
   "id": "7990e3b2",
   "metadata": {},
   "source": [
    "###### Seems there is higher rate of surviving only among children around less than 8"
   ]
  },
  {
   "cell_type": "code",
   "execution_count": 10,
   "id": "48568958",
   "metadata": {},
   "outputs": [
    {
     "data": {
      "text/plain": [
       "<matplotlib.legend.Legend at 0x25d67b5e8e0>"
      ]
     },
     "execution_count": 10,
     "metadata": {},
     "output_type": "execute_result"
    },
    {
     "data": {
      "image/png": "[encoded data removed]",
      "text/plain": [
       "<Figure size 1080x360 with 1 Axes>"
      ]
     },
     "metadata": {},
     "output_type": "display_data"
    }
   ],
   "source": [
    "# Correlation between Class and Surviving\n",
    "plt.figure(figsize=(15, 5))\n",
    "plt.hist([train_df[train_df['Survived']==1]['Pclass'], train_df[train_df['Survived']==0]['Pclass']], \n",
    "         stacked=True, color=['darkcyan','navy'],\n",
    "         bins=30, label=['Survived', 'Died']\n",
    "        )\n",
    "plt.xlabel('Class')\n",
    "plt.ylabel('Number of passenger')\n",
    "plt.legend()"
   ]
  },
  {
   "cell_type": "code",
   "execution_count": 11,
   "id": "5d06a303",
   "metadata": {},
   "outputs": [
    {
     "data": {
      "text/plain": [
       "<matplotlib.legend.Legend at 0x25d683b13a0>"
      ]
     },
     "execution_count": 11,
     "metadata": {},
     "output_type": "execute_result"
    },
    {
     "data": {
      "image/png": "[encoded data removed]",
      "text/plain": [
       "<Figure size 504x360 with 1 Axes>"
      ]
     },
     "metadata": {},
     "output_type": "display_data"
    }
   ],
   "source": [
    "# Correlation between Gender and Surviving\n",
    "plt.figure(figsize=(7, 5))\n",
    "plt.hist([train_df[train_df['Survived']==1]['Sex'], train_df[train_df['Survived']==0]['Sex']], \n",
    "         stacked=True, color=['aqua','navy'],\n",
    "         bins=3, label=['Survived', 'Died']\n",
    "        )\n",
    "plt.xlabel('Sex')\n",
    "plt.ylabel('Number of Survived')\n",
    "plt.legend()"
   ]
  },
  {
   "cell_type": "markdown",
   "id": "b16e3540",
   "metadata": {},
   "source": [
    "###### Seems  women had more chances for surviving"
   ]
  },
  {
   "cell_type": "code",
   "execution_count": 12,
   "id": "c092b3ec",
   "metadata": {},
   "outputs": [
    {
     "data": {
      "text/plain": [
       "<matplotlib.legend.Legend at 0x25d6824a190>"
      ]
     },
     "execution_count": 12,
     "metadata": {},
     "output_type": "execute_result"
    },
    {
     "data": {
      "image/png": "[encoded data removed]",
      "text/plain": [
       "<Figure size 504x360 with 1 Axes>"
      ]
     },
     "metadata": {},
     "output_type": "display_data"
    }
   ],
   "source": [
    "# Correlation between Embarked and Surviving\n",
    "plt.figure(figsize=(7, 5))\n",
    "plt.hist([train_df[train_df['Survived']==1]['Embarked'].map(lambda x: str(x)), \n",
    "          train_df[train_df['Survived']==0]['Embarked'].map(lambda x: str(x))], \n",
    "          stacked=True, color=['teal','navy'],\n",
    "          bins=3, label=['Survived', 'Died']\n",
    "         )\n",
    "plt.xlabel('Embarked')\n",
    "plt.ylabel('Number of Survived')\n",
    "plt.legend()"
   ]
  },
  {
   "cell_type": "markdown",
   "id": "06c75c60",
   "metadata": {},
   "source": [
    "## Data processing"
   ]
  },
  {
   "cell_type": "markdown",
   "id": "5d2a0024",
   "metadata": {},
   "source": [
    "### Missing age values"
   ]
  },
  {
   "cell_type": "code",
   "execution_count": 13,
   "id": "ae9bc0a8",
   "metadata": {},
   "outputs": [],
   "source": [
    "# Fill missing age values with random between mean-std and mean+std\n",
    "age_mean = train_df[\"Age\"].mean()\n",
    "age_std = train_df[\"Age\"].std()\n",
    "\n",
    "# Remember age_mean and age_std to preprocess_data dictionary\n",
    "preprocess_data = {'age_mean':age_mean, 'age_std':age_std}\n",
    "\n",
    "def fill_missing_age(df, mean, std):\n",
    "    is_null = df[\"Age\"].isnull().sum()\n",
    "    # compute random numbers in range of mean +/- std and size of is_null values\n",
    "    rand_age = np.random.randint(mean - std, mean + std, size = is_null)\n",
    "    # fill NaN values in Age column with random values generated\n",
    "    age_slice = df[\"Age\"].copy()\n",
    "    age_slice[np.isnan(age_slice)] = rand_age\n",
    "    df[\"Age\"] = age_slice\n",
    "    df[\"Age\"] = df[\"Age\"].astype(int)\n",
    "    return df\n",
    "\n",
    "train_df = fill_missing_age(train_df, age_mean, age_std)"
   ]
  },
  {
   "cell_type": "markdown",
   "id": "a96a4187",
   "metadata": {},
   "source": [
    "### Missing fare values"
   ]
  },
  {
   "cell_type": "code",
   "execution_count": 14,
   "id": "42acbebe",
   "metadata": {},
   "outputs": [],
   "source": [
    "# Fill fare missing values with mean \n",
    "fare_mean = train_df[\"Fare\"].mean()\n",
    "\n",
    "# Remember fare mean to preprocess_data dictionary\n",
    "preprocess_data['fare_mean'] = fare_mean\n",
    "    \n",
    "train_df['Fare'] = train_df['Fare'].fillna(train_df['Fare'].mean())"
   ]
  },
  {
   "cell_type": "markdown",
   "id": "8f370d58",
   "metadata": {},
   "source": [
    "### Missing embarked values"
   ]
  },
  {
   "cell_type": "code",
   "execution_count": 15,
   "id": "b9dbd1aa",
   "metadata": {},
   "outputs": [],
   "source": [
    "# Fill missing values with most common\n",
    "embarked_mode = train_df['Embarked'].mode().iloc[0]\n",
    "\n",
    "# Remember embarked mode to preprocess_data dictionary\n",
    "preprocess_data['embarked_mode'] = embarked_mode\n",
    "\n",
    "train_df['Embarked'] = train_df['Embarked'].fillna(embarked_mode)"
   ]
  },
  {
   "cell_type": "code",
   "execution_count": 16,
   "id": "47215947",
   "metadata": {},
   "outputs": [
    {
     "data": {
      "text/plain": [
       "PassengerId      0\n",
       "Survived         0\n",
       "Pclass           0\n",
       "Name             0\n",
       "Sex              0\n",
       "Age              0\n",
       "SibSp            0\n",
       "Parch            0\n",
       "Ticket           0\n",
       "Fare             0\n",
       "Cabin          687\n",
       "Embarked         0\n",
       "dtype: int64"
      ]
     },
     "execution_count": 16,
     "metadata": {},
     "output_type": "execute_result"
    }
   ],
   "source": [
    "train_df.isna().sum()"
   ]
  },
  {
   "cell_type": "markdown",
   "id": "8ee75785",
   "metadata": {},
   "source": [
    "## Feature engineering"
   ]
  },
  {
   "cell_type": "markdown",
   "id": "1706a105",
   "metadata": {},
   "source": [
    "### Cabin"
   ]
  },
  {
   "cell_type": "code",
   "execution_count": 17,
   "id": "1252a9d9",
   "metadata": {},
   "outputs": [],
   "source": [
    "# Turn Cabin number into Deck \n",
    "decks = ['A', 'B', 'C', 'D', 'E', 'F', 'G', 'T', np.nan]\n",
    "\n",
    "# Remember decks to preprocess_data dictionary\n",
    "preprocess_data['decks'] = decks\n",
    "\n",
    "def substring_in(inp, sub):\n",
    "    for s in sub:\n",
    "        if str(inp) == str(s) or str(inp).find(s) != -1:\n",
    "            return s\n",
    "    return\n",
    "\n",
    "train_df['Deck'] = train_df['Cabin'].map(lambda x: substring_in(x, decks))"
   ]
  },
  {
   "cell_type": "markdown",
   "id": "a23c61ac",
   "metadata": {},
   "source": [
    "### Relatives"
   ]
  },
  {
   "cell_type": "code",
   "execution_count": 18,
   "id": "54d5afee",
   "metadata": {},
   "outputs": [],
   "source": [
    "# Combine SibSp, Parch (siblings/spouse/parents/children) into new feature\n",
    "train_df['Relatives'] = train_df['SibSp']+train_df['Parch']"
   ]
  },
  {
   "cell_type": "code",
   "execution_count": 19,
   "id": "c2de1d7e",
   "metadata": {},
   "outputs": [
    {
     "data": {
      "text/html": [
       "<div>\n",
       "<style scoped>\n",
       "    .dataframe tbody tr th:only-of-type {\n",
       "        vertical-align: middle;\n",
       "    }\n",
       "\n",
       "    .dataframe tbody tr th {\n",
       "        vertical-align: top;\n",
       "    }\n",
       "\n",
       "    .dataframe thead th {\n",
       "        text-align: right;\n",
       "    }\n",
       "</style>\n",
       "<table border=\"1\" class=\"dataframe\">\n",
       "  <thead>\n",
       "    <tr style=\"text-align: right;\">\n",
       "      <th></th>\n",
       "      <th>PassengerId</th>\n",
       "      <th>Survived</th>\n",
       "      <th>Pclass</th>\n",
       "      <th>Name</th>\n",
       "      <th>Sex</th>\n",
       "      <th>Age</th>\n",
       "      <th>SibSp</th>\n",
       "      <th>Parch</th>\n",
       "      <th>Ticket</th>\n",
       "      <th>Fare</th>\n",
       "      <th>Cabin</th>\n",
       "      <th>Embarked</th>\n",
       "      <th>Deck</th>\n",
       "      <th>Relatives</th>\n",
       "    </tr>\n",
       "  </thead>\n",
       "  <tbody>\n",
       "    <tr>\n",
       "      <th>0</th>\n",
       "      <td>1</td>\n",
       "      <td>0</td>\n",
       "      <td>3</td>\n",
       "      <td>Braund, Mr. Owen Harris</td>\n",
       "      <td>male</td>\n",
       "      <td>22</td>\n",
       "      <td>1</td>\n",
       "      <td>0</td>\n",
       "      <td>A/5 21171</td>\n",
       "      <td>7.2500</td>\n",
       "      <td>NaN</td>\n",
       "      <td>S</td>\n",
       "      <td>NaN</td>\n",
       "      <td>SmallFamily</td>\n",
       "    </tr>\n",
       "    <tr>\n",
       "      <th>1</th>\n",
       "      <td>2</td>\n",
       "      <td>1</td>\n",
       "      <td>1</td>\n",
       "      <td>Cumings, Mrs. John Bradley (Florence Briggs Th...</td>\n",
       "      <td>female</td>\n",
       "      <td>38</td>\n",
       "      <td>1</td>\n",
       "      <td>0</td>\n",
       "      <td>PC 17599</td>\n",
       "      <td>71.2833</td>\n",
       "      <td>C85</td>\n",
       "      <td>C</td>\n",
       "      <td>C</td>\n",
       "      <td>SmallFamily</td>\n",
       "    </tr>\n",
       "    <tr>\n",
       "      <th>2</th>\n",
       "      <td>3</td>\n",
       "      <td>1</td>\n",
       "      <td>3</td>\n",
       "      <td>Heikkinen, Miss. Laina</td>\n",
       "      <td>female</td>\n",
       "      <td>26</td>\n",
       "      <td>0</td>\n",
       "      <td>0</td>\n",
       "      <td>STON/O2. 3101282</td>\n",
       "      <td>7.9250</td>\n",
       "      <td>NaN</td>\n",
       "      <td>S</td>\n",
       "      <td>NaN</td>\n",
       "      <td>Singleton</td>\n",
       "    </tr>\n",
       "    <tr>\n",
       "      <th>3</th>\n",
       "      <td>4</td>\n",
       "      <td>1</td>\n",
       "      <td>1</td>\n",
       "      <td>Futrelle, Mrs. Jacques Heath (Lily May Peel)</td>\n",
       "      <td>female</td>\n",
       "      <td>35</td>\n",
       "      <td>1</td>\n",
       "      <td>0</td>\n",
       "      <td>113803</td>\n",
       "      <td>53.1000</td>\n",
       "      <td>C123</td>\n",
       "      <td>S</td>\n",
       "      <td>C</td>\n",
       "      <td>SmallFamily</td>\n",
       "    </tr>\n",
       "    <tr>\n",
       "      <th>4</th>\n",
       "      <td>5</td>\n",
       "      <td>0</td>\n",
       "      <td>3</td>\n",
       "      <td>Allen, Mr. William Henry</td>\n",
       "      <td>male</td>\n",
       "      <td>35</td>\n",
       "      <td>0</td>\n",
       "      <td>0</td>\n",
       "      <td>373450</td>\n",
       "      <td>8.0500</td>\n",
       "      <td>NaN</td>\n",
       "      <td>S</td>\n",
       "      <td>NaN</td>\n",
       "      <td>Singleton</td>\n",
       "    </tr>\n",
       "  </tbody>\n",
       "</table>\n",
       "</div>"
      ],
      "text/plain": [
       "   PassengerId  Survived  Pclass  \\\n",
       "0            1         0       3   \n",
       "1            2         1       1   \n",
       "2            3         1       3   \n",
       "3            4         1       1   \n",
       "4            5         0       3   \n",
       "\n",
       "                                                Name     Sex  Age  SibSp  \\\n",
       "0                            Braund, Mr. Owen Harris    male   22      1   \n",
       "1  Cumings, Mrs. John Bradley (Florence Briggs Th...  female   38      1   \n",
       "2                             Heikkinen, Miss. Laina  female   26      0   \n",
       "3       Futrelle, Mrs. Jacques Heath (Lily May Peel)  female   35      1   \n",
       "4                           Allen, Mr. William Henry    male   35      0   \n",
       "\n",
       "   Parch            Ticket     Fare Cabin Embarked Deck    Relatives  \n",
       "0      0         A/5 21171   7.2500   NaN        S  NaN  SmallFamily  \n",
       "1      0          PC 17599  71.2833   C85        C    C  SmallFamily  \n",
       "2      0  STON/O2. 3101282   7.9250   NaN        S  NaN    Singleton  \n",
       "3      0            113803  53.1000  C123        S    C  SmallFamily  \n",
       "4      0            373450   8.0500   NaN        S  NaN    Singleton  "
      ]
     },
     "execution_count": 19,
     "metadata": {},
     "output_type": "execute_result"
    }
   ],
   "source": [
    "# Extend field 'Relatives' into 3 categories: Singleton, SmallFamily, LargerFamily\n",
    "def family_size(relatives):\n",
    "    if relatives == 0:\n",
    "        return 'Singleton'\n",
    "    elif 0 < relatives <= 3:\n",
    "        return 'SmallFamily'\n",
    "    else:\n",
    "        return 'LargerFamily'\n",
    "    \n",
    "train_df['Relatives'] = train_df['Relatives'].map(lambda x: family_size(x))\n",
    "train_df.head()"
   ]
  },
  {
   "cell_type": "markdown",
   "id": "b5e80647",
   "metadata": {},
   "source": [
    "### Title"
   ]
  },
  {
   "cell_type": "code",
   "execution_count": 20,
   "id": "a15d1043",
   "metadata": {},
   "outputs": [
    {
     "data": {
      "text/plain": [
       "array(['Mr', 'Mrs', 'Miss', 'Master', 'Don', 'Rev', 'Dr', 'Mme', 'Ms',\n",
       "       'Major', 'Lady', 'Sir', 'Mlle', 'Col', 'Capt', 'the Countess',\n",
       "       'Jonkheer'], dtype=object)"
      ]
     },
     "execution_count": 20,
     "metadata": {},
     "output_type": "execute_result"
    }
   ],
   "source": [
    "# Extract from Name field title (it might be that some education or profession correlate with surviving)\n",
    "train_df['Title'] = train_df['Name'].map(lambda name: name.split(',')[1].split('.')[0].strip())\n",
    "train_df['Title'].unique()"
   ]
  },
  {
   "cell_type": "markdown",
   "id": "b50487e0",
   "metadata": {},
   "source": [
    "### Drop extra features"
   ]
  },
  {
   "cell_type": "code",
   "execution_count": 21,
   "id": "731170db",
   "metadata": {},
   "outputs": [
    {
     "data": {
      "text/html": [
       "<div>\n",
       "<style scoped>\n",
       "    .dataframe tbody tr th:only-of-type {\n",
       "        vertical-align: middle;\n",
       "    }\n",
       "\n",
       "    .dataframe tbody tr th {\n",
       "        vertical-align: top;\n",
       "    }\n",
       "\n",
       "    .dataframe thead th {\n",
       "        text-align: right;\n",
       "    }\n",
       "</style>\n",
       "<table border=\"1\" class=\"dataframe\">\n",
       "  <thead>\n",
       "    <tr style=\"text-align: right;\">\n",
       "      <th></th>\n",
       "      <th>Survived</th>\n",
       "      <th>Pclass</th>\n",
       "      <th>Sex</th>\n",
       "      <th>Age</th>\n",
       "      <th>Fare</th>\n",
       "      <th>Embarked</th>\n",
       "      <th>Deck</th>\n",
       "      <th>Relatives</th>\n",
       "      <th>Title</th>\n",
       "    </tr>\n",
       "  </thead>\n",
       "  <tbody>\n",
       "    <tr>\n",
       "      <th>0</th>\n",
       "      <td>0</td>\n",
       "      <td>3</td>\n",
       "      <td>male</td>\n",
       "      <td>22</td>\n",
       "      <td>7.2500</td>\n",
       "      <td>S</td>\n",
       "      <td>NaN</td>\n",
       "      <td>SmallFamily</td>\n",
       "      <td>Mr</td>\n",
       "    </tr>\n",
       "    <tr>\n",
       "      <th>1</th>\n",
       "      <td>1</td>\n",
       "      <td>1</td>\n",
       "      <td>female</td>\n",
       "      <td>38</td>\n",
       "      <td>71.2833</td>\n",
       "      <td>C</td>\n",
       "      <td>C</td>\n",
       "      <td>SmallFamily</td>\n",
       "      <td>Mrs</td>\n",
       "    </tr>\n",
       "    <tr>\n",
       "      <th>2</th>\n",
       "      <td>1</td>\n",
       "      <td>3</td>\n",
       "      <td>female</td>\n",
       "      <td>26</td>\n",
       "      <td>7.9250</td>\n",
       "      <td>S</td>\n",
       "      <td>NaN</td>\n",
       "      <td>Singleton</td>\n",
       "      <td>Miss</td>\n",
       "    </tr>\n",
       "    <tr>\n",
       "      <th>3</th>\n",
       "      <td>1</td>\n",
       "      <td>1</td>\n",
       "      <td>female</td>\n",
       "      <td>35</td>\n",
       "      <td>53.1000</td>\n",
       "      <td>S</td>\n",
       "      <td>C</td>\n",
       "      <td>SmallFamily</td>\n",
       "      <td>Mrs</td>\n",
       "    </tr>\n",
       "    <tr>\n",
       "      <th>4</th>\n",
       "      <td>0</td>\n",
       "      <td>3</td>\n",
       "      <td>male</td>\n",
       "      <td>35</td>\n",
       "      <td>8.0500</td>\n",
       "      <td>S</td>\n",
       "      <td>NaN</td>\n",
       "      <td>Singleton</td>\n",
       "      <td>Mr</td>\n",
       "    </tr>\n",
       "  </tbody>\n",
       "</table>\n",
       "</div>"
      ],
      "text/plain": [
       "   Survived  Pclass     Sex  Age     Fare Embarked Deck    Relatives Title\n",
       "0         0       3    male   22   7.2500        S  NaN  SmallFamily    Mr\n",
       "1         1       1  female   38  71.2833        C    C  SmallFamily   Mrs\n",
       "2         1       3  female   26   7.9250        S  NaN    Singleton  Miss\n",
       "3         1       1  female   35  53.1000        S    C  SmallFamily   Mrs\n",
       "4         0       3    male   35   8.0500        S  NaN    Singleton    Mr"
      ]
     },
     "execution_count": 21,
     "metadata": {},
     "output_type": "execute_result"
    }
   ],
   "source": [
    "train_df = train_df.drop(['PassengerId', 'Name', 'SibSp', 'Parch', 'Ticket', 'Cabin'], axis=1)\n",
    "train_df.head()"
   ]
  },
  {
   "cell_type": "markdown",
   "id": "7ab5ce67",
   "metadata": {},
   "source": [
    "## Scale numerical data"
   ]
  },
  {
   "cell_type": "code",
   "execution_count": 22,
   "id": "8afccfbd",
   "metadata": {},
   "outputs": [
    {
     "data": {
      "text/plain": [
       "Survived       int64\n",
       "Pclass         int64\n",
       "Sex           object\n",
       "Age            int32\n",
       "Fare         float64\n",
       "Embarked      object\n",
       "Deck          object\n",
       "Relatives     object\n",
       "Title         object\n",
       "dtype: object"
      ]
     },
     "execution_count": 22,
     "metadata": {},
     "output_type": "execute_result"
    }
   ],
   "source": [
    "train_df.dtypes"
   ]
  },
  {
   "cell_type": "code",
   "execution_count": 23,
   "id": "b88e85d2",
   "metadata": {},
   "outputs": [],
   "source": [
    "# Change Pclass type as it is a categorical variable\n",
    "train_df['Pclass'] = train_df['Pclass'].astype(str)"
   ]
  },
  {
   "cell_type": "code",
   "execution_count": 24,
   "id": "995d27dd",
   "metadata": {},
   "outputs": [
    {
     "data": {
      "text/html": [
       "<div>\n",
       "<style scoped>\n",
       "    .dataframe tbody tr th:only-of-type {\n",
       "        vertical-align: middle;\n",
       "    }\n",
       "\n",
       "    .dataframe tbody tr th {\n",
       "        vertical-align: top;\n",
       "    }\n",
       "\n",
       "    .dataframe thead th {\n",
       "        text-align: right;\n",
       "    }\n",
       "</style>\n",
       "<table border=\"1\" class=\"dataframe\">\n",
       "  <thead>\n",
       "    <tr style=\"text-align: right;\">\n",
       "      <th></th>\n",
       "      <th>Survived</th>\n",
       "      <th>Pclass</th>\n",
       "      <th>Sex</th>\n",
       "      <th>Age</th>\n",
       "      <th>Fare</th>\n",
       "      <th>Embarked</th>\n",
       "      <th>Deck</th>\n",
       "      <th>Relatives</th>\n",
       "      <th>Title</th>\n",
       "    </tr>\n",
       "  </thead>\n",
       "  <tbody>\n",
       "    <tr>\n",
       "      <th>0</th>\n",
       "      <td>0</td>\n",
       "      <td>3</td>\n",
       "      <td>male</td>\n",
       "      <td>-0.561021</td>\n",
       "      <td>-0.502445</td>\n",
       "      <td>S</td>\n",
       "      <td>NaN</td>\n",
       "      <td>SmallFamily</td>\n",
       "      <td>Mr</td>\n",
       "    </tr>\n",
       "    <tr>\n",
       "      <th>1</th>\n",
       "      <td>1</td>\n",
       "      <td>1</td>\n",
       "      <td>female</td>\n",
       "      <td>0.622628</td>\n",
       "      <td>0.786845</td>\n",
       "      <td>C</td>\n",
       "      <td>C</td>\n",
       "      <td>SmallFamily</td>\n",
       "      <td>Mrs</td>\n",
       "    </tr>\n",
       "    <tr>\n",
       "      <th>2</th>\n",
       "      <td>1</td>\n",
       "      <td>3</td>\n",
       "      <td>female</td>\n",
       "      <td>-0.265109</td>\n",
       "      <td>-0.488854</td>\n",
       "      <td>S</td>\n",
       "      <td>NaN</td>\n",
       "      <td>Singleton</td>\n",
       "      <td>Miss</td>\n",
       "    </tr>\n",
       "    <tr>\n",
       "      <th>3</th>\n",
       "      <td>1</td>\n",
       "      <td>1</td>\n",
       "      <td>female</td>\n",
       "      <td>0.400694</td>\n",
       "      <td>0.420730</td>\n",
       "      <td>S</td>\n",
       "      <td>C</td>\n",
       "      <td>SmallFamily</td>\n",
       "      <td>Mrs</td>\n",
       "    </tr>\n",
       "    <tr>\n",
       "      <th>4</th>\n",
       "      <td>0</td>\n",
       "      <td>3</td>\n",
       "      <td>male</td>\n",
       "      <td>0.400694</td>\n",
       "      <td>-0.486337</td>\n",
       "      <td>S</td>\n",
       "      <td>NaN</td>\n",
       "      <td>Singleton</td>\n",
       "      <td>Mr</td>\n",
       "    </tr>\n",
       "  </tbody>\n",
       "</table>\n",
       "</div>"
      ],
      "text/plain": [
       "   Survived Pclass     Sex       Age      Fare Embarked Deck    Relatives  \\\n",
       "0         0      3    male -0.561021 -0.502445        S  NaN  SmallFamily   \n",
       "1         1      1  female  0.622628  0.786845        C    C  SmallFamily   \n",
       "2         1      3  female -0.265109 -0.488854        S  NaN    Singleton   \n",
       "3         1      1  female  0.400694  0.420730        S    C  SmallFamily   \n",
       "4         0      3    male  0.400694 -0.486337        S  NaN    Singleton   \n",
       "\n",
       "  Title  \n",
       "0    Mr  \n",
       "1   Mrs  \n",
       "2  Miss  \n",
       "3   Mrs  \n",
       "4    Mr  "
      ]
     },
     "execution_count": 24,
     "metadata": {},
     "output_type": "execute_result"
    }
   ],
   "source": [
    "from sklearn.preprocessing import StandardScaler\n",
    "\n",
    "# Copy Dataframes before scaling\n",
    "train_scaled = train_df.copy()\n",
    "\n",
    "# Determine features to scale\n",
    "features_to_scale = list(train_scaled.select_dtypes(include=['float64', 'int32']).columns)\n",
    "\n",
    "# Fit scaler with train data\n",
    "scaler = StandardScaler()\n",
    "scaler.fit(train_scaled[features_to_scale])\n",
    "\n",
    "# Remember features_to_scale and scaler to scale_data dictionary\n",
    "scale_data = {'features_to_scale':features_to_scale, 'scaler':scaler}\n",
    "\n",
    "# Transform numerical values\n",
    "train_scaled[features_to_scale] = scaler.transform(train_scaled[features_to_scale])\n",
    "train_scaled.head()"
   ]
  },
  {
   "cell_type": "markdown",
   "id": "1b0ee57e",
   "metadata": {},
   "source": [
    "## Transform categorical variables into dummies"
   ]
  },
  {
   "cell_type": "code",
   "execution_count": 25,
   "id": "ec2b1c62",
   "metadata": {},
   "outputs": [
    {
     "data": {
      "text/plain": [
       "['Pclass', 'Sex', 'Embarked', 'Deck', 'Relatives', 'Title']"
      ]
     },
     "execution_count": 25,
     "metadata": {},
     "output_type": "execute_result"
    }
   ],
   "source": [
    "# Determine other features to encode with dummies\n",
    "features_to_encode = list(train_scaled.select_dtypes(include=['object']).columns)\n",
    "features_to_encode"
   ]
  },
  {
   "cell_type": "code",
   "execution_count": 26,
   "id": "45b22c7e",
   "metadata": {},
   "outputs": [
    {
     "data": {
      "text/html": [
       "<div>\n",
       "<style scoped>\n",
       "    .dataframe tbody tr th:only-of-type {\n",
       "        vertical-align: middle;\n",
       "    }\n",
       "\n",
       "    .dataframe tbody tr th {\n",
       "        vertical-align: top;\n",
       "    }\n",
       "\n",
       "    .dataframe thead th {\n",
       "        text-align: right;\n",
       "    }\n",
       "</style>\n",
       "<table border=\"1\" class=\"dataframe\">\n",
       "  <thead>\n",
       "    <tr style=\"text-align: right;\">\n",
       "      <th></th>\n",
       "      <th>Pclass_2</th>\n",
       "      <th>Pclass_3</th>\n",
       "      <th>Sex_male</th>\n",
       "      <th>Embarked_Q</th>\n",
       "      <th>Embarked_S</th>\n",
       "      <th>Deck_B</th>\n",
       "      <th>Deck_C</th>\n",
       "      <th>Deck_D</th>\n",
       "      <th>Deck_E</th>\n",
       "      <th>Deck_F</th>\n",
       "      <th>...</th>\n",
       "      <th>Title_Master</th>\n",
       "      <th>Title_Miss</th>\n",
       "      <th>Title_Mlle</th>\n",
       "      <th>Title_Mme</th>\n",
       "      <th>Title_Mr</th>\n",
       "      <th>Title_Mrs</th>\n",
       "      <th>Title_Ms</th>\n",
       "      <th>Title_Rev</th>\n",
       "      <th>Title_Sir</th>\n",
       "      <th>Title_the Countess</th>\n",
       "    </tr>\n",
       "  </thead>\n",
       "  <tbody>\n",
       "    <tr>\n",
       "      <th>0</th>\n",
       "      <td>0</td>\n",
       "      <td>1</td>\n",
       "      <td>1</td>\n",
       "      <td>0</td>\n",
       "      <td>1</td>\n",
       "      <td>0</td>\n",
       "      <td>0</td>\n",
       "      <td>0</td>\n",
       "      <td>0</td>\n",
       "      <td>0</td>\n",
       "      <td>...</td>\n",
       "      <td>0</td>\n",
       "      <td>0</td>\n",
       "      <td>0</td>\n",
       "      <td>0</td>\n",
       "      <td>1</td>\n",
       "      <td>0</td>\n",
       "      <td>0</td>\n",
       "      <td>0</td>\n",
       "      <td>0</td>\n",
       "      <td>0</td>\n",
       "    </tr>\n",
       "    <tr>\n",
       "      <th>1</th>\n",
       "      <td>0</td>\n",
       "      <td>0</td>\n",
       "      <td>0</td>\n",
       "      <td>0</td>\n",
       "      <td>0</td>\n",
       "      <td>0</td>\n",
       "      <td>1</td>\n",
       "      <td>0</td>\n",
       "      <td>0</td>\n",
       "      <td>0</td>\n",
       "      <td>...</td>\n",
       "      <td>0</td>\n",
       "      <td>0</td>\n",
       "      <td>0</td>\n",
       "      <td>0</td>\n",
       "      <td>0</td>\n",
       "      <td>1</td>\n",
       "      <td>0</td>\n",
       "      <td>0</td>\n",
       "      <td>0</td>\n",
       "      <td>0</td>\n",
       "    </tr>\n",
       "    <tr>\n",
       "      <th>2</th>\n",
       "      <td>0</td>\n",
       "      <td>1</td>\n",
       "      <td>0</td>\n",
       "      <td>0</td>\n",
       "      <td>1</td>\n",
       "      <td>0</td>\n",
       "      <td>0</td>\n",
       "      <td>0</td>\n",
       "      <td>0</td>\n",
       "      <td>0</td>\n",
       "      <td>...</td>\n",
       "      <td>0</td>\n",
       "      <td>1</td>\n",
       "      <td>0</td>\n",
       "      <td>0</td>\n",
       "      <td>0</td>\n",
       "      <td>0</td>\n",
       "      <td>0</td>\n",
       "      <td>0</td>\n",
       "      <td>0</td>\n",
       "      <td>0</td>\n",
       "    </tr>\n",
       "    <tr>\n",
       "      <th>3</th>\n",
       "      <td>0</td>\n",
       "      <td>0</td>\n",
       "      <td>0</td>\n",
       "      <td>0</td>\n",
       "      <td>1</td>\n",
       "      <td>0</td>\n",
       "      <td>1</td>\n",
       "      <td>0</td>\n",
       "      <td>0</td>\n",
       "      <td>0</td>\n",
       "      <td>...</td>\n",
       "      <td>0</td>\n",
       "      <td>0</td>\n",
       "      <td>0</td>\n",
       "      <td>0</td>\n",
       "      <td>0</td>\n",
       "      <td>1</td>\n",
       "      <td>0</td>\n",
       "      <td>0</td>\n",
       "      <td>0</td>\n",
       "      <td>0</td>\n",
       "    </tr>\n",
       "    <tr>\n",
       "      <th>4</th>\n",
       "      <td>0</td>\n",
       "      <td>1</td>\n",
       "      <td>1</td>\n",
       "      <td>0</td>\n",
       "      <td>1</td>\n",
       "      <td>0</td>\n",
       "      <td>0</td>\n",
       "      <td>0</td>\n",
       "      <td>0</td>\n",
       "      <td>0</td>\n",
       "      <td>...</td>\n",
       "      <td>0</td>\n",
       "      <td>0</td>\n",
       "      <td>0</td>\n",
       "      <td>0</td>\n",
       "      <td>1</td>\n",
       "      <td>0</td>\n",
       "      <td>0</td>\n",
       "      <td>0</td>\n",
       "      <td>0</td>\n",
       "      <td>0</td>\n",
       "    </tr>\n",
       "    <tr>\n",
       "      <th>...</th>\n",
       "      <td>...</td>\n",
       "      <td>...</td>\n",
       "      <td>...</td>\n",
       "      <td>...</td>\n",
       "      <td>...</td>\n",
       "      <td>...</td>\n",
       "      <td>...</td>\n",
       "      <td>...</td>\n",
       "      <td>...</td>\n",
       "      <td>...</td>\n",
       "      <td>...</td>\n",
       "      <td>...</td>\n",
       "      <td>...</td>\n",
       "      <td>...</td>\n",
       "      <td>...</td>\n",
       "      <td>...</td>\n",
       "      <td>...</td>\n",
       "      <td>...</td>\n",
       "      <td>...</td>\n",
       "      <td>...</td>\n",
       "      <td>...</td>\n",
       "    </tr>\n",
       "    <tr>\n",
       "      <th>886</th>\n",
       "      <td>1</td>\n",
       "      <td>0</td>\n",
       "      <td>1</td>\n",
       "      <td>0</td>\n",
       "      <td>1</td>\n",
       "      <td>0</td>\n",
       "      <td>0</td>\n",
       "      <td>0</td>\n",
       "      <td>0</td>\n",
       "      <td>0</td>\n",
       "      <td>...</td>\n",
       "      <td>0</td>\n",
       "      <td>0</td>\n",
       "      <td>0</td>\n",
       "      <td>0</td>\n",
       "      <td>0</td>\n",
       "      <td>0</td>\n",
       "      <td>0</td>\n",
       "      <td>1</td>\n",
       "      <td>0</td>\n",
       "      <td>0</td>\n",
       "    </tr>\n",
       "    <tr>\n",
       "      <th>887</th>\n",
       "      <td>0</td>\n",
       "      <td>0</td>\n",
       "      <td>0</td>\n",
       "      <td>0</td>\n",
       "      <td>1</td>\n",
       "      <td>1</td>\n",
       "      <td>0</td>\n",
       "      <td>0</td>\n",
       "      <td>0</td>\n",
       "      <td>0</td>\n",
       "      <td>...</td>\n",
       "      <td>0</td>\n",
       "      <td>1</td>\n",
       "      <td>0</td>\n",
       "      <td>0</td>\n",
       "      <td>0</td>\n",
       "      <td>0</td>\n",
       "      <td>0</td>\n",
       "      <td>0</td>\n",
       "      <td>0</td>\n",
       "      <td>0</td>\n",
       "    </tr>\n",
       "    <tr>\n",
       "      <th>888</th>\n",
       "      <td>0</td>\n",
       "      <td>1</td>\n",
       "      <td>0</td>\n",
       "      <td>0</td>\n",
       "      <td>1</td>\n",
       "      <td>0</td>\n",
       "      <td>0</td>\n",
       "      <td>0</td>\n",
       "      <td>0</td>\n",
       "      <td>0</td>\n",
       "      <td>...</td>\n",
       "      <td>0</td>\n",
       "      <td>1</td>\n",
       "      <td>0</td>\n",
       "      <td>0</td>\n",
       "      <td>0</td>\n",
       "      <td>0</td>\n",
       "      <td>0</td>\n",
       "      <td>0</td>\n",
       "      <td>0</td>\n",
       "      <td>0</td>\n",
       "    </tr>\n",
       "    <tr>\n",
       "      <th>889</th>\n",
       "      <td>0</td>\n",
       "      <td>0</td>\n",
       "      <td>1</td>\n",
       "      <td>0</td>\n",
       "      <td>0</td>\n",
       "      <td>0</td>\n",
       "      <td>1</td>\n",
       "      <td>0</td>\n",
       "      <td>0</td>\n",
       "      <td>0</td>\n",
       "      <td>...</td>\n",
       "      <td>0</td>\n",
       "      <td>0</td>\n",
       "      <td>0</td>\n",
       "      <td>0</td>\n",
       "      <td>1</td>\n",
       "      <td>0</td>\n",
       "      <td>0</td>\n",
       "      <td>0</td>\n",
       "      <td>0</td>\n",
       "      <td>0</td>\n",
       "    </tr>\n",
       "    <tr>\n",
       "      <th>890</th>\n",
       "      <td>0</td>\n",
       "      <td>1</td>\n",
       "      <td>1</td>\n",
       "      <td>1</td>\n",
       "      <td>0</td>\n",
       "      <td>0</td>\n",
       "      <td>0</td>\n",
       "      <td>0</td>\n",
       "      <td>0</td>\n",
       "      <td>0</td>\n",
       "      <td>...</td>\n",
       "      <td>0</td>\n",
       "      <td>0</td>\n",
       "      <td>0</td>\n",
       "      <td>0</td>\n",
       "      <td>1</td>\n",
       "      <td>0</td>\n",
       "      <td>0</td>\n",
       "      <td>0</td>\n",
       "      <td>0</td>\n",
       "      <td>0</td>\n",
       "    </tr>\n",
       "  </tbody>\n",
       "</table>\n",
       "<p>891 rows × 31 columns</p>\n",
       "</div>"
      ],
      "text/plain": [
       "     Pclass_2  Pclass_3  Sex_male  Embarked_Q  Embarked_S  Deck_B  Deck_C  \\\n",
       "0           0         1         1           0           1       0       0   \n",
       "1           0         0         0           0           0       0       1   \n",
       "2           0         1         0           0           1       0       0   \n",
       "3           0         0         0           0           1       0       1   \n",
       "4           0         1         1           0           1       0       0   \n",
       "..        ...       ...       ...         ...         ...     ...     ...   \n",
       "886         1         0         1           0           1       0       0   \n",
       "887         0         0         0           0           1       1       0   \n",
       "888         0         1         0           0           1       0       0   \n",
       "889         0         0         1           0           0       0       1   \n",
       "890         0         1         1           1           0       0       0   \n",
       "\n",
       "     Deck_D  Deck_E  Deck_F  ...  Title_Master  Title_Miss  Title_Mlle  \\\n",
       "0         0       0       0  ...             0           0           0   \n",
       "1         0       0       0  ...             0           0           0   \n",
       "2         0       0       0  ...             0           1           0   \n",
       "3         0       0       0  ...             0           0           0   \n",
       "4         0       0       0  ...             0           0           0   \n",
       "..      ...     ...     ...  ...           ...         ...         ...   \n",
       "886       0       0       0  ...             0           0           0   \n",
       "887       0       0       0  ...             0           1           0   \n",
       "888       0       0       0  ...             0           1           0   \n",
       "889       0       0       0  ...             0           0           0   \n",
       "890       0       0       0  ...             0           0           0   \n",
       "\n",
       "     Title_Mme  Title_Mr  Title_Mrs  Title_Ms  Title_Rev  Title_Sir  \\\n",
       "0            0         1          0         0          0          0   \n",
       "1            0         0          1         0          0          0   \n",
       "2            0         0          0         0          0          0   \n",
       "3            0         0          1         0          0          0   \n",
       "4            0         1          0         0          0          0   \n",
       "..         ...       ...        ...       ...        ...        ...   \n",
       "886          0         0          0         0          1          0   \n",
       "887          0         0          0         0          0          0   \n",
       "888          0         0          0         0          0          0   \n",
       "889          0         1          0         0          0          0   \n",
       "890          0         1          0         0          0          0   \n",
       "\n",
       "     Title_the Countess  \n",
       "0                     0  \n",
       "1                     0  \n",
       "2                     0  \n",
       "3                     0  \n",
       "4                     0  \n",
       "..                  ...  \n",
       "886                   0  \n",
       "887                   0  \n",
       "888                   0  \n",
       "889                   0  \n",
       "890                   0  \n",
       "\n",
       "[891 rows x 31 columns]"
      ]
     },
     "execution_count": 26,
     "metadata": {},
     "output_type": "execute_result"
    }
   ],
   "source": [
    "from sklearn.preprocessing import OneHotEncoder\n",
    "# Create binary dummies using OneHotEncoder to overcome the mismatch in features of train and test data\n",
    "encoder = OneHotEncoder(drop='first', dtype='int64', handle_unknown = 'ignore')\n",
    "\n",
    "# Remember features_to_encode, encoder to encode_data dictionary\n",
    "encode_data = {'features_to_encode':features_to_encode, 'encoder':encoder}\n",
    "\n",
    "encoded_df = encoder.fit_transform(train_scaled[features_to_encode])\n",
    "\n",
    "encoded_features = encoder.get_feature_names_out(features_to_encode)\n",
    "encoded_df = pd.DataFrame(encoded_df.todense(), columns=encoded_features)\n",
    "encoded_df"
   ]
  },
  {
   "cell_type": "code",
   "execution_count": 27,
   "id": "88dee9bb",
   "metadata": {
    "scrolled": true
   },
   "outputs": [
    {
     "data": {
      "text/html": [
       "<div>\n",
       "<style scoped>\n",
       "    .dataframe tbody tr th:only-of-type {\n",
       "        vertical-align: middle;\n",
       "    }\n",
       "\n",
       "    .dataframe tbody tr th {\n",
       "        vertical-align: top;\n",
       "    }\n",
       "\n",
       "    .dataframe thead th {\n",
       "        text-align: right;\n",
       "    }\n",
       "</style>\n",
       "<table border=\"1\" class=\"dataframe\">\n",
       "  <thead>\n",
       "    <tr style=\"text-align: right;\">\n",
       "      <th></th>\n",
       "      <th>Survived</th>\n",
       "      <th>Age</th>\n",
       "      <th>Fare</th>\n",
       "      <th>Pclass_2</th>\n",
       "      <th>Pclass_3</th>\n",
       "      <th>Sex_male</th>\n",
       "      <th>Embarked_Q</th>\n",
       "      <th>Embarked_S</th>\n",
       "      <th>Deck_B</th>\n",
       "      <th>Deck_C</th>\n",
       "      <th>...</th>\n",
       "      <th>Title_Master</th>\n",
       "      <th>Title_Miss</th>\n",
       "      <th>Title_Mlle</th>\n",
       "      <th>Title_Mme</th>\n",
       "      <th>Title_Mr</th>\n",
       "      <th>Title_Mrs</th>\n",
       "      <th>Title_Ms</th>\n",
       "      <th>Title_Rev</th>\n",
       "      <th>Title_Sir</th>\n",
       "      <th>Title_the Countess</th>\n",
       "    </tr>\n",
       "  </thead>\n",
       "  <tbody>\n",
       "    <tr>\n",
       "      <th>0</th>\n",
       "      <td>0</td>\n",
       "      <td>-0.561021</td>\n",
       "      <td>-0.502445</td>\n",
       "      <td>0</td>\n",
       "      <td>1</td>\n",
       "      <td>1</td>\n",
       "      <td>0</td>\n",
       "      <td>1</td>\n",
       "      <td>0</td>\n",
       "      <td>0</td>\n",
       "      <td>...</td>\n",
       "      <td>0</td>\n",
       "      <td>0</td>\n",
       "      <td>0</td>\n",
       "      <td>0</td>\n",
       "      <td>1</td>\n",
       "      <td>0</td>\n",
       "      <td>0</td>\n",
       "      <td>0</td>\n",
       "      <td>0</td>\n",
       "      <td>0</td>\n",
       "    </tr>\n",
       "    <tr>\n",
       "      <th>1</th>\n",
       "      <td>1</td>\n",
       "      <td>0.622628</td>\n",
       "      <td>0.786845</td>\n",
       "      <td>0</td>\n",
       "      <td>0</td>\n",
       "      <td>0</td>\n",
       "      <td>0</td>\n",
       "      <td>0</td>\n",
       "      <td>0</td>\n",
       "      <td>1</td>\n",
       "      <td>...</td>\n",
       "      <td>0</td>\n",
       "      <td>0</td>\n",
       "      <td>0</td>\n",
       "      <td>0</td>\n",
       "      <td>0</td>\n",
       "      <td>1</td>\n",
       "      <td>0</td>\n",
       "      <td>0</td>\n",
       "      <td>0</td>\n",
       "      <td>0</td>\n",
       "    </tr>\n",
       "    <tr>\n",
       "      <th>2</th>\n",
       "      <td>1</td>\n",
       "      <td>-0.265109</td>\n",
       "      <td>-0.488854</td>\n",
       "      <td>0</td>\n",
       "      <td>1</td>\n",
       "      <td>0</td>\n",
       "      <td>0</td>\n",
       "      <td>1</td>\n",
       "      <td>0</td>\n",
       "      <td>0</td>\n",
       "      <td>...</td>\n",
       "      <td>0</td>\n",
       "      <td>1</td>\n",
       "      <td>0</td>\n",
       "      <td>0</td>\n",
       "      <td>0</td>\n",
       "      <td>0</td>\n",
       "      <td>0</td>\n",
       "      <td>0</td>\n",
       "      <td>0</td>\n",
       "      <td>0</td>\n",
       "    </tr>\n",
       "    <tr>\n",
       "      <th>3</th>\n",
       "      <td>1</td>\n",
       "      <td>0.400694</td>\n",
       "      <td>0.420730</td>\n",
       "      <td>0</td>\n",
       "      <td>0</td>\n",
       "      <td>0</td>\n",
       "      <td>0</td>\n",
       "      <td>1</td>\n",
       "      <td>0</td>\n",
       "      <td>1</td>\n",
       "      <td>...</td>\n",
       "      <td>0</td>\n",
       "      <td>0</td>\n",
       "      <td>0</td>\n",
       "      <td>0</td>\n",
       "      <td>0</td>\n",
       "      <td>1</td>\n",
       "      <td>0</td>\n",
       "      <td>0</td>\n",
       "      <td>0</td>\n",
       "      <td>0</td>\n",
       "    </tr>\n",
       "    <tr>\n",
       "      <th>4</th>\n",
       "      <td>0</td>\n",
       "      <td>0.400694</td>\n",
       "      <td>-0.486337</td>\n",
       "      <td>0</td>\n",
       "      <td>1</td>\n",
       "      <td>1</td>\n",
       "      <td>0</td>\n",
       "      <td>1</td>\n",
       "      <td>0</td>\n",
       "      <td>0</td>\n",
       "      <td>...</td>\n",
       "      <td>0</td>\n",
       "      <td>0</td>\n",
       "      <td>0</td>\n",
       "      <td>0</td>\n",
       "      <td>1</td>\n",
       "      <td>0</td>\n",
       "      <td>0</td>\n",
       "      <td>0</td>\n",
       "      <td>0</td>\n",
       "      <td>0</td>\n",
       "    </tr>\n",
       "  </tbody>\n",
       "</table>\n",
       "<p>5 rows × 34 columns</p>\n",
       "</div>"
      ],
      "text/plain": [
       "   Survived       Age      Fare  Pclass_2  Pclass_3  Sex_male  Embarked_Q  \\\n",
       "0         0 -0.561021 -0.502445         0         1         1           0   \n",
       "1         1  0.622628  0.786845         0         0         0           0   \n",
       "2         1 -0.265109 -0.488854         0         1         0           0   \n",
       "3         1  0.400694  0.420730         0         0         0           0   \n",
       "4         0  0.400694 -0.486337         0         1         1           0   \n",
       "\n",
       "   Embarked_S  Deck_B  Deck_C  ...  Title_Master  Title_Miss  Title_Mlle  \\\n",
       "0           1       0       0  ...             0           0           0   \n",
       "1           0       0       1  ...             0           0           0   \n",
       "2           1       0       0  ...             0           1           0   \n",
       "3           1       0       1  ...             0           0           0   \n",
       "4           1       0       0  ...             0           0           0   \n",
       "\n",
       "   Title_Mme  Title_Mr  Title_Mrs  Title_Ms  Title_Rev  Title_Sir  \\\n",
       "0          0         1          0         0          0          0   \n",
       "1          0         0          1         0          0          0   \n",
       "2          0         0          0         0          0          0   \n",
       "3          0         0          1         0          0          0   \n",
       "4          0         1          0         0          0          0   \n",
       "\n",
       "   Title_the Countess  \n",
       "0                   0  \n",
       "1                   0  \n",
       "2                   0  \n",
       "3                   0  \n",
       "4                   0  \n",
       "\n",
       "[5 rows x 34 columns]"
      ]
     },
     "execution_count": 27,
     "metadata": {},
     "output_type": "execute_result"
    }
   ],
   "source": [
    "# Concatenate scaled DataFrame and encoded DataFrame, drop already encoded features\n",
    "train_encoded = pd.concat([train_scaled.copy(), encoded_df], axis=1)\n",
    "train_encoded = train_encoded.drop(features_to_encode, axis=1)\n",
    "train_encoded.head()"
   ]
  },
  {
   "cell_type": "markdown",
   "id": "67043613",
   "metadata": {},
   "source": [
    "## Save data used for preprocess, scale and encode features into files"
   ]
  },
  {
   "cell_type": "code",
   "execution_count": 28,
   "id": "6c195c0b",
   "metadata": {},
   "outputs": [
    {
     "data": {
      "text/plain": [
       "({'age_mean': 29.69911764705882,\n",
       "  'age_std': 14.526497332334042,\n",
       "  'fare_mean': 32.204207968574636,\n",
       "  'embarked_mode': 'S',\n",
       "  'decks': ['A', 'B', 'C', 'D', 'E', 'F', 'G', 'T', nan]},\n",
       " {'features_to_scale': ['Age', 'Fare'], 'scaler': StandardScaler()},\n",
       " {'features_to_encode': ['Pclass',\n",
       "   'Sex',\n",
       "   'Embarked',\n",
       "   'Deck',\n",
       "   'Relatives',\n",
       "   'Title'],\n",
       "  'encoder': OneHotEncoder(drop='first', dtype='int64', handle_unknown='ignore')})"
      ]
     },
     "execution_count": 28,
     "metadata": {},
     "output_type": "execute_result"
    }
   ],
   "source": [
    "preprocess_data, scale_data, encode_data"
   ]
  },
  {
   "cell_type": "code",
   "execution_count": 29,
   "id": "e41f87e5",
   "metadata": {},
   "outputs": [],
   "source": [
    "import pickle\n",
    "\n",
    "with open('preprocess_data.pkl', 'wb') as f:\n",
    "    pickle.dump(preprocess_data, f)\n",
    "    \n",
    "with open('scale_data.pkl', 'wb') as f:\n",
    "    pickle.dump(scale_data, f)\n",
    "    \n",
    "with open('encode_data.pkl', 'wb') as f:\n",
    "    pickle.dump(encode_data, f)"
   ]
  },
  {
   "cell_type": "markdown",
   "id": "24ce7da9",
   "metadata": {},
   "source": [
    "## Balance training data"
   ]
  },
  {
   "cell_type": "code",
   "execution_count": 30,
   "id": "a9c8ea4e",
   "metadata": {},
   "outputs": [
    {
     "data": {
      "text/plain": [
       "(0    549\n",
       " Name: Survived, dtype: int64,\n",
       " 1    342\n",
       " Name: Survived, dtype: int64)"
      ]
     },
     "execution_count": 30,
     "metadata": {},
     "output_type": "execute_result"
    }
   ],
   "source": [
    "died = train_encoded.query('Survived == 0')\n",
    "survived = train_encoded.query('Survived == 1')\n",
    "died['Survived'].value_counts(), survived['Survived'].value_counts()"
   ]
  },
  {
   "cell_type": "code",
   "execution_count": 31,
   "id": "4713be05",
   "metadata": {},
   "outputs": [
    {
     "data": {
      "text/plain": [
       "1    342\n",
       "0    342\n",
       "Name: Survived, dtype: int64"
      ]
     },
     "execution_count": 31,
     "metadata": {},
     "output_type": "execute_result"
    }
   ],
   "source": [
    "balanced_df = pd.concat([survived, died.sample(len(survived), random_state=42)])\n",
    "balanced_df['Survived'].value_counts()"
   ]
  },
  {
   "cell_type": "markdown",
   "id": "42febc58",
   "metadata": {},
   "source": [
    "## Split training data into train, validation and test sets"
   ]
  },
  {
   "cell_type": "code",
   "execution_count": 32,
   "id": "42501c07",
   "metadata": {},
   "outputs": [
    {
     "data": {
      "text/plain": [
       "((547, 33), (547,), (137, 33), (137,))"
      ]
     },
     "execution_count": 32,
     "metadata": {},
     "output_type": "execute_result"
    }
   ],
   "source": [
    "from sklearn.model_selection import train_test_split\n",
    "\n",
    "# # Randomize data\n",
    "# balanced_df = balanced_df.sample(frac=1)\n",
    "features = balanced_df.columns[1:]\n",
    "target = 'Survived'\n",
    "\n",
    "# Split data into train and test sets in ratio 80%/20%  \n",
    "X_train, X_test, y_train, y_test = train_test_split(balanced_df[features], \n",
    "                                                  balanced_df[target].to_numpy(), \n",
    "                                                  train_size=0.8,\n",
    "                                                  random_state=42)\n",
    "\n",
    "X_train.shape, y_train.shape, X_test.shape, y_test.shape"
   ]
  },
  {
   "cell_type": "markdown",
   "id": "2eec025f",
   "metadata": {},
   "source": [
    "## Build prediction models"
   ]
  },
  {
   "cell_type": "code",
   "execution_count": 33,
   "id": "a46801dd",
   "metadata": {},
   "outputs": [],
   "source": [
    "from sklearn.metrics import classification_report"
   ]
  },
  {
   "cell_type": "markdown",
   "id": "c39f7809",
   "metadata": {},
   "source": [
    "## LogisticRegression"
   ]
  },
  {
   "cell_type": "code",
   "execution_count": 34,
   "id": "aba490b9",
   "metadata": {},
   "outputs": [
    {
     "name": "stdout",
     "output_type": "stream",
     "text": [
      "              precision    recall  f1-score   support\n",
      "\n",
      "        Died       0.70      0.80      0.75        59\n",
      "    Survived       0.83      0.74      0.78        78\n",
      "\n",
      "    accuracy                           0.77       137\n",
      "   macro avg       0.77      0.77      0.76       137\n",
      "weighted avg       0.77      0.77      0.77       137\n",
      "\n"
     ]
    }
   ],
   "source": [
    "from sklearn.linear_model import LogisticRegression\n",
    "\n",
    "logistic_model = LogisticRegression(random_state=42)\n",
    "logistic_model.fit(X_train, y_train)\n",
    "\n",
    "# Returning classification report on logistic regression model prediction\n",
    "print(classification_report(y_test, logistic_model.predict(X_test), target_names = ['Died', 'Survived']))"
   ]
  },
  {
   "cell_type": "code",
   "execution_count": 35,
   "id": "d1260d44",
   "metadata": {},
   "outputs": [
    {
     "data": {
      "text/plain": [
       "{'C': 1.0,\n",
       " 'class_weight': None,\n",
       " 'dual': False,\n",
       " 'fit_intercept': True,\n",
       " 'intercept_scaling': 1,\n",
       " 'l1_ratio': None,\n",
       " 'max_iter': 100,\n",
       " 'multi_class': 'auto',\n",
       " 'n_jobs': None,\n",
       " 'penalty': 'l2',\n",
       " 'random_state': 42,\n",
       " 'solver': 'lbfgs',\n",
       " 'tol': 0.0001,\n",
       " 'verbose': 0,\n",
       " 'warm_start': False}"
      ]
     },
     "execution_count": 35,
     "metadata": {},
     "output_type": "execute_result"
    }
   ],
   "source": [
    "logistic_model.get_params(deep=True)"
   ]
  },
  {
   "cell_type": "markdown",
   "id": "16ee2b99",
   "metadata": {},
   "source": [
    "### Import GridSearchCV for auto search optimal hyperparameters"
   ]
  },
  {
   "cell_type": "code",
   "execution_count": 36,
   "id": "6c4ec3b7",
   "metadata": {},
   "outputs": [],
   "source": [
    "from sklearn.model_selection import GridSearchCV"
   ]
  },
  {
   "cell_type": "markdown",
   "id": "7d83ea12",
   "metadata": {},
   "source": [
    "**GridSearchCV** loops through every combination of the values in the grid,\n",
    " evaluating the performance using cross-validation to find the optimum combination of values\n",
    "\n",
    "**estimator**: Model instance\n",
    "<br>**param_grid**: Dictionary object that holds the hyperparameters we wish to experiment with\n",
    "<br>**scoring**: Strategy to evaluate the performance of the cross-validated model on the test set\n",
    "<br>**n_jobs**: Number of processes you wish to run in parallel for this task if it is -1 it will use all available processors\n",
    "<br>**cv**: The total number of cross-validations we perform for each hyperparameter\n",
    "<br>**verbose**: Detailed print out of your fit of the data\n",
    "<br>**error_score**: Value to assign to the score if an error occurs in estimator fitting"
   ]
  },
  {
   "cell_type": "markdown",
   "id": "a2cc601e",
   "metadata": {},
   "source": [
    "### LogisticRegression hyperparameters tuning"
   ]
  },
  {
   "cell_type": "markdown",
   "id": "66e5e548",
   "metadata": {},
   "source": [
    "**penalty**: Specify the norm of the penalty (regularisation technique to prevent overfitting)\n",
    "<br>**C**: Inverse of regularization strength; must be a positive float. Smaller values specify stronger regularization\n",
    "<br>**solver**: Algorithm to use in the optimization problem\n",
    "<br>**max_iter**: Maximum number of iterations taken for the solvers to converge"
   ]
  },
  {
   "cell_type": "code",
   "execution_count": 37,
   "id": "0fc1e488",
   "metadata": {},
   "outputs": [
    {
     "data": {
      "text/plain": [
       "GridSearchCV(cv=3, estimator=LogisticRegression(random_state=42), n_jobs=-1,\n",
       "             param_grid={'C': array([1.00000000e-04, 2.63665090e-04, 6.95192796e-04, 1.83298071e-03,\n",
       "       4.83293024e-03, 1.27427499e-02, 3.35981829e-02, 8.85866790e-02,\n",
       "       2.33572147e-01, 6.15848211e-01, 1.62377674e+00, 4.28133240e+00,\n",
       "       1.12883789e+01, 2.97635144e+01, 7.84759970e+01, 2.06913808e+02,\n",
       "       5.45559478e+02, 1.43844989e+03, 3.79269019e+03, 1.00000000e+04]),\n",
       "                         'max_iter': [100, 1000, 2500, 5000],\n",
       "                         'solver': ['newton-cg', 'lbfgs', 'liblinear', 'sag',\n",
       "                                    'saga']})"
      ]
     },
     "execution_count": 37,
     "metadata": {},
     "output_type": "execute_result"
    }
   ],
   "source": [
    "# Silent warnings\n",
    "import warnings\n",
    "warnings.filterwarnings('ignore')\n",
    "warnings.simplefilter('ignore')\n",
    "\n",
    "lm_params_grid = {'C': np.logspace(-4, 4, 20),\n",
    "                  'solver': ['newton-cg','lbfgs','liblinear','sag','saga'],\n",
    "                  'max_iter': [100, 1000, 2500, 5000]                \n",
    "                 }\n",
    "\n",
    "lm_grid = GridSearchCV(estimator=LogisticRegression(random_state=42),\n",
    "                       param_grid=lm_params_grid,\n",
    "                       n_jobs=-1,\n",
    "                       cv=3,     \n",
    "                       verbose=0,\n",
    "                      )\n",
    "\n",
    "lm_grid.fit(X_train, y_train)"
   ]
  },
  {
   "cell_type": "code",
   "execution_count": 38,
   "id": "f956e16d",
   "metadata": {},
   "outputs": [
    {
     "data": {
      "text/plain": [
       "{'C': 0.615848211066026, 'max_iter': 100, 'solver': 'newton-cg'}"
      ]
     },
     "execution_count": 38,
     "metadata": {},
     "output_type": "execute_result"
    }
   ],
   "source": [
    "lm_grid.best_params_"
   ]
  },
  {
   "cell_type": "code",
   "execution_count": 39,
   "id": "240766f8",
   "metadata": {},
   "outputs": [
    {
     "name": "stdout",
     "output_type": "stream",
     "text": [
      "              precision    recall  f1-score   support\n",
      "\n",
      "        Died       0.71      0.81      0.76        59\n",
      "    Survived       0.84      0.74      0.79        78\n",
      "\n",
      "    accuracy                           0.77       137\n",
      "   macro avg       0.77      0.78      0.77       137\n",
      "weighted avg       0.78      0.77      0.77       137\n",
      "\n"
     ]
    }
   ],
   "source": [
    "lm_param_tuned = LogisticRegression().set_params(**lm_grid.best_params_)\n",
    "lm_param_tuned.fit(X_train, y_train)\n",
    "\n",
    "# Returning classification report on tuned logistic regression model prediction\n",
    "print(classification_report(y_test, lm_param_tuned.predict(X_test), target_names = ['Died', 'Survived']))"
   ]
  },
  {
   "cell_type": "markdown",
   "id": "1cee9b4e",
   "metadata": {},
   "source": [
    "### Plot features by importance for Logistic Regression"
   ]
  },
  {
   "cell_type": "code",
   "execution_count": 40,
   "id": "315767da",
   "metadata": {},
   "outputs": [],
   "source": [
    "def feature_importance(model):\n",
    "    feat_imp = abs(model.coef_[0])\n",
    "    feat_imp = pd.Series(feat_imp, features).sort_values(ascending=False)\n",
    "    feat_imp.plot(kind='bar', title='Feature Importances')\n",
    "    plt.ylabel('Feature Importance Score')"
   ]
  },
  {
   "cell_type": "code",
   "execution_count": 41,
   "id": "210f3327",
   "metadata": {},
   "outputs": [
    {
     "data": {
      "image/png": "[encoded data removed]",
      "text/plain": [
       "<Figure size 504x360 with 1 Axes>"
      ]
     },
     "metadata": {},
     "output_type": "display_data"
    }
   ],
   "source": [
    "feature_importance(lm_param_tuned)"
   ]
  },
  {
   "cell_type": "markdown",
   "id": "bb03cddc",
   "metadata": {},
   "source": [
    "## Try HalvingGridSearchCV"
   ]
  },
  {
   "cell_type": "code",
   "execution_count": 42,
   "id": "de74173f",
   "metadata": {},
   "outputs": [
    {
     "data": {
      "text/plain": [
       "HalvingGridSearchCV(cv=3, estimator=LogisticRegression(random_state=42),\n",
       "                    n_jobs=-1,\n",
       "                    param_grid={'C': array([1.00000000e-04, 2.63665090e-04, 6.95192796e-04, 1.83298071e-03,\n",
       "       4.83293024e-03, 1.27427499e-02, 3.35981829e-02, 8.85866790e-02,\n",
       "       2.33572147e-01, 6.15848211e-01, 1.62377674e+00, 4.28133240e+00,\n",
       "       1.12883789e+01, 2.97635144e+01, 7.84759970e+01, 2.06913808e+02,\n",
       "       5.45559478e+02, 1.43844989e+03, 3.79269019e+03, 1.00000000e+04]),\n",
       "                                'max_iter': [100, 1000, 2500, 5000],\n",
       "                                'solver': ['newton-cg', 'lbfgs', 'liblinear',\n",
       "                                           'sag', 'saga']})"
      ]
     },
     "execution_count": 42,
     "metadata": {},
     "output_type": "execute_result"
    }
   ],
   "source": [
    "# explicitly require this experimental feature\n",
    "from sklearn.experimental import enable_halving_search_cv # noqa\n",
    "# now you can import normally from model_selection\n",
    "from sklearn.model_selection import HalvingGridSearchCV\n",
    "\n",
    "lm_halv = HalvingGridSearchCV(estimator=LogisticRegression(random_state=42),\n",
    "                              param_grid=lm_params_grid,\n",
    "                              n_jobs=-1,\n",
    "                              cv=3,     \n",
    "                              verbose=0,\n",
    "                             )\n",
    "\n",
    "lm_halv.fit(X_train, y_train)"
   ]
  },
  {
   "cell_type": "code",
   "execution_count": 43,
   "id": "fb53be28",
   "metadata": {},
   "outputs": [
    {
     "data": {
      "text/plain": [
       "{'C': 0.615848211066026, 'max_iter': 5000, 'solver': 'liblinear'}"
      ]
     },
     "execution_count": 43,
     "metadata": {},
     "output_type": "execute_result"
    }
   ],
   "source": [
    "lm_halv.best_params_"
   ]
  },
  {
   "cell_type": "code",
   "execution_count": 44,
   "id": "8a7d4db0",
   "metadata": {},
   "outputs": [
    {
     "name": "stdout",
     "output_type": "stream",
     "text": [
      "              precision    recall  f1-score   support\n",
      "\n",
      "        Died       0.71      0.81      0.76        59\n",
      "    Survived       0.84      0.74      0.79        78\n",
      "\n",
      "    accuracy                           0.77       137\n",
      "   macro avg       0.77      0.78      0.77       137\n",
      "weighted avg       0.78      0.77      0.77       137\n",
      "\n"
     ]
    }
   ],
   "source": [
    "lm_halv_param_tuned = LogisticRegression().set_params(**lm_halv.best_params_)\n",
    "lm_halv_param_tuned.fit(X_train, y_train)\n",
    "\n",
    "# Returning classification report on tuned with HalvingGridSearchCV logistic regression model prediction\n",
    "print(classification_report(y_test, lm_halv_param_tuned.predict(X_test), target_names = ['Died', 'Survived']))"
   ]
  },
  {
   "cell_type": "code",
   "execution_count": 45,
   "id": "7fb25b90",
   "metadata": {},
   "outputs": [
    {
     "data": {
      "image/png": "[encoded data removed]",
      "text/plain": [
       "<Figure size 504x360 with 2 Axes>"
      ]
     },
     "metadata": {},
     "output_type": "display_data"
    }
   ],
   "source": [
    "from sklearn.metrics import plot_confusion_matrix\n",
    "\n",
    "# Plot confusion matrix for logistic regression with tuned hyperparameters\n",
    "plot_confusion_matrix(lm_param_tuned, X_test, y_test, values_format='d', display_labels=['Died', 'Survived'])\n",
    "plt.grid(False)"
   ]
  },
  {
   "cell_type": "markdown",
   "id": "99fdf378",
   "metadata": {},
   "source": [
    "## Support Vector Machine"
   ]
  },
  {
   "cell_type": "code",
   "execution_count": 46,
   "id": "d67e1218",
   "metadata": {},
   "outputs": [
    {
     "data": {
      "text/plain": [
       "SVC(random_state=42)"
      ]
     },
     "execution_count": 46,
     "metadata": {},
     "output_type": "execute_result"
    }
   ],
   "source": [
    "from sklearn import svm\n",
    "\n",
    "clf_svm = svm.SVC(random_state=42)\n",
    "clf_svm.fit(X_train, y_train)"
   ]
  },
  {
   "cell_type": "code",
   "execution_count": 47,
   "id": "3fec012f",
   "metadata": {},
   "outputs": [
    {
     "data": {
      "text/plain": [
       "{'C': 1.0,\n",
       " 'break_ties': False,\n",
       " 'cache_size': 200,\n",
       " 'class_weight': None,\n",
       " 'coef0': 0.0,\n",
       " 'decision_function_shape': 'ovr',\n",
       " 'degree': 3,\n",
       " 'gamma': 'scale',\n",
       " 'kernel': 'rbf',\n",
       " 'max_iter': -1,\n",
       " 'probability': False,\n",
       " 'random_state': 42,\n",
       " 'shrinking': True,\n",
       " 'tol': 0.001,\n",
       " 'verbose': False}"
      ]
     },
     "execution_count": 47,
     "metadata": {},
     "output_type": "execute_result"
    }
   ],
   "source": [
    "clf_svm.get_params(deep=True)"
   ]
  },
  {
   "cell_type": "code",
   "execution_count": 48,
   "id": "827d09c2",
   "metadata": {},
   "outputs": [
    {
     "name": "stdout",
     "output_type": "stream",
     "text": [
      "              precision    recall  f1-score   support\n",
      "\n",
      "        Died       0.70      0.85      0.77        59\n",
      "    Survived       0.86      0.73      0.79        78\n",
      "\n",
      "    accuracy                           0.78       137\n",
      "   macro avg       0.78      0.79      0.78       137\n",
      "weighted avg       0.79      0.78      0.78       137\n",
      "\n"
     ]
    }
   ],
   "source": [
    "# Returning classification report on SVM model prediction\n",
    "print(classification_report(y_test, clf_svm.predict(X_test), target_names = ['Died', 'Survived']))"
   ]
  },
  {
   "cell_type": "code",
   "execution_count": 49,
   "id": "59714def",
   "metadata": {
    "scrolled": true
   },
   "outputs": [
    {
     "data": {
      "image/png": "[encoded data removed]",
      "text/plain": [
       "<Figure size 504x360 with 2 Axes>"
      ]
     },
     "metadata": {},
     "output_type": "display_data"
    }
   ],
   "source": [
    "# Plot confusion matrix\n",
    "plot_confusion_matrix(clf_svm, X_test, y_test, values_format='d', display_labels=['Died', 'Survived'])\n",
    "plt.grid(False)"
   ]
  },
  {
   "cell_type": "markdown",
   "id": "0db3614f",
   "metadata": {},
   "source": [
    "From **59** passengers who died **49(83%)** were correctly classified, and from **78** who survived **57(73%)** were correctly classified. "
   ]
  },
  {
   "cell_type": "markdown",
   "id": "e6d45a93",
   "metadata": {},
   "source": [
    "## SVM hyperparameters tuning"
   ]
  },
  {
   "cell_type": "markdown",
   "id": "819993e5",
   "metadata": {},
   "source": [
    "**C**: C > 0, controls the trade off between smooth decision boundary and classifying the training points correctly\n",
    "<br>**gamma**: higher gamma value tries to exactly fit the train data set\n",
    "<br>**kernel**: selects the type of hyperplane, rbf stands for Radial Basis Function Kernel"
   ]
  },
  {
   "cell_type": "code",
   "execution_count": 50,
   "id": "f168604d",
   "metadata": {},
   "outputs": [
    {
     "data": {
      "text/plain": [
       "GridSearchCV(cv=5, estimator=SVC(random_state=42), n_jobs=-1,\n",
       "             param_grid={'C': [0.5, 1, 10, 100],\n",
       "                         'gamma': ['scale', 1, 0.1, 0.01, 0.001, 0.0001],\n",
       "                         'kernel': ['rbf']},\n",
       "             scoring='recall')"
      ]
     },
     "execution_count": 50,
     "metadata": {},
     "output_type": "execute_result"
    }
   ],
   "source": [
    "svm_params_grid = {'C': [0.5, 1, 10, 100],  # \n",
    "                   'gamma': ['scale', 1, 0.1, 0.01, 0.001, 0.0001],\n",
    "                   'kernel': ['rbf']           \n",
    "                  }\n",
    "\n",
    "svm_grid = GridSearchCV(estimator=svm.SVC(random_state=42),\n",
    "                        param_grid=svm_params_grid,\n",
    "                        scoring='recall',  # this scorring parameter showed the best result\n",
    "                        n_jobs=-1,\n",
    "                        cv=5,     \n",
    "                        verbose=0,\n",
    "                       )\n",
    "\n",
    "svm_grid.fit(X_train, y_train)"
   ]
  },
  {
   "cell_type": "code",
   "execution_count": 51,
   "id": "fa13a047",
   "metadata": {},
   "outputs": [
    {
     "data": {
      "text/plain": [
       "{'C': 0.5, 'gamma': 1, 'kernel': 'rbf'}"
      ]
     },
     "execution_count": 51,
     "metadata": {},
     "output_type": "execute_result"
    }
   ],
   "source": [
    "svm_grid.best_params_    # best parameters {'C': 0.5, 'gamma': 1, 'kernel': 'rbf'}"
   ]
  },
  {
   "cell_type": "code",
   "execution_count": 52,
   "id": "72ecfc2e",
   "metadata": {},
   "outputs": [
    {
     "name": "stdout",
     "output_type": "stream",
     "text": [
      "              precision    recall  f1-score   support\n",
      "\n",
      "        Died       0.79      0.75      0.77        59\n",
      "    Survived       0.81      0.85      0.83        78\n",
      "\n",
      "    accuracy                           0.80       137\n",
      "   macro avg       0.80      0.80      0.80       137\n",
      "weighted avg       0.80      0.80      0.80       137\n",
      "\n"
     ]
    }
   ],
   "source": [
    "svm_grid_param_tuned = svm.SVC().set_params(**svm_grid.best_params_)\n",
    "svm_grid_param_tuned.fit(X_train, y_train)\n",
    "\n",
    "# Returning classification report on tuned SVM model prediction\n",
    "print(classification_report(y_test, svm_grid_param_tuned.predict(X_test), target_names = ['Died', 'Survived']))"
   ]
  },
  {
   "cell_type": "code",
   "execution_count": 53,
   "id": "3e895074",
   "metadata": {},
   "outputs": [
    {
     "data": {
      "image/png": "[encoded data removed]",
      "text/plain": [
       "<Figure size 504x360 with 2 Axes>"
      ]
     },
     "metadata": {},
     "output_type": "display_data"
    }
   ],
   "source": [
    "# Plot confusion matrix\n",
    "plot_confusion_matrix(svm_grid_param_tuned, X_test, y_test, values_format='d', display_labels=['Died', 'Survived'])\n",
    "plt.grid(False)"
   ]
  },
  {
   "cell_type": "code",
   "execution_count": 54,
   "id": "a2073e83",
   "metadata": {},
   "outputs": [],
   "source": [
    "best_result = 82\n",
    "\n",
    "if int(svm_grid_param_tuned.score(X_test, y_test).round(2)*100) >= best_result:\n",
    "\n",
    "    file_name = f\"svm_{str(int(svm_grid_param_tuned.score(X_test, y_test).round(2)*100))}.pkl\"\n",
    "\n",
    "    with open(file_name, 'wb') as f:\n",
    "        pickle.dump(svm_grid_param_tuned, f)"
   ]
  },
  {
   "cell_type": "markdown",
   "id": "22727e3f",
   "metadata": {},
   "source": [
    "## PCA (Principal Component Analysis)\n",
    "https://scikit-learn.org/stable/modules/generated/sklearn.decomposition.PCA.html\n",
    "\n",
    "https://plotly.com/python/"
   ]
  },
  {
   "cell_type": "code",
   "execution_count": 55,
   "id": "8277eadf",
   "metadata": {},
   "outputs": [],
   "source": [
    "from sklearn import decomposition # decomposition.PCA for PCA\n",
    "import plotly.express as px"
   ]
  },
  {
   "cell_type": "code",
   "execution_count": 56,
   "id": "4c4209a2",
   "metadata": {},
   "outputs": [
    {
     "data": {
      "text/plain": [
       "33"
      ]
     },
     "execution_count": 56,
     "metadata": {},
     "output_type": "execute_result"
    }
   ],
   "source": [
    "# Number of features\n",
    "len(features)"
   ]
  },
  {
   "cell_type": "code",
   "execution_count": 57,
   "id": "ae4b772b",
   "metadata": {},
   "outputs": [],
   "source": [
    "pca_all = decomposition.PCA()\n",
    "X_train_pca_all = pca_all.fit_transform(X_train)"
   ]
  },
  {
   "cell_type": "code",
   "execution_count": 58,
   "id": "17b697c3",
   "metadata": {},
   "outputs": [
    {
     "data": {
      "image/png": "[encoded data removed]",
      "text/plain": [
       "<Figure size 504x360 with 1 Axes>"
      ]
     },
     "metadata": {},
     "output_type": "display_data"
    }
   ],
   "source": [
    "# Scree plot with matplotlib  \n",
    "\n",
    "# Percentage of variance explained by each of the selected components (all 33 features)\n",
    "per_var = np.round(pca_all.explained_variance_ratio_*100, decimals=1) \n",
    "labels = [str(x) for x in range(1, len(per_var)+1)]\n",
    "\n",
    "plt.bar(x=range(1, len(per_var)+1), height=per_var)\n",
    "plt.tick_params(axis='x', which='both', bottom=False, top=False, labelbottom=False)\n",
    "plt.ylabel('Percentage of Explained Variance')\n",
    "plt.xlabel('Principal Components')\n",
    "plt.title('Scree Plot')\n",
    "plt.show()"
   ]
  },
  {
   "cell_type": "markdown",
   "id": "6c37a992",
   "metadata": {},
   "source": [
    "### Try 3 PCs"
   ]
  },
  {
   "cell_type": "code",
   "execution_count": 59,
   "id": "cc0cbf40",
   "metadata": {},
   "outputs": [],
   "source": [
    "# Choose number of components\n",
    "pc_num = 3"
   ]
  },
  {
   "cell_type": "code",
   "execution_count": 60,
   "id": "4c92d24a",
   "metadata": {},
   "outputs": [],
   "source": [
    "pca = decomposition.PCA(n_components=pc_num)\n",
    "pca.fit(X_train)\n",
    "X_train_pca = pca.transform(X_train)\n",
    "\n",
    "with open('pca.pkl', 'wb') as f:\n",
    "    pickle.dump(pca, f)"
   ]
  },
  {
   "cell_type": "code",
   "execution_count": 61,
   "id": "46912a30",
   "metadata": {},
   "outputs": [
    {
     "data": {
      "text/html": [
       "<div>\n",
       "<style scoped>\n",
       "    .dataframe tbody tr th:only-of-type {\n",
       "        vertical-align: middle;\n",
       "    }\n",
       "\n",
       "    .dataframe tbody tr th {\n",
       "        vertical-align: top;\n",
       "    }\n",
       "\n",
       "    .dataframe thead th {\n",
       "        text-align: right;\n",
       "    }\n",
       "</style>\n",
       "<table border=\"1\" class=\"dataframe\">\n",
       "  <thead>\n",
       "    <tr style=\"text-align: right;\">\n",
       "      <th></th>\n",
       "      <th>PC1</th>\n",
       "      <th>PC2</th>\n",
       "      <th>PC3</th>\n",
       "    </tr>\n",
       "  </thead>\n",
       "  <tbody>\n",
       "    <tr>\n",
       "      <th>0</th>\n",
       "      <td>0.160968</td>\n",
       "      <td>-0.450628</td>\n",
       "      <td>-1.413221</td>\n",
       "    </tr>\n",
       "    <tr>\n",
       "      <th>1</th>\n",
       "      <td>-0.355978</td>\n",
       "      <td>0.455750</td>\n",
       "      <td>-0.575728</td>\n",
       "    </tr>\n",
       "    <tr>\n",
       "      <th>2</th>\n",
       "      <td>-0.293449</td>\n",
       "      <td>0.792842</td>\n",
       "      <td>0.531948</td>\n",
       "    </tr>\n",
       "    <tr>\n",
       "      <th>3</th>\n",
       "      <td>-1.045944</td>\n",
       "      <td>-0.099038</td>\n",
       "      <td>0.723216</td>\n",
       "    </tr>\n",
       "    <tr>\n",
       "      <th>4</th>\n",
       "      <td>-0.391060</td>\n",
       "      <td>-1.586663</td>\n",
       "      <td>-0.761797</td>\n",
       "    </tr>\n",
       "    <tr>\n",
       "      <th>...</th>\n",
       "      <td>...</td>\n",
       "      <td>...</td>\n",
       "      <td>...</td>\n",
       "    </tr>\n",
       "    <tr>\n",
       "      <th>542</th>\n",
       "      <td>-0.713041</td>\n",
       "      <td>-1.166067</td>\n",
       "      <td>-0.148164</td>\n",
       "    </tr>\n",
       "    <tr>\n",
       "      <th>543</th>\n",
       "      <td>0.064620</td>\n",
       "      <td>0.684648</td>\n",
       "      <td>0.618226</td>\n",
       "    </tr>\n",
       "    <tr>\n",
       "      <th>544</th>\n",
       "      <td>-0.639220</td>\n",
       "      <td>-0.828113</td>\n",
       "      <td>-0.237509</td>\n",
       "    </tr>\n",
       "    <tr>\n",
       "      <th>545</th>\n",
       "      <td>-0.749278</td>\n",
       "      <td>0.999499</td>\n",
       "      <td>0.386247</td>\n",
       "    </tr>\n",
       "    <tr>\n",
       "      <th>546</th>\n",
       "      <td>-0.440144</td>\n",
       "      <td>1.213720</td>\n",
       "      <td>0.141917</td>\n",
       "    </tr>\n",
       "  </tbody>\n",
       "</table>\n",
       "<p>547 rows × 3 columns</p>\n",
       "</div>"
      ],
      "text/plain": [
       "          PC1       PC2       PC3\n",
       "0    0.160968 -0.450628 -1.413221\n",
       "1   -0.355978  0.455750 -0.575728\n",
       "2   -0.293449  0.792842  0.531948\n",
       "3   -1.045944 -0.099038  0.723216\n",
       "4   -0.391060 -1.586663 -0.761797\n",
       "..        ...       ...       ...\n",
       "542 -0.713041 -1.166067 -0.148164\n",
       "543  0.064620  0.684648  0.618226\n",
       "544 -0.639220 -0.828113 -0.237509\n",
       "545 -0.749278  0.999499  0.386247\n",
       "546 -0.440144  1.213720  0.141917\n",
       "\n",
       "[547 rows x 3 columns]"
      ]
     },
     "execution_count": 61,
     "metadata": {},
     "output_type": "execute_result"
    }
   ],
   "source": [
    "# Compute scores values\n",
    "col_name = ['PC'+str(i) for i in range(1, pc_num+1)]\n",
    "pca_scores_df = pd.DataFrame(X_train_pca, columns=col_name)\n",
    "pca_scores_df"
   ]
  },
  {
   "cell_type": "code",
   "execution_count": 62,
   "id": "aa394009",
   "metadata": {},
   "outputs": [
    {
     "data": {
      "text/html": [
       "<div>\n",
       "<style scoped>\n",
       "    .dataframe tbody tr th:only-of-type {\n",
       "        vertical-align: middle;\n",
       "    }\n",
       "\n",
       "    .dataframe tbody tr th {\n",
       "        vertical-align: top;\n",
       "    }\n",
       "\n",
       "    .dataframe thead th {\n",
       "        text-align: right;\n",
       "    }\n",
       "</style>\n",
       "<table border=\"1\" class=\"dataframe\">\n",
       "  <thead>\n",
       "    <tr style=\"text-align: right;\">\n",
       "      <th></th>\n",
       "      <th>PC1</th>\n",
       "      <th>PC2</th>\n",
       "      <th>PC3</th>\n",
       "      <th>Survived</th>\n",
       "    </tr>\n",
       "  </thead>\n",
       "  <tbody>\n",
       "    <tr>\n",
       "      <th>0</th>\n",
       "      <td>0.160968</td>\n",
       "      <td>-0.450628</td>\n",
       "      <td>-1.413221</td>\n",
       "      <td>No</td>\n",
       "    </tr>\n",
       "    <tr>\n",
       "      <th>1</th>\n",
       "      <td>-0.355978</td>\n",
       "      <td>0.455750</td>\n",
       "      <td>-0.575728</td>\n",
       "      <td>Yes</td>\n",
       "    </tr>\n",
       "    <tr>\n",
       "      <th>2</th>\n",
       "      <td>-0.293449</td>\n",
       "      <td>0.792842</td>\n",
       "      <td>0.531948</td>\n",
       "      <td>No</td>\n",
       "    </tr>\n",
       "    <tr>\n",
       "      <th>3</th>\n",
       "      <td>-1.045944</td>\n",
       "      <td>-0.099038</td>\n",
       "      <td>0.723216</td>\n",
       "      <td>No</td>\n",
       "    </tr>\n",
       "    <tr>\n",
       "      <th>4</th>\n",
       "      <td>-0.391060</td>\n",
       "      <td>-1.586663</td>\n",
       "      <td>-0.761797</td>\n",
       "      <td>Yes</td>\n",
       "    </tr>\n",
       "    <tr>\n",
       "      <th>...</th>\n",
       "      <td>...</td>\n",
       "      <td>...</td>\n",
       "      <td>...</td>\n",
       "      <td>...</td>\n",
       "    </tr>\n",
       "    <tr>\n",
       "      <th>542</th>\n",
       "      <td>-0.713041</td>\n",
       "      <td>-1.166067</td>\n",
       "      <td>-0.148164</td>\n",
       "      <td>Yes</td>\n",
       "    </tr>\n",
       "    <tr>\n",
       "      <th>543</th>\n",
       "      <td>0.064620</td>\n",
       "      <td>0.684648</td>\n",
       "      <td>0.618226</td>\n",
       "      <td>Yes</td>\n",
       "    </tr>\n",
       "    <tr>\n",
       "      <th>544</th>\n",
       "      <td>-0.639220</td>\n",
       "      <td>-0.828113</td>\n",
       "      <td>-0.237509</td>\n",
       "      <td>Yes</td>\n",
       "    </tr>\n",
       "    <tr>\n",
       "      <th>545</th>\n",
       "      <td>-0.749278</td>\n",
       "      <td>0.999499</td>\n",
       "      <td>0.386247</td>\n",
       "      <td>No</td>\n",
       "    </tr>\n",
       "    <tr>\n",
       "      <th>546</th>\n",
       "      <td>-0.440144</td>\n",
       "      <td>1.213720</td>\n",
       "      <td>0.141917</td>\n",
       "      <td>Yes</td>\n",
       "    </tr>\n",
       "  </tbody>\n",
       "</table>\n",
       "<p>547 rows × 4 columns</p>\n",
       "</div>"
      ],
      "text/plain": [
       "          PC1       PC2       PC3 Survived\n",
       "0    0.160968 -0.450628 -1.413221       No\n",
       "1   -0.355978  0.455750 -0.575728      Yes\n",
       "2   -0.293449  0.792842  0.531948       No\n",
       "3   -1.045944 -0.099038  0.723216       No\n",
       "4   -0.391060 -1.586663 -0.761797      Yes\n",
       "..        ...       ...       ...      ...\n",
       "542 -0.713041 -1.166067 -0.148164      Yes\n",
       "543  0.064620  0.684648  0.618226      Yes\n",
       "544 -0.639220 -0.828113 -0.237509      Yes\n",
       "545 -0.749278  0.999499  0.386247       No\n",
       "546 -0.440144  1.213720  0.141917      Yes\n",
       "\n",
       "[547 rows x 4 columns]"
      ]
     },
     "execution_count": 62,
     "metadata": {},
     "output_type": "execute_result"
    }
   ],
   "source": [
    "# Add status (survived/not survived) label to the scores DataFrame\n",
    "y_label = []\n",
    "\n",
    "for i in y_train:\n",
    "    if i == 0:\n",
    "        y_label.append('No')\n",
    "    elif i == 1:\n",
    "        y_label.append('Yes')\n",
    "    else:\n",
    "        raise Exception(\"Unexpected category\")\n",
    "        \n",
    "Species = pd.DataFrame(y_label, columns=['Survived'])\n",
    "\n",
    "# Concatenate PCs scores and status of passengers in terms of survival\n",
    "df_scores = pd.concat([pca_scores_df, Species], axis=1)\n",
    "df_scores"
   ]
  },
  {
   "cell_type": "markdown",
   "id": "9f876c27",
   "metadata": {},
   "source": [
    "#### Retrive the loading values (features)"
   ]
  },
  {
   "cell_type": "code",
   "execution_count": 63,
   "id": "fd35ae88",
   "metadata": {},
   "outputs": [
    {
     "data": {
      "text/html": [
       "<div>\n",
       "<style scoped>\n",
       "    .dataframe tbody tr th:only-of-type {\n",
       "        vertical-align: middle;\n",
       "    }\n",
       "\n",
       "    .dataframe tbody tr th {\n",
       "        vertical-align: top;\n",
       "    }\n",
       "\n",
       "    .dataframe thead th {\n",
       "        text-align: right;\n",
       "    }\n",
       "</style>\n",
       "<table border=\"1\" class=\"dataframe\">\n",
       "  <thead>\n",
       "    <tr style=\"text-align: right;\">\n",
       "      <th></th>\n",
       "      <th>PC1</th>\n",
       "      <th>PC2</th>\n",
       "      <th>PC3</th>\n",
       "    </tr>\n",
       "  </thead>\n",
       "  <tbody>\n",
       "    <tr>\n",
       "      <th>Age</th>\n",
       "      <td>0.200347</td>\n",
       "      <td>0.913557</td>\n",
       "      <td>-0.241178</td>\n",
       "    </tr>\n",
       "    <tr>\n",
       "      <th>Fare</th>\n",
       "      <td>0.847840</td>\n",
       "      <td>-0.112544</td>\n",
       "      <td>0.402009</td>\n",
       "    </tr>\n",
       "    <tr>\n",
       "      <th>Pclass_2</th>\n",
       "      <td>-0.014980</td>\n",
       "      <td>-0.013909</td>\n",
       "      <td>-0.178360</td>\n",
       "    </tr>\n",
       "    <tr>\n",
       "      <th>Pclass_3</th>\n",
       "      <td>-0.251332</td>\n",
       "      <td>-0.054247</td>\n",
       "      <td>0.105594</td>\n",
       "    </tr>\n",
       "    <tr>\n",
       "      <th>Sex_male</th>\n",
       "      <td>-0.164797</td>\n",
       "      <td>0.160506</td>\n",
       "      <td>0.429509</td>\n",
       "    </tr>\n",
       "  </tbody>\n",
       "</table>\n",
       "</div>"
      ],
      "text/plain": [
       "               PC1       PC2       PC3\n",
       "Age       0.200347  0.913557 -0.241178\n",
       "Fare      0.847840 -0.112544  0.402009\n",
       "Pclass_2 -0.014980 -0.013909 -0.178360\n",
       "Pclass_3 -0.251332 -0.054247  0.105594\n",
       "Sex_male -0.164797  0.160506  0.429509"
      ]
     },
     "execution_count": 63,
     "metadata": {},
     "output_type": "execute_result"
    }
   ],
   "source": [
    "# Retrive PCs for each feature\n",
    "df_feature_score = pd.DataFrame(pca.components_.T, columns=col_name, index=features)\n",
    "df_feature_score.head()"
   ]
  },
  {
   "cell_type": "code",
   "execution_count": 86,
   "id": "22a6cb5c",
   "metadata": {},
   "outputs": [
    {
     "data": {
      "text/plain": [
       "array([30.2, 23. , 12.6])"
      ]
     },
     "execution_count": 86,
     "metadata": {},
     "output_type": "execute_result"
    }
   ],
   "source": [
    "# Get explained variables in percentage\n",
    "explained_variance = np.round(pca.explained_variance_ratio_*100, decimals=1) \n",
    "explained_variance"
   ]
  },
  {
   "cell_type": "markdown",
   "id": "f9a7ac45",
   "metadata": {},
   "source": [
    "### Scree Plot with plotly"
   ]
  },
  {
   "cell_type": "code",
   "execution_count": 87,
   "id": "e2a57a10",
   "metadata": {},
   "outputs": [],
   "source": [
    "explained_variance = np.insert(explained_variance, 0, 0)"
   ]
  },
  {
   "cell_type": "code",
   "execution_count": 88,
   "id": "47a1c9e3",
   "metadata": {},
   "outputs": [],
   "source": [
    "cumulative_variance = np.cumsum(explained_variance)"
   ]
  },
  {
   "cell_type": "code",
   "execution_count": 89,
   "id": "b6d7a06e",
   "metadata": {},
   "outputs": [
    {
     "data": {
      "text/html": [
       "<div>\n",
       "<style scoped>\n",
       "    .dataframe tbody tr th:only-of-type {\n",
       "        vertical-align: middle;\n",
       "    }\n",
       "\n",
       "    .dataframe tbody tr th {\n",
       "        vertical-align: top;\n",
       "    }\n",
       "\n",
       "    .dataframe thead th {\n",
       "        text-align: right;\n",
       "    }\n",
       "</style>\n",
       "<table border=\"1\" class=\"dataframe\">\n",
       "  <thead>\n",
       "    <tr style=\"text-align: right;\">\n",
       "      <th></th>\n",
       "      <th>PC</th>\n",
       "      <th>Explained Variance</th>\n",
       "      <th>Cumulative Variance</th>\n",
       "    </tr>\n",
       "  </thead>\n",
       "  <tbody>\n",
       "    <tr>\n",
       "      <th>0</th>\n",
       "      <td></td>\n",
       "      <td>0.0</td>\n",
       "      <td>0.0</td>\n",
       "    </tr>\n",
       "    <tr>\n",
       "      <th>1</th>\n",
       "      <td>PC1</td>\n",
       "      <td>30.2</td>\n",
       "      <td>30.2</td>\n",
       "    </tr>\n",
       "    <tr>\n",
       "      <th>2</th>\n",
       "      <td>PC2</td>\n",
       "      <td>23.0</td>\n",
       "      <td>53.2</td>\n",
       "    </tr>\n",
       "    <tr>\n",
       "      <th>3</th>\n",
       "      <td>PC3</td>\n",
       "      <td>12.6</td>\n",
       "      <td>65.8</td>\n",
       "    </tr>\n",
       "  </tbody>\n",
       "</table>\n",
       "</div>"
      ],
      "text/plain": [
       "    PC  Explained Variance  Cumulative Variance\n",
       "0                      0.0                  0.0\n",
       "1  PC1                30.2                 30.2\n",
       "2  PC2                23.0                 53.2\n",
       "3  PC3                12.6                 65.8"
      ]
     },
     "execution_count": 89,
     "metadata": {},
     "output_type": "execute_result"
    }
   ],
   "source": [
    "# Combine DataFrames\n",
    "\n",
    "pc_df = pd.DataFrame(['']+col_name, columns=['PC'])\n",
    "explained_variance_df = pd.DataFrame(explained_variance, columns=['Explained Variance'])\n",
    "cumulative_variance_df = pd.DataFrame(cumulative_variance, columns=['Cumulative Variance'])\n",
    "\n",
    "df_explained_variance = pd.concat([pc_df, explained_variance_df, cumulative_variance_df], axis=1)\n",
    "df_explained_variance"
   ]
  },
  {
   "cell_type": "markdown",
   "id": "8703d784",
   "metadata": {},
   "source": [
    "#### Plot Explained variables"
   ]
  },
  {
   "cell_type": "code",
   "execution_count": 91,
   "id": "6019eb99",
   "metadata": {},
   "outputs": [
    {
     "data": {
      "application/vnd.plotly.v1+json": {
       "config": {
        "plotlyServerURL": "https://plot.ly"
       },
       "data": [
        {
         "alignmentgroup": "True",
         "hovertemplate": "PC=%{x}<br>Explained Variance=%{marker.color}<br>text=%{text}<extra></extra>",
         "legendgroup": "",
         "marker": {
          "color": [
           0,
           30.2,
           23,
           12.6
          ],
          "coloraxis": "coloraxis"
         },
         "name": "",
         "offsetgroup": "",
         "orientation": "v",
         "showlegend": false,
         "text": [
          "0.0%",
          "30.2%",
          "23.0%",
          "12.6%"
         ],
         "textposition": "outside",
         "type": "bar",
         "x": [
          "",
          "PC1",
          "PC2",
          "PC3"
         ],
         "xaxis": "x",
         "y": [
          0,
          30.2,
          23,
          12.6
         ],
         "yaxis": "y"
        }
       ],
       "layout": {
        "barmode": "relative",
        "coloraxis": {
         "colorbar": {
          "title": {
           "text": "Explained Variance"
          }
         },
         "colorscale": [
          [
           0,
           "#0d0887"
          ],
          [
           0.1111111111111111,
           "#46039f"
          ],
          [
           0.2222222222222222,
           "#7201a8"
          ],
          [
           0.3333333333333333,
           "#9c179e"
          ],
          [
           0.4444444444444444,
           "#bd3786"
          ],
          [
           0.5555555555555556,
           "#d8576b"
          ],
          [
           0.6666666666666666,
           "#ed7953"
          ],
          [
           0.7777777777777778,
           "#fb9f3a"
          ],
          [
           0.8888888888888888,
           "#fdca26"
          ],
          [
           1,
           "#f0f921"
          ]
         ]
        },
        "legend": {
         "tracegroupgap": 0
        },
        "margin": {
         "t": 60
        },
        "template": {
         "data": {
          "bar": [
           {
            "error_x": {
             "color": "#f2f5fa"
            },
            "error_y": {
             "color": "#f2f5fa"
            },
            "marker": {
             "line": {
              "color": "rgb(17,17,17)",
              "width": 0.5
             }
            },
            "type": "bar"
           }
          ],
          "barpolar": [
           {
            "marker": {
             "line": {
              "color": "rgb(17,17,17)",
              "width": 0.5
             }
            },
            "type": "barpolar"
           }
          ],
          "carpet": [
           {
            "aaxis": {
             "endlinecolor": "#A2B1C6",
             "gridcolor": "#506784",
             "linecolor": "#506784",
             "minorgridcolor": "#506784",
             "startlinecolor": "#A2B1C6"
            },
            "baxis": {
             "endlinecolor": "#A2B1C6",
             "gridcolor": "#506784",
             "linecolor": "#506784",
             "minorgridcolor": "#506784",
             "startlinecolor": "#A2B1C6"
            },
            "type": "carpet"
           }
          ],
          "choropleth": [
           {
            "colorbar": {
             "outlinewidth": 0,
             "ticks": ""
            },
            "type": "choropleth"
           }
          ],
          "contour": [
           {
            "colorbar": {
             "outlinewidth": 0,
             "ticks": ""
            },
            "colorscale": [
             [
              0,
              "#0d0887"
             ],
             [
              0.1111111111111111,
              "#46039f"
             ],
             [
              0.2222222222222222,
              "#7201a8"
             ],
             [
              0.3333333333333333,
              "#9c179e"
             ],
             [
              0.4444444444444444,
              "#bd3786"
             ],
             [
              0.5555555555555556,
              "#d8576b"
             ],
             [
              0.6666666666666666,
              "#ed7953"
             ],
             [
              0.7777777777777778,
              "#fb9f3a"
             ],
             [
              0.8888888888888888,
              "#fdca26"
             ],
             [
              1,
              "#f0f921"
             ]
            ],
            "type": "contour"
           }
          ],
          "contourcarpet": [
           {
            "colorbar": {
             "outlinewidth": 0,
             "ticks": ""
            },
            "type": "contourcarpet"
           }
          ],
          "heatmap": [
           {
            "colorbar": {
             "outlinewidth": 0,
             "ticks": ""
            },
            "colorscale": [
             [
              0,
              "#0d0887"
             ],
             [
              0.1111111111111111,
              "#46039f"
             ],
             [
              0.2222222222222222,
              "#7201a8"
             ],
             [
              0.3333333333333333,
              "#9c179e"
             ],
             [
              0.4444444444444444,
              "#bd3786"
             ],
             [
              0.5555555555555556,
              "#d8576b"
             ],
             [
              0.6666666666666666,
              "#ed7953"
             ],
             [
              0.7777777777777778,
              "#fb9f3a"
             ],
             [
              0.8888888888888888,
              "#fdca26"
             ],
             [
              1,
              "#f0f921"
             ]
            ],
            "type": "heatmap"
           }
          ],
          "heatmapgl": [
           {
            "colorbar": {
             "outlinewidth": 0,
             "ticks": ""
            },
            "colorscale": [
             [
              0,
              "#0d0887"
             ],
             [
              0.1111111111111111,
              "#46039f"
             ],
             [
              0.2222222222222222,
              "#7201a8"
             ],
             [
              0.3333333333333333,
              "#9c179e"
             ],
             [
              0.4444444444444444,
              "#bd3786"
             ],
             [
              0.5555555555555556,
              "#d8576b"
             ],
             [
              0.6666666666666666,
              "#ed7953"
             ],
             [
              0.7777777777777778,
              "#fb9f3a"
             ],
             [
              0.8888888888888888,
              "#fdca26"
             ],
             [
              1,
              "#f0f921"
             ]
            ],
            "type": "heatmapgl"
           }
          ],
          "histogram": [
           {
            "marker": {
             "colorbar": {
              "outlinewidth": 0,
              "ticks": ""
             }
            },
            "type": "histogram"
           }
          ],
          "histogram2d": [
           {
            "colorbar": {
             "outlinewidth": 0,
             "ticks": ""
            },
            "colorscale": [
             [
              0,
              "#0d0887"
             ],
             [
              0.1111111111111111,
              "#46039f"
             ],
             [
              0.2222222222222222,
              "#7201a8"
             ],
             [
              0.3333333333333333,
              "#9c179e"
             ],
             [
              0.4444444444444444,
              "#bd3786"
             ],
             [
              0.5555555555555556,
              "#d8576b"
             ],
             [
              0.6666666666666666,
              "#ed7953"
             ],
             [
              0.7777777777777778,
              "#fb9f3a"
             ],
             [
              0.8888888888888888,
              "#fdca26"
             ],
             [
              1,
              "#f0f921"
             ]
            ],
            "type": "histogram2d"
           }
          ],
          "histogram2dcontour": [
           {
            "colorbar": {
             "outlinewidth": 0,
             "ticks": ""
            },
            "colorscale": [
             [
              0,
              "#0d0887"
             ],
             [
              0.1111111111111111,
              "#46039f"
             ],
             [
              0.2222222222222222,
              "#7201a8"
             ],
             [
              0.3333333333333333,
              "#9c179e"
             ],
             [
              0.4444444444444444,
              "#bd3786"
             ],
             [
              0.5555555555555556,
              "#d8576b"
             ],
             [
              0.6666666666666666,
              "#ed7953"
             ],
             [
              0.7777777777777778,
              "#fb9f3a"
             ],
             [
              0.8888888888888888,
              "#fdca26"
             ],
             [
              1,
              "#f0f921"
             ]
            ],
            "type": "histogram2dcontour"
           }
          ],
          "mesh3d": [
           {
            "colorbar": {
             "outlinewidth": 0,
             "ticks": ""
            },
            "type": "mesh3d"
           }
          ],
          "parcoords": [
           {
            "line": {
             "colorbar": {
              "outlinewidth": 0,
              "ticks": ""
             }
            },
            "type": "parcoords"
           }
          ],
          "pie": [
           {
            "automargin": true,
            "type": "pie"
           }
          ],
          "scatter": [
           {
            "marker": {
             "line": {
              "color": "#283442"
             }
            },
            "type": "scatter"
           }
          ],
          "scatter3d": [
           {
            "line": {
             "colorbar": {
              "outlinewidth": 0,
              "ticks": ""
             }
            },
            "marker": {
             "colorbar": {
              "outlinewidth": 0,
              "ticks": ""
             }
            },
            "type": "scatter3d"
           }
          ],
          "scattercarpet": [
           {
            "marker": {
             "colorbar": {
              "outlinewidth": 0,
              "ticks": ""
             }
            },
            "type": "scattercarpet"
           }
          ],
          "scattergeo": [
           {
            "marker": {
             "colorbar": {
              "outlinewidth": 0,
              "ticks": ""
             }
            },
            "type": "scattergeo"
           }
          ],
          "scattergl": [
           {
            "marker": {
             "line": {
              "color": "#283442"
             }
            },
            "type": "scattergl"
           }
          ],
          "scattermapbox": [
           {
            "marker": {
             "colorbar": {
              "outlinewidth": 0,
              "ticks": ""
             }
            },
            "type": "scattermapbox"
           }
          ],
          "scatterpolar": [
           {
            "marker": {
             "colorbar": {
              "outlinewidth": 0,
              "ticks": ""
             }
            },
            "type": "scatterpolar"
           }
          ],
          "scatterpolargl": [
           {
            "marker": {
             "colorbar": {
              "outlinewidth": 0,
              "ticks": ""
             }
            },
            "type": "scatterpolargl"
           }
          ],
          "scatterternary": [
           {
            "marker": {
             "colorbar": {
              "outlinewidth": 0,
              "ticks": ""
             }
            },
            "type": "scatterternary"
           }
          ],
          "surface": [
           {
            "colorbar": {
             "outlinewidth": 0,
             "ticks": ""
            },
            "colorscale": [
             [
              0,
              "#0d0887"
             ],
             [
              0.1111111111111111,
              "#46039f"
             ],
             [
              0.2222222222222222,
              "#7201a8"
             ],
             [
              0.3333333333333333,
              "#9c179e"
             ],
             [
              0.4444444444444444,
              "#bd3786"
             ],
             [
              0.5555555555555556,
              "#d8576b"
             ],
             [
              0.6666666666666666,
              "#ed7953"
             ],
             [
              0.7777777777777778,
              "#fb9f3a"
             ],
             [
              0.8888888888888888,
              "#fdca26"
             ],
             [
              1,
              "#f0f921"
             ]
            ],
            "type": "surface"
           }
          ],
          "table": [
           {
            "cells": {
             "fill": {
              "color": "#506784"
             },
             "line": {
              "color": "rgb(17,17,17)"
             }
            },
            "header": {
             "fill": {
              "color": "#2a3f5f"
             },
             "line": {
              "color": "rgb(17,17,17)"
             }
            },
            "type": "table"
           }
          ]
         },
         "layout": {
          "annotationdefaults": {
           "arrowcolor": "#f2f5fa",
           "arrowhead": 0,
           "arrowwidth": 1
          },
          "autotypenumbers": "strict",
          "coloraxis": {
           "colorbar": {
            "outlinewidth": 0,
            "ticks": ""
           }
          },
          "colorscale": {
           "diverging": [
            [
             0,
             "#8e0152"
            ],
            [
             0.1,
             "#c51b7d"
            ],
            [
             0.2,
             "#de77ae"
            ],
            [
             0.3,
             "#f1b6da"
            ],
            [
             0.4,
             "#fde0ef"
            ],
            [
             0.5,
             "#f7f7f7"
            ],
            [
             0.6,
             "#e6f5d0"
            ],
            [
             0.7,
             "#b8e186"
            ],
            [
             0.8,
             "#7fbc41"
            ],
            [
             0.9,
             "#4d9221"
            ],
            [
             1,
             "#276419"
            ]
           ],
           "sequential": [
            [
             0,
             "#0d0887"
            ],
            [
             0.1111111111111111,
             "#46039f"
            ],
            [
             0.2222222222222222,
             "#7201a8"
            ],
            [
             0.3333333333333333,
             "#9c179e"
            ],
            [
             0.4444444444444444,
             "#bd3786"
            ],
            [
             0.5555555555555556,
             "#d8576b"
            ],
            [
             0.6666666666666666,
             "#ed7953"
            ],
            [
             0.7777777777777778,
             "#fb9f3a"
            ],
            [
             0.8888888888888888,
             "#fdca26"
            ],
            [
             1,
             "#f0f921"
            ]
           ],
           "sequentialminus": [
            [
             0,
             "#0d0887"
            ],
            [
             0.1111111111111111,
             "#46039f"
            ],
            [
             0.2222222222222222,
             "#7201a8"
            ],
            [
             0.3333333333333333,
             "#9c179e"
            ],
            [
             0.4444444444444444,
             "#bd3786"
            ],
            [
             0.5555555555555556,
             "#d8576b"
            ],
            [
             0.6666666666666666,
             "#ed7953"
            ],
            [
             0.7777777777777778,
             "#fb9f3a"
            ],
            [
             0.8888888888888888,
             "#fdca26"
            ],
            [
             1,
             "#f0f921"
            ]
           ]
          },
          "colorway": [
           "#636efa",
           "#EF553B",
           "#00cc96",
           "#ab63fa",
           "#FFA15A",
           "#19d3f3",
           "#FF6692",
           "#B6E880",
           "#FF97FF",
           "#FECB52"
          ],
          "font": {
           "color": "#f2f5fa"
          },
          "geo": {
           "bgcolor": "rgb(17,17,17)",
           "lakecolor": "rgb(17,17,17)",
           "landcolor": "rgb(17,17,17)",
           "showlakes": true,
           "showland": true,
           "subunitcolor": "#506784"
          },
          "hoverlabel": {
           "align": "left"
          },
          "hovermode": "closest",
          "mapbox": {
           "style": "dark"
          },
          "paper_bgcolor": "rgb(17,17,17)",
          "plot_bgcolor": "rgb(17,17,17)",
          "polar": {
           "angularaxis": {
            "gridcolor": "#506784",
            "linecolor": "#506784",
            "ticks": ""
           },
           "bgcolor": "rgb(17,17,17)",
           "radialaxis": {
            "gridcolor": "#506784",
            "linecolor": "#506784",
            "ticks": ""
           }
          },
          "scene": {
           "xaxis": {
            "backgroundcolor": "rgb(17,17,17)",
            "gridcolor": "#506784",
            "gridwidth": 2,
            "linecolor": "#506784",
            "showbackground": true,
            "ticks": "",
            "zerolinecolor": "#C8D4E3"
           },
           "yaxis": {
            "backgroundcolor": "rgb(17,17,17)",
            "gridcolor": "#506784",
            "gridwidth": 2,
            "linecolor": "#506784",
            "showbackground": true,
            "ticks": "",
            "zerolinecolor": "#C8D4E3"
           },
           "zaxis": {
            "backgroundcolor": "rgb(17,17,17)",
            "gridcolor": "#506784",
            "gridwidth": 2,
            "linecolor": "#506784",
            "showbackground": true,
            "ticks": "",
            "zerolinecolor": "#C8D4E3"
           }
          },
          "shapedefaults": {
           "line": {
            "color": "#f2f5fa"
           }
          },
          "sliderdefaults": {
           "bgcolor": "#C8D4E3",
           "bordercolor": "rgb(17,17,17)",
           "borderwidth": 1,
           "tickwidth": 0
          },
          "ternary": {
           "aaxis": {
            "gridcolor": "#506784",
            "linecolor": "#506784",
            "ticks": ""
           },
           "baxis": {
            "gridcolor": "#506784",
            "linecolor": "#506784",
            "ticks": ""
           },
           "bgcolor": "rgb(17,17,17)",
           "caxis": {
            "gridcolor": "#506784",
            "linecolor": "#506784",
            "ticks": ""
           }
          },
          "title": {
           "x": 0.05
          },
          "updatemenudefaults": {
           "bgcolor": "#506784",
           "borderwidth": 0
          },
          "xaxis": {
           "automargin": true,
           "gridcolor": "#283442",
           "linecolor": "#506784",
           "ticks": "",
           "title": {
            "standoff": 15
           },
           "zerolinecolor": "#283442",
           "zerolinewidth": 2
          },
          "yaxis": {
           "automargin": true,
           "gridcolor": "#283442",
           "linecolor": "#506784",
           "ticks": "",
           "title": {
            "standoff": 15
           },
           "zerolinecolor": "#283442",
           "zerolinewidth": 2
          }
         }
        },
        "width": 800,
        "xaxis": {
         "anchor": "y",
         "domain": [
          0,
          1
         ],
         "title": {
          "text": "PC"
         }
        },
        "yaxis": {
         "anchor": "x",
         "domain": [
          0,
          1
         ],
         "title": {
          "text": "Explained Variance"
         }
        }
       }
      },
      "text/html": [
       "<div>                            <div id=\"b89daf78-eb72-4d4b-88b8-e4b1498b9b29\" class=\"plotly-graph-div\" style=\"height:525px; width:800px;\"></div>            <script type=\"text/javascript\">                require([\"plotly\"], function(Plotly) {                    window.PLOTLYENV=window.PLOTLYENV || {};                                    if (document.getElementById(\"b89daf78-eb72-4d4b-88b8-e4b1498b9b29\")) {                    Plotly.newPlot(                        \"b89daf78-eb72-4d4b-88b8-e4b1498b9b29\",                        [{\"alignmentgroup\": \"True\", \"hovertemplate\": \"PC=%{x}<br>Explained Variance=%{marker.color}<br>text=%{text}<extra></extra>\", \"legendgroup\": \"\", \"marker\": {\"color\": [0.0, 30.2, 23.0, 12.6], \"coloraxis\": \"coloraxis\"}, \"name\": \"\", \"offsetgroup\": \"\", \"orientation\": \"v\", \"showlegend\": false, \"text\": [\"0.0%\", \"30.2%\", \"23.0%\", \"12.6%\"], \"textposition\": \"outside\", \"type\": \"bar\", \"x\": [\"\", \"PC1\", \"PC2\", \"PC3\"], \"xaxis\": \"x\", \"y\": [0.0, 30.2, 23.0, 12.6], \"yaxis\": \"y\"}],                        {\"barmode\": \"relative\", \"coloraxis\": {\"colorbar\": {\"title\": {\"text\": \"Explained Variance\"}}, \"colorscale\": [[0.0, \"#0d0887\"], [0.1111111111111111, \"#46039f\"], [0.2222222222222222, \"#7201a8\"], [0.3333333333333333, \"#9c179e\"], [0.4444444444444444, \"#bd3786\"], [0.5555555555555556, \"#d8576b\"], [0.6666666666666666, \"#ed7953\"], [0.7777777777777778, \"#fb9f3a\"], [0.8888888888888888, \"#fdca26\"], [1.0, \"#f0f921\"]]}, \"legend\": {\"tracegroupgap\": 0}, \"margin\": {\"t\": 60}, \"template\": {\"data\": {\"bar\": [{\"error_x\": {\"color\": \"#f2f5fa\"}, \"error_y\": {\"color\": \"#f2f5fa\"}, \"marker\": {\"line\": {\"color\": \"rgb(17,17,17)\", \"width\": 0.5}}, \"type\": \"bar\"}], \"barpolar\": [{\"marker\": {\"line\": {\"color\": \"rgb(17,17,17)\", \"width\": 0.5}}, \"type\": \"barpolar\"}], \"carpet\": [{\"aaxis\": {\"endlinecolor\": \"#A2B1C6\", \"gridcolor\": \"#506784\", \"linecolor\": \"#506784\", \"minorgridcolor\": \"#506784\", \"startlinecolor\": \"#A2B1C6\"}, \"baxis\": {\"endlinecolor\": \"#A2B1C6\", \"gridcolor\": \"#506784\", \"linecolor\": \"#506784\", \"minorgridcolor\": \"#506784\", \"startlinecolor\": \"#A2B1C6\"}, \"type\": \"carpet\"}], \"choropleth\": [{\"colorbar\": {\"outlinewidth\": 0, \"ticks\": \"\"}, \"type\": \"choropleth\"}], \"contour\": [{\"colorbar\": {\"outlinewidth\": 0, \"ticks\": \"\"}, \"colorscale\": [[0.0, \"#0d0887\"], [0.1111111111111111, \"#46039f\"], [0.2222222222222222, \"#7201a8\"], [0.3333333333333333, \"#9c179e\"], [0.4444444444444444, \"#bd3786\"], [0.5555555555555556, \"#d8576b\"], [0.6666666666666666, \"#ed7953\"], [0.7777777777777778, \"#fb9f3a\"], [0.8888888888888888, \"#fdca26\"], [1.0, \"#f0f921\"]], \"type\": \"contour\"}], \"contourcarpet\": [{\"colorbar\": {\"outlinewidth\": 0, \"ticks\": \"\"}, \"type\": \"contourcarpet\"}], \"heatmap\": [{\"colorbar\": {\"outlinewidth\": 0, \"ticks\": \"\"}, \"colorscale\": [[0.0, \"#0d0887\"], [0.1111111111111111, \"#46039f\"], [0.2222222222222222, \"#7201a8\"], [0.3333333333333333, \"#9c179e\"], [0.4444444444444444, \"#bd3786\"], [0.5555555555555556, \"#d8576b\"], [0.6666666666666666, \"#ed7953\"], [0.7777777777777778, \"#fb9f3a\"], [0.8888888888888888, \"#fdca26\"], [1.0, \"#f0f921\"]], \"type\": \"heatmap\"}], \"heatmapgl\": [{\"colorbar\": {\"outlinewidth\": 0, \"ticks\": \"\"}, \"colorscale\": [[0.0, \"#0d0887\"], [0.1111111111111111, \"#46039f\"], [0.2222222222222222, \"#7201a8\"], [0.3333333333333333, \"#9c179e\"], [0.4444444444444444, \"#bd3786\"], [0.5555555555555556, \"#d8576b\"], [0.6666666666666666, \"#ed7953\"], [0.7777777777777778, \"#fb9f3a\"], [0.8888888888888888, \"#fdca26\"], [1.0, \"#f0f921\"]], \"type\": \"heatmapgl\"}], \"histogram\": [{\"marker\": {\"colorbar\": {\"outlinewidth\": 0, \"ticks\": \"\"}}, \"type\": \"histogram\"}], \"histogram2d\": [{\"colorbar\": {\"outlinewidth\": 0, \"ticks\": \"\"}, \"colorscale\": [[0.0, \"#0d0887\"], [0.1111111111111111, \"#46039f\"], [0.2222222222222222, \"#7201a8\"], [0.3333333333333333, \"#9c179e\"], [0.4444444444444444, \"#bd3786\"], [0.5555555555555556, \"#d8576b\"], [0.6666666666666666, \"#ed7953\"], [0.7777777777777778, \"#fb9f3a\"], [0.8888888888888888, \"#fdca26\"], [1.0, \"#f0f921\"]], \"type\": \"histogram2d\"}], \"histogram2dcontour\": [{\"colorbar\": {\"outlinewidth\": 0, \"ticks\": \"\"}, \"colorscale\": [[0.0, \"#0d0887\"], [0.1111111111111111, \"#46039f\"], [0.2222222222222222, \"#7201a8\"], [0.3333333333333333, \"#9c179e\"], [0.4444444444444444, \"#bd3786\"], [0.5555555555555556, \"#d8576b\"], [0.6666666666666666, \"#ed7953\"], [0.7777777777777778, \"#fb9f3a\"], [0.8888888888888888, \"#fdca26\"], [1.0, \"#f0f921\"]], \"type\": \"histogram2dcontour\"}], \"mesh3d\": [{\"colorbar\": {\"outlinewidth\": 0, \"ticks\": \"\"}, \"type\": \"mesh3d\"}], \"parcoords\": [{\"line\": {\"colorbar\": {\"outlinewidth\": 0, \"ticks\": \"\"}}, \"type\": \"parcoords\"}], \"pie\": [{\"automargin\": true, \"type\": \"pie\"}], \"scatter\": [{\"marker\": {\"line\": {\"color\": \"#283442\"}}, \"type\": \"scatter\"}], \"scatter3d\": [{\"line\": {\"colorbar\": {\"outlinewidth\": 0, \"ticks\": \"\"}}, \"marker\": {\"colorbar\": {\"outlinewidth\": 0, \"ticks\": \"\"}}, \"type\": \"scatter3d\"}], \"scattercarpet\": [{\"marker\": {\"colorbar\": {\"outlinewidth\": 0, \"ticks\": \"\"}}, \"type\": \"scattercarpet\"}], \"scattergeo\": [{\"marker\": {\"colorbar\": {\"outlinewidth\": 0, \"ticks\": \"\"}}, \"type\": \"scattergeo\"}], \"scattergl\": [{\"marker\": {\"line\": {\"color\": \"#283442\"}}, \"type\": \"scattergl\"}], \"scattermapbox\": [{\"marker\": {\"colorbar\": {\"outlinewidth\": 0, \"ticks\": \"\"}}, \"type\": \"scattermapbox\"}], \"scatterpolar\": [{\"marker\": {\"colorbar\": {\"outlinewidth\": 0, \"ticks\": \"\"}}, \"type\": \"scatterpolar\"}], \"scatterpolargl\": [{\"marker\": {\"colorbar\": {\"outlinewidth\": 0, \"ticks\": \"\"}}, \"type\": \"scatterpolargl\"}], \"scatterternary\": [{\"marker\": {\"colorbar\": {\"outlinewidth\": 0, \"ticks\": \"\"}}, \"type\": \"scatterternary\"}], \"surface\": [{\"colorbar\": {\"outlinewidth\": 0, \"ticks\": \"\"}, \"colorscale\": [[0.0, \"#0d0887\"], [0.1111111111111111, \"#46039f\"], [0.2222222222222222, \"#7201a8\"], [0.3333333333333333, \"#9c179e\"], [0.4444444444444444, \"#bd3786\"], [0.5555555555555556, \"#d8576b\"], [0.6666666666666666, \"#ed7953\"], [0.7777777777777778, \"#fb9f3a\"], [0.8888888888888888, \"#fdca26\"], [1.0, \"#f0f921\"]], \"type\": \"surface\"}], \"table\": [{\"cells\": {\"fill\": {\"color\": \"#506784\"}, \"line\": {\"color\": \"rgb(17,17,17)\"}}, \"header\": {\"fill\": {\"color\": \"#2a3f5f\"}, \"line\": {\"color\": \"rgb(17,17,17)\"}}, \"type\": \"table\"}]}, \"layout\": {\"annotationdefaults\": {\"arrowcolor\": \"#f2f5fa\", \"arrowhead\": 0, \"arrowwidth\": 1}, \"autotypenumbers\": \"strict\", \"coloraxis\": {\"colorbar\": {\"outlinewidth\": 0, \"ticks\": \"\"}}, \"colorscale\": {\"diverging\": [[0, \"#8e0152\"], [0.1, \"#c51b7d\"], [0.2, \"#de77ae\"], [0.3, \"#f1b6da\"], [0.4, \"#fde0ef\"], [0.5, \"#f7f7f7\"], [0.6, \"#e6f5d0\"], [0.7, \"#b8e186\"], [0.8, \"#7fbc41\"], [0.9, \"#4d9221\"], [1, \"#276419\"]], \"sequential\": [[0.0, \"#0d0887\"], [0.1111111111111111, \"#46039f\"], [0.2222222222222222, \"#7201a8\"], [0.3333333333333333, \"#9c179e\"], [0.4444444444444444, \"#bd3786\"], [0.5555555555555556, \"#d8576b\"], [0.6666666666666666, \"#ed7953\"], [0.7777777777777778, \"#fb9f3a\"], [0.8888888888888888, \"#fdca26\"], [1.0, \"#f0f921\"]], \"sequentialminus\": [[0.0, \"#0d0887\"], [0.1111111111111111, \"#46039f\"], [0.2222222222222222, \"#7201a8\"], [0.3333333333333333, \"#9c179e\"], [0.4444444444444444, \"#bd3786\"], [0.5555555555555556, \"#d8576b\"], [0.6666666666666666, \"#ed7953\"], [0.7777777777777778, \"#fb9f3a\"], [0.8888888888888888, \"#fdca26\"], [1.0, \"#f0f921\"]]}, \"colorway\": [\"#636efa\", \"#EF553B\", \"#00cc96\", \"#ab63fa\", \"#FFA15A\", \"#19d3f3\", \"#FF6692\", \"#B6E880\", \"#FF97FF\", \"#FECB52\"], \"font\": {\"color\": \"#f2f5fa\"}, \"geo\": {\"bgcolor\": \"rgb(17,17,17)\", \"lakecolor\": \"rgb(17,17,17)\", \"landcolor\": \"rgb(17,17,17)\", \"showlakes\": true, \"showland\": true, \"subunitcolor\": \"#506784\"}, \"hoverlabel\": {\"align\": \"left\"}, \"hovermode\": \"closest\", \"mapbox\": {\"style\": \"dark\"}, \"paper_bgcolor\": \"rgb(17,17,17)\", \"plot_bgcolor\": \"rgb(17,17,17)\", \"polar\": {\"angularaxis\": {\"gridcolor\": \"#506784\", \"linecolor\": \"#506784\", \"ticks\": \"\"}, \"bgcolor\": \"rgb(17,17,17)\", \"radialaxis\": {\"gridcolor\": \"#506784\", \"linecolor\": \"#506784\", \"ticks\": \"\"}}, \"scene\": {\"xaxis\": {\"backgroundcolor\": \"rgb(17,17,17)\", \"gridcolor\": \"#506784\", \"gridwidth\": 2, \"linecolor\": \"#506784\", \"showbackground\": true, \"ticks\": \"\", \"zerolinecolor\": \"#C8D4E3\"}, \"yaxis\": {\"backgroundcolor\": \"rgb(17,17,17)\", \"gridcolor\": \"#506784\", \"gridwidth\": 2, \"linecolor\": \"#506784\", \"showbackground\": true, \"ticks\": \"\", \"zerolinecolor\": \"#C8D4E3\"}, \"zaxis\": {\"backgroundcolor\": \"rgb(17,17,17)\", \"gridcolor\": \"#506784\", \"gridwidth\": 2, \"linecolor\": \"#506784\", \"showbackground\": true, \"ticks\": \"\", \"zerolinecolor\": \"#C8D4E3\"}}, \"shapedefaults\": {\"line\": {\"color\": \"#f2f5fa\"}}, \"sliderdefaults\": {\"bgcolor\": \"#C8D4E3\", \"bordercolor\": \"rgb(17,17,17)\", \"borderwidth\": 1, \"tickwidth\": 0}, \"ternary\": {\"aaxis\": {\"gridcolor\": \"#506784\", \"linecolor\": \"#506784\", \"ticks\": \"\"}, \"baxis\": {\"gridcolor\": \"#506784\", \"linecolor\": \"#506784\", \"ticks\": \"\"}, \"bgcolor\": \"rgb(17,17,17)\", \"caxis\": {\"gridcolor\": \"#506784\", \"linecolor\": \"#506784\", \"ticks\": \"\"}}, \"title\": {\"x\": 0.05}, \"updatemenudefaults\": {\"bgcolor\": \"#506784\", \"borderwidth\": 0}, \"xaxis\": {\"automargin\": true, \"gridcolor\": \"#283442\", \"linecolor\": \"#506784\", \"ticks\": \"\", \"title\": {\"standoff\": 15}, \"zerolinecolor\": \"#283442\", \"zerolinewidth\": 2}, \"yaxis\": {\"automargin\": true, \"gridcolor\": \"#283442\", \"linecolor\": \"#506784\", \"ticks\": \"\", \"title\": {\"standoff\": 15}, \"zerolinecolor\": \"#283442\", \"zerolinewidth\": 2}}}, \"width\": 800, \"xaxis\": {\"anchor\": \"y\", \"domain\": [0.0, 1.0], \"title\": {\"text\": \"PC\"}}, \"yaxis\": {\"anchor\": \"x\", \"domain\": [0.0, 1.0], \"title\": {\"text\": \"Explained Variance\"}}},                        {\"responsive\": true}                    ).then(function(){\n",
       "                            \n",
       "var gd = document.getElementById('b89daf78-eb72-4d4b-88b8-e4b1498b9b29');\n",
       "var x = new MutationObserver(function (mutations, observer) {{\n",
       "        var display = window.getComputedStyle(gd).display;\n",
       "        if (!display || display === 'none') {{\n",
       "            console.log([gd, 'removed!']);\n",
       "            Plotly.purge(gd);\n",
       "            observer.disconnect();\n",
       "        }}\n",
       "}});\n",
       "\n",
       "// Listen for the removal of the full notebook cells\n",
       "var notebookContainer = gd.closest('#notebook-container');\n",
       "if (notebookContainer) {{\n",
       "    x.observe(notebookContainer, {childList: true});\n",
       "}}\n",
       "\n",
       "// Listen for the clearing of the current output cell\n",
       "var outputEl = gd.closest('.output');\n",
       "if (outputEl) {{\n",
       "    x.observe(outputEl, {childList: true});\n",
       "}}\n",
       "\n",
       "                        })                };                });            </script>        </div>"
      ]
     },
     "metadata": {},
     "output_type": "display_data"
    }
   ],
   "source": [
    "fig = px.bar(df_explained_variance, \n",
    "             x='PC', y='Explained Variance',\n",
    "             color='Explained Variance',\n",
    "             template = 'plotly_dark',\n",
    "             text=[f'{i}%' for i in explained_variance],\n",
    "             width=800)\n",
    "\n",
    "fig.update_traces(textposition='outside')\n",
    "\n",
    "fig.show()"
   ]
  },
  {
   "cell_type": "markdown",
   "id": "612f73c7",
   "metadata": {},
   "source": [
    "##### Explained Variance + Cumulative Variance"
   ]
  },
  {
   "cell_type": "code",
   "execution_count": 92,
   "id": "5c373af0",
   "metadata": {},
   "outputs": [
    {
     "data": {
      "application/vnd.plotly.v1+json": {
       "config": {
        "plotlyServerURL": "https://plot.ly"
       },
       "data": [
        {
         "marker": {
          "color": "crimson",
          "size": 15
         },
         "name": "Cumulative",
         "type": "scatter",
         "x": [
          "",
          "PC1",
          "PC2",
          "PC3"
         ],
         "y": [
          0,
          30.2,
          53.2,
          65.8
         ]
        },
        {
         "marker": {
          "color": "cyan"
         },
         "name": "Explained",
         "type": "bar",
         "x": [
          "",
          "PC1",
          "PC2",
          "PC3"
         ],
         "y": [
          0,
          30.2,
          23,
          12.6
         ]
        }
       ],
       "layout": {
        "template": {
         "data": {
          "bar": [
           {
            "error_x": {
             "color": "#2a3f5f"
            },
            "error_y": {
             "color": "#2a3f5f"
            },
            "marker": {
             "line": {
              "color": "#E5ECF6",
              "width": 0.5
             }
            },
            "type": "bar"
           }
          ],
          "barpolar": [
           {
            "marker": {
             "line": {
              "color": "#E5ECF6",
              "width": 0.5
             }
            },
            "type": "barpolar"
           }
          ],
          "carpet": [
           {
            "aaxis": {
             "endlinecolor": "#2a3f5f",
             "gridcolor": "white",
             "linecolor": "white",
             "minorgridcolor": "white",
             "startlinecolor": "#2a3f5f"
            },
            "baxis": {
             "endlinecolor": "#2a3f5f",
             "gridcolor": "white",
             "linecolor": "white",
             "minorgridcolor": "white",
             "startlinecolor": "#2a3f5f"
            },
            "type": "carpet"
           }
          ],
          "choropleth": [
           {
            "colorbar": {
             "outlinewidth": 0,
             "ticks": ""
            },
            "type": "choropleth"
           }
          ],
          "contour": [
           {
            "colorbar": {
             "outlinewidth": 0,
             "ticks": ""
            },
            "colorscale": [
             [
              0,
              "#0d0887"
             ],
             [
              0.1111111111111111,
              "#46039f"
             ],
             [
              0.2222222222222222,
              "#7201a8"
             ],
             [
              0.3333333333333333,
              "#9c179e"
             ],
             [
              0.4444444444444444,
              "#bd3786"
             ],
             [
              0.5555555555555556,
              "#d8576b"
             ],
             [
              0.6666666666666666,
              "#ed7953"
             ],
             [
              0.7777777777777778,
              "#fb9f3a"
             ],
             [
              0.8888888888888888,
              "#fdca26"
             ],
             [
              1,
              "#f0f921"
             ]
            ],
            "type": "contour"
           }
          ],
          "contourcarpet": [
           {
            "colorbar": {
             "outlinewidth": 0,
             "ticks": ""
            },
            "type": "contourcarpet"
           }
          ],
          "heatmap": [
           {
            "colorbar": {
             "outlinewidth": 0,
             "ticks": ""
            },
            "colorscale": [
             [
              0,
              "#0d0887"
             ],
             [
              0.1111111111111111,
              "#46039f"
             ],
             [
              0.2222222222222222,
              "#7201a8"
             ],
             [
              0.3333333333333333,
              "#9c179e"
             ],
             [
              0.4444444444444444,
              "#bd3786"
             ],
             [
              0.5555555555555556,
              "#d8576b"
             ],
             [
              0.6666666666666666,
              "#ed7953"
             ],
             [
              0.7777777777777778,
              "#fb9f3a"
             ],
             [
              0.8888888888888888,
              "#fdca26"
             ],
             [
              1,
              "#f0f921"
             ]
            ],
            "type": "heatmap"
           }
          ],
          "heatmapgl": [
           {
            "colorbar": {
             "outlinewidth": 0,
             "ticks": ""
            },
            "colorscale": [
             [
              0,
              "#0d0887"
             ],
             [
              0.1111111111111111,
              "#46039f"
             ],
             [
              0.2222222222222222,
              "#7201a8"
             ],
             [
              0.3333333333333333,
              "#9c179e"
             ],
             [
              0.4444444444444444,
              "#bd3786"
             ],
             [
              0.5555555555555556,
              "#d8576b"
             ],
             [
              0.6666666666666666,
              "#ed7953"
             ],
             [
              0.7777777777777778,
              "#fb9f3a"
             ],
             [
              0.8888888888888888,
              "#fdca26"
             ],
             [
              1,
              "#f0f921"
             ]
            ],
            "type": "heatmapgl"
           }
          ],
          "histogram": [
           {
            "marker": {
             "colorbar": {
              "outlinewidth": 0,
              "ticks": ""
             }
            },
            "type": "histogram"
           }
          ],
          "histogram2d": [
           {
            "colorbar": {
             "outlinewidth": 0,
             "ticks": ""
            },
            "colorscale": [
             [
              0,
              "#0d0887"
             ],
             [
              0.1111111111111111,
              "#46039f"
             ],
             [
              0.2222222222222222,
              "#7201a8"
             ],
             [
              0.3333333333333333,
              "#9c179e"
             ],
             [
              0.4444444444444444,
              "#bd3786"
             ],
             [
              0.5555555555555556,
              "#d8576b"
             ],
             [
              0.6666666666666666,
              "#ed7953"
             ],
             [
              0.7777777777777778,
              "#fb9f3a"
             ],
             [
              0.8888888888888888,
              "#fdca26"
             ],
             [
              1,
              "#f0f921"
             ]
            ],
            "type": "histogram2d"
           }
          ],
          "histogram2dcontour": [
           {
            "colorbar": {
             "outlinewidth": 0,
             "ticks": ""
            },
            "colorscale": [
             [
              0,
              "#0d0887"
             ],
             [
              0.1111111111111111,
              "#46039f"
             ],
             [
              0.2222222222222222,
              "#7201a8"
             ],
             [
              0.3333333333333333,
              "#9c179e"
             ],
             [
              0.4444444444444444,
              "#bd3786"
             ],
             [
              0.5555555555555556,
              "#d8576b"
             ],
             [
              0.6666666666666666,
              "#ed7953"
             ],
             [
              0.7777777777777778,
              "#fb9f3a"
             ],
             [
              0.8888888888888888,
              "#fdca26"
             ],
             [
              1,
              "#f0f921"
             ]
            ],
            "type": "histogram2dcontour"
           }
          ],
          "mesh3d": [
           {
            "colorbar": {
             "outlinewidth": 0,
             "ticks": ""
            },
            "type": "mesh3d"
           }
          ],
          "parcoords": [
           {
            "line": {
             "colorbar": {
              "outlinewidth": 0,
              "ticks": ""
             }
            },
            "type": "parcoords"
           }
          ],
          "pie": [
           {
            "automargin": true,
            "type": "pie"
           }
          ],
          "scatter": [
           {
            "marker": {
             "colorbar": {
              "outlinewidth": 0,
              "ticks": ""
             }
            },
            "type": "scatter"
           }
          ],
          "scatter3d": [
           {
            "line": {
             "colorbar": {
              "outlinewidth": 0,
              "ticks": ""
             }
            },
            "marker": {
             "colorbar": {
              "outlinewidth": 0,
              "ticks": ""
             }
            },
            "type": "scatter3d"
           }
          ],
          "scattercarpet": [
           {
            "marker": {
             "colorbar": {
              "outlinewidth": 0,
              "ticks": ""
             }
            },
            "type": "scattercarpet"
           }
          ],
          "scattergeo": [
           {
            "marker": {
             "colorbar": {
              "outlinewidth": 0,
              "ticks": ""
             }
            },
            "type": "scattergeo"
           }
          ],
          "scattergl": [
           {
            "marker": {
             "colorbar": {
              "outlinewidth": 0,
              "ticks": ""
             }
            },
            "type": "scattergl"
           }
          ],
          "scattermapbox": [
           {
            "marker": {
             "colorbar": {
              "outlinewidth": 0,
              "ticks": ""
             }
            },
            "type": "scattermapbox"
           }
          ],
          "scatterpolar": [
           {
            "marker": {
             "colorbar": {
              "outlinewidth": 0,
              "ticks": ""
             }
            },
            "type": "scatterpolar"
           }
          ],
          "scatterpolargl": [
           {
            "marker": {
             "colorbar": {
              "outlinewidth": 0,
              "ticks": ""
             }
            },
            "type": "scatterpolargl"
           }
          ],
          "scatterternary": [
           {
            "marker": {
             "colorbar": {
              "outlinewidth": 0,
              "ticks": ""
             }
            },
            "type": "scatterternary"
           }
          ],
          "surface": [
           {
            "colorbar": {
             "outlinewidth": 0,
             "ticks": ""
            },
            "colorscale": [
             [
              0,
              "#0d0887"
             ],
             [
              0.1111111111111111,
              "#46039f"
             ],
             [
              0.2222222222222222,
              "#7201a8"
             ],
             [
              0.3333333333333333,
              "#9c179e"
             ],
             [
              0.4444444444444444,
              "#bd3786"
             ],
             [
              0.5555555555555556,
              "#d8576b"
             ],
             [
              0.6666666666666666,
              "#ed7953"
             ],
             [
              0.7777777777777778,
              "#fb9f3a"
             ],
             [
              0.8888888888888888,
              "#fdca26"
             ],
             [
              1,
              "#f0f921"
             ]
            ],
            "type": "surface"
           }
          ],
          "table": [
           {
            "cells": {
             "fill": {
              "color": "#EBF0F8"
             },
             "line": {
              "color": "white"
             }
            },
            "header": {
             "fill": {
              "color": "#C8D4E3"
             },
             "line": {
              "color": "white"
             }
            },
            "type": "table"
           }
          ]
         },
         "layout": {
          "annotationdefaults": {
           "arrowcolor": "#2a3f5f",
           "arrowhead": 0,
           "arrowwidth": 1
          },
          "autotypenumbers": "strict",
          "coloraxis": {
           "colorbar": {
            "outlinewidth": 0,
            "ticks": ""
           }
          },
          "colorscale": {
           "diverging": [
            [
             0,
             "#8e0152"
            ],
            [
             0.1,
             "#c51b7d"
            ],
            [
             0.2,
             "#de77ae"
            ],
            [
             0.3,
             "#f1b6da"
            ],
            [
             0.4,
             "#fde0ef"
            ],
            [
             0.5,
             "#f7f7f7"
            ],
            [
             0.6,
             "#e6f5d0"
            ],
            [
             0.7,
             "#b8e186"
            ],
            [
             0.8,
             "#7fbc41"
            ],
            [
             0.9,
             "#4d9221"
            ],
            [
             1,
             "#276419"
            ]
           ],
           "sequential": [
            [
             0,
             "#0d0887"
            ],
            [
             0.1111111111111111,
             "#46039f"
            ],
            [
             0.2222222222222222,
             "#7201a8"
            ],
            [
             0.3333333333333333,
             "#9c179e"
            ],
            [
             0.4444444444444444,
             "#bd3786"
            ],
            [
             0.5555555555555556,
             "#d8576b"
            ],
            [
             0.6666666666666666,
             "#ed7953"
            ],
            [
             0.7777777777777778,
             "#fb9f3a"
            ],
            [
             0.8888888888888888,
             "#fdca26"
            ],
            [
             1,
             "#f0f921"
            ]
           ],
           "sequentialminus": [
            [
             0,
             "#0d0887"
            ],
            [
             0.1111111111111111,
             "#46039f"
            ],
            [
             0.2222222222222222,
             "#7201a8"
            ],
            [
             0.3333333333333333,
             "#9c179e"
            ],
            [
             0.4444444444444444,
             "#bd3786"
            ],
            [
             0.5555555555555556,
             "#d8576b"
            ],
            [
             0.6666666666666666,
             "#ed7953"
            ],
            [
             0.7777777777777778,
             "#fb9f3a"
            ],
            [
             0.8888888888888888,
             "#fdca26"
            ],
            [
             1,
             "#f0f921"
            ]
           ]
          },
          "colorway": [
           "#636efa",
           "#EF553B",
           "#00cc96",
           "#ab63fa",
           "#FFA15A",
           "#19d3f3",
           "#FF6692",
           "#B6E880",
           "#FF97FF",
           "#FECB52"
          ],
          "font": {
           "color": "#2a3f5f"
          },
          "geo": {
           "bgcolor": "white",
           "lakecolor": "white",
           "landcolor": "#E5ECF6",
           "showlakes": true,
           "showland": true,
           "subunitcolor": "white"
          },
          "hoverlabel": {
           "align": "left"
          },
          "hovermode": "closest",
          "mapbox": {
           "style": "light"
          },
          "paper_bgcolor": "white",
          "plot_bgcolor": "#E5ECF6",
          "polar": {
           "angularaxis": {
            "gridcolor": "white",
            "linecolor": "white",
            "ticks": ""
           },
           "bgcolor": "#E5ECF6",
           "radialaxis": {
            "gridcolor": "white",
            "linecolor": "white",
            "ticks": ""
           }
          },
          "scene": {
           "xaxis": {
            "backgroundcolor": "#E5ECF6",
            "gridcolor": "white",
            "gridwidth": 2,
            "linecolor": "white",
            "showbackground": true,
            "ticks": "",
            "zerolinecolor": "white"
           },
           "yaxis": {
            "backgroundcolor": "#E5ECF6",
            "gridcolor": "white",
            "gridwidth": 2,
            "linecolor": "white",
            "showbackground": true,
            "ticks": "",
            "zerolinecolor": "white"
           },
           "zaxis": {
            "backgroundcolor": "#E5ECF6",
            "gridcolor": "white",
            "gridwidth": 2,
            "linecolor": "white",
            "showbackground": true,
            "ticks": "",
            "zerolinecolor": "white"
           }
          },
          "shapedefaults": {
           "line": {
            "color": "#2a3f5f"
           }
          },
          "ternary": {
           "aaxis": {
            "gridcolor": "white",
            "linecolor": "white",
            "ticks": ""
           },
           "baxis": {
            "gridcolor": "white",
            "linecolor": "white",
            "ticks": ""
           },
           "bgcolor": "#E5ECF6",
           "caxis": {
            "gridcolor": "white",
            "linecolor": "white",
            "ticks": ""
           }
          },
          "title": {
           "x": 0.05
          },
          "xaxis": {
           "automargin": true,
           "gridcolor": "white",
           "linecolor": "white",
           "ticks": "",
           "title": {
            "standoff": 15
           },
           "zerolinecolor": "white",
           "zerolinewidth": 2
          },
          "yaxis": {
           "automargin": true,
           "gridcolor": "white",
           "linecolor": "white",
           "ticks": "",
           "title": {
            "standoff": 15
           },
           "zerolinecolor": "white",
           "zerolinewidth": 2
          }
         }
        }
       }
      },
      "text/html": [
       "<div>                            <div id=\"99ad0c3f-05a5-4c15-969b-b64da27e3547\" class=\"plotly-graph-div\" style=\"height:525px; width:100%;\"></div>            <script type=\"text/javascript\">                require([\"plotly\"], function(Plotly) {                    window.PLOTLYENV=window.PLOTLYENV || {};                                    if (document.getElementById(\"99ad0c3f-05a5-4c15-969b-b64da27e3547\")) {                    Plotly.newPlot(                        \"99ad0c3f-05a5-4c15-969b-b64da27e3547\",                        [{\"marker\": {\"color\": \"crimson\", \"size\": 15}, \"name\": \"Cumulative\", \"type\": \"scatter\", \"x\": [\"\", \"PC1\", \"PC2\", \"PC3\"], \"y\": [0.0, 30.2, 53.2, 65.8]}, {\"marker\": {\"color\": \"cyan\"}, \"name\": \"Explained\", \"type\": \"bar\", \"x\": [\"\", \"PC1\", \"PC2\", \"PC3\"], \"y\": [0.0, 30.2, 23.0, 12.6]}],                        {\"template\": {\"data\": {\"bar\": [{\"error_x\": {\"color\": \"#2a3f5f\"}, \"error_y\": {\"color\": \"#2a3f5f\"}, \"marker\": {\"line\": {\"color\": \"#E5ECF6\", \"width\": 0.5}}, \"type\": \"bar\"}], \"barpolar\": [{\"marker\": {\"line\": {\"color\": \"#E5ECF6\", \"width\": 0.5}}, \"type\": \"barpolar\"}], \"carpet\": [{\"aaxis\": {\"endlinecolor\": \"#2a3f5f\", \"gridcolor\": \"white\", \"linecolor\": \"white\", \"minorgridcolor\": \"white\", \"startlinecolor\": \"#2a3f5f\"}, \"baxis\": {\"endlinecolor\": \"#2a3f5f\", \"gridcolor\": \"white\", \"linecolor\": \"white\", \"minorgridcolor\": \"white\", \"startlinecolor\": \"#2a3f5f\"}, \"type\": \"carpet\"}], \"choropleth\": [{\"colorbar\": {\"outlinewidth\": 0, \"ticks\": \"\"}, \"type\": \"choropleth\"}], \"contour\": [{\"colorbar\": {\"outlinewidth\": 0, \"ticks\": \"\"}, \"colorscale\": [[0.0, \"#0d0887\"], [0.1111111111111111, \"#46039f\"], [0.2222222222222222, \"#7201a8\"], [0.3333333333333333, \"#9c179e\"], [0.4444444444444444, \"#bd3786\"], [0.5555555555555556, \"#d8576b\"], [0.6666666666666666, \"#ed7953\"], [0.7777777777777778, \"#fb9f3a\"], [0.8888888888888888, \"#fdca26\"], [1.0, \"#f0f921\"]], \"type\": \"contour\"}], \"contourcarpet\": [{\"colorbar\": {\"outlinewidth\": 0, \"ticks\": \"\"}, \"type\": \"contourcarpet\"}], \"heatmap\": [{\"colorbar\": {\"outlinewidth\": 0, \"ticks\": \"\"}, \"colorscale\": [[0.0, \"#0d0887\"], [0.1111111111111111, \"#46039f\"], [0.2222222222222222, \"#7201a8\"], [0.3333333333333333, \"#9c179e\"], [0.4444444444444444, \"#bd3786\"], [0.5555555555555556, \"#d8576b\"], [0.6666666666666666, \"#ed7953\"], [0.7777777777777778, \"#fb9f3a\"], [0.8888888888888888, \"#fdca26\"], [1.0, \"#f0f921\"]], \"type\": \"heatmap\"}], \"heatmapgl\": [{\"colorbar\": {\"outlinewidth\": 0, \"ticks\": \"\"}, \"colorscale\": [[0.0, \"#0d0887\"], [0.1111111111111111, \"#46039f\"], [0.2222222222222222, \"#7201a8\"], [0.3333333333333333, \"#9c179e\"], [0.4444444444444444, \"#bd3786\"], [0.5555555555555556, \"#d8576b\"], [0.6666666666666666, \"#ed7953\"], [0.7777777777777778, \"#fb9f3a\"], [0.8888888888888888, \"#fdca26\"], [1.0, \"#f0f921\"]], \"type\": \"heatmapgl\"}], \"histogram\": [{\"marker\": {\"colorbar\": {\"outlinewidth\": 0, \"ticks\": \"\"}}, \"type\": \"histogram\"}], \"histogram2d\": [{\"colorbar\": {\"outlinewidth\": 0, \"ticks\": \"\"}, \"colorscale\": [[0.0, \"#0d0887\"], [0.1111111111111111, \"#46039f\"], [0.2222222222222222, \"#7201a8\"], [0.3333333333333333, \"#9c179e\"], [0.4444444444444444, \"#bd3786\"], [0.5555555555555556, \"#d8576b\"], [0.6666666666666666, \"#ed7953\"], [0.7777777777777778, \"#fb9f3a\"], [0.8888888888888888, \"#fdca26\"], [1.0, \"#f0f921\"]], \"type\": \"histogram2d\"}], \"histogram2dcontour\": [{\"colorbar\": {\"outlinewidth\": 0, \"ticks\": \"\"}, \"colorscale\": [[0.0, \"#0d0887\"], [0.1111111111111111, \"#46039f\"], [0.2222222222222222, \"#7201a8\"], [0.3333333333333333, \"#9c179e\"], [0.4444444444444444, \"#bd3786\"], [0.5555555555555556, \"#d8576b\"], [0.6666666666666666, \"#ed7953\"], [0.7777777777777778, \"#fb9f3a\"], [0.8888888888888888, \"#fdca26\"], [1.0, \"#f0f921\"]], \"type\": \"histogram2dcontour\"}], \"mesh3d\": [{\"colorbar\": {\"outlinewidth\": 0, \"ticks\": \"\"}, \"type\": \"mesh3d\"}], \"parcoords\": [{\"line\": {\"colorbar\": {\"outlinewidth\": 0, \"ticks\": \"\"}}, \"type\": \"parcoords\"}], \"pie\": [{\"automargin\": true, \"type\": \"pie\"}], \"scatter\": [{\"marker\": {\"colorbar\": {\"outlinewidth\": 0, \"ticks\": \"\"}}, \"type\": \"scatter\"}], \"scatter3d\": [{\"line\": {\"colorbar\": {\"outlinewidth\": 0, \"ticks\": \"\"}}, \"marker\": {\"colorbar\": {\"outlinewidth\": 0, \"ticks\": \"\"}}, \"type\": \"scatter3d\"}], \"scattercarpet\": [{\"marker\": {\"colorbar\": {\"outlinewidth\": 0, \"ticks\": \"\"}}, \"type\": \"scattercarpet\"}], \"scattergeo\": [{\"marker\": {\"colorbar\": {\"outlinewidth\": 0, \"ticks\": \"\"}}, \"type\": \"scattergeo\"}], \"scattergl\": [{\"marker\": {\"colorbar\": {\"outlinewidth\": 0, \"ticks\": \"\"}}, \"type\": \"scattergl\"}], \"scattermapbox\": [{\"marker\": {\"colorbar\": {\"outlinewidth\": 0, \"ticks\": \"\"}}, \"type\": \"scattermapbox\"}], \"scatterpolar\": [{\"marker\": {\"colorbar\": {\"outlinewidth\": 0, \"ticks\": \"\"}}, \"type\": \"scatterpolar\"}], \"scatterpolargl\": [{\"marker\": {\"colorbar\": {\"outlinewidth\": 0, \"ticks\": \"\"}}, \"type\": \"scatterpolargl\"}], \"scatterternary\": [{\"marker\": {\"colorbar\": {\"outlinewidth\": 0, \"ticks\": \"\"}}, \"type\": \"scatterternary\"}], \"surface\": [{\"colorbar\": {\"outlinewidth\": 0, \"ticks\": \"\"}, \"colorscale\": [[0.0, \"#0d0887\"], [0.1111111111111111, \"#46039f\"], [0.2222222222222222, \"#7201a8\"], [0.3333333333333333, \"#9c179e\"], [0.4444444444444444, \"#bd3786\"], [0.5555555555555556, \"#d8576b\"], [0.6666666666666666, \"#ed7953\"], [0.7777777777777778, \"#fb9f3a\"], [0.8888888888888888, \"#fdca26\"], [1.0, \"#f0f921\"]], \"type\": \"surface\"}], \"table\": [{\"cells\": {\"fill\": {\"color\": \"#EBF0F8\"}, \"line\": {\"color\": \"white\"}}, \"header\": {\"fill\": {\"color\": \"#C8D4E3\"}, \"line\": {\"color\": \"white\"}}, \"type\": \"table\"}]}, \"layout\": {\"annotationdefaults\": {\"arrowcolor\": \"#2a3f5f\", \"arrowhead\": 0, \"arrowwidth\": 1}, \"autotypenumbers\": \"strict\", \"coloraxis\": {\"colorbar\": {\"outlinewidth\": 0, \"ticks\": \"\"}}, \"colorscale\": {\"diverging\": [[0, \"#8e0152\"], [0.1, \"#c51b7d\"], [0.2, \"#de77ae\"], [0.3, \"#f1b6da\"], [0.4, \"#fde0ef\"], [0.5, \"#f7f7f7\"], [0.6, \"#e6f5d0\"], [0.7, \"#b8e186\"], [0.8, \"#7fbc41\"], [0.9, \"#4d9221\"], [1, \"#276419\"]], \"sequential\": [[0.0, \"#0d0887\"], [0.1111111111111111, \"#46039f\"], [0.2222222222222222, \"#7201a8\"], [0.3333333333333333, \"#9c179e\"], [0.4444444444444444, \"#bd3786\"], [0.5555555555555556, \"#d8576b\"], [0.6666666666666666, \"#ed7953\"], [0.7777777777777778, \"#fb9f3a\"], [0.8888888888888888, \"#fdca26\"], [1.0, \"#f0f921\"]], \"sequentialminus\": [[0.0, \"#0d0887\"], [0.1111111111111111, \"#46039f\"], [0.2222222222222222, \"#7201a8\"], [0.3333333333333333, \"#9c179e\"], [0.4444444444444444, \"#bd3786\"], [0.5555555555555556, \"#d8576b\"], [0.6666666666666666, \"#ed7953\"], [0.7777777777777778, \"#fb9f3a\"], [0.8888888888888888, \"#fdca26\"], [1.0, \"#f0f921\"]]}, \"colorway\": [\"#636efa\", \"#EF553B\", \"#00cc96\", \"#ab63fa\", \"#FFA15A\", \"#19d3f3\", \"#FF6692\", \"#B6E880\", \"#FF97FF\", \"#FECB52\"], \"font\": {\"color\": \"#2a3f5f\"}, \"geo\": {\"bgcolor\": \"white\", \"lakecolor\": \"white\", \"landcolor\": \"#E5ECF6\", \"showlakes\": true, \"showland\": true, \"subunitcolor\": \"white\"}, \"hoverlabel\": {\"align\": \"left\"}, \"hovermode\": \"closest\", \"mapbox\": {\"style\": \"light\"}, \"paper_bgcolor\": \"white\", \"plot_bgcolor\": \"#E5ECF6\", \"polar\": {\"angularaxis\": {\"gridcolor\": \"white\", \"linecolor\": \"white\", \"ticks\": \"\"}, \"bgcolor\": \"#E5ECF6\", \"radialaxis\": {\"gridcolor\": \"white\", \"linecolor\": \"white\", \"ticks\": \"\"}}, \"scene\": {\"xaxis\": {\"backgroundcolor\": \"#E5ECF6\", \"gridcolor\": \"white\", \"gridwidth\": 2, \"linecolor\": \"white\", \"showbackground\": true, \"ticks\": \"\", \"zerolinecolor\": \"white\"}, \"yaxis\": {\"backgroundcolor\": \"#E5ECF6\", \"gridcolor\": \"white\", \"gridwidth\": 2, \"linecolor\": \"white\", \"showbackground\": true, \"ticks\": \"\", \"zerolinecolor\": \"white\"}, \"zaxis\": {\"backgroundcolor\": \"#E5ECF6\", \"gridcolor\": \"white\", \"gridwidth\": 2, \"linecolor\": \"white\", \"showbackground\": true, \"ticks\": \"\", \"zerolinecolor\": \"white\"}}, \"shapedefaults\": {\"line\": {\"color\": \"#2a3f5f\"}}, \"ternary\": {\"aaxis\": {\"gridcolor\": \"white\", \"linecolor\": \"white\", \"ticks\": \"\"}, \"baxis\": {\"gridcolor\": \"white\", \"linecolor\": \"white\", \"ticks\": \"\"}, \"bgcolor\": \"#E5ECF6\", \"caxis\": {\"gridcolor\": \"white\", \"linecolor\": \"white\", \"ticks\": \"\"}}, \"title\": {\"x\": 0.05}, \"xaxis\": {\"automargin\": true, \"gridcolor\": \"white\", \"linecolor\": \"white\", \"ticks\": \"\", \"title\": {\"standoff\": 15}, \"zerolinecolor\": \"white\", \"zerolinewidth\": 2}, \"yaxis\": {\"automargin\": true, \"gridcolor\": \"white\", \"linecolor\": \"white\", \"ticks\": \"\", \"title\": {\"standoff\": 15}, \"zerolinecolor\": \"white\", \"zerolinewidth\": 2}}}},                        {\"responsive\": true}                    ).then(function(){\n",
       "                            \n",
       "var gd = document.getElementById('99ad0c3f-05a5-4c15-969b-b64da27e3547');\n",
       "var x = new MutationObserver(function (mutations, observer) {{\n",
       "        var display = window.getComputedStyle(gd).display;\n",
       "        if (!display || display === 'none') {{\n",
       "            console.log([gd, 'removed!']);\n",
       "            Plotly.purge(gd);\n",
       "            observer.disconnect();\n",
       "        }}\n",
       "}});\n",
       "\n",
       "// Listen for the removal of the full notebook cells\n",
       "var notebookContainer = gd.closest('#notebook-container');\n",
       "if (notebookContainer) {{\n",
       "    x.observe(notebookContainer, {childList: true});\n",
       "}}\n",
       "\n",
       "// Listen for the clearing of the current output cell\n",
       "var outputEl = gd.closest('.output');\n",
       "if (outputEl) {{\n",
       "    x.observe(outputEl, {childList: true});\n",
       "}}\n",
       "\n",
       "                        })                };                });            </script>        </div>"
      ]
     },
     "metadata": {},
     "output_type": "display_data"
    }
   ],
   "source": [
    "import plotly.graph_objects as go\n",
    "\n",
    "fig = go.Figure()\n",
    "\n",
    "fig.add_trace(\n",
    "    go.Scatter(\n",
    "        x=df_explained_variance['PC'],\n",
    "        y=df_explained_variance['Cumulative Variance'],\n",
    "        marker=dict(size=15, color='crimson'),\n",
    "        name='Cumulative'\n",
    "    ))\n",
    "\n",
    "fig.add_trace(\n",
    "    go.Bar(\n",
    "        x=df_explained_variance['PC'],\n",
    "        y=df_explained_variance['Explained Variance'],\n",
    "        marker=dict(color='cyan'),\n",
    "        name='Explained'\n",
    "    ))\n",
    "\n",
    "fig.show()"
   ]
  },
  {
   "cell_type": "markdown",
   "id": "7b096677",
   "metadata": {},
   "source": [
    "#### Scores plot"
   ]
  },
  {
   "cell_type": "code",
   "execution_count": 100,
   "id": "80e6b73b",
   "metadata": {},
   "outputs": [
    {
     "data": {
      "application/vnd.plotly.v1+json": {
       "config": {
        "plotlyServerURL": "https://plot.ly"
       },
       "data": [
        {
         "hovertemplate": "Survived=No<br>PC1=%{x}<br>PC2=%{y}<br>PC3=%{z}<extra></extra>",
         "legendgroup": "No",
         "marker": {
          "color": "#636efa",
          "symbol": "circle"
         },
         "mode": "markers",
         "name": "No",
         "scene": "scene",
         "showlegend": true,
         "type": "scatter3d",
         "x": [
          0.16096814133800177,
          -0.2934493890573288,
          -1.0459444505935476,
          -0.9435473262010773,
          0.3299956743323115,
          -1.000770377025233,
          -0.9833167229650605,
          -0.7946694791431,
          -0.5887540558620885,
          2.48549091193494,
          -0.37831843303785084,
          0.3380983393635899,
          -0.8074989381161805,
          -0.8435661960781912,
          -0.9435132113043566,
          -0.5584818258861791,
          -1.1315297903125887,
          -1.0574232566388244,
          -0.9802515598106015,
          -0.2914098298719543,
          -0.6243015519225766,
          -0.15965307245363453,
          -1.0600556039642441,
          -1.06570125124755,
          -0.32197055326760865,
          -0.9118425366167161,
          -0.5353630268395321,
          -0.28441546984147087,
          -1.08706587010833,
          -0.9711277635557273,
          -0.4995067931839583,
          -0.7806377125374707,
          -1.0277806431693188,
          -0.7875745722588149,
          -1.085901358836196,
          -0.6465887558701158,
          -0.5439939970613666,
          -0.8593857074090142,
          -0.32453789050678034,
          -0.5290721728004103,
          -0.17055071316274975,
          -1.1611724037820943,
          0.15609094067691423,
          0.49828532747016646,
          -0.5541787836052782,
          -0.535062941483542,
          -0.9525095982234207,
          0.5438971422289345,
          0.23198780123581475,
          0.4096110793729415,
          -0.7695326191079052,
          -1.0839290087776925,
          -1.0448516374975922,
          -0.14147743920163855,
          -1.0670074517726087,
          -0.6624639334131854,
          -0.6237932415901325,
          -0.44395500059738585,
          -0.5103334712034608,
          0.325038849589273,
          -1.1210738062865213,
          0.11965860312080384,
          -0.31537716372490887,
          -0.9287260194663244,
          -0.36107845819636636,
          -0.5389375392281069,
          -0.3215738785138713,
          0.43435463006154185,
          -0.8075949164390609,
          -1.037241388226048,
          -0.05461410773588535,
          -0.5308212624208352,
          -0.8525573096777049,
          3.2706606970931813,
          -1.0722445633735773,
          -0.6706731436581446,
          -0.938852802760802,
          -0.7389867711991951,
          -0.7083230428099128,
          -1.000770377025233,
          -0.642426668065746,
          -0.09492631007050172,
          -1.0710800521014432,
          -0.3879287959116579,
          -1.035230964012069,
          0.7392012448632039,
          -0.6754117822247275,
          -0.6345088464218739,
          -0.4294512204484526,
          -0.5218300665480945,
          -0.8205872694676678,
          -0.3125881944769889,
          -0.8880301162824497,
          -1.0722445633735773,
          1.4156284655513407,
          -0.6850888927431226,
          0.16199379083246454,
          1.1821387341471323,
          -0.9437424744543111,
          -0.6310348855601051,
          -0.8943888825565437,
          -0.6180000132089271,
          -0.07628790196269504,
          0.7069315163112153,
          -1.0029573135587626,
          -0.1738524052322121,
          0.1095664600684806,
          -0.4848618926545128,
          -1.0722445633735773,
          -0.808586292911349,
          0.4389498347371944,
          -0.95836863293583,
          2.6845360086652366,
          -0.837353343211053,
          -0.8214621855183709,
          -0.11307046815050557,
          -0.3694274093151731,
          -1.039465088573434,
          -1.1315297903125887,
          -0.15965307245363453,
          -0.6327266596294752,
          -0.6276053613309932,
          0.06134334739402844,
          0.04198584984405826,
          -0.5587147862699159,
          -0.8970212298819634,
          -1.0277806431693188,
          -1.0155916837599859,
          -1.0795560492944385,
          -0.2626853263285975,
          -0.048257229115574084,
          -0.49072186868030593,
          -0.6476426266784326,
          -0.8098263648567122,
          0.07903131925488206,
          -0.5146475221883244,
          -0.8674215552846932,
          0.8394373093647135,
          -0.12711045657851022,
          0.38551561792646255,
          3.0169987336503516,
          -0.9060733279606586,
          -0.06731098233472868,
          -0.5587147862699159,
          -0.7081355313312476,
          -0.2767567483482198,
          0.12282752409037002,
          -0.8575572250772174,
          0.4778060096514508,
          -0.9270618589057326,
          -0.7916090984321741,
          -0.8525573096777049,
          -0.4698641797144526,
          -1.0600556039642441,
          -0.18245947727615236,
          -0.5306180334628244,
          -1.0891997443993642,
          -1.0743784376646115,
          1.5047725529004943,
          -0.9950011683691756,
          0.15178649633316707,
          0.11867165996410424,
          -0.2725838646017388,
          -1.0755870640630532,
          -1.0098224751039284,
          -1.1041368644366034,
          -0.9118425366167161,
          -0.8810901276893948,
          0.503098387651012,
          -0.029834180608008937,
          0.07391496653526057,
          -0.0691441680280263,
          -0.9437424744543111,
          -0.7177175479912499,
          -1.0600556039642441,
          0.11008144527235898,
          -0.27693370875717743,
          -0.7199627259686219,
          -0.692106546882691,
          0.09154438964424562,
          -0.5498842482182947,
          -0.7734894061342531,
          -0.6103913597411191,
          0.3927808133349941,
          -0.17045264685817835,
          0.6618559831871346,
          -1.1000383881573308,
          -0.9283968187347346,
          -0.06967082608848811,
          -1.1463510970473414,
          0.9339886550386215,
          -0.6180000132089271,
          -0.014781247268283228,
          -0.5796067702165874,
          0.8870796094582407,
          -0.6003312267900572,
          -0.49245681656259993,
          -0.7909446559981622,
          0.8730363786818249,
          -0.018623361335220235,
          -1.101887176843083,
          -1.0300303307628396,
          -1.085901358836196,
          -1.1214030070181111,
          -0.6180000132089271,
          -0.956634481298492,
          -0.7958556940259608,
          -0.3318958100615828,
          -0.7298820136789709,
          -0.8616094077564004,
          -0.8805369388406908,
          -0.8764307144911531,
          -0.5022702035199855,
          -0.9994612931466692,
          -0.8860353272745889,
          -0.09129135599352962,
          0.6790264718482576,
          -0.8795675758217908,
          -0.8990834059968188,
          -0.32471605811144405,
          0.23720642201303832,
          -0.11310451280461987,
          -0.6656061130107582,
          -0.6458561922948579,
          -0.7843539258426581,
          -0.5226917029155896,
          0.1935121711412463,
          -0.3968120702596913,
          1.4483160441349474,
          -0.6917098721289536,
          0.5376291972091397,
          -0.716838122324398,
          -0.7496053394381275,
          -0.6446046574830878,
          -0.8553301700019772,
          -0.8237118731118916,
          -1.1210738062865213,
          1.1655060575292746,
          -0.44054100714563094,
          -0.5650163249835655,
          -1.0111792802982609,
          -0.45939874570014033,
          0.0022623500623400105,
          -0.9713840898570661,
          -0.4189344691212385,
          -0.6035753812279115,
          -1.163804751107514,
          -1.0304129904947386,
          -0.4027501026464106,
          -0.7878152178671828,
          -0.6031956118712799,
          -1.1007226655709488,
          -1.0765123119556457,
          -0.9917792634257191,
          -0.5747437707184725,
          0.036080882246569954,
          -0.7348845206424038,
          -0.3524397805227552,
          0.18309973088376105,
          -0.7180439766650311,
          -0.9113440635823306,
          0.5312472573341752,
          0.23693946283458212,
          -1.1124407349957675,
          -1.2393086811856842,
          -0.9718379169197836,
          -0.5728479012796809,
          -0.7282893453198037,
          -0.5055431754150589,
          -0.4173360084986722,
          0.7042506965385397,
          -1.0412058120269647,
          -1.1463510970473414,
          -0.6532148308559659,
          -0.7213927733285497,
          1.3706002457686557,
          -0.35405713617245765,
          -0.8818172634153113,
          -0.05432286129327349,
          0.2801721057946267,
          -0.8674215552846932,
          1.9368036574501069,
          -0.7492778762648776
         ],
         "y": [
          -0.4506276041854649,
          0.7928416472878517,
          -0.09903753084792137,
          0.374224313889885,
          1.5671856166491633,
          0.1036177913596341,
          0.17085156532910703,
          1.6759234596951387,
          -2.1842790305268247,
          0.39116340753023826,
          2.6890222307538263,
          1.0230486114511153,
          0.5319557371093494,
          0.2914020390704818,
          -0.09457617187303362,
          -1.5280465270637822,
          -0.5049803987391821,
          -0.1670644167050377,
          -0.1406188031346904,
          3.347884955790357,
          -1.9115062154769924,
          0.3697454609760138,
          -0.16671499426768166,
          -0.2355161839305342,
          0.7111790246815948,
          0.5091169698006074,
          -2.087520180225383,
          -0.5904815371602372,
          -0.3022308095186953,
          0.23878418417329195,
          -0.939527681504835,
          0.7025127113568377,
          -0.03189802389137977,
          0.7379627501540855,
          -0.23283478594011053,
          -0.7501383775501844,
          0.7838189219666674,
          0.7803561690138014,
          0.4590228728120358,
          0.8082206626294597,
          -0.23089386854819005,
          -0.64014679155284,
          0.6973586776420687,
          0.6869565649071516,
          -1.1060216307672515,
          -0.1718481673671759,
          0.3754139817213499,
          -0.627802875459253,
          1.4175863267063757,
          1.9452663677631619,
          1.1857325284138884,
          -0.6137106953251446,
          -0.029631989926684622,
          0.12865493348911183,
          -0.30489339942721205,
          0.19997189496799936,
          -0.7161667884005095,
          -0.2999896175922383,
          2.4727874297223,
          0.53792793116587,
          -0.506368344542558,
          -0.2598043339214627,
          0.8443463004315603,
          0.44180751029671383,
          -0.79272485607595,
          0.07017904401157103,
          1.7543854123250648,
          0.5610231788216268,
          0.982133176456641,
          -0.03064218786814569,
          -0.30986173464096084,
          0.5115121942403892,
          0.7794497554279234,
          -0.019129589158048833,
          -0.23464761311186655,
          1.5203627611992252,
          0.37360115454959386,
          -0.1814684787496622,
          0.02311297232788414,
          0.1036177913596341,
          1.7252650826861724,
          -0.9979197469343485,
          -0.16525158953328156,
          -1.0673631062361861,
          -0.17001026085914128,
          1.1835102320580084,
          1.5905423793228017,
          -1.865707580276899,
          -2.274975773373544,
          -0.21029424360775517,
          0.5336931053500812,
          0.4574366490367493,
          0.08865244984999497,
          -0.23464761311186655,
          2.368553787153319,
          -0.8471315010368295,
          0.37602591388011586,
          0.42507147390739086,
          0.23514901248712813,
          0.5435529619138815,
          0.5763507437700803,
          0.4027214841884862,
          1.0093565772190451,
          0.11561228501586511,
          -0.311235234745596,
          -0.547444431929421,
          1.5964457802182883,
          -0.35214237683450134,
          -0.23464761311186655,
          -0.450432126655509,
          -0.6502002626812143,
          0.30664111748305606,
          -0.8303750461147346,
          0.9165327597689203,
          -0.40487782174641807,
          -0.8339183495597133,
          -0.0663163340352411,
          -0.41096110610465775,
          -0.5049803987391821,
          0.3697454609760138,
          1.7935280892824097,
          1.7928482790930012,
          0.896814828442475,
          0.1710172664180448,
          0.6730542698158019,
          0.5767001662074364,
          -0.03189802389137977,
          0.03603459495280525,
          -0.3360887582435943,
          0.9815118103089107,
          -0.19125624133381813,
          -0.1523191927931152,
          0.26755509137482836,
          0.9128787800008495,
          -0.442501950423141,
          -1.84636304849268,
          0.4587767493284721,
          -0.1561996461036595,
          2.8413816397460643,
          1.5132210104089547,
          -0.6531626105476331,
          0.19728766155680247,
          -0.2138339144281968,
          0.6730542698158019,
          -0.046462521140704705,
          1.0168616321902713,
          2.6850011941317082,
          -0.7221340500042934,
          0.6567505540091647,
          0.18849109720762222,
          1.1191123964420553,
          0.7794497554279234,
          -0.8043612886911768,
          -0.16671499426768166,
          0.2877148287978296,
          0.9453667753794635,
          -0.30194755527310846,
          -0.2343643588662797,
          -0.902527442911972,
          -0.20821151688417106,
          0.4218245490802094,
          0.4569844494932048,
          0.7691152393938856,
          -0.23420392366157927,
          -0.275794713291,
          -0.29996477555400025,
          0.5091169698006074,
          -0.3407631611307659,
          0.8540734529771741,
          0.5611648803730251,
          1.034247255220828,
          -0.1667348796847082,
          0.23514901248712813,
          0.9373416138520883,
          -0.16671499426768166,
          0.8754283469574987,
          -1.323609680743395,
          0.13805378347290823,
          0.06480550215434165,
          1.2285911125673032,
          -0.23943136377400476,
          1.2558083621818819,
          -0.11800380380164464,
          2.810762257850189,
          0.7156156882597384,
          2.009988112643728,
          -0.3700594174039008,
          0.3722132087462181,
          0.36315762309375843,
          -0.5725635951460111,
          1.4453256777617287,
          0.4027214841884862,
          0.48961612452798,
          -0.3047285615414666,
          -0.20346641511780805,
          -0.37152816340330397,
          0.8986163450790183,
          0.6688594981637391,
          1.3980615740196112,
          1.9814118921455686,
          -0.36981400592552427,
          0.03795120648014438,
          -0.23283478594011053,
          -0.436774042992062,
          0.4027214841884862,
          0.0533154136547092,
          -0.4082768726934606,
          1.5471037551751878,
          -0.9802867887068206,
          0.40003725077728924,
          0.7136132180010812,
          0.3324540543704604,
          0.020868056166200154,
          -0.14965148822299187,
          -0.7879044192393664,
          0.04960751259725781,
          3.131174502296853,
          0.6439339401769094,
          0.5769739031103714,
          0.7372489345485739,
          2.2163590278990815,
          -0.6796925200703672,
          -0.8171645828084914,
          0.4759697655070527,
          1.11814933200706,
          2.335326677519388,
          1.4325955888134754,
          -1.9336522408913075,
          -0.4449328972740637,
          1.1080118897978117,
          0.41297184396341,
          1.0067754801978839,
          0.0028873906592503332,
          1.7951047957150443,
          0.4571717174712787,
          -0.33502859137489416,
          -0.506368344542558,
          1.330630674846577,
          0.17051345342696358,
          -1.6411734298496767,
          -0.5209559381902824,
          0.4769245411331269,
          -0.300594879585822,
          -0.01427730009477155,
          0.26290143293828205,
          -0.5729017070481544,
          -0.6397973691154841,
          -0.031548601454023745,
          -1.1349463026430149,
          -1.2507990442241403,
          -1.4525605372050794,
          -0.3004179823469393,
          -0.23408110462069287,
          -0.3844299249978075,
          0.5617862465207555,
          0.8132134969383761,
          1.389785087164075,
          0.08211252286521802,
          0.8349715921520289,
          1.2040047369753466,
          0.5090508016088383,
          2.4909434339929297,
          -0.5453719275575122,
          -0.4379637108235269,
          -0.351572432509729,
          0.23887845118622328,
          -0.0644208403109131,
          1.0082955357814014,
          -0.21990238919994415,
          0.29968675646191917,
          3.06181519260917,
          -0.16921714897149798,
          -0.5725635951460111,
          -0.6427107117673806,
          0.20563392009697493,
          1.660401915036736,
          0.6967000202344893,
          0.7137831705484334,
          -0.09915168327787924,
          0.43495610322593903,
          0.4587767493284721,
          1.2657432761691745,
          0.999498971432221
         ],
         "z": [
          -1.4132212117778151,
          0.5319480046588259,
          0.7232157446386854,
          0.5976815452379808,
          0.4170383912944036,
          0.6700268417787165,
          0.6534331108674771,
          0.19575254543158224,
          -0.13188165494708728,
          0.833395361440157,
          -0.05959782445390721,
          -1.0430534185586862,
          0.5499102492924903,
          0.6699577452715596,
          0.5718889300468111,
          0.3908507376257955,
          0.8318518665705568,
          0.742642488719017,
          0.7166934151939415,
          -0.18736097985556976,
          0.4291353422723868,
          -0.3593542758958188,
          0.7413943440599484,
          0.763586918425648,
          0.3720368309827916,
          0.5629755883568687,
          0.6007686259124447,
          0.9252490543836743,
          0.778326239859633,
          0.6343430906381006,
          0.7853315084510857,
          0.17942629970625343,
          0.706958737578401,
          0.48474903277993797,
          0.7540089056171143,
          0.20369583287859952,
          -0.1410173518041371,
          0.48837035673953155,
          -0.09125255557284138,
          0.24896875198906052,
          -0.8117122831483369,
          0.8675356177111727,
          -1.5048337956831563,
          -1.676061479771734,
          -0.08052486386799367,
          -0.004919970543460712,
          0.5934320254843426,
          0.29754208188200865,
          0.4456653948623811,
          -1.3451416063070631,
          0.38175781564272604,
          0.8416205403441263,
          0.6988644142381377,
          1.0277272049748976,
          0.7878370697844423,
          0.40954563212183226,
          -0.20020944539846505,
          0.8584967047355897,
          0.03213838042277917,
          -0.8751591968213815,
          0.836809639616468,
          -0.5904397197866219,
          0.2260309072497247,
          0.5798396696676729,
          -0.9834744956579512,
          -0.04369457870192889,
          -0.0008175059952510393,
          -0.15196583658792379,
          0.4383188136062487,
          0.7024728635832271,
          -1.0747894254662183,
          -0.2687866742328858,
          0.4916080860756369,
          2.237869191089989,
          0.760484364289325,
          0.30428520663456804,
          0.5999074841565533,
          -0.03907124781984028,
          -0.09914032551903305,
          0.6700268417787165,
          0.24306997275039396,
          -0.3453809147871285,
          0.7361670300468063,
          -0.896727779030219,
          0.7531651090613593,
          -0.6459601990537454,
          0.27716885538098635,
          0.47914950410155577,
          -0.03147768130609352,
          0.0638950205269813,
          0.5437043315875104,
          -0.08558652923465702,
          0.7234833719824835,
          0.760484364289325,
          -0.3786316426369789,
          -0.17953418859536538,
          -0.9575831026098994,
          0.26514141235537625,
          0.647328004140551,
          0.30010044591963414,
          0.5463818574456294,
          0.3560200054109084,
          0.4977675189702719,
          0.10128145060862105,
          0.447054433260873,
          -1.1510871412948491,
          0.3125204411632536,
          -0.23998971635493263,
          0.760484364289325,
          0.02740566429920455,
          0.3042617867662222,
          0.6155234208082888,
          -0.12890071440824552,
          0.4490781562538262,
          0.557981027244209,
          0.571797273375513,
          0.006695233109896064,
          0.7880949136332025,
          0.8318518665705568,
          -0.3593542758958188,
          0.22279980017800702,
          0.22522809718008593,
          -0.4535233404167027,
          -0.25167791779939275,
          0.2846525031296764,
          0.5451337127865608,
          0.706958737578401,
          0.6878687173490244,
          0.7442160281742694,
          0.3006693287015597,
          -1.2956063553684576,
          -0.4157922565643458,
          0.39170375655152434,
          0.46213025264000085,
          1.0433405127719242,
          -0.2210910327986271,
          0.5291840693662556,
          1.2010373448712557,
          -0.30652332347083655,
          -1.1109887479964722,
          2.412120466841171,
          0.6275180335004307,
          -1.2249173047998887,
          0.2846525031296764,
          -0.07418192086796559,
          -0.2933510788285979,
          0.03298256294072277,
          0.10366375674262342,
          -0.8524626408703483,
          0.60038320972201,
          0.3961596037934221,
          0.4916080860756369,
          0.7496477573104696,
          0.7413943440599484,
          0.6706579969025251,
          0.5696492098020209,
          0.7773144494421,
          0.759472573871792,
          0.8281002077967821,
          0.7345692869222785,
          -0.9075689407807307,
          -1.3854273701126358,
          0.2711911240934214,
          0.7588994957793014,
          0.7524111624925864,
          0.7702319165193696,
          0.5629755883568687,
          0.7829361155099442,
          -0.07280513341325777,
          -0.3724082859054261,
          -0.49730141489758184,
          -0.6315900822428918,
          0.647328004140551,
          0.4432637120376557,
          0.7413943440599484,
          -1.5387174456157378,
          -0.8071612919115986,
          0.407151699341482,
          0.4452293832624482,
          0.5404088526975082,
          0.012921905026847265,
          0.3550121843981284,
          0.49604311989352445,
          -0.0008425328872862463,
          -0.24585602582739827,
          0.4003056579365164,
          0.7970447306476914,
          0.6048652572024645,
          0.6476255276506618,
          0.8496937421408647,
          -0.2044073750435406,
          0.3560200054109084,
          -0.3404013444896573,
          -0.3284751108628089,
          0.41976395400641964,
          -0.313432252303564,
          -0.3200893791076228,
          0.5080205804468946,
          -0.15889311727208222,
          -0.5988518892019911,
          0.7961681154299409,
          0.6810225386678298,
          0.7540089056171143,
          0.8117840520816764,
          0.3560200054109084,
          0.6361001475883211,
          0.5701225122546039,
          0.06889676739619964,
          -0.15103414941923315,
          0.5739924067895068,
          0.5032108572152699,
          0.5918342823598147,
          -0.08116253935368954,
          0.6904020199075762,
          0.11503017364072073,
          -0.2651331847928473,
          -0.027922140768460942,
          0.5285399818753214,
          0.5441559185270569,
          -0.19081501434521242,
          -0.31978654464109124,
          0.035759450267947857,
          0.21954812377187075,
          0.31794232148994217,
          0.39959969121303396,
          0.07601763394541171,
          0.40577671778794866,
          -0.6401769454226746,
          1.668319334754696,
          0.0723750462844057,
          0.16449408498935525,
          0.41881120259535465,
          0.44283545048209794,
          0.21716776999785178,
          0.5349172785881642,
          0.5320448283336376,
          0.836809639616468,
          0.8085160823244807,
          0.5147718355452553,
          0.357767839991155,
          0.8889168461194131,
          -0.15519770996092153,
          -1.2606530102545173,
          0.6539760193166582,
          -0.06140282463218766,
          0.711032466818643,
          0.8662874730521042,
          0.7057105929193325,
          -0.878885903459911,
          -0.07902557672945239,
          0.3447799094063192,
          0.7718507811874223,
          0.758460783454259,
          0.8483765009746392,
          -0.23475880100073712,
          0.046850581481879705,
          0.3235779530111508,
          -0.01780598669129013,
          -1.0419385354759674,
          0.32644797942065745,
          0.5632119425984043,
          0.1724067533188781,
          1.0598290743405343,
          0.8160335718353147,
          0.7310088125408212,
          0.6340063667871456,
          -0.010034408396378806,
          0.4133815304987061,
          -0.3979503809940379,
          -0.4753588242008573,
          0.09691064740373355,
          0.7503320958922671,
          0.8496937421408647,
          -0.23902937876973349,
          0.7527565656474806,
          -0.12442241240193773,
          -0.2595812950567691,
          0.5026037829647502,
          -0.6494319578131997,
          0.8154092958700233,
          0.5291840693662556,
          0.23712673927977534,
          0.3862467067202854
         ]
        },
        {
         "hovertemplate": "Survived=Yes<br>PC1=%{x}<br>PC2=%{y}<br>PC3=%{z}<extra></extra>",
         "legendgroup": "Yes",
         "marker": {
          "color": "#EF553B",
          "symbol": "circle"
         },
         "mode": "markers",
         "name": "Yes",
         "scene": "scene",
         "showlegend": true,
         "type": "scatter3d",
         "x": [
          -0.35597808531673153,
          -0.39105950497576697,
          0.9568009168747207,
          0.08513453149720099,
          0.5668117590951856,
          -0.023502997944460487,
          0.8347003966630834,
          -0.31242263107166357,
          -0.5451664847776322,
          0.08263681396230109,
          -0.2561216333392929,
          0.29357558720426363,
          1.4597927677136011,
          1.3912245380125294,
          0.2611444197141217,
          0.3034363914718706,
          1.2689994355408067,
          3.954189616026837,
          0.8533409117581546,
          0.8605931822695662,
          1.108978361416412,
          0.028869001786007487,
          -0.755160100684747,
          0.2281159990796188,
          8.463087597409732,
          1.9255502565825169,
          0.9996761814650404,
          -0.0223703361802918,
          -0.7508703386492908,
          -0.015804531569835967,
          -0.09974587155844825,
          0.6814326737706216,
          -0.723096554819897,
          -0.43165002917039835,
          -0.3875999324565053,
          -0.2737835842631266,
          -0.8237118731118916,
          0.27596572644887446,
          2.5421426638517683,
          1.1953246418912464,
          0.4889844793199918,
          0.02172326425170823,
          0.8951491649092371,
          0.013947795087648983,
          -0.8423253278878721,
          -0.4717926595190522,
          0.656532450244087,
          -0.30391898438489784,
          1.7877672973106185,
          -1.0246437818386813,
          -0.9125526899807724,
          0.005542757999966084,
          0.5521342855747298,
          1.4604674077433442,
          -0.17112005267114413,
          -0.7346482352954248,
          3.206287407564902,
          -0.8797764982497784,
          -0.82670598520927,
          -0.2609796413337985,
          -0.4617064661302693,
          2.0351169724846225,
          0.4951729963809257,
          8.396417800056605,
          -1.0765840101318245,
          -0.5939296039169547,
          -0.49072186868030593,
          0.0008673342006664173,
          0.21893018710338394,
          1.3680704412944702,
          -0.6099595370501493,
          -0.024206721655838294,
          -0.3487413506182531,
          1.5834145761820928,
          -0.01577397145698787,
          4.405413182648961,
          -0.9113440635823306,
          -1.0016680418679544,
          0.04740962242450794,
          0.6320663103834497,
          -0.5021431596593,
          -1.0432862273176895,
          0.66092302679871,
          -0.356886551275922,
          4.785058826723733,
          -0.9728607389389928,
          -1.101887176843083,
          0.2405248876647405,
          1.626299072154196,
          0.8237196014426482,
          0.1532615963588915,
          0.3651251934623642,
          -0.8522572679657027,
          -0.5055431754150589,
          -0.4668816602909998,
          0.20014877900286904,
          -0.32016810392311856,
          1.0585980173635643,
          -0.020285031157554673,
          -0.7355419810207017,
          -0.4025482663032462,
          1.9653016027256796,
          -0.6168331834291594,
          1.761957909494709,
          -0.05633952471876159,
          1.9934370991334949,
          1.0126214515744998,
          -0.17341997323175773,
          1.9143216071006475,
          -1.1304628531670715,
          0.9131772257702503,
          -0.18639568351752134,
          -0.06787749026540842,
          -1.0987503155124452,
          -0.08219221226262739,
          -0.6596164537290684,
          1.7820293751075342,
          2.265692053802075,
          -0.879872496406679,
          3.987190810087952,
          -0.2946393587796405,
          -0.6554023578881997,
          -0.3573301080675308,
          0.27596572644887446,
          -0.24381760602769517,
          -0.14229387296141477,
          0.2054320615422601,
          3.4843493890155526,
          -0.5944710158235756,
          -0.08272076270648009,
          -0.694601389700728,
          -0.6710235615981665,
          0.25211510922719105,
          -0.07437100667101096,
          -0.8075949164390609,
          -0.221167363922615,
          -0.10498601203671352,
          0.3352509533878857,
          2.884115726660279,
          0.46864271400066093,
          -0.1418409414967268,
          1.6861374430784937,
          1.160572147007931,
          1.8998493575511015,
          -0.16719379293077613,
          -0.6241136292930812,
          2.1120075530115177,
          1.2832912127579403,
          2.9679437916493066,
          1.1898911202741491,
          -0.3597930413355514,
          -0.07868464072938462,
          -0.692106546882691,
          -0.46183349324225725,
          -0.5478015231521044,
          1.3485756296409597,
          0.9671422478444779,
          0.04296790398965499,
          2.046453733257723,
          -0.6031787064741742,
          2.3242197184860074,
          -0.13755117946127057,
          3.5393448539191072,
          4.398515920568084,
          0.12530014300654296,
          -0.4888500743830477,
          -0.04151821798400876,
          -0.6795590587623032,
          3.704945861684548,
          1.6801367647202818,
          0.0505336754310949,
          2.3569473209511234,
          0.3428599441321308,
          0.9996761814650404,
          0.5146029745589382,
          -0.5203644821498116,
          0.17221302050357762,
          3.9552726239360325,
          1.2233393332118414,
          0.6354205958109485,
          0.22342956229042524,
          0.14081859884419656,
          1.4875674015923843,
          0.15703956413669495,
          1.0219755806662651,
          -0.9118854754889515,
          0.5173743827869878,
          2.3478382431914806,
          1.6007607571877407,
          0.7502701811961109,
          1.4469725413188257,
          1.635498111005908,
          1.858477871294597,
          -0.8970641687541988,
          2.182440776181004,
          0.5452998160201418,
          -0.03981111855118144,
          0.6964160072583732,
          0.8347786039820086,
          1.7664473263473477,
          -0.5049030131277484,
          -0.0479959410228283,
          -1.1503808407771674,
          2.644160759553492,
          -0.15361741509556356,
          -0.6705967867399597,
          0.19957268955341376,
          1.9069642227159767,
          0.14820399334650813,
          -0.3701887929128298,
          0.050603535729303505,
          -0.0782659525222595,
          1.3756794320387153,
          2.274247258316474,
          4.449877102853219,
          -0.6219080568258682,
          -0.14938825698938277,
          2.247208901815679,
          -0.45121492500332466,
          -0.5478015231521044,
          -0.2292471137584227,
          0.2988592771378182,
          -0.6274963003385876,
          -0.9950728665453542,
          -0.9876561697233076,
          -0.7073010203494839,
          1.3507251178086908,
          0.05119954835014798,
          -0.2007626661406497,
          0.3797148735921441,
          0.4610337232564159,
          1.654984651640375,
          -0.6087509106517074,
          1.6706411371155498,
          -0.15705892298521695,
          -0.9289211677195582,
          -0.6474096662946959,
          0.21668049950986332,
          -0.17003443711985677,
          0.13888567646034508,
          0.024829482691870373,
          0.03722544591140727,
          -0.0917384822896845,
          0.3221320636368405,
          1.3195421311139859,
          -0.6620209487270337,
          -0.4617064661302693,
          -0.5796497090888227,
          2.1089792765428066,
          -0.7334883827652969,
          -0.24615833459904568,
          -0.6967784256273576,
          0.30987608850044845,
          -0.71653320173951,
          0.03038398184289775,
          0.835207327170337,
          -0.07314573690043605,
          -0.11931813299068793,
          -0.1906652338780797,
          -0.6663719770301267,
          -0.713041469701598,
          0.06461978571551232,
          -0.6392200216331163,
          -0.44014433239189366
         ],
         "y": [
          0.45575010497834123,
          -1.5866628322591276,
          -1.05275811300286,
          0.41699252632764205,
          1.3091722355733126,
          0.02165711358859924,
          -2.0154501725301905,
          0.6562589832462594,
          -2.192395585867378,
          -0.6736733856782398,
          -0.27595765433993025,
          0.29372078584519506,
          -0.3815930718831881,
          1.2887182849506822,
          -0.39437457760211125,
          -0.43284957053007633,
          0.8960753477342501,
          -1.5186264122875994,
          -0.5464329100766824,
          -0.2100097219812002,
          0.22181079935934025,
          -1.2596304951773976,
          -0.24887220526648723,
          1.7382126021514483,
          -0.9634697934614217,
          1.6802203865097445,
          -0.49945701116984187,
          -0.8125786689704865,
          1.252805867178661,
          0.17899644879031165,
          -0.20952844989527616,
          0.9648272073945725,
          -1.2342830119853205,
          0.11804191825875911,
          -2.2130774878019626,
          -1.2660598500236768,
          -0.33502859137489416,
          -0.3267913811952823,
          -1.549470860531467,
          0.35461982697293437,
          1.3624391636398354,
          -2.0932891917062952,
          -0.9884771367760142,
          0.10210874527932794,
          -1.8695187016296637,
          -0.1799387914589404,
          3.7929769060941525,
          0.6610048454677249,
          0.9334533085940497,
          -0.3433779096978289,
          0.5092112368135387,
          -0.6386479726354337,
          -1.3654179323001374,
          0.6110801081550162,
          -0.006511459324545865,
          -0.9796541120238776,
          1.3955366453531406,
          -2.2525508391179527,
          -0.587128092395336,
          0.0300294695624019,
          -2.5509934698361074,
          -0.9815063649373289,
          1.6998152350340372,
          -0.39426996392974256,
          -0.23407158727804112,
          -0.3723779261400646,
          -0.1523191927931152,
          2.2530719184405528,
          -0.6669733971941221,
          -0.26774820046236325,
          -0.43980068734219313,
          -0.21955565018905182,
          0.17422577423791155,
          0.18708651475067564,
          0.8664291507567572,
          -1.6803983857295355,
          0.5090508016088383,
          0.1732875518411542,
          1.2569435744088573,
          -0.2862227699003298,
          -2.267423420200629,
          -0.02983978524124723,
          0.38716533773880024,
          0.4535093940257727,
          0.5870715832733441,
          0.16946361952573133,
          -0.36981400592552427,
          -0.8831324419322103,
          1.2374096008580358,
          0.03370038781569547,
          0.513562411375625,
          -0.060424155006182936,
          -1.9451402971053022,
          -0.21990238919994415,
          -0.08241983235004474,
          -2.3584866003740492,
          -0.09743141424815308,
          -0.04453445636689297,
          0.2661875061332265,
          -2.1692850992102506,
          -0.743374944275995,
          -1.7101720179111384,
          -0.6478480609445232,
          1.1088415799190559,
          0.7838611995610547,
          -1.102745877451538,
          -1.477471446637276,
          -0.10992475175404408,
          -1.3174013296324767,
          -0.5051220258619757,
          -0.8598382777817608,
          2.571048854118749,
          -0.27845157984278746,
          -0.6812938917319737,
          0.3989877191164275,
          -0.6418609490306199,
          -0.01506869151946407,
          -0.029516817519438167,
          0.2633603197227657,
          0.23898885603764766,
          -2.2005312320124135,
          -1.447727424789799,
          0.45592957486834496,
          -0.3267913811952823,
          -0.46860652463014096,
          -2.2091840875162405,
          -0.24787801496497794,
          -0.6182174119368123,
          -0.6254015676409178,
          -2.1489757097984756,
          -0.9849700011016559,
          -0.7098973522303879,
          -0.8024103580824608,
          -0.07379554859044463,
          0.982133176456641,
          0.6808351187957332,
          -1.5896153583351094,
          -0.05645859556796658,
          1.4455650666833217,
          0.5517901720934939,
          -1.2369701555304464,
          -1.6388198068486386,
          -1.213912950157968,
          0.3201710487538568,
          0.12954152410104328,
          -0.7605679604545758,
          -0.5620803061969065,
          -0.6970289065545384,
          -0.6512740175724984,
          -0.8406250500343757,
          -1.0601138417077085,
          -2.0104102660377743,
          0.06480550215434165,
          -1.0137077299033104,
          -0.42294475000866955,
          1.2131608025008966,
          -1.16844023351378,
          -2.142555146036744,
          -2.4420752114035547,
          0.47030468059531505,
          -0.027119641559819416,
          0.26470791691470125,
          -1.849562698754645,
          -1.2892384865596378,
          -0.0671240779271427,
          0.09245858133290522,
          0.8514443959678839,
          -0.7087643352480403,
          0.15498857187418666,
          -0.7994609996263639,
          -0.4098202218603553,
          -0.004940681969964422,
          0.4989361964571829,
          -0.49945701116984187,
          -0.8781838132432173,
          -0.28748558560677306,
          -0.21067746009606295,
          -0.07800400242987604,
          0.8689140259113599,
          1.9184468827423515,
          -0.8066718579371699,
          1.6618479189340984,
          -0.2836104382152287,
          0.7786205195370255,
          -0.8296958305646668,
          0.25602716010798554,
          0.7539732528228071,
          0.3576273710253503,
          0.3008015203114265,
          0.1250152064955011,
          -0.7971949095489618,
          1.9916148874199542,
          1.1327188705938176,
          0.32361035651481446,
          1.0086163576280271,
          -0.10274294449419037,
          0.8512177925714144,
          0.5675340739796366,
          -0.9493047432536167,
          -0.3971277479583923,
          -0.21998736547362022,
          -0.523204123850286,
          0.05392674593124452,
          0.2679975917513651,
          -1.3480481736231453,
          -0.7099540030795052,
          -1.3927709592185518,
          1.72361788139992,
          -1.0793468645910202,
          -2.215622434005503,
          0.35957309562274375,
          0.5350407025420171,
          0.2876465915627861,
          0.16493476615557992,
          -1.477648796509049,
          -0.7608607320428143,
          1.399674143721378,
          -0.0161548925879987,
          -1.1980635993122228,
          -0.42294475000866955,
          -0.07894248705120449,
          0.01792270273294756,
          -2.357023946603998,
          -0.2082019995415194,
          0.17142759116293252,
          -1.2247971201040802,
          0.11389800775570161,
          1.007236486777888,
          -0.1416778521382039,
          0.14629099365252027,
          -0.0036046199316554692,
          -1.1535055262471134,
          -0.4399611225468935,
          -0.0002828198998287756,
          -2.347759739580746,
          0.3027322088939571,
          -1.9335457055047558,
          -0.597124166822598,
          -0.7929774751758741,
          0.3539864238523523,
          -0.4122226764083383,
          1.0680457229948968,
          0.28810001612853897,
          -2.213907357099244,
          -0.4007156574924635,
          -2.421991686608776,
          -2.5509934698361074,
          -0.5578183712340888,
          1.1142614010138623,
          1.3200491584907854,
          0.09761266596923086,
          -1.6180258191706693,
          -0.19219149687279813,
          1.3873491006520278,
          0.05140029477855497,
          -1.0022597950820582,
          -0.7327747006711304,
          -1.6925186259772576,
          -0.18998894767340851,
          -0.963610321263301,
          -1.1660671388955486,
          0.6846483604089668,
          -0.8281133140941942,
          1.2137198410704333
         ],
         "z": [
          -0.5757280662885689,
          -0.7617968033609626,
          -0.67525987444246,
          -1.4561832355012294,
          -0.9030805445128854,
          -0.8351282628274853,
          0.4257295213271003,
          0.5726907078871064,
          -0.1874499989735848,
          -1.2565159586027816,
          -0.5711144449493853,
          0.23786006046944613,
          0.32634470427191054,
          -1.4384786424956901,
          -1.3905914706468065,
          -1.4082094985263836,
          -1.3784886757556685,
          0.6095292491613652,
          0.1759406216444318,
          -0.09472540300794018,
          -1.205668763507049,
          -1.0205138215912744,
          -0.021870442658081187,
          -1.2445039787001535,
          3.522655166391279,
          -1.4281552957027746,
          0.2652555339184391,
          -0.9025973416800895,
          0.3657371628239773,
          -0.6312529872194346,
          -1.240296519146389,
          -0.7512495215071388,
          -0.12806231236281687,
          -0.48726093788733127,
          -0.536330970738636,
          -0.8477201095812115,
          0.5320448283336376,
          -1.4084333462171146,
          0.019009117107471756,
          -1.1869068086443049,
          -0.5979202383817293,
          -0.7254680813449457,
          -0.6749379515820639,
          0.7554844574351447,
          0.118953552694008,
          -0.3270933365636911,
          -0.2247422393924358,
          -0.7653785343754461,
          -1.2199215413444693,
          0.7702530380628945,
          0.5626388645059137,
          -1.4123086867786028,
          -0.7159230177853709,
          -1.215089613895717,
          1.0634109561155134,
          -0.15329408449583465,
          -0.7022022148401542,
          0.012243360069396532,
          0.06855308369449818,
          -0.5399128981321084,
          -0.4471215928870962,
          0.8357654307628063,
          -0.1303299074124046,
          4.510664506507444,
          0.75842678729623,
          -0.3103968810509653,
          -0.4157922565643458,
          -1.155189452402107,
          -1.3111296450253114,
          0.19168583153147112,
          -0.293128083573148,
          -1.2044791383657238,
          0.7295564140733023,
          -1.0119791012772124,
          -1.0368425663069394,
          1.4718179351369505,
          0.5632119425984043,
          0.6447317132766941,
          0.4073958453529778,
          0.23650050462826566,
          -0.5657728943928102,
          0.6996066636884399,
          -1.499467774067079,
          0.6262163345980303,
          0.21207012951328783,
          0.6583908839133884,
          0.7961681154299409,
          -0.06938280592001854,
          0.11476845913805069,
          -1.126672069295254,
          -0.9719912864969843,
          -1.4656357826528859,
          -0.03651515456065199,
          -0.3979503809940379,
          -0.5690839069440292,
          -0.6039290170322851,
          -0.46628037794997895,
          -1.1025196605751943,
          0.7475540686350266,
          0.09343464483203597,
          -0.4664571243078879,
          0.03955430680761754,
          0.13039459974928402,
          -1.2442271784685173,
          0.5322889743451334,
          -0.24427739121462458,
          -0.49957523455385155,
          0.7725186566428176,
          -0.33281798150706215,
          0.8323577617793232,
          -0.8730379393849984,
          -0.23515582118960468,
          -0.5939434758245816,
          0.8594624159144343,
          0.9563597026936658,
          -0.24206475002233227,
          -0.8055250717045316,
          0.48854884269955035,
          0.6150718338687423,
          0.04551330998674417,
          -0.5481759157886833,
          -0.17980211567208146,
          -0.5763691366971178,
          -1.4084333462171146,
          -1.209131092599243,
          -0.05896585862510881,
          -1.4667468384887392,
          1.2200027970918996,
          -0.29089912757219005,
          -0.75012140331102,
          -0.1343056113719109,
          -0.22260400978397152,
          -1.088746687201587,
          -1.2780038511220706,
          0.4383188136062487,
          0.553419451117748,
          -0.959634575430656,
          -1.4798008484983467,
          0.17651169670507405,
          -1.640377728631118,
          -1.1014570549939076,
          0.6393908700668064,
          0.44147208951578265,
          0.6098512457617519,
          -0.6781656983712332,
          -0.2552153764315742,
          -0.38701239577708824,
          0.2586304754935703,
          0.08777957116843384,
          -0.7629878554526898,
          -0.3843775182153113,
          -0.7979466394620308,
          0.4452293832624482,
          -0.395089622026656,
          -0.34337896770755194,
          -0.02331960090000917,
          -0.7398555537131374,
          -0.05137609748745217,
          1.0793989747709611,
          0.33817812984060047,
          -0.5689088191124,
          -0.713849449511849,
          0.7610276893286092,
          1.3774684626175853,
          -1.1061428639597142,
          -0.591568321316518,
          0.5144470987748255,
          -0.22665117145410327,
          1.0924647539341015,
          -0.6179447164784021,
          -0.7350680094935446,
          0.4692775859301921,
          -1.6751489547725216,
          0.2652555339184391,
          -1.158866516241379,
          -0.38010850542372987,
          -0.2841696336674499,
          1.17739496687605,
          -1.4317503717826965,
          -0.18203631623283742,
          -1.2592572472041688,
          0.3024693518079491,
          0.24834609491331427,
          0.574637404729986,
          0.2157323177615661,
          0.5827096960771796,
          -1.691879774506976,
          0.3368971026815697,
          -0.9946666293130509,
          0.18911825317670297,
          0.46948287944165434,
          -0.1500315414074328,
          -1.2610021459197385,
          0.5648678205068716,
          0.01911262958825544,
          0.1832916577208055,
          0.5152565311088518,
          -0.021309855178436917,
          -0.7876034947220628,
          -0.5865108238382759,
          -0.397646843868778,
          -1.0252765863428577,
          0.6239575591189734,
          0.5436547745462332,
          -0.9055991874601418,
          -0.22240165170046497,
          -1.1092842224080015,
          -1.2423878219389703,
          -0.817143675603593,
          -0.10448318473588576,
          -0.9243376406790252,
          -0.7852169517930807,
          -0.0036622747427041916,
          -0.7092857725730929,
          1.4182923084260266,
          -0.2541695898560122,
          0.37643007661371874,
          -0.5014543197033703,
          -0.8769963203285941,
          -0.34337896770755194,
          -0.7898893214917199,
          -1.5219256940894443,
          -0.5377998719689693,
          0.7345352907642494,
          0.6513755338743822,
          -0.10338978174450429,
          0.2452665626224918,
          0.7957828225608942,
          1.0990947072561295,
          -1.5333264752092703,
          -1.4450296223569428,
          -0.5011206220753022,
          -0.2925550054806574,
          -0.8583405314997498,
          -0.7107608424455569,
          0.629486128570243,
          0.49790199104764343,
          -1.3370658439358827,
          -0.9726132385733671,
          -0.8888164538346431,
          -1.2187060370684575,
          -1.0863210313477316,
          0.6933046719696707,
          -0.6512126607466411,
          0.5705881893770018,
          -0.5293004643979933,
          -0.4471215928870962,
          -0.3087410031424981,
          -1.0688783967543054,
          0.3491094357547089,
          -0.5577547737024164,
          -0.08714132134615866,
          -1.4420935165226645,
          0.3322793506019338,
          -1.278072579565528,
          0.1219792703740029,
          -1.09126846994773,
          -0.18448718341130896,
          -0.6446708729087751,
          -0.20064396314508828,
          -0.14816412300972642,
          0.618225995741863,
          -0.2375086760610486,
          0.14191749856721275
         ]
        }
       ],
       "layout": {
        "legend": {
         "title": {
          "text": "Survived"
         },
         "tracegroupgap": 0
        },
        "margin": {
         "t": 60
        },
        "scene": {
         "domain": {
          "x": [
           0,
           1
          ],
          "y": [
           0,
           1
          ]
         },
         "xaxis": {
          "title": {
           "text": "PC1"
          }
         },
         "yaxis": {
          "title": {
           "text": "PC2"
          }
         },
         "zaxis": {
          "title": {
           "text": "PC3"
          }
         }
        },
        "template": {
         "data": {
          "bar": [
           {
            "error_x": {
             "color": "#f2f5fa"
            },
            "error_y": {
             "color": "#f2f5fa"
            },
            "marker": {
             "line": {
              "color": "rgb(17,17,17)",
              "width": 0.5
             }
            },
            "type": "bar"
           }
          ],
          "barpolar": [
           {
            "marker": {
             "line": {
              "color": "rgb(17,17,17)",
              "width": 0.5
             }
            },
            "type": "barpolar"
           }
          ],
          "carpet": [
           {
            "aaxis": {
             "endlinecolor": "#A2B1C6",
             "gridcolor": "#506784",
             "linecolor": "#506784",
             "minorgridcolor": "#506784",
             "startlinecolor": "#A2B1C6"
            },
            "baxis": {
             "endlinecolor": "#A2B1C6",
             "gridcolor": "#506784",
             "linecolor": "#506784",
             "minorgridcolor": "#506784",
             "startlinecolor": "#A2B1C6"
            },
            "type": "carpet"
           }
          ],
          "choropleth": [
           {
            "colorbar": {
             "outlinewidth": 0,
             "ticks": ""
            },
            "type": "choropleth"
           }
          ],
          "contour": [
           {
            "colorbar": {
             "outlinewidth": 0,
             "ticks": ""
            },
            "colorscale": [
             [
              0,
              "#0d0887"
             ],
             [
              0.1111111111111111,
              "#46039f"
             ],
             [
              0.2222222222222222,
              "#7201a8"
             ],
             [
              0.3333333333333333,
              "#9c179e"
             ],
             [
              0.4444444444444444,
              "#bd3786"
             ],
             [
              0.5555555555555556,
              "#d8576b"
             ],
             [
              0.6666666666666666,
              "#ed7953"
             ],
             [
              0.7777777777777778,
              "#fb9f3a"
             ],
             [
              0.8888888888888888,
              "#fdca26"
             ],
             [
              1,
              "#f0f921"
             ]
            ],
            "type": "contour"
           }
          ],
          "contourcarpet": [
           {
            "colorbar": {
             "outlinewidth": 0,
             "ticks": ""
            },
            "type": "contourcarpet"
           }
          ],
          "heatmap": [
           {
            "colorbar": {
             "outlinewidth": 0,
             "ticks": ""
            },
            "colorscale": [
             [
              0,
              "#0d0887"
             ],
             [
              0.1111111111111111,
              "#46039f"
             ],
             [
              0.2222222222222222,
              "#7201a8"
             ],
             [
              0.3333333333333333,
              "#9c179e"
             ],
             [
              0.4444444444444444,
              "#bd3786"
             ],
             [
              0.5555555555555556,
              "#d8576b"
             ],
             [
              0.6666666666666666,
              "#ed7953"
             ],
             [
              0.7777777777777778,
              "#fb9f3a"
             ],
             [
              0.8888888888888888,
              "#fdca26"
             ],
             [
              1,
              "#f0f921"
             ]
            ],
            "type": "heatmap"
           }
          ],
          "heatmapgl": [
           {
            "colorbar": {
             "outlinewidth": 0,
             "ticks": ""
            },
            "colorscale": [
             [
              0,
              "#0d0887"
             ],
             [
              0.1111111111111111,
              "#46039f"
             ],
             [
              0.2222222222222222,
              "#7201a8"
             ],
             [
              0.3333333333333333,
              "#9c179e"
             ],
             [
              0.4444444444444444,
              "#bd3786"
             ],
             [
              0.5555555555555556,
              "#d8576b"
             ],
             [
              0.6666666666666666,
              "#ed7953"
             ],
             [
              0.7777777777777778,
              "#fb9f3a"
             ],
             [
              0.8888888888888888,
              "#fdca26"
             ],
             [
              1,
              "#f0f921"
             ]
            ],
            "type": "heatmapgl"
           }
          ],
          "histogram": [
           {
            "marker": {
             "colorbar": {
              "outlinewidth": 0,
              "ticks": ""
             }
            },
            "type": "histogram"
           }
          ],
          "histogram2d": [
           {
            "colorbar": {
             "outlinewidth": 0,
             "ticks": ""
            },
            "colorscale": [
             [
              0,
              "#0d0887"
             ],
             [
              0.1111111111111111,
              "#46039f"
             ],
             [
              0.2222222222222222,
              "#7201a8"
             ],
             [
              0.3333333333333333,
              "#9c179e"
             ],
             [
              0.4444444444444444,
              "#bd3786"
             ],
             [
              0.5555555555555556,
              "#d8576b"
             ],
             [
              0.6666666666666666,
              "#ed7953"
             ],
             [
              0.7777777777777778,
              "#fb9f3a"
             ],
             [
              0.8888888888888888,
              "#fdca26"
             ],
             [
              1,
              "#f0f921"
             ]
            ],
            "type": "histogram2d"
           }
          ],
          "histogram2dcontour": [
           {
            "colorbar": {
             "outlinewidth": 0,
             "ticks": ""
            },
            "colorscale": [
             [
              0,
              "#0d0887"
             ],
             [
              0.1111111111111111,
              "#46039f"
             ],
             [
              0.2222222222222222,
              "#7201a8"
             ],
             [
              0.3333333333333333,
              "#9c179e"
             ],
             [
              0.4444444444444444,
              "#bd3786"
             ],
             [
              0.5555555555555556,
              "#d8576b"
             ],
             [
              0.6666666666666666,
              "#ed7953"
             ],
             [
              0.7777777777777778,
              "#fb9f3a"
             ],
             [
              0.8888888888888888,
              "#fdca26"
             ],
             [
              1,
              "#f0f921"
             ]
            ],
            "type": "histogram2dcontour"
           }
          ],
          "mesh3d": [
           {
            "colorbar": {
             "outlinewidth": 0,
             "ticks": ""
            },
            "type": "mesh3d"
           }
          ],
          "parcoords": [
           {
            "line": {
             "colorbar": {
              "outlinewidth": 0,
              "ticks": ""
             }
            },
            "type": "parcoords"
           }
          ],
          "pie": [
           {
            "automargin": true,
            "type": "pie"
           }
          ],
          "scatter": [
           {
            "marker": {
             "line": {
              "color": "#283442"
             }
            },
            "type": "scatter"
           }
          ],
          "scatter3d": [
           {
            "line": {
             "colorbar": {
              "outlinewidth": 0,
              "ticks": ""
             }
            },
            "marker": {
             "colorbar": {
              "outlinewidth": 0,
              "ticks": ""
             }
            },
            "type": "scatter3d"
           }
          ],
          "scattercarpet": [
           {
            "marker": {
             "colorbar": {
              "outlinewidth": 0,
              "ticks": ""
             }
            },
            "type": "scattercarpet"
           }
          ],
          "scattergeo": [
           {
            "marker": {
             "colorbar": {
              "outlinewidth": 0,
              "ticks": ""
             }
            },
            "type": "scattergeo"
           }
          ],
          "scattergl": [
           {
            "marker": {
             "line": {
              "color": "#283442"
             }
            },
            "type": "scattergl"
           }
          ],
          "scattermapbox": [
           {
            "marker": {
             "colorbar": {
              "outlinewidth": 0,
              "ticks": ""
             }
            },
            "type": "scattermapbox"
           }
          ],
          "scatterpolar": [
           {
            "marker": {
             "colorbar": {
              "outlinewidth": 0,
              "ticks": ""
             }
            },
            "type": "scatterpolar"
           }
          ],
          "scatterpolargl": [
           {
            "marker": {
             "colorbar": {
              "outlinewidth": 0,
              "ticks": ""
             }
            },
            "type": "scatterpolargl"
           }
          ],
          "scatterternary": [
           {
            "marker": {
             "colorbar": {
              "outlinewidth": 0,
              "ticks": ""
             }
            },
            "type": "scatterternary"
           }
          ],
          "surface": [
           {
            "colorbar": {
             "outlinewidth": 0,
             "ticks": ""
            },
            "colorscale": [
             [
              0,
              "#0d0887"
             ],
             [
              0.1111111111111111,
              "#46039f"
             ],
             [
              0.2222222222222222,
              "#7201a8"
             ],
             [
              0.3333333333333333,
              "#9c179e"
             ],
             [
              0.4444444444444444,
              "#bd3786"
             ],
             [
              0.5555555555555556,
              "#d8576b"
             ],
             [
              0.6666666666666666,
              "#ed7953"
             ],
             [
              0.7777777777777778,
              "#fb9f3a"
             ],
             [
              0.8888888888888888,
              "#fdca26"
             ],
             [
              1,
              "#f0f921"
             ]
            ],
            "type": "surface"
           }
          ],
          "table": [
           {
            "cells": {
             "fill": {
              "color": "#506784"
             },
             "line": {
              "color": "rgb(17,17,17)"
             }
            },
            "header": {
             "fill": {
              "color": "#2a3f5f"
             },
             "line": {
              "color": "rgb(17,17,17)"
             }
            },
            "type": "table"
           }
          ]
         },
         "layout": {
          "annotationdefaults": {
           "arrowcolor": "#f2f5fa",
           "arrowhead": 0,
           "arrowwidth": 1
          },
          "autotypenumbers": "strict",
          "coloraxis": {
           "colorbar": {
            "outlinewidth": 0,
            "ticks": ""
           }
          },
          "colorscale": {
           "diverging": [
            [
             0,
             "#8e0152"
            ],
            [
             0.1,
             "#c51b7d"
            ],
            [
             0.2,
             "#de77ae"
            ],
            [
             0.3,
             "#f1b6da"
            ],
            [
             0.4,
             "#fde0ef"
            ],
            [
             0.5,
             "#f7f7f7"
            ],
            [
             0.6,
             "#e6f5d0"
            ],
            [
             0.7,
             "#b8e186"
            ],
            [
             0.8,
             "#7fbc41"
            ],
            [
             0.9,
             "#4d9221"
            ],
            [
             1,
             "#276419"
            ]
           ],
           "sequential": [
            [
             0,
             "#0d0887"
            ],
            [
             0.1111111111111111,
             "#46039f"
            ],
            [
             0.2222222222222222,
             "#7201a8"
            ],
            [
             0.3333333333333333,
             "#9c179e"
            ],
            [
             0.4444444444444444,
             "#bd3786"
            ],
            [
             0.5555555555555556,
             "#d8576b"
            ],
            [
             0.6666666666666666,
             "#ed7953"
            ],
            [
             0.7777777777777778,
             "#fb9f3a"
            ],
            [
             0.8888888888888888,
             "#fdca26"
            ],
            [
             1,
             "#f0f921"
            ]
           ],
           "sequentialminus": [
            [
             0,
             "#0d0887"
            ],
            [
             0.1111111111111111,
             "#46039f"
            ],
            [
             0.2222222222222222,
             "#7201a8"
            ],
            [
             0.3333333333333333,
             "#9c179e"
            ],
            [
             0.4444444444444444,
             "#bd3786"
            ],
            [
             0.5555555555555556,
             "#d8576b"
            ],
            [
             0.6666666666666666,
             "#ed7953"
            ],
            [
             0.7777777777777778,
             "#fb9f3a"
            ],
            [
             0.8888888888888888,
             "#fdca26"
            ],
            [
             1,
             "#f0f921"
            ]
           ]
          },
          "colorway": [
           "#636efa",
           "#EF553B",
           "#00cc96",
           "#ab63fa",
           "#FFA15A",
           "#19d3f3",
           "#FF6692",
           "#B6E880",
           "#FF97FF",
           "#FECB52"
          ],
          "font": {
           "color": "#f2f5fa"
          },
          "geo": {
           "bgcolor": "rgb(17,17,17)",
           "lakecolor": "rgb(17,17,17)",
           "landcolor": "rgb(17,17,17)",
           "showlakes": true,
           "showland": true,
           "subunitcolor": "#506784"
          },
          "hoverlabel": {
           "align": "left"
          },
          "hovermode": "closest",
          "mapbox": {
           "style": "dark"
          },
          "paper_bgcolor": "rgb(17,17,17)",
          "plot_bgcolor": "rgb(17,17,17)",
          "polar": {
           "angularaxis": {
            "gridcolor": "#506784",
            "linecolor": "#506784",
            "ticks": ""
           },
           "bgcolor": "rgb(17,17,17)",
           "radialaxis": {
            "gridcolor": "#506784",
            "linecolor": "#506784",
            "ticks": ""
           }
          },
          "scene": {
           "xaxis": {
            "backgroundcolor": "rgb(17,17,17)",
            "gridcolor": "#506784",
            "gridwidth": 2,
            "linecolor": "#506784",
            "showbackground": true,
            "ticks": "",
            "zerolinecolor": "#C8D4E3"
           },
           "yaxis": {
            "backgroundcolor": "rgb(17,17,17)",
            "gridcolor": "#506784",
            "gridwidth": 2,
            "linecolor": "#506784",
            "showbackground": true,
            "ticks": "",
            "zerolinecolor": "#C8D4E3"
           },
           "zaxis": {
            "backgroundcolor": "rgb(17,17,17)",
            "gridcolor": "#506784",
            "gridwidth": 2,
            "linecolor": "#506784",
            "showbackground": true,
            "ticks": "",
            "zerolinecolor": "#C8D4E3"
           }
          },
          "shapedefaults": {
           "line": {
            "color": "#f2f5fa"
           }
          },
          "sliderdefaults": {
           "bgcolor": "#C8D4E3",
           "bordercolor": "rgb(17,17,17)",
           "borderwidth": 1,
           "tickwidth": 0
          },
          "ternary": {
           "aaxis": {
            "gridcolor": "#506784",
            "linecolor": "#506784",
            "ticks": ""
           },
           "baxis": {
            "gridcolor": "#506784",
            "linecolor": "#506784",
            "ticks": ""
           },
           "bgcolor": "rgb(17,17,17)",
           "caxis": {
            "gridcolor": "#506784",
            "linecolor": "#506784",
            "ticks": ""
           }
          },
          "title": {
           "x": 0.05
          },
          "updatemenudefaults": {
           "bgcolor": "#506784",
           "borderwidth": 0
          },
          "xaxis": {
           "automargin": true,
           "gridcolor": "#283442",
           "linecolor": "#506784",
           "ticks": "",
           "title": {
            "standoff": 15
           },
           "zerolinecolor": "#283442",
           "zerolinewidth": 2
          },
          "yaxis": {
           "automargin": true,
           "gridcolor": "#283442",
           "linecolor": "#506784",
           "ticks": "",
           "title": {
            "standoff": 15
           },
           "zerolinecolor": "#283442",
           "zerolinewidth": 2
          }
         }
        }
       }
      },
      "text/html": [
       "<div>                            <div id=\"5d9d5cba-f9c7-4c1a-b392-018e646bad9b\" class=\"plotly-graph-div\" style=\"height:525px; width:100%;\"></div>            <script type=\"text/javascript\">                require([\"plotly\"], function(Plotly) {                    window.PLOTLYENV=window.PLOTLYENV || {};                                    if (document.getElementById(\"5d9d5cba-f9c7-4c1a-b392-018e646bad9b\")) {                    Plotly.newPlot(                        \"5d9d5cba-f9c7-4c1a-b392-018e646bad9b\",                        [{\"hovertemplate\": \"Survived=No<br>PC1=%{x}<br>PC2=%{y}<br>PC3=%{z}<extra></extra>\", \"legendgroup\": \"No\", \"marker\": {\"color\": \"#636efa\", \"symbol\": \"circle\"}, \"mode\": \"markers\", \"name\": \"No\", \"scene\": \"scene\", \"showlegend\": true, \"type\": \"scatter3d\", \"x\": [0.16096814133800177, -0.2934493890573288, -1.0459444505935476, -0.9435473262010773, 0.3299956743323115, -1.000770377025233, -0.9833167229650605, -0.7946694791431, -0.5887540558620885, 2.48549091193494, -0.37831843303785084, 0.3380983393635899, -0.8074989381161805, -0.8435661960781912, -0.9435132113043566, -0.5584818258861791, -1.1315297903125887, -1.0574232566388244, -0.9802515598106015, -0.2914098298719543, -0.6243015519225766, -0.15965307245363453, -1.0600556039642441, -1.06570125124755, -0.32197055326760865, -0.9118425366167161, -0.5353630268395321, -0.28441546984147087, -1.08706587010833, -0.9711277635557273, -0.4995067931839583, -0.7806377125374707, -1.0277806431693188, -0.7875745722588149, -1.085901358836196, -0.6465887558701158, -0.5439939970613666, -0.8593857074090142, -0.32453789050678034, -0.5290721728004103, -0.17055071316274975, -1.1611724037820943, 0.15609094067691423, 0.49828532747016646, -0.5541787836052782, -0.535062941483542, -0.9525095982234207, 0.5438971422289345, 0.23198780123581475, 0.4096110793729415, -0.7695326191079052, -1.0839290087776925, -1.0448516374975922, -0.14147743920163855, -1.0670074517726087, -0.6624639334131854, -0.6237932415901325, -0.44395500059738585, -0.5103334712034608, 0.325038849589273, -1.1210738062865213, 0.11965860312080384, -0.31537716372490887, -0.9287260194663244, -0.36107845819636636, -0.5389375392281069, -0.3215738785138713, 0.43435463006154185, -0.8075949164390609, -1.037241388226048, -0.05461410773588535, -0.5308212624208352, -0.8525573096777049, 3.2706606970931813, -1.0722445633735773, -0.6706731436581446, -0.938852802760802, -0.7389867711991951, -0.7083230428099128, -1.000770377025233, -0.642426668065746, -0.09492631007050172, -1.0710800521014432, -0.3879287959116579, -1.035230964012069, 0.7392012448632039, -0.6754117822247275, -0.6345088464218739, -0.4294512204484526, -0.5218300665480945, -0.8205872694676678, -0.3125881944769889, -0.8880301162824497, -1.0722445633735773, 1.4156284655513407, -0.6850888927431226, 0.16199379083246454, 1.1821387341471323, -0.9437424744543111, -0.6310348855601051, -0.8943888825565437, -0.6180000132089271, -0.07628790196269504, 0.7069315163112153, -1.0029573135587626, -0.1738524052322121, 0.1095664600684806, -0.4848618926545128, -1.0722445633735773, -0.808586292911349, 0.4389498347371944, -0.95836863293583, 2.6845360086652366, -0.837353343211053, -0.8214621855183709, -0.11307046815050557, -0.3694274093151731, -1.039465088573434, -1.1315297903125887, -0.15965307245363453, -0.6327266596294752, -0.6276053613309932, 0.06134334739402844, 0.04198584984405826, -0.5587147862699159, -0.8970212298819634, -1.0277806431693188, -1.0155916837599859, -1.0795560492944385, -0.2626853263285975, -0.048257229115574084, -0.49072186868030593, -0.6476426266784326, -0.8098263648567122, 0.07903131925488206, -0.5146475221883244, -0.8674215552846932, 0.8394373093647135, -0.12711045657851022, 0.38551561792646255, 3.0169987336503516, -0.9060733279606586, -0.06731098233472868, -0.5587147862699159, -0.7081355313312476, -0.2767567483482198, 0.12282752409037002, -0.8575572250772174, 0.4778060096514508, -0.9270618589057326, -0.7916090984321741, -0.8525573096777049, -0.4698641797144526, -1.0600556039642441, -0.18245947727615236, -0.5306180334628244, -1.0891997443993642, -1.0743784376646115, 1.5047725529004943, -0.9950011683691756, 0.15178649633316707, 0.11867165996410424, -0.2725838646017388, -1.0755870640630532, -1.0098224751039284, -1.1041368644366034, -0.9118425366167161, -0.8810901276893948, 0.503098387651012, -0.029834180608008937, 0.07391496653526057, -0.0691441680280263, -0.9437424744543111, -0.7177175479912499, -1.0600556039642441, 0.11008144527235898, -0.27693370875717743, -0.7199627259686219, -0.692106546882691, 0.09154438964424562, -0.5498842482182947, -0.7734894061342531, -0.6103913597411191, 0.3927808133349941, -0.17045264685817835, 0.6618559831871346, -1.1000383881573308, -0.9283968187347346, -0.06967082608848811, -1.1463510970473414, 0.9339886550386215, -0.6180000132089271, -0.014781247268283228, -0.5796067702165874, 0.8870796094582407, -0.6003312267900572, -0.49245681656259993, -0.7909446559981622, 0.8730363786818249, -0.018623361335220235, -1.101887176843083, -1.0300303307628396, -1.085901358836196, -1.1214030070181111, -0.6180000132089271, -0.956634481298492, -0.7958556940259608, -0.3318958100615828, -0.7298820136789709, -0.8616094077564004, -0.8805369388406908, -0.8764307144911531, -0.5022702035199855, -0.9994612931466692, -0.8860353272745889, -0.09129135599352962, 0.6790264718482576, -0.8795675758217908, -0.8990834059968188, -0.32471605811144405, 0.23720642201303832, -0.11310451280461987, -0.6656061130107582, -0.6458561922948579, -0.7843539258426581, -0.5226917029155896, 0.1935121711412463, -0.3968120702596913, 1.4483160441349474, -0.6917098721289536, 0.5376291972091397, -0.716838122324398, -0.7496053394381275, -0.6446046574830878, -0.8553301700019772, -0.8237118731118916, -1.1210738062865213, 1.1655060575292746, -0.44054100714563094, -0.5650163249835655, -1.0111792802982609, -0.45939874570014033, 0.0022623500623400105, -0.9713840898570661, -0.4189344691212385, -0.6035753812279115, -1.163804751107514, -1.0304129904947386, -0.4027501026464106, -0.7878152178671828, -0.6031956118712799, -1.1007226655709488, -1.0765123119556457, -0.9917792634257191, -0.5747437707184725, 0.036080882246569954, -0.7348845206424038, -0.3524397805227552, 0.18309973088376105, -0.7180439766650311, -0.9113440635823306, 0.5312472573341752, 0.23693946283458212, -1.1124407349957675, -1.2393086811856842, -0.9718379169197836, -0.5728479012796809, -0.7282893453198037, -0.5055431754150589, -0.4173360084986722, 0.7042506965385397, -1.0412058120269647, -1.1463510970473414, -0.6532148308559659, -0.7213927733285497, 1.3706002457686557, -0.35405713617245765, -0.8818172634153113, -0.05432286129327349, 0.2801721057946267, -0.8674215552846932, 1.9368036574501069, -0.7492778762648776], \"y\": [-0.4506276041854649, 0.7928416472878517, -0.09903753084792137, 0.374224313889885, 1.5671856166491633, 0.1036177913596341, 0.17085156532910703, 1.6759234596951387, -2.1842790305268247, 0.39116340753023826, 2.6890222307538263, 1.0230486114511153, 0.5319557371093494, 0.2914020390704818, -0.09457617187303362, -1.5280465270637822, -0.5049803987391821, -0.1670644167050377, -0.1406188031346904, 3.347884955790357, -1.9115062154769924, 0.3697454609760138, -0.16671499426768166, -0.2355161839305342, 0.7111790246815948, 0.5091169698006074, -2.087520180225383, -0.5904815371602372, -0.3022308095186953, 0.23878418417329195, -0.939527681504835, 0.7025127113568377, -0.03189802389137977, 0.7379627501540855, -0.23283478594011053, -0.7501383775501844, 0.7838189219666674, 0.7803561690138014, 0.4590228728120358, 0.8082206626294597, -0.23089386854819005, -0.64014679155284, 0.6973586776420687, 0.6869565649071516, -1.1060216307672515, -0.1718481673671759, 0.3754139817213499, -0.627802875459253, 1.4175863267063757, 1.9452663677631619, 1.1857325284138884, -0.6137106953251446, -0.029631989926684622, 0.12865493348911183, -0.30489339942721205, 0.19997189496799936, -0.7161667884005095, -0.2999896175922383, 2.4727874297223, 0.53792793116587, -0.506368344542558, -0.2598043339214627, 0.8443463004315603, 0.44180751029671383, -0.79272485607595, 0.07017904401157103, 1.7543854123250648, 0.5610231788216268, 0.982133176456641, -0.03064218786814569, -0.30986173464096084, 0.5115121942403892, 0.7794497554279234, -0.019129589158048833, -0.23464761311186655, 1.5203627611992252, 0.37360115454959386, -0.1814684787496622, 0.02311297232788414, 0.1036177913596341, 1.7252650826861724, -0.9979197469343485, -0.16525158953328156, -1.0673631062361861, -0.17001026085914128, 1.1835102320580084, 1.5905423793228017, -1.865707580276899, -2.274975773373544, -0.21029424360775517, 0.5336931053500812, 0.4574366490367493, 0.08865244984999497, -0.23464761311186655, 2.368553787153319, -0.8471315010368295, 0.37602591388011586, 0.42507147390739086, 0.23514901248712813, 0.5435529619138815, 0.5763507437700803, 0.4027214841884862, 1.0093565772190451, 0.11561228501586511, -0.311235234745596, -0.547444431929421, 1.5964457802182883, -0.35214237683450134, -0.23464761311186655, -0.450432126655509, -0.6502002626812143, 0.30664111748305606, -0.8303750461147346, 0.9165327597689203, -0.40487782174641807, -0.8339183495597133, -0.0663163340352411, -0.41096110610465775, -0.5049803987391821, 0.3697454609760138, 1.7935280892824097, 1.7928482790930012, 0.896814828442475, 0.1710172664180448, 0.6730542698158019, 0.5767001662074364, -0.03189802389137977, 0.03603459495280525, -0.3360887582435943, 0.9815118103089107, -0.19125624133381813, -0.1523191927931152, 0.26755509137482836, 0.9128787800008495, -0.442501950423141, -1.84636304849268, 0.4587767493284721, -0.1561996461036595, 2.8413816397460643, 1.5132210104089547, -0.6531626105476331, 0.19728766155680247, -0.2138339144281968, 0.6730542698158019, -0.046462521140704705, 1.0168616321902713, 2.6850011941317082, -0.7221340500042934, 0.6567505540091647, 0.18849109720762222, 1.1191123964420553, 0.7794497554279234, -0.8043612886911768, -0.16671499426768166, 0.2877148287978296, 0.9453667753794635, -0.30194755527310846, -0.2343643588662797, -0.902527442911972, -0.20821151688417106, 0.4218245490802094, 0.4569844494932048, 0.7691152393938856, -0.23420392366157927, -0.275794713291, -0.29996477555400025, 0.5091169698006074, -0.3407631611307659, 0.8540734529771741, 0.5611648803730251, 1.034247255220828, -0.1667348796847082, 0.23514901248712813, 0.9373416138520883, -0.16671499426768166, 0.8754283469574987, -1.323609680743395, 0.13805378347290823, 0.06480550215434165, 1.2285911125673032, -0.23943136377400476, 1.2558083621818819, -0.11800380380164464, 2.810762257850189, 0.7156156882597384, 2.009988112643728, -0.3700594174039008, 0.3722132087462181, 0.36315762309375843, -0.5725635951460111, 1.4453256777617287, 0.4027214841884862, 0.48961612452798, -0.3047285615414666, -0.20346641511780805, -0.37152816340330397, 0.8986163450790183, 0.6688594981637391, 1.3980615740196112, 1.9814118921455686, -0.36981400592552427, 0.03795120648014438, -0.23283478594011053, -0.436774042992062, 0.4027214841884862, 0.0533154136547092, -0.4082768726934606, 1.5471037551751878, -0.9802867887068206, 0.40003725077728924, 0.7136132180010812, 0.3324540543704604, 0.020868056166200154, -0.14965148822299187, -0.7879044192393664, 0.04960751259725781, 3.131174502296853, 0.6439339401769094, 0.5769739031103714, 0.7372489345485739, 2.2163590278990815, -0.6796925200703672, -0.8171645828084914, 0.4759697655070527, 1.11814933200706, 2.335326677519388, 1.4325955888134754, -1.9336522408913075, -0.4449328972740637, 1.1080118897978117, 0.41297184396341, 1.0067754801978839, 0.0028873906592503332, 1.7951047957150443, 0.4571717174712787, -0.33502859137489416, -0.506368344542558, 1.330630674846577, 0.17051345342696358, -1.6411734298496767, -0.5209559381902824, 0.4769245411331269, -0.300594879585822, -0.01427730009477155, 0.26290143293828205, -0.5729017070481544, -0.6397973691154841, -0.031548601454023745, -1.1349463026430149, -1.2507990442241403, -1.4525605372050794, -0.3004179823469393, -0.23408110462069287, -0.3844299249978075, 0.5617862465207555, 0.8132134969383761, 1.389785087164075, 0.08211252286521802, 0.8349715921520289, 1.2040047369753466, 0.5090508016088383, 2.4909434339929297, -0.5453719275575122, -0.4379637108235269, -0.351572432509729, 0.23887845118622328, -0.0644208403109131, 1.0082955357814014, -0.21990238919994415, 0.29968675646191917, 3.06181519260917, -0.16921714897149798, -0.5725635951460111, -0.6427107117673806, 0.20563392009697493, 1.660401915036736, 0.6967000202344893, 0.7137831705484334, -0.09915168327787924, 0.43495610322593903, 0.4587767493284721, 1.2657432761691745, 0.999498971432221], \"z\": [-1.4132212117778151, 0.5319480046588259, 0.7232157446386854, 0.5976815452379808, 0.4170383912944036, 0.6700268417787165, 0.6534331108674771, 0.19575254543158224, -0.13188165494708728, 0.833395361440157, -0.05959782445390721, -1.0430534185586862, 0.5499102492924903, 0.6699577452715596, 0.5718889300468111, 0.3908507376257955, 0.8318518665705568, 0.742642488719017, 0.7166934151939415, -0.18736097985556976, 0.4291353422723868, -0.3593542758958188, 0.7413943440599484, 0.763586918425648, 0.3720368309827916, 0.5629755883568687, 0.6007686259124447, 0.9252490543836743, 0.778326239859633, 0.6343430906381006, 0.7853315084510857, 0.17942629970625343, 0.706958737578401, 0.48474903277993797, 0.7540089056171143, 0.20369583287859952, -0.1410173518041371, 0.48837035673953155, -0.09125255557284138, 0.24896875198906052, -0.8117122831483369, 0.8675356177111727, -1.5048337956831563, -1.676061479771734, -0.08052486386799367, -0.004919970543460712, 0.5934320254843426, 0.29754208188200865, 0.4456653948623811, -1.3451416063070631, 0.38175781564272604, 0.8416205403441263, 0.6988644142381377, 1.0277272049748976, 0.7878370697844423, 0.40954563212183226, -0.20020944539846505, 0.8584967047355897, 0.03213838042277917, -0.8751591968213815, 0.836809639616468, -0.5904397197866219, 0.2260309072497247, 0.5798396696676729, -0.9834744956579512, -0.04369457870192889, -0.0008175059952510393, -0.15196583658792379, 0.4383188136062487, 0.7024728635832271, -1.0747894254662183, -0.2687866742328858, 0.4916080860756369, 2.237869191089989, 0.760484364289325, 0.30428520663456804, 0.5999074841565533, -0.03907124781984028, -0.09914032551903305, 0.6700268417787165, 0.24306997275039396, -0.3453809147871285, 0.7361670300468063, -0.896727779030219, 0.7531651090613593, -0.6459601990537454, 0.27716885538098635, 0.47914950410155577, -0.03147768130609352, 0.0638950205269813, 0.5437043315875104, -0.08558652923465702, 0.7234833719824835, 0.760484364289325, -0.3786316426369789, -0.17953418859536538, -0.9575831026098994, 0.26514141235537625, 0.647328004140551, 0.30010044591963414, 0.5463818574456294, 0.3560200054109084, 0.4977675189702719, 0.10128145060862105, 0.447054433260873, -1.1510871412948491, 0.3125204411632536, -0.23998971635493263, 0.760484364289325, 0.02740566429920455, 0.3042617867662222, 0.6155234208082888, -0.12890071440824552, 0.4490781562538262, 0.557981027244209, 0.571797273375513, 0.006695233109896064, 0.7880949136332025, 0.8318518665705568, -0.3593542758958188, 0.22279980017800702, 0.22522809718008593, -0.4535233404167027, -0.25167791779939275, 0.2846525031296764, 0.5451337127865608, 0.706958737578401, 0.6878687173490244, 0.7442160281742694, 0.3006693287015597, -1.2956063553684576, -0.4157922565643458, 0.39170375655152434, 0.46213025264000085, 1.0433405127719242, -0.2210910327986271, 0.5291840693662556, 1.2010373448712557, -0.30652332347083655, -1.1109887479964722, 2.412120466841171, 0.6275180335004307, -1.2249173047998887, 0.2846525031296764, -0.07418192086796559, -0.2933510788285979, 0.03298256294072277, 0.10366375674262342, -0.8524626408703483, 0.60038320972201, 0.3961596037934221, 0.4916080860756369, 0.7496477573104696, 0.7413943440599484, 0.6706579969025251, 0.5696492098020209, 0.7773144494421, 0.759472573871792, 0.8281002077967821, 0.7345692869222785, -0.9075689407807307, -1.3854273701126358, 0.2711911240934214, 0.7588994957793014, 0.7524111624925864, 0.7702319165193696, 0.5629755883568687, 0.7829361155099442, -0.07280513341325777, -0.3724082859054261, -0.49730141489758184, -0.6315900822428918, 0.647328004140551, 0.4432637120376557, 0.7413943440599484, -1.5387174456157378, -0.8071612919115986, 0.407151699341482, 0.4452293832624482, 0.5404088526975082, 0.012921905026847265, 0.3550121843981284, 0.49604311989352445, -0.0008425328872862463, -0.24585602582739827, 0.4003056579365164, 0.7970447306476914, 0.6048652572024645, 0.6476255276506618, 0.8496937421408647, -0.2044073750435406, 0.3560200054109084, -0.3404013444896573, -0.3284751108628089, 0.41976395400641964, -0.313432252303564, -0.3200893791076228, 0.5080205804468946, -0.15889311727208222, -0.5988518892019911, 0.7961681154299409, 0.6810225386678298, 0.7540089056171143, 0.8117840520816764, 0.3560200054109084, 0.6361001475883211, 0.5701225122546039, 0.06889676739619964, -0.15103414941923315, 0.5739924067895068, 0.5032108572152699, 0.5918342823598147, -0.08116253935368954, 0.6904020199075762, 0.11503017364072073, -0.2651331847928473, -0.027922140768460942, 0.5285399818753214, 0.5441559185270569, -0.19081501434521242, -0.31978654464109124, 0.035759450267947857, 0.21954812377187075, 0.31794232148994217, 0.39959969121303396, 0.07601763394541171, 0.40577671778794866, -0.6401769454226746, 1.668319334754696, 0.0723750462844057, 0.16449408498935525, 0.41881120259535465, 0.44283545048209794, 0.21716776999785178, 0.5349172785881642, 0.5320448283336376, 0.836809639616468, 0.8085160823244807, 0.5147718355452553, 0.357767839991155, 0.8889168461194131, -0.15519770996092153, -1.2606530102545173, 0.6539760193166582, -0.06140282463218766, 0.711032466818643, 0.8662874730521042, 0.7057105929193325, -0.878885903459911, -0.07902557672945239, 0.3447799094063192, 0.7718507811874223, 0.758460783454259, 0.8483765009746392, -0.23475880100073712, 0.046850581481879705, 0.3235779530111508, -0.01780598669129013, -1.0419385354759674, 0.32644797942065745, 0.5632119425984043, 0.1724067533188781, 1.0598290743405343, 0.8160335718353147, 0.7310088125408212, 0.6340063667871456, -0.010034408396378806, 0.4133815304987061, -0.3979503809940379, -0.4753588242008573, 0.09691064740373355, 0.7503320958922671, 0.8496937421408647, -0.23902937876973349, 0.7527565656474806, -0.12442241240193773, -0.2595812950567691, 0.5026037829647502, -0.6494319578131997, 0.8154092958700233, 0.5291840693662556, 0.23712673927977534, 0.3862467067202854]}, {\"hovertemplate\": \"Survived=Yes<br>PC1=%{x}<br>PC2=%{y}<br>PC3=%{z}<extra></extra>\", \"legendgroup\": \"Yes\", \"marker\": {\"color\": \"#EF553B\", \"symbol\": \"circle\"}, \"mode\": \"markers\", \"name\": \"Yes\", \"scene\": \"scene\", \"showlegend\": true, \"type\": \"scatter3d\", \"x\": [-0.35597808531673153, -0.39105950497576697, 0.9568009168747207, 0.08513453149720099, 0.5668117590951856, -0.023502997944460487, 0.8347003966630834, -0.31242263107166357, -0.5451664847776322, 0.08263681396230109, -0.2561216333392929, 0.29357558720426363, 1.4597927677136011, 1.3912245380125294, 0.2611444197141217, 0.3034363914718706, 1.2689994355408067, 3.954189616026837, 0.8533409117581546, 0.8605931822695662, 1.108978361416412, 0.028869001786007487, -0.755160100684747, 0.2281159990796188, 8.463087597409732, 1.9255502565825169, 0.9996761814650404, -0.0223703361802918, -0.7508703386492908, -0.015804531569835967, -0.09974587155844825, 0.6814326737706216, -0.723096554819897, -0.43165002917039835, -0.3875999324565053, -0.2737835842631266, -0.8237118731118916, 0.27596572644887446, 2.5421426638517683, 1.1953246418912464, 0.4889844793199918, 0.02172326425170823, 0.8951491649092371, 0.013947795087648983, -0.8423253278878721, -0.4717926595190522, 0.656532450244087, -0.30391898438489784, 1.7877672973106185, -1.0246437818386813, -0.9125526899807724, 0.005542757999966084, 0.5521342855747298, 1.4604674077433442, -0.17112005267114413, -0.7346482352954248, 3.206287407564902, -0.8797764982497784, -0.82670598520927, -0.2609796413337985, -0.4617064661302693, 2.0351169724846225, 0.4951729963809257, 8.396417800056605, -1.0765840101318245, -0.5939296039169547, -0.49072186868030593, 0.0008673342006664173, 0.21893018710338394, 1.3680704412944702, -0.6099595370501493, -0.024206721655838294, -0.3487413506182531, 1.5834145761820928, -0.01577397145698787, 4.405413182648961, -0.9113440635823306, -1.0016680418679544, 0.04740962242450794, 0.6320663103834497, -0.5021431596593, -1.0432862273176895, 0.66092302679871, -0.356886551275922, 4.785058826723733, -0.9728607389389928, -1.101887176843083, 0.2405248876647405, 1.626299072154196, 0.8237196014426482, 0.1532615963588915, 0.3651251934623642, -0.8522572679657027, -0.5055431754150589, -0.4668816602909998, 0.20014877900286904, -0.32016810392311856, 1.0585980173635643, -0.020285031157554673, -0.7355419810207017, -0.4025482663032462, 1.9653016027256796, -0.6168331834291594, 1.761957909494709, -0.05633952471876159, 1.9934370991334949, 1.0126214515744998, -0.17341997323175773, 1.9143216071006475, -1.1304628531670715, 0.9131772257702503, -0.18639568351752134, -0.06787749026540842, -1.0987503155124452, -0.08219221226262739, -0.6596164537290684, 1.7820293751075342, 2.265692053802075, -0.879872496406679, 3.987190810087952, -0.2946393587796405, -0.6554023578881997, -0.3573301080675308, 0.27596572644887446, -0.24381760602769517, -0.14229387296141477, 0.2054320615422601, 3.4843493890155526, -0.5944710158235756, -0.08272076270648009, -0.694601389700728, -0.6710235615981665, 0.25211510922719105, -0.07437100667101096, -0.8075949164390609, -0.221167363922615, -0.10498601203671352, 0.3352509533878857, 2.884115726660279, 0.46864271400066093, -0.1418409414967268, 1.6861374430784937, 1.160572147007931, 1.8998493575511015, -0.16719379293077613, -0.6241136292930812, 2.1120075530115177, 1.2832912127579403, 2.9679437916493066, 1.1898911202741491, -0.3597930413355514, -0.07868464072938462, -0.692106546882691, -0.46183349324225725, -0.5478015231521044, 1.3485756296409597, 0.9671422478444779, 0.04296790398965499, 2.046453733257723, -0.6031787064741742, 2.3242197184860074, -0.13755117946127057, 3.5393448539191072, 4.398515920568084, 0.12530014300654296, -0.4888500743830477, -0.04151821798400876, -0.6795590587623032, 3.704945861684548, 1.6801367647202818, 0.0505336754310949, 2.3569473209511234, 0.3428599441321308, 0.9996761814650404, 0.5146029745589382, -0.5203644821498116, 0.17221302050357762, 3.9552726239360325, 1.2233393332118414, 0.6354205958109485, 0.22342956229042524, 0.14081859884419656, 1.4875674015923843, 0.15703956413669495, 1.0219755806662651, -0.9118854754889515, 0.5173743827869878, 2.3478382431914806, 1.6007607571877407, 0.7502701811961109, 1.4469725413188257, 1.635498111005908, 1.858477871294597, -0.8970641687541988, 2.182440776181004, 0.5452998160201418, -0.03981111855118144, 0.6964160072583732, 0.8347786039820086, 1.7664473263473477, -0.5049030131277484, -0.0479959410228283, -1.1503808407771674, 2.644160759553492, -0.15361741509556356, -0.6705967867399597, 0.19957268955341376, 1.9069642227159767, 0.14820399334650813, -0.3701887929128298, 0.050603535729303505, -0.0782659525222595, 1.3756794320387153, 2.274247258316474, 4.449877102853219, -0.6219080568258682, -0.14938825698938277, 2.247208901815679, -0.45121492500332466, -0.5478015231521044, -0.2292471137584227, 0.2988592771378182, -0.6274963003385876, -0.9950728665453542, -0.9876561697233076, -0.7073010203494839, 1.3507251178086908, 0.05119954835014798, -0.2007626661406497, 0.3797148735921441, 0.4610337232564159, 1.654984651640375, -0.6087509106517074, 1.6706411371155498, -0.15705892298521695, -0.9289211677195582, -0.6474096662946959, 0.21668049950986332, -0.17003443711985677, 0.13888567646034508, 0.024829482691870373, 0.03722544591140727, -0.0917384822896845, 0.3221320636368405, 1.3195421311139859, -0.6620209487270337, -0.4617064661302693, -0.5796497090888227, 2.1089792765428066, -0.7334883827652969, -0.24615833459904568, -0.6967784256273576, 0.30987608850044845, -0.71653320173951, 0.03038398184289775, 0.835207327170337, -0.07314573690043605, -0.11931813299068793, -0.1906652338780797, -0.6663719770301267, -0.713041469701598, 0.06461978571551232, -0.6392200216331163, -0.44014433239189366], \"y\": [0.45575010497834123, -1.5866628322591276, -1.05275811300286, 0.41699252632764205, 1.3091722355733126, 0.02165711358859924, -2.0154501725301905, 0.6562589832462594, -2.192395585867378, -0.6736733856782398, -0.27595765433993025, 0.29372078584519506, -0.3815930718831881, 1.2887182849506822, -0.39437457760211125, -0.43284957053007633, 0.8960753477342501, -1.5186264122875994, -0.5464329100766824, -0.2100097219812002, 0.22181079935934025, -1.2596304951773976, -0.24887220526648723, 1.7382126021514483, -0.9634697934614217, 1.6802203865097445, -0.49945701116984187, -0.8125786689704865, 1.252805867178661, 0.17899644879031165, -0.20952844989527616, 0.9648272073945725, -1.2342830119853205, 0.11804191825875911, -2.2130774878019626, -1.2660598500236768, -0.33502859137489416, -0.3267913811952823, -1.549470860531467, 0.35461982697293437, 1.3624391636398354, -2.0932891917062952, -0.9884771367760142, 0.10210874527932794, -1.8695187016296637, -0.1799387914589404, 3.7929769060941525, 0.6610048454677249, 0.9334533085940497, -0.3433779096978289, 0.5092112368135387, -0.6386479726354337, -1.3654179323001374, 0.6110801081550162, -0.006511459324545865, -0.9796541120238776, 1.3955366453531406, -2.2525508391179527, -0.587128092395336, 0.0300294695624019, -2.5509934698361074, -0.9815063649373289, 1.6998152350340372, -0.39426996392974256, -0.23407158727804112, -0.3723779261400646, -0.1523191927931152, 2.2530719184405528, -0.6669733971941221, -0.26774820046236325, -0.43980068734219313, -0.21955565018905182, 0.17422577423791155, 0.18708651475067564, 0.8664291507567572, -1.6803983857295355, 0.5090508016088383, 0.1732875518411542, 1.2569435744088573, -0.2862227699003298, -2.267423420200629, -0.02983978524124723, 0.38716533773880024, 0.4535093940257727, 0.5870715832733441, 0.16946361952573133, -0.36981400592552427, -0.8831324419322103, 1.2374096008580358, 0.03370038781569547, 0.513562411375625, -0.060424155006182936, -1.9451402971053022, -0.21990238919994415, -0.08241983235004474, -2.3584866003740492, -0.09743141424815308, -0.04453445636689297, 0.2661875061332265, -2.1692850992102506, -0.743374944275995, -1.7101720179111384, -0.6478480609445232, 1.1088415799190559, 0.7838611995610547, -1.102745877451538, -1.477471446637276, -0.10992475175404408, -1.3174013296324767, -0.5051220258619757, -0.8598382777817608, 2.571048854118749, -0.27845157984278746, -0.6812938917319737, 0.3989877191164275, -0.6418609490306199, -0.01506869151946407, -0.029516817519438167, 0.2633603197227657, 0.23898885603764766, -2.2005312320124135, -1.447727424789799, 0.45592957486834496, -0.3267913811952823, -0.46860652463014096, -2.2091840875162405, -0.24787801496497794, -0.6182174119368123, -0.6254015676409178, -2.1489757097984756, -0.9849700011016559, -0.7098973522303879, -0.8024103580824608, -0.07379554859044463, 0.982133176456641, 0.6808351187957332, -1.5896153583351094, -0.05645859556796658, 1.4455650666833217, 0.5517901720934939, -1.2369701555304464, -1.6388198068486386, -1.213912950157968, 0.3201710487538568, 0.12954152410104328, -0.7605679604545758, -0.5620803061969065, -0.6970289065545384, -0.6512740175724984, -0.8406250500343757, -1.0601138417077085, -2.0104102660377743, 0.06480550215434165, -1.0137077299033104, -0.42294475000866955, 1.2131608025008966, -1.16844023351378, -2.142555146036744, -2.4420752114035547, 0.47030468059531505, -0.027119641559819416, 0.26470791691470125, -1.849562698754645, -1.2892384865596378, -0.0671240779271427, 0.09245858133290522, 0.8514443959678839, -0.7087643352480403, 0.15498857187418666, -0.7994609996263639, -0.4098202218603553, -0.004940681969964422, 0.4989361964571829, -0.49945701116984187, -0.8781838132432173, -0.28748558560677306, -0.21067746009606295, -0.07800400242987604, 0.8689140259113599, 1.9184468827423515, -0.8066718579371699, 1.6618479189340984, -0.2836104382152287, 0.7786205195370255, -0.8296958305646668, 0.25602716010798554, 0.7539732528228071, 0.3576273710253503, 0.3008015203114265, 0.1250152064955011, -0.7971949095489618, 1.9916148874199542, 1.1327188705938176, 0.32361035651481446, 1.0086163576280271, -0.10274294449419037, 0.8512177925714144, 0.5675340739796366, -0.9493047432536167, -0.3971277479583923, -0.21998736547362022, -0.523204123850286, 0.05392674593124452, 0.2679975917513651, -1.3480481736231453, -0.7099540030795052, -1.3927709592185518, 1.72361788139992, -1.0793468645910202, -2.215622434005503, 0.35957309562274375, 0.5350407025420171, 0.2876465915627861, 0.16493476615557992, -1.477648796509049, -0.7608607320428143, 1.399674143721378, -0.0161548925879987, -1.1980635993122228, -0.42294475000866955, -0.07894248705120449, 0.01792270273294756, -2.357023946603998, -0.2082019995415194, 0.17142759116293252, -1.2247971201040802, 0.11389800775570161, 1.007236486777888, -0.1416778521382039, 0.14629099365252027, -0.0036046199316554692, -1.1535055262471134, -0.4399611225468935, -0.0002828198998287756, -2.347759739580746, 0.3027322088939571, -1.9335457055047558, -0.597124166822598, -0.7929774751758741, 0.3539864238523523, -0.4122226764083383, 1.0680457229948968, 0.28810001612853897, -2.213907357099244, -0.4007156574924635, -2.421991686608776, -2.5509934698361074, -0.5578183712340888, 1.1142614010138623, 1.3200491584907854, 0.09761266596923086, -1.6180258191706693, -0.19219149687279813, 1.3873491006520278, 0.05140029477855497, -1.0022597950820582, -0.7327747006711304, -1.6925186259772576, -0.18998894767340851, -0.963610321263301, -1.1660671388955486, 0.6846483604089668, -0.8281133140941942, 1.2137198410704333], \"z\": [-0.5757280662885689, -0.7617968033609626, -0.67525987444246, -1.4561832355012294, -0.9030805445128854, -0.8351282628274853, 0.4257295213271003, 0.5726907078871064, -0.1874499989735848, -1.2565159586027816, -0.5711144449493853, 0.23786006046944613, 0.32634470427191054, -1.4384786424956901, -1.3905914706468065, -1.4082094985263836, -1.3784886757556685, 0.6095292491613652, 0.1759406216444318, -0.09472540300794018, -1.205668763507049, -1.0205138215912744, -0.021870442658081187, -1.2445039787001535, 3.522655166391279, -1.4281552957027746, 0.2652555339184391, -0.9025973416800895, 0.3657371628239773, -0.6312529872194346, -1.240296519146389, -0.7512495215071388, -0.12806231236281687, -0.48726093788733127, -0.536330970738636, -0.8477201095812115, 0.5320448283336376, -1.4084333462171146, 0.019009117107471756, -1.1869068086443049, -0.5979202383817293, -0.7254680813449457, -0.6749379515820639, 0.7554844574351447, 0.118953552694008, -0.3270933365636911, -0.2247422393924358, -0.7653785343754461, -1.2199215413444693, 0.7702530380628945, 0.5626388645059137, -1.4123086867786028, -0.7159230177853709, -1.215089613895717, 1.0634109561155134, -0.15329408449583465, -0.7022022148401542, 0.012243360069396532, 0.06855308369449818, -0.5399128981321084, -0.4471215928870962, 0.8357654307628063, -0.1303299074124046, 4.510664506507444, 0.75842678729623, -0.3103968810509653, -0.4157922565643458, -1.155189452402107, -1.3111296450253114, 0.19168583153147112, -0.293128083573148, -1.2044791383657238, 0.7295564140733023, -1.0119791012772124, -1.0368425663069394, 1.4718179351369505, 0.5632119425984043, 0.6447317132766941, 0.4073958453529778, 0.23650050462826566, -0.5657728943928102, 0.6996066636884399, -1.499467774067079, 0.6262163345980303, 0.21207012951328783, 0.6583908839133884, 0.7961681154299409, -0.06938280592001854, 0.11476845913805069, -1.126672069295254, -0.9719912864969843, -1.4656357826528859, -0.03651515456065199, -0.3979503809940379, -0.5690839069440292, -0.6039290170322851, -0.46628037794997895, -1.1025196605751943, 0.7475540686350266, 0.09343464483203597, -0.4664571243078879, 0.03955430680761754, 0.13039459974928402, -1.2442271784685173, 0.5322889743451334, -0.24427739121462458, -0.49957523455385155, 0.7725186566428176, -0.33281798150706215, 0.8323577617793232, -0.8730379393849984, -0.23515582118960468, -0.5939434758245816, 0.8594624159144343, 0.9563597026936658, -0.24206475002233227, -0.8055250717045316, 0.48854884269955035, 0.6150718338687423, 0.04551330998674417, -0.5481759157886833, -0.17980211567208146, -0.5763691366971178, -1.4084333462171146, -1.209131092599243, -0.05896585862510881, -1.4667468384887392, 1.2200027970918996, -0.29089912757219005, -0.75012140331102, -0.1343056113719109, -0.22260400978397152, -1.088746687201587, -1.2780038511220706, 0.4383188136062487, 0.553419451117748, -0.959634575430656, -1.4798008484983467, 0.17651169670507405, -1.640377728631118, -1.1014570549939076, 0.6393908700668064, 0.44147208951578265, 0.6098512457617519, -0.6781656983712332, -0.2552153764315742, -0.38701239577708824, 0.2586304754935703, 0.08777957116843384, -0.7629878554526898, -0.3843775182153113, -0.7979466394620308, 0.4452293832624482, -0.395089622026656, -0.34337896770755194, -0.02331960090000917, -0.7398555537131374, -0.05137609748745217, 1.0793989747709611, 0.33817812984060047, -0.5689088191124, -0.713849449511849, 0.7610276893286092, 1.3774684626175853, -1.1061428639597142, -0.591568321316518, 0.5144470987748255, -0.22665117145410327, 1.0924647539341015, -0.6179447164784021, -0.7350680094935446, 0.4692775859301921, -1.6751489547725216, 0.2652555339184391, -1.158866516241379, -0.38010850542372987, -0.2841696336674499, 1.17739496687605, -1.4317503717826965, -0.18203631623283742, -1.2592572472041688, 0.3024693518079491, 0.24834609491331427, 0.574637404729986, 0.2157323177615661, 0.5827096960771796, -1.691879774506976, 0.3368971026815697, -0.9946666293130509, 0.18911825317670297, 0.46948287944165434, -0.1500315414074328, -1.2610021459197385, 0.5648678205068716, 0.01911262958825544, 0.1832916577208055, 0.5152565311088518, -0.021309855178436917, -0.7876034947220628, -0.5865108238382759, -0.397646843868778, -1.0252765863428577, 0.6239575591189734, 0.5436547745462332, -0.9055991874601418, -0.22240165170046497, -1.1092842224080015, -1.2423878219389703, -0.817143675603593, -0.10448318473588576, -0.9243376406790252, -0.7852169517930807, -0.0036622747427041916, -0.7092857725730929, 1.4182923084260266, -0.2541695898560122, 0.37643007661371874, -0.5014543197033703, -0.8769963203285941, -0.34337896770755194, -0.7898893214917199, -1.5219256940894443, -0.5377998719689693, 0.7345352907642494, 0.6513755338743822, -0.10338978174450429, 0.2452665626224918, 0.7957828225608942, 1.0990947072561295, -1.5333264752092703, -1.4450296223569428, -0.5011206220753022, -0.2925550054806574, -0.8583405314997498, -0.7107608424455569, 0.629486128570243, 0.49790199104764343, -1.3370658439358827, -0.9726132385733671, -0.8888164538346431, -1.2187060370684575, -1.0863210313477316, 0.6933046719696707, -0.6512126607466411, 0.5705881893770018, -0.5293004643979933, -0.4471215928870962, -0.3087410031424981, -1.0688783967543054, 0.3491094357547089, -0.5577547737024164, -0.08714132134615866, -1.4420935165226645, 0.3322793506019338, -1.278072579565528, 0.1219792703740029, -1.09126846994773, -0.18448718341130896, -0.6446708729087751, -0.20064396314508828, -0.14816412300972642, 0.618225995741863, -0.2375086760610486, 0.14191749856721275]}],                        {\"legend\": {\"title\": {\"text\": \"Survived\"}, \"tracegroupgap\": 0}, \"margin\": {\"t\": 60}, \"scene\": {\"domain\": {\"x\": [0.0, 1.0], \"y\": [0.0, 1.0]}, \"xaxis\": {\"title\": {\"text\": \"PC1\"}}, \"yaxis\": {\"title\": {\"text\": \"PC2\"}}, \"zaxis\": {\"title\": {\"text\": \"PC3\"}}}, \"template\": {\"data\": {\"bar\": [{\"error_x\": {\"color\": \"#f2f5fa\"}, \"error_y\": {\"color\": \"#f2f5fa\"}, \"marker\": {\"line\": {\"color\": \"rgb(17,17,17)\", \"width\": 0.5}}, \"type\": \"bar\"}], \"barpolar\": [{\"marker\": {\"line\": {\"color\": \"rgb(17,17,17)\", \"width\": 0.5}}, \"type\": \"barpolar\"}], \"carpet\": [{\"aaxis\": {\"endlinecolor\": \"#A2B1C6\", \"gridcolor\": \"#506784\", \"linecolor\": \"#506784\", \"minorgridcolor\": \"#506784\", \"startlinecolor\": \"#A2B1C6\"}, \"baxis\": {\"endlinecolor\": \"#A2B1C6\", \"gridcolor\": \"#506784\", \"linecolor\": \"#506784\", \"minorgridcolor\": \"#506784\", \"startlinecolor\": \"#A2B1C6\"}, \"type\": \"carpet\"}], \"choropleth\": [{\"colorbar\": {\"outlinewidth\": 0, \"ticks\": \"\"}, \"type\": \"choropleth\"}], \"contour\": [{\"colorbar\": {\"outlinewidth\": 0, \"ticks\": \"\"}, \"colorscale\": [[0.0, \"#0d0887\"], [0.1111111111111111, \"#46039f\"], [0.2222222222222222, \"#7201a8\"], [0.3333333333333333, \"#9c179e\"], [0.4444444444444444, \"#bd3786\"], [0.5555555555555556, \"#d8576b\"], [0.6666666666666666, \"#ed7953\"], [0.7777777777777778, \"#fb9f3a\"], [0.8888888888888888, \"#fdca26\"], [1.0, \"#f0f921\"]], \"type\": \"contour\"}], \"contourcarpet\": [{\"colorbar\": {\"outlinewidth\": 0, \"ticks\": \"\"}, \"type\": \"contourcarpet\"}], \"heatmap\": [{\"colorbar\": {\"outlinewidth\": 0, \"ticks\": \"\"}, \"colorscale\": [[0.0, \"#0d0887\"], [0.1111111111111111, \"#46039f\"], [0.2222222222222222, \"#7201a8\"], [0.3333333333333333, \"#9c179e\"], [0.4444444444444444, \"#bd3786\"], [0.5555555555555556, \"#d8576b\"], [0.6666666666666666, \"#ed7953\"], [0.7777777777777778, \"#fb9f3a\"], [0.8888888888888888, \"#fdca26\"], [1.0, \"#f0f921\"]], \"type\": \"heatmap\"}], \"heatmapgl\": [{\"colorbar\": {\"outlinewidth\": 0, \"ticks\": \"\"}, \"colorscale\": [[0.0, \"#0d0887\"], [0.1111111111111111, \"#46039f\"], [0.2222222222222222, \"#7201a8\"], [0.3333333333333333, \"#9c179e\"], [0.4444444444444444, \"#bd3786\"], [0.5555555555555556, \"#d8576b\"], [0.6666666666666666, \"#ed7953\"], [0.7777777777777778, \"#fb9f3a\"], [0.8888888888888888, \"#fdca26\"], [1.0, \"#f0f921\"]], \"type\": \"heatmapgl\"}], \"histogram\": [{\"marker\": {\"colorbar\": {\"outlinewidth\": 0, \"ticks\": \"\"}}, \"type\": \"histogram\"}], \"histogram2d\": [{\"colorbar\": {\"outlinewidth\": 0, \"ticks\": \"\"}, \"colorscale\": [[0.0, \"#0d0887\"], [0.1111111111111111, \"#46039f\"], [0.2222222222222222, \"#7201a8\"], [0.3333333333333333, \"#9c179e\"], [0.4444444444444444, \"#bd3786\"], [0.5555555555555556, \"#d8576b\"], [0.6666666666666666, \"#ed7953\"], [0.7777777777777778, \"#fb9f3a\"], [0.8888888888888888, \"#fdca26\"], [1.0, \"#f0f921\"]], \"type\": \"histogram2d\"}], \"histogram2dcontour\": [{\"colorbar\": {\"outlinewidth\": 0, \"ticks\": \"\"}, \"colorscale\": [[0.0, \"#0d0887\"], [0.1111111111111111, \"#46039f\"], [0.2222222222222222, \"#7201a8\"], [0.3333333333333333, \"#9c179e\"], [0.4444444444444444, \"#bd3786\"], [0.5555555555555556, \"#d8576b\"], [0.6666666666666666, \"#ed7953\"], [0.7777777777777778, \"#fb9f3a\"], [0.8888888888888888, \"#fdca26\"], [1.0, \"#f0f921\"]], \"type\": \"histogram2dcontour\"}], \"mesh3d\": [{\"colorbar\": {\"outlinewidth\": 0, \"ticks\": \"\"}, \"type\": \"mesh3d\"}], \"parcoords\": [{\"line\": {\"colorbar\": {\"outlinewidth\": 0, \"ticks\": \"\"}}, \"type\": \"parcoords\"}], \"pie\": [{\"automargin\": true, \"type\": \"pie\"}], \"scatter\": [{\"marker\": {\"line\": {\"color\": \"#283442\"}}, \"type\": \"scatter\"}], \"scatter3d\": [{\"line\": {\"colorbar\": {\"outlinewidth\": 0, \"ticks\": \"\"}}, \"marker\": {\"colorbar\": {\"outlinewidth\": 0, \"ticks\": \"\"}}, \"type\": \"scatter3d\"}], \"scattercarpet\": [{\"marker\": {\"colorbar\": {\"outlinewidth\": 0, \"ticks\": \"\"}}, \"type\": \"scattercarpet\"}], \"scattergeo\": [{\"marker\": {\"colorbar\": {\"outlinewidth\": 0, \"ticks\": \"\"}}, \"type\": \"scattergeo\"}], \"scattergl\": [{\"marker\": {\"line\": {\"color\": \"#283442\"}}, \"type\": \"scattergl\"}], \"scattermapbox\": [{\"marker\": {\"colorbar\": {\"outlinewidth\": 0, \"ticks\": \"\"}}, \"type\": \"scattermapbox\"}], \"scatterpolar\": [{\"marker\": {\"colorbar\": {\"outlinewidth\": 0, \"ticks\": \"\"}}, \"type\": \"scatterpolar\"}], \"scatterpolargl\": [{\"marker\": {\"colorbar\": {\"outlinewidth\": 0, \"ticks\": \"\"}}, \"type\": \"scatterpolargl\"}], \"scatterternary\": [{\"marker\": {\"colorbar\": {\"outlinewidth\": 0, \"ticks\": \"\"}}, \"type\": \"scatterternary\"}], \"surface\": [{\"colorbar\": {\"outlinewidth\": 0, \"ticks\": \"\"}, \"colorscale\": [[0.0, \"#0d0887\"], [0.1111111111111111, \"#46039f\"], [0.2222222222222222, \"#7201a8\"], [0.3333333333333333, \"#9c179e\"], [0.4444444444444444, \"#bd3786\"], [0.5555555555555556, \"#d8576b\"], [0.6666666666666666, \"#ed7953\"], [0.7777777777777778, \"#fb9f3a\"], [0.8888888888888888, \"#fdca26\"], [1.0, \"#f0f921\"]], \"type\": \"surface\"}], \"table\": [{\"cells\": {\"fill\": {\"color\": \"#506784\"}, \"line\": {\"color\": \"rgb(17,17,17)\"}}, \"header\": {\"fill\": {\"color\": \"#2a3f5f\"}, \"line\": {\"color\": \"rgb(17,17,17)\"}}, \"type\": \"table\"}]}, \"layout\": {\"annotationdefaults\": {\"arrowcolor\": \"#f2f5fa\", \"arrowhead\": 0, \"arrowwidth\": 1}, \"autotypenumbers\": \"strict\", \"coloraxis\": {\"colorbar\": {\"outlinewidth\": 0, \"ticks\": \"\"}}, \"colorscale\": {\"diverging\": [[0, \"#8e0152\"], [0.1, \"#c51b7d\"], [0.2, \"#de77ae\"], [0.3, \"#f1b6da\"], [0.4, \"#fde0ef\"], [0.5, \"#f7f7f7\"], [0.6, \"#e6f5d0\"], [0.7, \"#b8e186\"], [0.8, \"#7fbc41\"], [0.9, \"#4d9221\"], [1, \"#276419\"]], \"sequential\": [[0.0, \"#0d0887\"], [0.1111111111111111, \"#46039f\"], [0.2222222222222222, \"#7201a8\"], [0.3333333333333333, \"#9c179e\"], [0.4444444444444444, \"#bd3786\"], [0.5555555555555556, \"#d8576b\"], [0.6666666666666666, \"#ed7953\"], [0.7777777777777778, \"#fb9f3a\"], [0.8888888888888888, \"#fdca26\"], [1.0, \"#f0f921\"]], \"sequentialminus\": [[0.0, \"#0d0887\"], [0.1111111111111111, \"#46039f\"], [0.2222222222222222, \"#7201a8\"], [0.3333333333333333, \"#9c179e\"], [0.4444444444444444, \"#bd3786\"], [0.5555555555555556, \"#d8576b\"], [0.6666666666666666, \"#ed7953\"], [0.7777777777777778, \"#fb9f3a\"], [0.8888888888888888, \"#fdca26\"], [1.0, \"#f0f921\"]]}, \"colorway\": [\"#636efa\", \"#EF553B\", \"#00cc96\", \"#ab63fa\", \"#FFA15A\", \"#19d3f3\", \"#FF6692\", \"#B6E880\", \"#FF97FF\", \"#FECB52\"], \"font\": {\"color\": \"#f2f5fa\"}, \"geo\": {\"bgcolor\": \"rgb(17,17,17)\", \"lakecolor\": \"rgb(17,17,17)\", \"landcolor\": \"rgb(17,17,17)\", \"showlakes\": true, \"showland\": true, \"subunitcolor\": \"#506784\"}, \"hoverlabel\": {\"align\": \"left\"}, \"hovermode\": \"closest\", \"mapbox\": {\"style\": \"dark\"}, \"paper_bgcolor\": \"rgb(17,17,17)\", \"plot_bgcolor\": \"rgb(17,17,17)\", \"polar\": {\"angularaxis\": {\"gridcolor\": \"#506784\", \"linecolor\": \"#506784\", \"ticks\": \"\"}, \"bgcolor\": \"rgb(17,17,17)\", \"radialaxis\": {\"gridcolor\": \"#506784\", \"linecolor\": \"#506784\", \"ticks\": \"\"}}, \"scene\": {\"xaxis\": {\"backgroundcolor\": \"rgb(17,17,17)\", \"gridcolor\": \"#506784\", \"gridwidth\": 2, \"linecolor\": \"#506784\", \"showbackground\": true, \"ticks\": \"\", \"zerolinecolor\": \"#C8D4E3\"}, \"yaxis\": {\"backgroundcolor\": \"rgb(17,17,17)\", \"gridcolor\": \"#506784\", \"gridwidth\": 2, \"linecolor\": \"#506784\", \"showbackground\": true, \"ticks\": \"\", \"zerolinecolor\": \"#C8D4E3\"}, \"zaxis\": {\"backgroundcolor\": \"rgb(17,17,17)\", \"gridcolor\": \"#506784\", \"gridwidth\": 2, \"linecolor\": \"#506784\", \"showbackground\": true, \"ticks\": \"\", \"zerolinecolor\": \"#C8D4E3\"}}, \"shapedefaults\": {\"line\": {\"color\": \"#f2f5fa\"}}, \"sliderdefaults\": {\"bgcolor\": \"#C8D4E3\", \"bordercolor\": \"rgb(17,17,17)\", \"borderwidth\": 1, \"tickwidth\": 0}, \"ternary\": {\"aaxis\": {\"gridcolor\": \"#506784\", \"linecolor\": \"#506784\", \"ticks\": \"\"}, \"baxis\": {\"gridcolor\": \"#506784\", \"linecolor\": \"#506784\", \"ticks\": \"\"}, \"bgcolor\": \"rgb(17,17,17)\", \"caxis\": {\"gridcolor\": \"#506784\", \"linecolor\": \"#506784\", \"ticks\": \"\"}}, \"title\": {\"x\": 0.05}, \"updatemenudefaults\": {\"bgcolor\": \"#506784\", \"borderwidth\": 0}, \"xaxis\": {\"automargin\": true, \"gridcolor\": \"#283442\", \"linecolor\": \"#506784\", \"ticks\": \"\", \"title\": {\"standoff\": 15}, \"zerolinecolor\": \"#283442\", \"zerolinewidth\": 2}, \"yaxis\": {\"automargin\": true, \"gridcolor\": \"#283442\", \"linecolor\": \"#506784\", \"ticks\": \"\", \"title\": {\"standoff\": 15}, \"zerolinecolor\": \"#283442\", \"zerolinewidth\": 2}}}},                        {\"responsive\": true}                    ).then(function(){\n",
       "                            \n",
       "var gd = document.getElementById('5d9d5cba-f9c7-4c1a-b392-018e646bad9b');\n",
       "var x = new MutationObserver(function (mutations, observer) {{\n",
       "        var display = window.getComputedStyle(gd).display;\n",
       "        if (!display || display === 'none') {{\n",
       "            console.log([gd, 'removed!']);\n",
       "            Plotly.purge(gd);\n",
       "            observer.disconnect();\n",
       "        }}\n",
       "}});\n",
       "\n",
       "// Listen for the removal of the full notebook cells\n",
       "var notebookContainer = gd.closest('#notebook-container');\n",
       "if (notebookContainer) {{\n",
       "    x.observe(notebookContainer, {childList: true});\n",
       "}}\n",
       "\n",
       "// Listen for the clearing of the current output cell\n",
       "var outputEl = gd.closest('.output');\n",
       "if (outputEl) {{\n",
       "    x.observe(outputEl, {childList: true});\n",
       "}}\n",
       "\n",
       "                        })                };                });            </script>        </div>"
      ]
     },
     "metadata": {},
     "output_type": "display_data"
    }
   ],
   "source": [
    "#Print first 3 PCs as only 3-dimensional graph is possible to plot, just to see how it looks\n",
    "fig = px.scatter_3d(df_scores, x='PC1', y='PC2', z='PC3', color='Survived', template = \"plotly_dark\")\n",
    "\n",
    "# fig.update_traces()\n",
    "fig.show()"
   ]
  },
  {
   "cell_type": "markdown",
   "id": "21b2f8b9",
   "metadata": {},
   "source": [
    "#### Features Plot"
   ]
  },
  {
   "cell_type": "code",
   "execution_count": 71,
   "id": "2eedd33a",
   "metadata": {},
   "outputs": [
    {
     "data": {
      "application/vnd.plotly.v1+json": {
       "config": {
        "plotlyServerURL": "https://plot.ly"
       },
       "data": [
        {
         "hovertemplate": "index=Age<br>PC1=%{x}<br>PC2=%{y}<br>PC3=%{z}<extra></extra>",
         "legendgroup": "Age",
         "marker": {
          "color": "#636efa",
          "symbol": "circle"
         },
         "mode": "markers",
         "name": "Age",
         "scene": "scene",
         "showlegend": true,
         "type": "scatter3d",
         "x": [
          0.2003473216762931
         ],
         "y": [
          0.9135572613636272
         ],
         "z": [
          -0.24117792365846377
         ]
        },
        {
         "hovertemplate": "index=Fare<br>PC1=%{x}<br>PC2=%{y}<br>PC3=%{z}<extra></extra>",
         "legendgroup": "Fare",
         "marker": {
          "color": "#EF553B",
          "symbol": "circle"
         },
         "mode": "markers",
         "name": "Fare",
         "scene": "scene",
         "showlegend": true,
         "type": "scatter3d",
         "x": [
          0.8478400568174076
         ],
         "y": [
          -0.11254378792659071
         ],
         "z": [
          0.40200889466298656
         ]
        },
        {
         "hovertemplate": "index=Pclass_2<br>PC1=%{x}<br>PC2=%{y}<br>PC3=%{z}<extra></extra>",
         "legendgroup": "Pclass_2",
         "marker": {
          "color": "#00cc96",
          "symbol": "circle"
         },
         "mode": "markers",
         "name": "Pclass_2",
         "scene": "scene",
         "showlegend": true,
         "type": "scatter3d",
         "x": [
          -0.01498018205014748
         ],
         "y": [
          -0.013909473652075795
         ],
         "z": [
          -0.178360123496862
         ]
        },
        {
         "hovertemplate": "index=Pclass_3<br>PC1=%{x}<br>PC2=%{y}<br>PC3=%{z}<extra></extra>",
         "legendgroup": "Pclass_3",
         "marker": {
          "color": "#ab63fa",
          "symbol": "circle"
         },
         "mode": "markers",
         "name": "Pclass_3",
         "scene": "scene",
         "showlegend": true,
         "type": "scatter3d",
         "x": [
          -0.25133154967706883
         ],
         "y": [
          -0.054246671416208744
         ],
         "z": [
          0.10559425578308627
         ]
        },
        {
         "hovertemplate": "index=Sex_male<br>PC1=%{x}<br>PC2=%{y}<br>PC3=%{z}<extra></extra>",
         "legendgroup": "Sex_male",
         "marker": {
          "color": "#FFA15A",
          "symbol": "circle"
         },
         "mode": "markers",
         "name": "Sex_male",
         "scene": "scene",
         "showlegend": true,
         "type": "scatter3d",
         "x": [
          -0.16479652667651498
         ],
         "y": [
          0.1605059652675558
         ],
         "z": [
          0.42950915000416523
         ]
        },
        {
         "hovertemplate": "index=Embarked_Q<br>PC1=%{x}<br>PC2=%{y}<br>PC3=%{z}<extra></extra>",
         "legendgroup": "Embarked_Q",
         "marker": {
          "color": "#19d3f3",
          "symbol": "circle"
         },
         "mode": "markers",
         "name": "Embarked_Q",
         "scene": "scene",
         "showlegend": true,
         "type": "scatter3d",
         "x": [
          -0.029524028109210412
         ],
         "y": [
          -0.007663547366832714
         ],
         "z": [
          -0.031181985448552305
         ]
        },
        {
         "hovertemplate": "index=Embarked_S<br>PC1=%{x}<br>PC2=%{y}<br>PC3=%{z}<extra></extra>",
         "legendgroup": "Embarked_S",
         "marker": {
          "color": "#FF6692",
          "symbol": "circle"
         },
         "mode": "markers",
         "name": "Embarked_S",
         "scene": "scene",
         "showlegend": true,
         "type": "scatter3d",
         "x": [
          -0.07643396041429575
         ],
         "y": [
          0.0430070608573552
         ],
         "z": [
          0.0014293811990503517
         ]
        },
        {
         "hovertemplate": "index=Deck_B<br>PC1=%{x}<br>PC2=%{y}<br>PC3=%{z}<extra></extra>",
         "legendgroup": "Deck_B",
         "marker": {
          "color": "#B6E880",
          "symbol": "circle"
         },
         "mode": "markers",
         "name": "Deck_B",
         "scene": "scene",
         "showlegend": true,
         "type": "scatter3d",
         "x": [
          0.09657115490143442
         ],
         "y": [
          -0.010021621495040735
         ],
         "z": [
          0.029823225184540905
         ]
        },
        {
         "hovertemplate": "index=Deck_C<br>PC1=%{x}<br>PC2=%{y}<br>PC3=%{z}<extra></extra>",
         "legendgroup": "Deck_C",
         "marker": {
          "color": "#FF97FF",
          "symbol": "circle"
         },
         "mode": "markers",
         "name": "Deck_C",
         "scene": "scene",
         "showlegend": true,
         "type": "scatter3d",
         "x": [
          0.08133194810591741
         ],
         "y": [
          0.0016315060112916033
         ],
         "z": [
          0.0181947972300007
         ]
        },
        {
         "hovertemplate": "index=Deck_D<br>PC1=%{x}<br>PC2=%{y}<br>PC3=%{z}<extra></extra>",
         "legendgroup": "Deck_D",
         "marker": {
          "color": "#FECB52",
          "symbol": "circle"
         },
         "mode": "markers",
         "name": "Deck_D",
         "scene": "scene",
         "showlegend": true,
         "type": "scatter3d",
         "x": [
          0.029683367139817673
         ],
         "y": [
          0.016923733747880195
         ],
         "z": [
          -0.037567887042608605
         ]
        },
        {
         "hovertemplate": "index=Deck_E<br>PC1=%{x}<br>PC2=%{y}<br>PC3=%{z}<extra></extra>",
         "legendgroup": "Deck_E",
         "marker": {
          "color": "#636efa",
          "symbol": "circle"
         },
         "mode": "markers",
         "name": "Deck_E",
         "scene": "scene",
         "showlegend": true,
         "type": "scatter3d",
         "x": [
          0.017462894544742515
         ],
         "y": [
          0.023715480680272735
         ],
         "z": [
          -0.015803011525561603
         ]
        },
        {
         "hovertemplate": "index=Deck_F<br>PC1=%{x}<br>PC2=%{y}<br>PC3=%{z}<extra></extra>",
         "legendgroup": "Deck_F",
         "marker": {
          "color": "#EF553B",
          "symbol": "circle"
         },
         "mode": "markers",
         "name": "Deck_F",
         "scene": "scene",
         "showlegend": true,
         "type": "scatter3d",
         "x": [
          -0.000654594199581104
         ],
         "y": [
          -0.007564274103080883
         ],
         "z": [
          -0.005362184014607068
         ]
        },
        {
         "hovertemplate": "index=Deck_G<br>PC1=%{x}<br>PC2=%{y}<br>PC3=%{z}<extra></extra>",
         "legendgroup": "Deck_G",
         "marker": {
          "color": "#00cc96",
          "symbol": "circle"
         },
         "mode": "markers",
         "name": "Deck_G",
         "scene": "scene",
         "showlegend": true,
         "type": "scatter3d",
         "x": [
          -0.0003914754686431146
         ],
         "y": [
          -0.0043835086648175686
         ],
         "z": [
          -0.005776407848725638
         ]
        },
        {
         "hovertemplate": "index=Deck_T<br>PC1=%{x}<br>PC2=%{y}<br>PC3=%{z}<extra></extra>",
         "legendgroup": "Deck_T",
         "marker": {
          "color": "#ab63fa",
          "symbol": "circle"
         },
         "mode": "markers",
         "name": "Deck_T",
         "scene": "scene",
         "showlegend": true,
         "type": "scatter3d",
         "x": [
          0.00031061790257170044
         ],
         "y": [
          0.002484481657057429
         ],
         "z": [
          0.0014232109225899028
         ]
        },
        {
         "hovertemplate": "index=Deck_nan<br>PC1=%{x}<br>PC2=%{y}<br>PC3=%{z}<extra></extra>",
         "legendgroup": "Deck_nan",
         "marker": {
          "color": "#FFA15A",
          "symbol": "circle"
         },
         "mode": "markers",
         "name": "Deck_nan",
         "scene": "scene",
         "showlegend": true,
         "type": "scatter3d",
         "x": [
          -0.22828004108457842
         ],
         "y": [
          -0.035708705311961284
         ],
         "z": [
          0.004632086569284231
         ]
        },
        {
         "hovertemplate": "index=Relatives_Singleton<br>PC1=%{x}<br>PC2=%{y}<br>PC3=%{z}<extra></extra>",
         "legendgroup": "Relatives_Singleton",
         "marker": {
          "color": "#19d3f3",
          "symbol": "circle"
         },
         "mode": "markers",
         "name": "Relatives_Singleton",
         "scene": "scene",
         "showlegend": true,
         "type": "scatter3d",
         "x": [
          -0.1364033342721377
         ],
         "y": [
          0.1601060439871257
         ],
         "z": [
          0.3561301395079757
         ]
        },
        {
         "hovertemplate": "index=Relatives_SmallFamily<br>PC1=%{x}<br>PC2=%{y}<br>PC3=%{z}<extra></extra>",
         "legendgroup": "Relatives_SmallFamily",
         "marker": {
          "color": "#FF6692",
          "symbol": "circle"
         },
         "mode": "markers",
         "name": "Relatives_SmallFamily",
         "scene": "scene",
         "showlegend": true,
         "type": "scatter3d",
         "x": [
          0.12609042491795638
         ],
         "y": [
          -0.12507449313510186
         ],
         "z": [
          -0.3526312262396261
         ]
        },
        {
         "hovertemplate": "index=Title_Col<br>PC1=%{x}<br>PC2=%{y}<br>PC3=%{z}<extra></extra>",
         "legendgroup": "Title_Col",
         "marker": {
          "color": "#B6E880",
          "symbol": "circle"
         },
         "mode": "markers",
         "name": "Title_Col",
         "scene": "scene",
         "showlegend": true,
         "type": "scatter3d",
         "x": [
          0.0011683958059871854
         ],
         "y": [
          0.00724671876903698
         ],
         "z": [
          -0.0016025470786206716
         ]
        },
        {
         "hovertemplate": "index=Title_Don<br>PC1=%{x}<br>PC2=%{y}<br>PC3=%{z}<extra></extra>",
         "legendgroup": "Title_Don",
         "marker": {
          "color": "#FF97FF",
          "symbol": "circle"
         },
         "mode": "markers",
         "name": "Title_Don",
         "scene": "scene",
         "showlegend": true,
         "type": "scatter3d",
         "x": [
          4.831016073659825e-05
         ],
         "y": [
          0.0014252493681295015
         ],
         "z": [
          0.0001496150704611305
         ]
        },
        {
         "hovertemplate": "index=Title_Dr<br>PC1=%{x}<br>PC2=%{y}<br>PC3=%{z}<extra></extra>",
         "legendgroup": "Title_Dr",
         "marker": {
          "color": "#FECB52",
          "symbol": "circle"
         },
         "mode": "markers",
         "name": "Title_Dr",
         "scene": "scene",
         "showlegend": true,
         "type": "scatter3d",
         "x": [
          0.0038185655733024002
         ],
         "y": [
          0.003208787307339819
         ],
         "z": [
          0.0007372074530474414
         ]
        },
        {
         "hovertemplate": "index=Title_Jonkheer<br>PC1=%{x}<br>PC2=%{y}<br>PC3=%{z}<extra></extra>",
         "legendgroup": "Title_Jonkheer",
         "marker": {
          "color": "#636efa",
          "symbol": "circle"
         },
         "mode": "markers",
         "name": "Title_Jonkheer",
         "scene": "scene",
         "showlegend": true,
         "type": "scatter3d",
         "x": [
          -0.0007283756881967152
         ],
         "y": [
          0.0013737320242043704
         ],
         "z": [
          -0.0004503321044506823
         ]
        },
        {
         "hovertemplate": "index=Title_Lady<br>PC1=%{x}<br>PC2=%{y}<br>PC3=%{z}<extra></extra>",
         "legendgroup": "Title_Lady",
         "marker": {
          "color": "#EF553B",
          "symbol": "circle"
         },
         "mode": "markers",
         "name": "Title_Lady",
         "scene": "scene",
         "showlegend": true,
         "type": "scatter3d",
         "x": [
          0
         ],
         "y": [
          0
         ],
         "z": [
          0
         ]
        },
        {
         "hovertemplate": "index=Title_Major<br>PC1=%{x}<br>PC2=%{y}<br>PC3=%{z}<extra></extra>",
         "legendgroup": "Title_Major",
         "marker": {
          "color": "#00cc96",
          "symbol": "circle"
         },
         "mode": "markers",
         "name": "Title_Major",
         "scene": "scene",
         "showlegend": true,
         "type": "scatter3d",
         "x": [
          0.0006630072647209219
         ],
         "y": [
          0.0029791199959159956
         ],
         "z": [
          -0.0004162022671541613
         ]
        },
        {
         "hovertemplate": "index=Title_Master<br>PC1=%{x}<br>PC2=%{y}<br>PC3=%{z}<extra></extra>",
         "legendgroup": "Title_Master",
         "marker": {
          "color": "#ab63fa",
          "symbol": "circle"
         },
         "mode": "markers",
         "name": "Title_Master",
         "scene": "scene",
         "showlegend": true,
         "type": "scatter3d",
         "x": [
          -0.006285928278929252
         ],
         "y": [
          -0.06510116473800585
         ],
         "z": [
          0.010478675668925642
         ]
        },
        {
         "hovertemplate": "index=Title_Miss<br>PC1=%{x}<br>PC2=%{y}<br>PC3=%{z}<extra></extra>",
         "legendgroup": "Title_Miss",
         "marker": {
          "color": "#FFA15A",
          "symbol": "circle"
         },
         "mode": "markers",
         "name": "Title_Miss",
         "scene": "scene",
         "showlegend": true,
         "type": "scatter3d",
         "x": [
          0.063617784487483
         ],
         "y": [
          -0.17869699975343648
         ],
         "z": [
          -0.1063231108751743
         ]
        },
        {
         "hovertemplate": "index=Title_Mlle<br>PC1=%{x}<br>PC2=%{y}<br>PC3=%{z}<extra></extra>",
         "legendgroup": "Title_Mlle",
         "marker": {
          "color": "#19d3f3",
          "symbol": "circle"
         },
         "mode": "markers",
         "name": "Title_Mlle",
         "scene": "scene",
         "showlegend": true,
         "type": "scatter3d",
         "x": [
          0.001338507098577179
         ],
         "y": [
          -0.0008753553553414528
         ],
         "z": [
          0.0008470807415253416
         ]
        },
        {
         "hovertemplate": "index=Title_Mme<br>PC1=%{x}<br>PC2=%{y}<br>PC3=%{z}<extra></extra>",
         "legendgroup": "Title_Mme",
         "marker": {
          "color": "#FF6692",
          "symbol": "circle"
         },
         "mode": "markers",
         "name": "Title_Mme",
         "scene": "scene",
         "showlegend": true,
         "type": "scatter3d",
         "x": [
          0.0013385070985771782
         ],
         "y": [
          -0.0008753553553414525
         ],
         "z": [
          0.0008470807415253409
         ]
        },
        {
         "hovertemplate": "index=Title_Mr<br>PC1=%{x}<br>PC2=%{y}<br>PC3=%{z}<extra></extra>",
         "legendgroup": "Title_Mr",
         "marker": {
          "color": "#B6E880",
          "symbol": "circle"
         },
         "mode": "markers",
         "name": "Title_Mr",
         "scene": "scene",
         "showlegend": true,
         "type": "scatter3d",
         "x": [
          -0.16310668217514188
         ],
         "y": [
          0.2043097806937663
         ],
         "z": [
          0.42698594062156997
         ]
        },
        {
         "hovertemplate": "index=Title_Mrs<br>PC1=%{x}<br>PC2=%{y}<br>PC3=%{z}<extra></extra>",
         "legendgroup": "Title_Mrs",
         "marker": {
          "color": "#FF97FF",
          "symbol": "circle"
         },
         "mode": "markers",
         "name": "Title_Mrs",
         "scene": "scene",
         "showlegend": true,
         "type": "scatter3d",
         "x": [
          0.09646715208324898
         ],
         "y": [
          0.01752505564764599
         ],
         "z": [
          -0.3222649742484168
         ]
        },
        {
         "hovertemplate": "index=Title_Ms<br>PC1=%{x}<br>PC2=%{y}<br>PC3=%{z}<extra></extra>",
         "legendgroup": "Title_Ms",
         "marker": {
          "color": "#FECB52",
          "symbol": "circle"
         },
         "mode": "markers",
         "name": "Title_Ms",
         "scene": "scene",
         "showlegend": true,
         "type": "scatter3d",
         "x": [
          -0.0004286860963426746
         ],
         "y": [
          -0.00017075966165929228
         ],
         "z": [
          -0.0014890438757679048
         ]
        },
        {
         "hovertemplate": "index=Title_Rev<br>PC1=%{x}<br>PC2=%{y}<br>PC3=%{z}<extra></extra>",
         "legendgroup": "Title_Rev",
         "marker": {
          "color": "#636efa",
          "symbol": "circle"
         },
         "mode": "markers",
         "name": "Title_Rev",
         "scene": "scene",
         "showlegend": true,
         "type": "scatter3d",
         "x": [
          0.000280901868532033
         ],
         "y": [
          0.0074515718136040346
         ],
         "z": [
          -0.008282636774240695
         ]
        },
        {
         "hovertemplate": "index=Title_Sir<br>PC1=%{x}<br>PC2=%{y}<br>PC3=%{z}<extra></extra>",
         "legendgroup": "Title_Sir",
         "marker": {
          "color": "#EF553B",
          "symbol": "circle"
         },
         "mode": "markers",
         "name": "Title_Sir",
         "scene": "scene",
         "showlegend": true,
         "type": "scatter3d",
         "x": [
          0
         ],
         "y": [
          0
         ],
         "z": [
          0
         ]
        },
        {
         "hovertemplate": "index=Title_the Countess<br>PC1=%{x}<br>PC2=%{y}<br>PC3=%{z}<extra></extra>",
         "legendgroup": "Title_the Countess",
         "marker": {
          "color": "#00cc96",
          "symbol": "circle"
         },
         "mode": "markers",
         "name": "Title_the Countess",
         "scene": "scene",
         "showlegend": true,
         "type": "scatter3d",
         "x": [
          0.0018085407974449928
         ],
         "y": [
          0.00019961924414161063
         ],
         "z": [
          0.0007832469267702907
         ]
        }
       ],
       "layout": {
        "legend": {
         "title": {
          "text": "index"
         },
         "tracegroupgap": 0
        },
        "margin": {
         "t": 60
        },
        "scene": {
         "domain": {
          "x": [
           0,
           1
          ],
          "y": [
           0,
           1
          ]
         },
         "xaxis": {
          "title": {
           "text": "PC1"
          }
         },
         "yaxis": {
          "title": {
           "text": "PC2"
          }
         },
         "zaxis": {
          "title": {
           "text": "PC3"
          }
         }
        },
        "template": {
         "data": {
          "bar": [
           {
            "error_x": {
             "color": "#f2f5fa"
            },
            "error_y": {
             "color": "#f2f5fa"
            },
            "marker": {
             "line": {
              "color": "rgb(17,17,17)",
              "width": 0.5
             }
            },
            "type": "bar"
           }
          ],
          "barpolar": [
           {
            "marker": {
             "line": {
              "color": "rgb(17,17,17)",
              "width": 0.5
             }
            },
            "type": "barpolar"
           }
          ],
          "carpet": [
           {
            "aaxis": {
             "endlinecolor": "#A2B1C6",
             "gridcolor": "#506784",
             "linecolor": "#506784",
             "minorgridcolor": "#506784",
             "startlinecolor": "#A2B1C6"
            },
            "baxis": {
             "endlinecolor": "#A2B1C6",
             "gridcolor": "#506784",
             "linecolor": "#506784",
             "minorgridcolor": "#506784",
             "startlinecolor": "#A2B1C6"
            },
            "type": "carpet"
           }
          ],
          "choropleth": [
           {
            "colorbar": {
             "outlinewidth": 0,
             "ticks": ""
            },
            "type": "choropleth"
           }
          ],
          "contour": [
           {
            "colorbar": {
             "outlinewidth": 0,
             "ticks": ""
            },
            "colorscale": [
             [
              0,
              "#0d0887"
             ],
             [
              0.1111111111111111,
              "#46039f"
             ],
             [
              0.2222222222222222,
              "#7201a8"
             ],
             [
              0.3333333333333333,
              "#9c179e"
             ],
             [
              0.4444444444444444,
              "#bd3786"
             ],
             [
              0.5555555555555556,
              "#d8576b"
             ],
             [
              0.6666666666666666,
              "#ed7953"
             ],
             [
              0.7777777777777778,
              "#fb9f3a"
             ],
             [
              0.8888888888888888,
              "#fdca26"
             ],
             [
              1,
              "#f0f921"
             ]
            ],
            "type": "contour"
           }
          ],
          "contourcarpet": [
           {
            "colorbar": {
             "outlinewidth": 0,
             "ticks": ""
            },
            "type": "contourcarpet"
           }
          ],
          "heatmap": [
           {
            "colorbar": {
             "outlinewidth": 0,
             "ticks": ""
            },
            "colorscale": [
             [
              0,
              "#0d0887"
             ],
             [
              0.1111111111111111,
              "#46039f"
             ],
             [
              0.2222222222222222,
              "#7201a8"
             ],
             [
              0.3333333333333333,
              "#9c179e"
             ],
             [
              0.4444444444444444,
              "#bd3786"
             ],
             [
              0.5555555555555556,
              "#d8576b"
             ],
             [
              0.6666666666666666,
              "#ed7953"
             ],
             [
              0.7777777777777778,
              "#fb9f3a"
             ],
             [
              0.8888888888888888,
              "#fdca26"
             ],
             [
              1,
              "#f0f921"
             ]
            ],
            "type": "heatmap"
           }
          ],
          "heatmapgl": [
           {
            "colorbar": {
             "outlinewidth": 0,
             "ticks": ""
            },
            "colorscale": [
             [
              0,
              "#0d0887"
             ],
             [
              0.1111111111111111,
              "#46039f"
             ],
             [
              0.2222222222222222,
              "#7201a8"
             ],
             [
              0.3333333333333333,
              "#9c179e"
             ],
             [
              0.4444444444444444,
              "#bd3786"
             ],
             [
              0.5555555555555556,
              "#d8576b"
             ],
             [
              0.6666666666666666,
              "#ed7953"
             ],
             [
              0.7777777777777778,
              "#fb9f3a"
             ],
             [
              0.8888888888888888,
              "#fdca26"
             ],
             [
              1,
              "#f0f921"
             ]
            ],
            "type": "heatmapgl"
           }
          ],
          "histogram": [
           {
            "marker": {
             "colorbar": {
              "outlinewidth": 0,
              "ticks": ""
             }
            },
            "type": "histogram"
           }
          ],
          "histogram2d": [
           {
            "colorbar": {
             "outlinewidth": 0,
             "ticks": ""
            },
            "colorscale": [
             [
              0,
              "#0d0887"
             ],
             [
              0.1111111111111111,
              "#46039f"
             ],
             [
              0.2222222222222222,
              "#7201a8"
             ],
             [
              0.3333333333333333,
              "#9c179e"
             ],
             [
              0.4444444444444444,
              "#bd3786"
             ],
             [
              0.5555555555555556,
              "#d8576b"
             ],
             [
              0.6666666666666666,
              "#ed7953"
             ],
             [
              0.7777777777777778,
              "#fb9f3a"
             ],
             [
              0.8888888888888888,
              "#fdca26"
             ],
             [
              1,
              "#f0f921"
             ]
            ],
            "type": "histogram2d"
           }
          ],
          "histogram2dcontour": [
           {
            "colorbar": {
             "outlinewidth": 0,
             "ticks": ""
            },
            "colorscale": [
             [
              0,
              "#0d0887"
             ],
             [
              0.1111111111111111,
              "#46039f"
             ],
             [
              0.2222222222222222,
              "#7201a8"
             ],
             [
              0.3333333333333333,
              "#9c179e"
             ],
             [
              0.4444444444444444,
              "#bd3786"
             ],
             [
              0.5555555555555556,
              "#d8576b"
             ],
             [
              0.6666666666666666,
              "#ed7953"
             ],
             [
              0.7777777777777778,
              "#fb9f3a"
             ],
             [
              0.8888888888888888,
              "#fdca26"
             ],
             [
              1,
              "#f0f921"
             ]
            ],
            "type": "histogram2dcontour"
           }
          ],
          "mesh3d": [
           {
            "colorbar": {
             "outlinewidth": 0,
             "ticks": ""
            },
            "type": "mesh3d"
           }
          ],
          "parcoords": [
           {
            "line": {
             "colorbar": {
              "outlinewidth": 0,
              "ticks": ""
             }
            },
            "type": "parcoords"
           }
          ],
          "pie": [
           {
            "automargin": true,
            "type": "pie"
           }
          ],
          "scatter": [
           {
            "marker": {
             "line": {
              "color": "#283442"
             }
            },
            "type": "scatter"
           }
          ],
          "scatter3d": [
           {
            "line": {
             "colorbar": {
              "outlinewidth": 0,
              "ticks": ""
             }
            },
            "marker": {
             "colorbar": {
              "outlinewidth": 0,
              "ticks": ""
             }
            },
            "type": "scatter3d"
           }
          ],
          "scattercarpet": [
           {
            "marker": {
             "colorbar": {
              "outlinewidth": 0,
              "ticks": ""
             }
            },
            "type": "scattercarpet"
           }
          ],
          "scattergeo": [
           {
            "marker": {
             "colorbar": {
              "outlinewidth": 0,
              "ticks": ""
             }
            },
            "type": "scattergeo"
           }
          ],
          "scattergl": [
           {
            "marker": {
             "line": {
              "color": "#283442"
             }
            },
            "type": "scattergl"
           }
          ],
          "scattermapbox": [
           {
            "marker": {
             "colorbar": {
              "outlinewidth": 0,
              "ticks": ""
             }
            },
            "type": "scattermapbox"
           }
          ],
          "scatterpolar": [
           {
            "marker": {
             "colorbar": {
              "outlinewidth": 0,
              "ticks": ""
             }
            },
            "type": "scatterpolar"
           }
          ],
          "scatterpolargl": [
           {
            "marker": {
             "colorbar": {
              "outlinewidth": 0,
              "ticks": ""
             }
            },
            "type": "scatterpolargl"
           }
          ],
          "scatterternary": [
           {
            "marker": {
             "colorbar": {
              "outlinewidth": 0,
              "ticks": ""
             }
            },
            "type": "scatterternary"
           }
          ],
          "surface": [
           {
            "colorbar": {
             "outlinewidth": 0,
             "ticks": ""
            },
            "colorscale": [
             [
              0,
              "#0d0887"
             ],
             [
              0.1111111111111111,
              "#46039f"
             ],
             [
              0.2222222222222222,
              "#7201a8"
             ],
             [
              0.3333333333333333,
              "#9c179e"
             ],
             [
              0.4444444444444444,
              "#bd3786"
             ],
             [
              0.5555555555555556,
              "#d8576b"
             ],
             [
              0.6666666666666666,
              "#ed7953"
             ],
             [
              0.7777777777777778,
              "#fb9f3a"
             ],
             [
              0.8888888888888888,
              "#fdca26"
             ],
             [
              1,
              "#f0f921"
             ]
            ],
            "type": "surface"
           }
          ],
          "table": [
           {
            "cells": {
             "fill": {
              "color": "#506784"
             },
             "line": {
              "color": "rgb(17,17,17)"
             }
            },
            "header": {
             "fill": {
              "color": "#2a3f5f"
             },
             "line": {
              "color": "rgb(17,17,17)"
             }
            },
            "type": "table"
           }
          ]
         },
         "layout": {
          "annotationdefaults": {
           "arrowcolor": "#f2f5fa",
           "arrowhead": 0,
           "arrowwidth": 1
          },
          "autotypenumbers": "strict",
          "coloraxis": {
           "colorbar": {
            "outlinewidth": 0,
            "ticks": ""
           }
          },
          "colorscale": {
           "diverging": [
            [
             0,
             "#8e0152"
            ],
            [
             0.1,
             "#c51b7d"
            ],
            [
             0.2,
             "#de77ae"
            ],
            [
             0.3,
             "#f1b6da"
            ],
            [
             0.4,
             "#fde0ef"
            ],
            [
             0.5,
             "#f7f7f7"
            ],
            [
             0.6,
             "#e6f5d0"
            ],
            [
             0.7,
             "#b8e186"
            ],
            [
             0.8,
             "#7fbc41"
            ],
            [
             0.9,
             "#4d9221"
            ],
            [
             1,
             "#276419"
            ]
           ],
           "sequential": [
            [
             0,
             "#0d0887"
            ],
            [
             0.1111111111111111,
             "#46039f"
            ],
            [
             0.2222222222222222,
             "#7201a8"
            ],
            [
             0.3333333333333333,
             "#9c179e"
            ],
            [
             0.4444444444444444,
             "#bd3786"
            ],
            [
             0.5555555555555556,
             "#d8576b"
            ],
            [
             0.6666666666666666,
             "#ed7953"
            ],
            [
             0.7777777777777778,
             "#fb9f3a"
            ],
            [
             0.8888888888888888,
             "#fdca26"
            ],
            [
             1,
             "#f0f921"
            ]
           ],
           "sequentialminus": [
            [
             0,
             "#0d0887"
            ],
            [
             0.1111111111111111,
             "#46039f"
            ],
            [
             0.2222222222222222,
             "#7201a8"
            ],
            [
             0.3333333333333333,
             "#9c179e"
            ],
            [
             0.4444444444444444,
             "#bd3786"
            ],
            [
             0.5555555555555556,
             "#d8576b"
            ],
            [
             0.6666666666666666,
             "#ed7953"
            ],
            [
             0.7777777777777778,
             "#fb9f3a"
            ],
            [
             0.8888888888888888,
             "#fdca26"
            ],
            [
             1,
             "#f0f921"
            ]
           ]
          },
          "colorway": [
           "#636efa",
           "#EF553B",
           "#00cc96",
           "#ab63fa",
           "#FFA15A",
           "#19d3f3",
           "#FF6692",
           "#B6E880",
           "#FF97FF",
           "#FECB52"
          ],
          "font": {
           "color": "#f2f5fa"
          },
          "geo": {
           "bgcolor": "rgb(17,17,17)",
           "lakecolor": "rgb(17,17,17)",
           "landcolor": "rgb(17,17,17)",
           "showlakes": true,
           "showland": true,
           "subunitcolor": "#506784"
          },
          "hoverlabel": {
           "align": "left"
          },
          "hovermode": "closest",
          "mapbox": {
           "style": "dark"
          },
          "paper_bgcolor": "rgb(17,17,17)",
          "plot_bgcolor": "rgb(17,17,17)",
          "polar": {
           "angularaxis": {
            "gridcolor": "#506784",
            "linecolor": "#506784",
            "ticks": ""
           },
           "bgcolor": "rgb(17,17,17)",
           "radialaxis": {
            "gridcolor": "#506784",
            "linecolor": "#506784",
            "ticks": ""
           }
          },
          "scene": {
           "xaxis": {
            "backgroundcolor": "rgb(17,17,17)",
            "gridcolor": "#506784",
            "gridwidth": 2,
            "linecolor": "#506784",
            "showbackground": true,
            "ticks": "",
            "zerolinecolor": "#C8D4E3"
           },
           "yaxis": {
            "backgroundcolor": "rgb(17,17,17)",
            "gridcolor": "#506784",
            "gridwidth": 2,
            "linecolor": "#506784",
            "showbackground": true,
            "ticks": "",
            "zerolinecolor": "#C8D4E3"
           },
           "zaxis": {
            "backgroundcolor": "rgb(17,17,17)",
            "gridcolor": "#506784",
            "gridwidth": 2,
            "linecolor": "#506784",
            "showbackground": true,
            "ticks": "",
            "zerolinecolor": "#C8D4E3"
           }
          },
          "shapedefaults": {
           "line": {
            "color": "#f2f5fa"
           }
          },
          "sliderdefaults": {
           "bgcolor": "#C8D4E3",
           "bordercolor": "rgb(17,17,17)",
           "borderwidth": 1,
           "tickwidth": 0
          },
          "ternary": {
           "aaxis": {
            "gridcolor": "#506784",
            "linecolor": "#506784",
            "ticks": ""
           },
           "baxis": {
            "gridcolor": "#506784",
            "linecolor": "#506784",
            "ticks": ""
           },
           "bgcolor": "rgb(17,17,17)",
           "caxis": {
            "gridcolor": "#506784",
            "linecolor": "#506784",
            "ticks": ""
           }
          },
          "title": {
           "x": 0.05
          },
          "updatemenudefaults": {
           "bgcolor": "#506784",
           "borderwidth": 0
          },
          "xaxis": {
           "automargin": true,
           "gridcolor": "#283442",
           "linecolor": "#506784",
           "ticks": "",
           "title": {
            "standoff": 15
           },
           "zerolinecolor": "#283442",
           "zerolinewidth": 2
          },
          "yaxis": {
           "automargin": true,
           "gridcolor": "#283442",
           "linecolor": "#506784",
           "ticks": "",
           "title": {
            "standoff": 15
           },
           "zerolinecolor": "#283442",
           "zerolinewidth": 2
          }
         }
        }
       }
      },
      "text/html": [
       "<div>                            <div id=\"8e523f02-bf19-4350-bb35-67dcd58c444d\" class=\"plotly-graph-div\" style=\"height:525px; width:100%;\"></div>            <script type=\"text/javascript\">                require([\"plotly\"], function(Plotly) {                    window.PLOTLYENV=window.PLOTLYENV || {};                                    if (document.getElementById(\"8e523f02-bf19-4350-bb35-67dcd58c444d\")) {                    Plotly.newPlot(                        \"8e523f02-bf19-4350-bb35-67dcd58c444d\",                        [{\"hovertemplate\": \"index=Age<br>PC1=%{x}<br>PC2=%{y}<br>PC3=%{z}<extra></extra>\", \"legendgroup\": \"Age\", \"marker\": {\"color\": \"#636efa\", \"symbol\": \"circle\"}, \"mode\": \"markers\", \"name\": \"Age\", \"scene\": \"scene\", \"showlegend\": true, \"type\": \"scatter3d\", \"x\": [0.2003473216762931], \"y\": [0.9135572613636272], \"z\": [-0.24117792365846377]}, {\"hovertemplate\": \"index=Fare<br>PC1=%{x}<br>PC2=%{y}<br>PC3=%{z}<extra></extra>\", \"legendgroup\": \"Fare\", \"marker\": {\"color\": \"#EF553B\", \"symbol\": \"circle\"}, \"mode\": \"markers\", \"name\": \"Fare\", \"scene\": \"scene\", \"showlegend\": true, \"type\": \"scatter3d\", \"x\": [0.8478400568174076], \"y\": [-0.11254378792659071], \"z\": [0.40200889466298656]}, {\"hovertemplate\": \"index=Pclass_2<br>PC1=%{x}<br>PC2=%{y}<br>PC3=%{z}<extra></extra>\", \"legendgroup\": \"Pclass_2\", \"marker\": {\"color\": \"#00cc96\", \"symbol\": \"circle\"}, \"mode\": \"markers\", \"name\": \"Pclass_2\", \"scene\": \"scene\", \"showlegend\": true, \"type\": \"scatter3d\", \"x\": [-0.01498018205014748], \"y\": [-0.013909473652075795], \"z\": [-0.178360123496862]}, {\"hovertemplate\": \"index=Pclass_3<br>PC1=%{x}<br>PC2=%{y}<br>PC3=%{z}<extra></extra>\", \"legendgroup\": \"Pclass_3\", \"marker\": {\"color\": \"#ab63fa\", \"symbol\": \"circle\"}, \"mode\": \"markers\", \"name\": \"Pclass_3\", \"scene\": \"scene\", \"showlegend\": true, \"type\": \"scatter3d\", \"x\": [-0.25133154967706883], \"y\": [-0.054246671416208744], \"z\": [0.10559425578308627]}, {\"hovertemplate\": \"index=Sex_male<br>PC1=%{x}<br>PC2=%{y}<br>PC3=%{z}<extra></extra>\", \"legendgroup\": \"Sex_male\", \"marker\": {\"color\": \"#FFA15A\", \"symbol\": \"circle\"}, \"mode\": \"markers\", \"name\": \"Sex_male\", \"scene\": \"scene\", \"showlegend\": true, \"type\": \"scatter3d\", \"x\": [-0.16479652667651498], \"y\": [0.1605059652675558], \"z\": [0.42950915000416523]}, {\"hovertemplate\": \"index=Embarked_Q<br>PC1=%{x}<br>PC2=%{y}<br>PC3=%{z}<extra></extra>\", \"legendgroup\": \"Embarked_Q\", \"marker\": {\"color\": \"#19d3f3\", \"symbol\": \"circle\"}, \"mode\": \"markers\", \"name\": \"Embarked_Q\", \"scene\": \"scene\", \"showlegend\": true, \"type\": \"scatter3d\", \"x\": [-0.029524028109210412], \"y\": [-0.007663547366832714], \"z\": [-0.031181985448552305]}, {\"hovertemplate\": \"index=Embarked_S<br>PC1=%{x}<br>PC2=%{y}<br>PC3=%{z}<extra></extra>\", \"legendgroup\": \"Embarked_S\", \"marker\": {\"color\": \"#FF6692\", \"symbol\": \"circle\"}, \"mode\": \"markers\", \"name\": \"Embarked_S\", \"scene\": \"scene\", \"showlegend\": true, \"type\": \"scatter3d\", \"x\": [-0.07643396041429575], \"y\": [0.0430070608573552], \"z\": [0.0014293811990503517]}, {\"hovertemplate\": \"index=Deck_B<br>PC1=%{x}<br>PC2=%{y}<br>PC3=%{z}<extra></extra>\", \"legendgroup\": \"Deck_B\", \"marker\": {\"color\": \"#B6E880\", \"symbol\": \"circle\"}, \"mode\": \"markers\", \"name\": \"Deck_B\", \"scene\": \"scene\", \"showlegend\": true, \"type\": \"scatter3d\", \"x\": [0.09657115490143442], \"y\": [-0.010021621495040735], \"z\": [0.029823225184540905]}, {\"hovertemplate\": \"index=Deck_C<br>PC1=%{x}<br>PC2=%{y}<br>PC3=%{z}<extra></extra>\", \"legendgroup\": \"Deck_C\", \"marker\": {\"color\": \"#FF97FF\", \"symbol\": \"circle\"}, \"mode\": \"markers\", \"name\": \"Deck_C\", \"scene\": \"scene\", \"showlegend\": true, \"type\": \"scatter3d\", \"x\": [0.08133194810591741], \"y\": [0.0016315060112916033], \"z\": [0.0181947972300007]}, {\"hovertemplate\": \"index=Deck_D<br>PC1=%{x}<br>PC2=%{y}<br>PC3=%{z}<extra></extra>\", \"legendgroup\": \"Deck_D\", \"marker\": {\"color\": \"#FECB52\", \"symbol\": \"circle\"}, \"mode\": \"markers\", \"name\": \"Deck_D\", \"scene\": \"scene\", \"showlegend\": true, \"type\": \"scatter3d\", \"x\": [0.029683367139817673], \"y\": [0.016923733747880195], \"z\": [-0.037567887042608605]}, {\"hovertemplate\": \"index=Deck_E<br>PC1=%{x}<br>PC2=%{y}<br>PC3=%{z}<extra></extra>\", \"legendgroup\": \"Deck_E\", \"marker\": {\"color\": \"#636efa\", \"symbol\": \"circle\"}, \"mode\": \"markers\", \"name\": \"Deck_E\", \"scene\": \"scene\", \"showlegend\": true, \"type\": \"scatter3d\", \"x\": [0.017462894544742515], \"y\": [0.023715480680272735], \"z\": [-0.015803011525561603]}, {\"hovertemplate\": \"index=Deck_F<br>PC1=%{x}<br>PC2=%{y}<br>PC3=%{z}<extra></extra>\", \"legendgroup\": \"Deck_F\", \"marker\": {\"color\": \"#EF553B\", \"symbol\": \"circle\"}, \"mode\": \"markers\", \"name\": \"Deck_F\", \"scene\": \"scene\", \"showlegend\": true, \"type\": \"scatter3d\", \"x\": [-0.000654594199581104], \"y\": [-0.007564274103080883], \"z\": [-0.005362184014607068]}, {\"hovertemplate\": \"index=Deck_G<br>PC1=%{x}<br>PC2=%{y}<br>PC3=%{z}<extra></extra>\", \"legendgroup\": \"Deck_G\", \"marker\": {\"color\": \"#00cc96\", \"symbol\": \"circle\"}, \"mode\": \"markers\", \"name\": \"Deck_G\", \"scene\": \"scene\", \"showlegend\": true, \"type\": \"scatter3d\", \"x\": [-0.0003914754686431146], \"y\": [-0.0043835086648175686], \"z\": [-0.005776407848725638]}, {\"hovertemplate\": \"index=Deck_T<br>PC1=%{x}<br>PC2=%{y}<br>PC3=%{z}<extra></extra>\", \"legendgroup\": \"Deck_T\", \"marker\": {\"color\": \"#ab63fa\", \"symbol\": \"circle\"}, \"mode\": \"markers\", \"name\": \"Deck_T\", \"scene\": \"scene\", \"showlegend\": true, \"type\": \"scatter3d\", \"x\": [0.00031061790257170044], \"y\": [0.002484481657057429], \"z\": [0.0014232109225899028]}, {\"hovertemplate\": \"index=Deck_nan<br>PC1=%{x}<br>PC2=%{y}<br>PC3=%{z}<extra></extra>\", \"legendgroup\": \"Deck_nan\", \"marker\": {\"color\": \"#FFA15A\", \"symbol\": \"circle\"}, \"mode\": \"markers\", \"name\": \"Deck_nan\", \"scene\": \"scene\", \"showlegend\": true, \"type\": \"scatter3d\", \"x\": [-0.22828004108457842], \"y\": [-0.035708705311961284], \"z\": [0.004632086569284231]}, {\"hovertemplate\": \"index=Relatives_Singleton<br>PC1=%{x}<br>PC2=%{y}<br>PC3=%{z}<extra></extra>\", \"legendgroup\": \"Relatives_Singleton\", \"marker\": {\"color\": \"#19d3f3\", \"symbol\": \"circle\"}, \"mode\": \"markers\", \"name\": \"Relatives_Singleton\", \"scene\": \"scene\", \"showlegend\": true, \"type\": \"scatter3d\", \"x\": [-0.1364033342721377], \"y\": [0.1601060439871257], \"z\": [0.3561301395079757]}, {\"hovertemplate\": \"index=Relatives_SmallFamily<br>PC1=%{x}<br>PC2=%{y}<br>PC3=%{z}<extra></extra>\", \"legendgroup\": \"Relatives_SmallFamily\", \"marker\": {\"color\": \"#FF6692\", \"symbol\": \"circle\"}, \"mode\": \"markers\", \"name\": \"Relatives_SmallFamily\", \"scene\": \"scene\", \"showlegend\": true, \"type\": \"scatter3d\", \"x\": [0.12609042491795638], \"y\": [-0.12507449313510186], \"z\": [-0.3526312262396261]}, {\"hovertemplate\": \"index=Title_Col<br>PC1=%{x}<br>PC2=%{y}<br>PC3=%{z}<extra></extra>\", \"legendgroup\": \"Title_Col\", \"marker\": {\"color\": \"#B6E880\", \"symbol\": \"circle\"}, \"mode\": \"markers\", \"name\": \"Title_Col\", \"scene\": \"scene\", \"showlegend\": true, \"type\": \"scatter3d\", \"x\": [0.0011683958059871854], \"y\": [0.00724671876903698], \"z\": [-0.0016025470786206716]}, {\"hovertemplate\": \"index=Title_Don<br>PC1=%{x}<br>PC2=%{y}<br>PC3=%{z}<extra></extra>\", \"legendgroup\": \"Title_Don\", \"marker\": {\"color\": \"#FF97FF\", \"symbol\": \"circle\"}, \"mode\": \"markers\", \"name\": \"Title_Don\", \"scene\": \"scene\", \"showlegend\": true, \"type\": \"scatter3d\", \"x\": [4.831016073659825e-05], \"y\": [0.0014252493681295015], \"z\": [0.0001496150704611305]}, {\"hovertemplate\": \"index=Title_Dr<br>PC1=%{x}<br>PC2=%{y}<br>PC3=%{z}<extra></extra>\", \"legendgroup\": \"Title_Dr\", \"marker\": {\"color\": \"#FECB52\", \"symbol\": \"circle\"}, \"mode\": \"markers\", \"name\": \"Title_Dr\", \"scene\": \"scene\", \"showlegend\": true, \"type\": \"scatter3d\", \"x\": [0.0038185655733024002], \"y\": [0.003208787307339819], \"z\": [0.0007372074530474414]}, {\"hovertemplate\": \"index=Title_Jonkheer<br>PC1=%{x}<br>PC2=%{y}<br>PC3=%{z}<extra></extra>\", \"legendgroup\": \"Title_Jonkheer\", \"marker\": {\"color\": \"#636efa\", \"symbol\": \"circle\"}, \"mode\": \"markers\", \"name\": \"Title_Jonkheer\", \"scene\": \"scene\", \"showlegend\": true, \"type\": \"scatter3d\", \"x\": [-0.0007283756881967152], \"y\": [0.0013737320242043704], \"z\": [-0.0004503321044506823]}, {\"hovertemplate\": \"index=Title_Lady<br>PC1=%{x}<br>PC2=%{y}<br>PC3=%{z}<extra></extra>\", \"legendgroup\": \"Title_Lady\", \"marker\": {\"color\": \"#EF553B\", \"symbol\": \"circle\"}, \"mode\": \"markers\", \"name\": \"Title_Lady\", \"scene\": \"scene\", \"showlegend\": true, \"type\": \"scatter3d\", \"x\": [0.0], \"y\": [0.0], \"z\": [0.0]}, {\"hovertemplate\": \"index=Title_Major<br>PC1=%{x}<br>PC2=%{y}<br>PC3=%{z}<extra></extra>\", \"legendgroup\": \"Title_Major\", \"marker\": {\"color\": \"#00cc96\", \"symbol\": \"circle\"}, \"mode\": \"markers\", \"name\": \"Title_Major\", \"scene\": \"scene\", \"showlegend\": true, \"type\": \"scatter3d\", \"x\": [0.0006630072647209219], \"y\": [0.0029791199959159956], \"z\": [-0.0004162022671541613]}, {\"hovertemplate\": \"index=Title_Master<br>PC1=%{x}<br>PC2=%{y}<br>PC3=%{z}<extra></extra>\", \"legendgroup\": \"Title_Master\", \"marker\": {\"color\": \"#ab63fa\", \"symbol\": \"circle\"}, \"mode\": \"markers\", \"name\": \"Title_Master\", \"scene\": \"scene\", \"showlegend\": true, \"type\": \"scatter3d\", \"x\": [-0.006285928278929252], \"y\": [-0.06510116473800585], \"z\": [0.010478675668925642]}, {\"hovertemplate\": \"index=Title_Miss<br>PC1=%{x}<br>PC2=%{y}<br>PC3=%{z}<extra></extra>\", \"legendgroup\": \"Title_Miss\", \"marker\": {\"color\": \"#FFA15A\", \"symbol\": \"circle\"}, \"mode\": \"markers\", \"name\": \"Title_Miss\", \"scene\": \"scene\", \"showlegend\": true, \"type\": \"scatter3d\", \"x\": [0.063617784487483], \"y\": [-0.17869699975343648], \"z\": [-0.1063231108751743]}, {\"hovertemplate\": \"index=Title_Mlle<br>PC1=%{x}<br>PC2=%{y}<br>PC3=%{z}<extra></extra>\", \"legendgroup\": \"Title_Mlle\", \"marker\": {\"color\": \"#19d3f3\", \"symbol\": \"circle\"}, \"mode\": \"markers\", \"name\": \"Title_Mlle\", \"scene\": \"scene\", \"showlegend\": true, \"type\": \"scatter3d\", \"x\": [0.001338507098577179], \"y\": [-0.0008753553553414528], \"z\": [0.0008470807415253416]}, {\"hovertemplate\": \"index=Title_Mme<br>PC1=%{x}<br>PC2=%{y}<br>PC3=%{z}<extra></extra>\", \"legendgroup\": \"Title_Mme\", \"marker\": {\"color\": \"#FF6692\", \"symbol\": \"circle\"}, \"mode\": \"markers\", \"name\": \"Title_Mme\", \"scene\": \"scene\", \"showlegend\": true, \"type\": \"scatter3d\", \"x\": [0.0013385070985771782], \"y\": [-0.0008753553553414525], \"z\": [0.0008470807415253409]}, {\"hovertemplate\": \"index=Title_Mr<br>PC1=%{x}<br>PC2=%{y}<br>PC3=%{z}<extra></extra>\", \"legendgroup\": \"Title_Mr\", \"marker\": {\"color\": \"#B6E880\", \"symbol\": \"circle\"}, \"mode\": \"markers\", \"name\": \"Title_Mr\", \"scene\": \"scene\", \"showlegend\": true, \"type\": \"scatter3d\", \"x\": [-0.16310668217514188], \"y\": [0.2043097806937663], \"z\": [0.42698594062156997]}, {\"hovertemplate\": \"index=Title_Mrs<br>PC1=%{x}<br>PC2=%{y}<br>PC3=%{z}<extra></extra>\", \"legendgroup\": \"Title_Mrs\", \"marker\": {\"color\": \"#FF97FF\", \"symbol\": \"circle\"}, \"mode\": \"markers\", \"name\": \"Title_Mrs\", \"scene\": \"scene\", \"showlegend\": true, \"type\": \"scatter3d\", \"x\": [0.09646715208324898], \"y\": [0.01752505564764599], \"z\": [-0.3222649742484168]}, {\"hovertemplate\": \"index=Title_Ms<br>PC1=%{x}<br>PC2=%{y}<br>PC3=%{z}<extra></extra>\", \"legendgroup\": \"Title_Ms\", \"marker\": {\"color\": \"#FECB52\", \"symbol\": \"circle\"}, \"mode\": \"markers\", \"name\": \"Title_Ms\", \"scene\": \"scene\", \"showlegend\": true, \"type\": \"scatter3d\", \"x\": [-0.0004286860963426746], \"y\": [-0.00017075966165929228], \"z\": [-0.0014890438757679048]}, {\"hovertemplate\": \"index=Title_Rev<br>PC1=%{x}<br>PC2=%{y}<br>PC3=%{z}<extra></extra>\", \"legendgroup\": \"Title_Rev\", \"marker\": {\"color\": \"#636efa\", \"symbol\": \"circle\"}, \"mode\": \"markers\", \"name\": \"Title_Rev\", \"scene\": \"scene\", \"showlegend\": true, \"type\": \"scatter3d\", \"x\": [0.000280901868532033], \"y\": [0.0074515718136040346], \"z\": [-0.008282636774240695]}, {\"hovertemplate\": \"index=Title_Sir<br>PC1=%{x}<br>PC2=%{y}<br>PC3=%{z}<extra></extra>\", \"legendgroup\": \"Title_Sir\", \"marker\": {\"color\": \"#EF553B\", \"symbol\": \"circle\"}, \"mode\": \"markers\", \"name\": \"Title_Sir\", \"scene\": \"scene\", \"showlegend\": true, \"type\": \"scatter3d\", \"x\": [0.0], \"y\": [0.0], \"z\": [0.0]}, {\"hovertemplate\": \"index=Title_the Countess<br>PC1=%{x}<br>PC2=%{y}<br>PC3=%{z}<extra></extra>\", \"legendgroup\": \"Title_the Countess\", \"marker\": {\"color\": \"#00cc96\", \"symbol\": \"circle\"}, \"mode\": \"markers\", \"name\": \"Title_the Countess\", \"scene\": \"scene\", \"showlegend\": true, \"type\": \"scatter3d\", \"x\": [0.0018085407974449928], \"y\": [0.00019961924414161063], \"z\": [0.0007832469267702907]}],                        {\"legend\": {\"title\": {\"text\": \"index\"}, \"tracegroupgap\": 0}, \"margin\": {\"t\": 60}, \"scene\": {\"domain\": {\"x\": [0.0, 1.0], \"y\": [0.0, 1.0]}, \"xaxis\": {\"title\": {\"text\": \"PC1\"}}, \"yaxis\": {\"title\": {\"text\": \"PC2\"}}, \"zaxis\": {\"title\": {\"text\": \"PC3\"}}}, \"template\": {\"data\": {\"bar\": [{\"error_x\": {\"color\": \"#f2f5fa\"}, \"error_y\": {\"color\": \"#f2f5fa\"}, \"marker\": {\"line\": {\"color\": \"rgb(17,17,17)\", \"width\": 0.5}}, \"type\": \"bar\"}], \"barpolar\": [{\"marker\": {\"line\": {\"color\": \"rgb(17,17,17)\", \"width\": 0.5}}, \"type\": \"barpolar\"}], \"carpet\": [{\"aaxis\": {\"endlinecolor\": \"#A2B1C6\", \"gridcolor\": \"#506784\", \"linecolor\": \"#506784\", \"minorgridcolor\": \"#506784\", \"startlinecolor\": \"#A2B1C6\"}, \"baxis\": {\"endlinecolor\": \"#A2B1C6\", \"gridcolor\": \"#506784\", \"linecolor\": \"#506784\", \"minorgridcolor\": \"#506784\", \"startlinecolor\": \"#A2B1C6\"}, \"type\": \"carpet\"}], \"choropleth\": [{\"colorbar\": {\"outlinewidth\": 0, \"ticks\": \"\"}, \"type\": \"choropleth\"}], \"contour\": [{\"colorbar\": {\"outlinewidth\": 0, \"ticks\": \"\"}, \"colorscale\": [[0.0, \"#0d0887\"], [0.1111111111111111, \"#46039f\"], [0.2222222222222222, \"#7201a8\"], [0.3333333333333333, \"#9c179e\"], [0.4444444444444444, \"#bd3786\"], [0.5555555555555556, \"#d8576b\"], [0.6666666666666666, \"#ed7953\"], [0.7777777777777778, \"#fb9f3a\"], [0.8888888888888888, \"#fdca26\"], [1.0, \"#f0f921\"]], \"type\": \"contour\"}], \"contourcarpet\": [{\"colorbar\": {\"outlinewidth\": 0, \"ticks\": \"\"}, \"type\": \"contourcarpet\"}], \"heatmap\": [{\"colorbar\": {\"outlinewidth\": 0, \"ticks\": \"\"}, \"colorscale\": [[0.0, \"#0d0887\"], [0.1111111111111111, \"#46039f\"], [0.2222222222222222, \"#7201a8\"], [0.3333333333333333, \"#9c179e\"], [0.4444444444444444, \"#bd3786\"], [0.5555555555555556, \"#d8576b\"], [0.6666666666666666, \"#ed7953\"], [0.7777777777777778, \"#fb9f3a\"], [0.8888888888888888, \"#fdca26\"], [1.0, \"#f0f921\"]], \"type\": \"heatmap\"}], \"heatmapgl\": [{\"colorbar\": {\"outlinewidth\": 0, \"ticks\": \"\"}, \"colorscale\": [[0.0, \"#0d0887\"], [0.1111111111111111, \"#46039f\"], [0.2222222222222222, \"#7201a8\"], [0.3333333333333333, \"#9c179e\"], [0.4444444444444444, \"#bd3786\"], [0.5555555555555556, \"#d8576b\"], [0.6666666666666666, \"#ed7953\"], [0.7777777777777778, \"#fb9f3a\"], [0.8888888888888888, \"#fdca26\"], [1.0, \"#f0f921\"]], \"type\": \"heatmapgl\"}], \"histogram\": [{\"marker\": {\"colorbar\": {\"outlinewidth\": 0, \"ticks\": \"\"}}, \"type\": \"histogram\"}], \"histogram2d\": [{\"colorbar\": {\"outlinewidth\": 0, \"ticks\": \"\"}, \"colorscale\": [[0.0, \"#0d0887\"], [0.1111111111111111, \"#46039f\"], [0.2222222222222222, \"#7201a8\"], [0.3333333333333333, \"#9c179e\"], [0.4444444444444444, \"#bd3786\"], [0.5555555555555556, \"#d8576b\"], [0.6666666666666666, \"#ed7953\"], [0.7777777777777778, \"#fb9f3a\"], [0.8888888888888888, \"#fdca26\"], [1.0, \"#f0f921\"]], \"type\": \"histogram2d\"}], \"histogram2dcontour\": [{\"colorbar\": {\"outlinewidth\": 0, \"ticks\": \"\"}, \"colorscale\": [[0.0, \"#0d0887\"], [0.1111111111111111, \"#46039f\"], [0.2222222222222222, \"#7201a8\"], [0.3333333333333333, \"#9c179e\"], [0.4444444444444444, \"#bd3786\"], [0.5555555555555556, \"#d8576b\"], [0.6666666666666666, \"#ed7953\"], [0.7777777777777778, \"#fb9f3a\"], [0.8888888888888888, \"#fdca26\"], [1.0, \"#f0f921\"]], \"type\": \"histogram2dcontour\"}], \"mesh3d\": [{\"colorbar\": {\"outlinewidth\": 0, \"ticks\": \"\"}, \"type\": \"mesh3d\"}], \"parcoords\": [{\"line\": {\"colorbar\": {\"outlinewidth\": 0, \"ticks\": \"\"}}, \"type\": \"parcoords\"}], \"pie\": [{\"automargin\": true, \"type\": \"pie\"}], \"scatter\": [{\"marker\": {\"line\": {\"color\": \"#283442\"}}, \"type\": \"scatter\"}], \"scatter3d\": [{\"line\": {\"colorbar\": {\"outlinewidth\": 0, \"ticks\": \"\"}}, \"marker\": {\"colorbar\": {\"outlinewidth\": 0, \"ticks\": \"\"}}, \"type\": \"scatter3d\"}], \"scattercarpet\": [{\"marker\": {\"colorbar\": {\"outlinewidth\": 0, \"ticks\": \"\"}}, \"type\": \"scattercarpet\"}], \"scattergeo\": [{\"marker\": {\"colorbar\": {\"outlinewidth\": 0, \"ticks\": \"\"}}, \"type\": \"scattergeo\"}], \"scattergl\": [{\"marker\": {\"line\": {\"color\": \"#283442\"}}, \"type\": \"scattergl\"}], \"scattermapbox\": [{\"marker\": {\"colorbar\": {\"outlinewidth\": 0, \"ticks\": \"\"}}, \"type\": \"scattermapbox\"}], \"scatterpolar\": [{\"marker\": {\"colorbar\": {\"outlinewidth\": 0, \"ticks\": \"\"}}, \"type\": \"scatterpolar\"}], \"scatterpolargl\": [{\"marker\": {\"colorbar\": {\"outlinewidth\": 0, \"ticks\": \"\"}}, \"type\": \"scatterpolargl\"}], \"scatterternary\": [{\"marker\": {\"colorbar\": {\"outlinewidth\": 0, \"ticks\": \"\"}}, \"type\": \"scatterternary\"}], \"surface\": [{\"colorbar\": {\"outlinewidth\": 0, \"ticks\": \"\"}, \"colorscale\": [[0.0, \"#0d0887\"], [0.1111111111111111, \"#46039f\"], [0.2222222222222222, \"#7201a8\"], [0.3333333333333333, \"#9c179e\"], [0.4444444444444444, \"#bd3786\"], [0.5555555555555556, \"#d8576b\"], [0.6666666666666666, \"#ed7953\"], [0.7777777777777778, \"#fb9f3a\"], [0.8888888888888888, \"#fdca26\"], [1.0, \"#f0f921\"]], \"type\": \"surface\"}], \"table\": [{\"cells\": {\"fill\": {\"color\": \"#506784\"}, \"line\": {\"color\": \"rgb(17,17,17)\"}}, \"header\": {\"fill\": {\"color\": \"#2a3f5f\"}, \"line\": {\"color\": \"rgb(17,17,17)\"}}, \"type\": \"table\"}]}, \"layout\": {\"annotationdefaults\": {\"arrowcolor\": \"#f2f5fa\", \"arrowhead\": 0, \"arrowwidth\": 1}, \"autotypenumbers\": \"strict\", \"coloraxis\": {\"colorbar\": {\"outlinewidth\": 0, \"ticks\": \"\"}}, \"colorscale\": {\"diverging\": [[0, \"#8e0152\"], [0.1, \"#c51b7d\"], [0.2, \"#de77ae\"], [0.3, \"#f1b6da\"], [0.4, \"#fde0ef\"], [0.5, \"#f7f7f7\"], [0.6, \"#e6f5d0\"], [0.7, \"#b8e186\"], [0.8, \"#7fbc41\"], [0.9, \"#4d9221\"], [1, \"#276419\"]], \"sequential\": [[0.0, \"#0d0887\"], [0.1111111111111111, \"#46039f\"], [0.2222222222222222, \"#7201a8\"], [0.3333333333333333, \"#9c179e\"], [0.4444444444444444, \"#bd3786\"], [0.5555555555555556, \"#d8576b\"], [0.6666666666666666, \"#ed7953\"], [0.7777777777777778, \"#fb9f3a\"], [0.8888888888888888, \"#fdca26\"], [1.0, \"#f0f921\"]], \"sequentialminus\": [[0.0, \"#0d0887\"], [0.1111111111111111, \"#46039f\"], [0.2222222222222222, \"#7201a8\"], [0.3333333333333333, \"#9c179e\"], [0.4444444444444444, \"#bd3786\"], [0.5555555555555556, \"#d8576b\"], [0.6666666666666666, \"#ed7953\"], [0.7777777777777778, \"#fb9f3a\"], [0.8888888888888888, \"#fdca26\"], [1.0, \"#f0f921\"]]}, \"colorway\": [\"#636efa\", \"#EF553B\", \"#00cc96\", \"#ab63fa\", \"#FFA15A\", \"#19d3f3\", \"#FF6692\", \"#B6E880\", \"#FF97FF\", \"#FECB52\"], \"font\": {\"color\": \"#f2f5fa\"}, \"geo\": {\"bgcolor\": \"rgb(17,17,17)\", \"lakecolor\": \"rgb(17,17,17)\", \"landcolor\": \"rgb(17,17,17)\", \"showlakes\": true, \"showland\": true, \"subunitcolor\": \"#506784\"}, \"hoverlabel\": {\"align\": \"left\"}, \"hovermode\": \"closest\", \"mapbox\": {\"style\": \"dark\"}, \"paper_bgcolor\": \"rgb(17,17,17)\", \"plot_bgcolor\": \"rgb(17,17,17)\", \"polar\": {\"angularaxis\": {\"gridcolor\": \"#506784\", \"linecolor\": \"#506784\", \"ticks\": \"\"}, \"bgcolor\": \"rgb(17,17,17)\", \"radialaxis\": {\"gridcolor\": \"#506784\", \"linecolor\": \"#506784\", \"ticks\": \"\"}}, \"scene\": {\"xaxis\": {\"backgroundcolor\": \"rgb(17,17,17)\", \"gridcolor\": \"#506784\", \"gridwidth\": 2, \"linecolor\": \"#506784\", \"showbackground\": true, \"ticks\": \"\", \"zerolinecolor\": \"#C8D4E3\"}, \"yaxis\": {\"backgroundcolor\": \"rgb(17,17,17)\", \"gridcolor\": \"#506784\", \"gridwidth\": 2, \"linecolor\": \"#506784\", \"showbackground\": true, \"ticks\": \"\", \"zerolinecolor\": \"#C8D4E3\"}, \"zaxis\": {\"backgroundcolor\": \"rgb(17,17,17)\", \"gridcolor\": \"#506784\", \"gridwidth\": 2, \"linecolor\": \"#506784\", \"showbackground\": true, \"ticks\": \"\", \"zerolinecolor\": \"#C8D4E3\"}}, \"shapedefaults\": {\"line\": {\"color\": \"#f2f5fa\"}}, \"sliderdefaults\": {\"bgcolor\": \"#C8D4E3\", \"bordercolor\": \"rgb(17,17,17)\", \"borderwidth\": 1, \"tickwidth\": 0}, \"ternary\": {\"aaxis\": {\"gridcolor\": \"#506784\", \"linecolor\": \"#506784\", \"ticks\": \"\"}, \"baxis\": {\"gridcolor\": \"#506784\", \"linecolor\": \"#506784\", \"ticks\": \"\"}, \"bgcolor\": \"rgb(17,17,17)\", \"caxis\": {\"gridcolor\": \"#506784\", \"linecolor\": \"#506784\", \"ticks\": \"\"}}, \"title\": {\"x\": 0.05}, \"updatemenudefaults\": {\"bgcolor\": \"#506784\", \"borderwidth\": 0}, \"xaxis\": {\"automargin\": true, \"gridcolor\": \"#283442\", \"linecolor\": \"#506784\", \"ticks\": \"\", \"title\": {\"standoff\": 15}, \"zerolinecolor\": \"#283442\", \"zerolinewidth\": 2}, \"yaxis\": {\"automargin\": true, \"gridcolor\": \"#283442\", \"linecolor\": \"#506784\", \"ticks\": \"\", \"title\": {\"standoff\": 15}, \"zerolinecolor\": \"#283442\", \"zerolinewidth\": 2}}}},                        {\"responsive\": true}                    ).then(function(){\n",
       "                            \n",
       "var gd = document.getElementById('8e523f02-bf19-4350-bb35-67dcd58c444d');\n",
       "var x = new MutationObserver(function (mutations, observer) {{\n",
       "        var display = window.getComputedStyle(gd).display;\n",
       "        if (!display || display === 'none') {{\n",
       "            console.log([gd, 'removed!']);\n",
       "            Plotly.purge(gd);\n",
       "            observer.disconnect();\n",
       "        }}\n",
       "}});\n",
       "\n",
       "// Listen for the removal of the full notebook cells\n",
       "var notebookContainer = gd.closest('#notebook-container');\n",
       "if (notebookContainer) {{\n",
       "    x.observe(notebookContainer, {childList: true});\n",
       "}}\n",
       "\n",
       "// Listen for the clearing of the current output cell\n",
       "var outputEl = gd.closest('.output');\n",
       "if (outputEl) {{\n",
       "    x.observe(outputEl, {childList: true});\n",
       "}}\n",
       "\n",
       "                        })                };                });            </script>        </div>"
      ]
     },
     "metadata": {},
     "output_type": "display_data"
    }
   ],
   "source": [
    "feature_label = df_feature_score.index\n",
    "\n",
    "fig = px.scatter_3d(df_feature_score, x=\"PC1\", y=\"PC2\", z=\"PC3\", color=feature_label, template = \"plotly_dark\")\n",
    "fig.show()"
   ]
  },
  {
   "cell_type": "code",
   "execution_count": null,
   "id": "edd0788b",
   "metadata": {},
   "outputs": [],
   "source": []
  },
  {
   "cell_type": "markdown",
   "id": "ec184f76",
   "metadata": {},
   "source": [
    "## Load and  preprocess new data"
   ]
  },
  {
   "cell_type": "code",
   "execution_count": 72,
   "id": "4a9a8d6d",
   "metadata": {},
   "outputs": [
    {
     "data": {
      "text/html": [
       "<div>\n",
       "<style scoped>\n",
       "    .dataframe tbody tr th:only-of-type {\n",
       "        vertical-align: middle;\n",
       "    }\n",
       "\n",
       "    .dataframe tbody tr th {\n",
       "        vertical-align: top;\n",
       "    }\n",
       "\n",
       "    .dataframe thead th {\n",
       "        text-align: right;\n",
       "    }\n",
       "</style>\n",
       "<table border=\"1\" class=\"dataframe\">\n",
       "  <thead>\n",
       "    <tr style=\"text-align: right;\">\n",
       "      <th></th>\n",
       "      <th>PassengerId</th>\n",
       "      <th>Pclass</th>\n",
       "      <th>Name</th>\n",
       "      <th>Sex</th>\n",
       "      <th>Age</th>\n",
       "      <th>SibSp</th>\n",
       "      <th>Parch</th>\n",
       "      <th>Ticket</th>\n",
       "      <th>Fare</th>\n",
       "      <th>Cabin</th>\n",
       "      <th>Embarked</th>\n",
       "    </tr>\n",
       "  </thead>\n",
       "  <tbody>\n",
       "    <tr>\n",
       "      <th>0</th>\n",
       "      <td>892</td>\n",
       "      <td>3</td>\n",
       "      <td>Kelly, Mr. James</td>\n",
       "      <td>male</td>\n",
       "      <td>34.5</td>\n",
       "      <td>0</td>\n",
       "      <td>0</td>\n",
       "      <td>330911</td>\n",
       "      <td>7.8292</td>\n",
       "      <td>NaN</td>\n",
       "      <td>Q</td>\n",
       "    </tr>\n",
       "    <tr>\n",
       "      <th>1</th>\n",
       "      <td>893</td>\n",
       "      <td>3</td>\n",
       "      <td>Wilkes, Mrs. James (Ellen Needs)</td>\n",
       "      <td>female</td>\n",
       "      <td>47.0</td>\n",
       "      <td>1</td>\n",
       "      <td>0</td>\n",
       "      <td>363272</td>\n",
       "      <td>7.0000</td>\n",
       "      <td>NaN</td>\n",
       "      <td>S</td>\n",
       "    </tr>\n",
       "    <tr>\n",
       "      <th>2</th>\n",
       "      <td>894</td>\n",
       "      <td>2</td>\n",
       "      <td>Myles, Mr. Thomas Francis</td>\n",
       "      <td>male</td>\n",
       "      <td>62.0</td>\n",
       "      <td>0</td>\n",
       "      <td>0</td>\n",
       "      <td>240276</td>\n",
       "      <td>9.6875</td>\n",
       "      <td>NaN</td>\n",
       "      <td>Q</td>\n",
       "    </tr>\n",
       "    <tr>\n",
       "      <th>3</th>\n",
       "      <td>895</td>\n",
       "      <td>3</td>\n",
       "      <td>Wirz, Mr. Albert</td>\n",
       "      <td>male</td>\n",
       "      <td>27.0</td>\n",
       "      <td>0</td>\n",
       "      <td>0</td>\n",
       "      <td>315154</td>\n",
       "      <td>8.6625</td>\n",
       "      <td>NaN</td>\n",
       "      <td>S</td>\n",
       "    </tr>\n",
       "    <tr>\n",
       "      <th>4</th>\n",
       "      <td>896</td>\n",
       "      <td>3</td>\n",
       "      <td>Hirvonen, Mrs. Alexander (Helga E Lindqvist)</td>\n",
       "      <td>female</td>\n",
       "      <td>22.0</td>\n",
       "      <td>1</td>\n",
       "      <td>1</td>\n",
       "      <td>3101298</td>\n",
       "      <td>12.2875</td>\n",
       "      <td>NaN</td>\n",
       "      <td>S</td>\n",
       "    </tr>\n",
       "    <tr>\n",
       "      <th>...</th>\n",
       "      <td>...</td>\n",
       "      <td>...</td>\n",
       "      <td>...</td>\n",
       "      <td>...</td>\n",
       "      <td>...</td>\n",
       "      <td>...</td>\n",
       "      <td>...</td>\n",
       "      <td>...</td>\n",
       "      <td>...</td>\n",
       "      <td>...</td>\n",
       "      <td>...</td>\n",
       "    </tr>\n",
       "    <tr>\n",
       "      <th>413</th>\n",
       "      <td>1305</td>\n",
       "      <td>3</td>\n",
       "      <td>Spector, Mr. Woolf</td>\n",
       "      <td>male</td>\n",
       "      <td>NaN</td>\n",
       "      <td>0</td>\n",
       "      <td>0</td>\n",
       "      <td>A.5. 3236</td>\n",
       "      <td>8.0500</td>\n",
       "      <td>NaN</td>\n",
       "      <td>S</td>\n",
       "    </tr>\n",
       "    <tr>\n",
       "      <th>414</th>\n",
       "      <td>1306</td>\n",
       "      <td>1</td>\n",
       "      <td>Oliva y Ocana, Dona. Fermina</td>\n",
       "      <td>female</td>\n",
       "      <td>39.0</td>\n",
       "      <td>0</td>\n",
       "      <td>0</td>\n",
       "      <td>PC 17758</td>\n",
       "      <td>108.9000</td>\n",
       "      <td>C105</td>\n",
       "      <td>C</td>\n",
       "    </tr>\n",
       "    <tr>\n",
       "      <th>415</th>\n",
       "      <td>1307</td>\n",
       "      <td>3</td>\n",
       "      <td>Saether, Mr. Simon Sivertsen</td>\n",
       "      <td>male</td>\n",
       "      <td>38.5</td>\n",
       "      <td>0</td>\n",
       "      <td>0</td>\n",
       "      <td>SOTON/O.Q. 3101262</td>\n",
       "      <td>7.2500</td>\n",
       "      <td>NaN</td>\n",
       "      <td>S</td>\n",
       "    </tr>\n",
       "    <tr>\n",
       "      <th>416</th>\n",
       "      <td>1308</td>\n",
       "      <td>3</td>\n",
       "      <td>Ware, Mr. Frederick</td>\n",
       "      <td>male</td>\n",
       "      <td>NaN</td>\n",
       "      <td>0</td>\n",
       "      <td>0</td>\n",
       "      <td>359309</td>\n",
       "      <td>8.0500</td>\n",
       "      <td>NaN</td>\n",
       "      <td>S</td>\n",
       "    </tr>\n",
       "    <tr>\n",
       "      <th>417</th>\n",
       "      <td>1309</td>\n",
       "      <td>3</td>\n",
       "      <td>Peter, Master. Michael J</td>\n",
       "      <td>male</td>\n",
       "      <td>NaN</td>\n",
       "      <td>1</td>\n",
       "      <td>1</td>\n",
       "      <td>2668</td>\n",
       "      <td>22.3583</td>\n",
       "      <td>NaN</td>\n",
       "      <td>C</td>\n",
       "    </tr>\n",
       "  </tbody>\n",
       "</table>\n",
       "<p>418 rows × 11 columns</p>\n",
       "</div>"
      ],
      "text/plain": [
       "     PassengerId  Pclass                                          Name  \\\n",
       "0            892       3                              Kelly, Mr. James   \n",
       "1            893       3              Wilkes, Mrs. James (Ellen Needs)   \n",
       "2            894       2                     Myles, Mr. Thomas Francis   \n",
       "3            895       3                              Wirz, Mr. Albert   \n",
       "4            896       3  Hirvonen, Mrs. Alexander (Helga E Lindqvist)   \n",
       "..           ...     ...                                           ...   \n",
       "413         1305       3                            Spector, Mr. Woolf   \n",
       "414         1306       1                  Oliva y Ocana, Dona. Fermina   \n",
       "415         1307       3                  Saether, Mr. Simon Sivertsen   \n",
       "416         1308       3                           Ware, Mr. Frederick   \n",
       "417         1309       3                      Peter, Master. Michael J   \n",
       "\n",
       "        Sex   Age  SibSp  Parch              Ticket      Fare Cabin Embarked  \n",
       "0      male  34.5      0      0              330911    7.8292   NaN        Q  \n",
       "1    female  47.0      1      0              363272    7.0000   NaN        S  \n",
       "2      male  62.0      0      0              240276    9.6875   NaN        Q  \n",
       "3      male  27.0      0      0              315154    8.6625   NaN        S  \n",
       "4    female  22.0      1      1             3101298   12.2875   NaN        S  \n",
       "..      ...   ...    ...    ...                 ...       ...   ...      ...  \n",
       "413    male   NaN      0      0           A.5. 3236    8.0500   NaN        S  \n",
       "414  female  39.0      0      0            PC 17758  108.9000  C105        C  \n",
       "415    male  38.5      0      0  SOTON/O.Q. 3101262    7.2500   NaN        S  \n",
       "416    male   NaN      0      0              359309    8.0500   NaN        S  \n",
       "417    male   NaN      1      1                2668   22.3583   NaN        C  \n",
       "\n",
       "[418 rows x 11 columns]"
      ]
     },
     "execution_count": 72,
     "metadata": {},
     "output_type": "execute_result"
    }
   ],
   "source": [
    "# Load new data\n",
    "test_data = pd.read_csv('test.csv')\n",
    "test_data"
   ]
  },
  {
   "cell_type": "code",
   "execution_count": 73,
   "id": "50e41daf",
   "metadata": {},
   "outputs": [
    {
     "data": {
      "text/html": [
       "<div>\n",
       "<style scoped>\n",
       "    .dataframe tbody tr th:only-of-type {\n",
       "        vertical-align: middle;\n",
       "    }\n",
       "\n",
       "    .dataframe tbody tr th {\n",
       "        vertical-align: top;\n",
       "    }\n",
       "\n",
       "    .dataframe thead th {\n",
       "        text-align: right;\n",
       "    }\n",
       "</style>\n",
       "<table border=\"1\" class=\"dataframe\">\n",
       "  <thead>\n",
       "    <tr style=\"text-align: right;\">\n",
       "      <th></th>\n",
       "      <th>PassengerId</th>\n",
       "      <th>Pclass</th>\n",
       "      <th>Age</th>\n",
       "      <th>SibSp</th>\n",
       "      <th>Parch</th>\n",
       "      <th>Fare</th>\n",
       "    </tr>\n",
       "  </thead>\n",
       "  <tbody>\n",
       "    <tr>\n",
       "      <th>count</th>\n",
       "      <td>418.000000</td>\n",
       "      <td>418.000000</td>\n",
       "      <td>332.000000</td>\n",
       "      <td>418.000000</td>\n",
       "      <td>418.000000</td>\n",
       "      <td>417.000000</td>\n",
       "    </tr>\n",
       "    <tr>\n",
       "      <th>mean</th>\n",
       "      <td>1100.500000</td>\n",
       "      <td>2.265550</td>\n",
       "      <td>30.272590</td>\n",
       "      <td>0.447368</td>\n",
       "      <td>0.392344</td>\n",
       "      <td>35.627188</td>\n",
       "    </tr>\n",
       "    <tr>\n",
       "      <th>std</th>\n",
       "      <td>120.810458</td>\n",
       "      <td>0.841838</td>\n",
       "      <td>14.181209</td>\n",
       "      <td>0.896760</td>\n",
       "      <td>0.981429</td>\n",
       "      <td>55.907576</td>\n",
       "    </tr>\n",
       "    <tr>\n",
       "      <th>min</th>\n",
       "      <td>892.000000</td>\n",
       "      <td>1.000000</td>\n",
       "      <td>0.170000</td>\n",
       "      <td>0.000000</td>\n",
       "      <td>0.000000</td>\n",
       "      <td>0.000000</td>\n",
       "    </tr>\n",
       "    <tr>\n",
       "      <th>25%</th>\n",
       "      <td>996.250000</td>\n",
       "      <td>1.000000</td>\n",
       "      <td>21.000000</td>\n",
       "      <td>0.000000</td>\n",
       "      <td>0.000000</td>\n",
       "      <td>7.895800</td>\n",
       "    </tr>\n",
       "    <tr>\n",
       "      <th>50%</th>\n",
       "      <td>1100.500000</td>\n",
       "      <td>3.000000</td>\n",
       "      <td>27.000000</td>\n",
       "      <td>0.000000</td>\n",
       "      <td>0.000000</td>\n",
       "      <td>14.454200</td>\n",
       "    </tr>\n",
       "    <tr>\n",
       "      <th>75%</th>\n",
       "      <td>1204.750000</td>\n",
       "      <td>3.000000</td>\n",
       "      <td>39.000000</td>\n",
       "      <td>1.000000</td>\n",
       "      <td>0.000000</td>\n",
       "      <td>31.500000</td>\n",
       "    </tr>\n",
       "    <tr>\n",
       "      <th>max</th>\n",
       "      <td>1309.000000</td>\n",
       "      <td>3.000000</td>\n",
       "      <td>76.000000</td>\n",
       "      <td>8.000000</td>\n",
       "      <td>9.000000</td>\n",
       "      <td>512.329200</td>\n",
       "    </tr>\n",
       "  </tbody>\n",
       "</table>\n",
       "</div>"
      ],
      "text/plain": [
       "       PassengerId      Pclass         Age       SibSp       Parch        Fare\n",
       "count   418.000000  418.000000  332.000000  418.000000  418.000000  417.000000\n",
       "mean   1100.500000    2.265550   30.272590    0.447368    0.392344   35.627188\n",
       "std     120.810458    0.841838   14.181209    0.896760    0.981429   55.907576\n",
       "min     892.000000    1.000000    0.170000    0.000000    0.000000    0.000000\n",
       "25%     996.250000    1.000000   21.000000    0.000000    0.000000    7.895800\n",
       "50%    1100.500000    3.000000   27.000000    0.000000    0.000000   14.454200\n",
       "75%    1204.750000    3.000000   39.000000    1.000000    0.000000   31.500000\n",
       "max    1309.000000    3.000000   76.000000    8.000000    9.000000  512.329200"
      ]
     },
     "execution_count": 73,
     "metadata": {},
     "output_type": "execute_result"
    }
   ],
   "source": [
    "# Copy data and explore\n",
    "test_df = test_data.copy()\n",
    "test_df.describe()"
   ]
  },
  {
   "cell_type": "markdown",
   "id": "83ddfd57",
   "metadata": {},
   "source": [
    "### Preprocess new data"
   ]
  },
  {
   "cell_type": "code",
   "execution_count": 74,
   "id": "47b686d9",
   "metadata": {},
   "outputs": [
    {
     "data": {
      "text/html": [
       "<div>\n",
       "<style scoped>\n",
       "    .dataframe tbody tr th:only-of-type {\n",
       "        vertical-align: middle;\n",
       "    }\n",
       "\n",
       "    .dataframe tbody tr th {\n",
       "        vertical-align: top;\n",
       "    }\n",
       "\n",
       "    .dataframe thead th {\n",
       "        text-align: right;\n",
       "    }\n",
       "</style>\n",
       "<table border=\"1\" class=\"dataframe\">\n",
       "  <thead>\n",
       "    <tr style=\"text-align: right;\">\n",
       "      <th></th>\n",
       "      <th>Pclass</th>\n",
       "      <th>Sex</th>\n",
       "      <th>Age</th>\n",
       "      <th>Fare</th>\n",
       "      <th>Embarked</th>\n",
       "      <th>Deck</th>\n",
       "      <th>Relatives</th>\n",
       "      <th>Title</th>\n",
       "    </tr>\n",
       "  </thead>\n",
       "  <tbody>\n",
       "    <tr>\n",
       "      <th>0</th>\n",
       "      <td>3</td>\n",
       "      <td>male</td>\n",
       "      <td>34</td>\n",
       "      <td>7.8292</td>\n",
       "      <td>Q</td>\n",
       "      <td>NaN</td>\n",
       "      <td>Singleton</td>\n",
       "      <td>Mr</td>\n",
       "    </tr>\n",
       "    <tr>\n",
       "      <th>1</th>\n",
       "      <td>3</td>\n",
       "      <td>female</td>\n",
       "      <td>47</td>\n",
       "      <td>7.0000</td>\n",
       "      <td>S</td>\n",
       "      <td>NaN</td>\n",
       "      <td>SmallFamily</td>\n",
       "      <td>Mrs</td>\n",
       "    </tr>\n",
       "    <tr>\n",
       "      <th>2</th>\n",
       "      <td>2</td>\n",
       "      <td>male</td>\n",
       "      <td>62</td>\n",
       "      <td>9.6875</td>\n",
       "      <td>Q</td>\n",
       "      <td>NaN</td>\n",
       "      <td>Singleton</td>\n",
       "      <td>Mr</td>\n",
       "    </tr>\n",
       "    <tr>\n",
       "      <th>3</th>\n",
       "      <td>3</td>\n",
       "      <td>male</td>\n",
       "      <td>27</td>\n",
       "      <td>8.6625</td>\n",
       "      <td>S</td>\n",
       "      <td>NaN</td>\n",
       "      <td>Singleton</td>\n",
       "      <td>Mr</td>\n",
       "    </tr>\n",
       "    <tr>\n",
       "      <th>4</th>\n",
       "      <td>3</td>\n",
       "      <td>female</td>\n",
       "      <td>22</td>\n",
       "      <td>12.2875</td>\n",
       "      <td>S</td>\n",
       "      <td>NaN</td>\n",
       "      <td>SmallFamily</td>\n",
       "      <td>Mrs</td>\n",
       "    </tr>\n",
       "    <tr>\n",
       "      <th>...</th>\n",
       "      <td>...</td>\n",
       "      <td>...</td>\n",
       "      <td>...</td>\n",
       "      <td>...</td>\n",
       "      <td>...</td>\n",
       "      <td>...</td>\n",
       "      <td>...</td>\n",
       "      <td>...</td>\n",
       "    </tr>\n",
       "    <tr>\n",
       "      <th>413</th>\n",
       "      <td>3</td>\n",
       "      <td>male</td>\n",
       "      <td>27</td>\n",
       "      <td>8.0500</td>\n",
       "      <td>S</td>\n",
       "      <td>NaN</td>\n",
       "      <td>Singleton</td>\n",
       "      <td>Mr</td>\n",
       "    </tr>\n",
       "    <tr>\n",
       "      <th>414</th>\n",
       "      <td>1</td>\n",
       "      <td>female</td>\n",
       "      <td>39</td>\n",
       "      <td>108.9000</td>\n",
       "      <td>C</td>\n",
       "      <td>C</td>\n",
       "      <td>Singleton</td>\n",
       "      <td>Dona</td>\n",
       "    </tr>\n",
       "    <tr>\n",
       "      <th>415</th>\n",
       "      <td>3</td>\n",
       "      <td>male</td>\n",
       "      <td>38</td>\n",
       "      <td>7.2500</td>\n",
       "      <td>S</td>\n",
       "      <td>NaN</td>\n",
       "      <td>Singleton</td>\n",
       "      <td>Mr</td>\n",
       "    </tr>\n",
       "    <tr>\n",
       "      <th>416</th>\n",
       "      <td>3</td>\n",
       "      <td>male</td>\n",
       "      <td>33</td>\n",
       "      <td>8.0500</td>\n",
       "      <td>S</td>\n",
       "      <td>NaN</td>\n",
       "      <td>Singleton</td>\n",
       "      <td>Mr</td>\n",
       "    </tr>\n",
       "    <tr>\n",
       "      <th>417</th>\n",
       "      <td>3</td>\n",
       "      <td>male</td>\n",
       "      <td>26</td>\n",
       "      <td>22.3583</td>\n",
       "      <td>C</td>\n",
       "      <td>NaN</td>\n",
       "      <td>SmallFamily</td>\n",
       "      <td>Master</td>\n",
       "    </tr>\n",
       "  </tbody>\n",
       "</table>\n",
       "<p>418 rows × 8 columns</p>\n",
       "</div>"
      ],
      "text/plain": [
       "     Pclass     Sex  Age      Fare Embarked Deck    Relatives   Title\n",
       "0         3    male   34    7.8292        Q  NaN    Singleton      Mr\n",
       "1         3  female   47    7.0000        S  NaN  SmallFamily     Mrs\n",
       "2         2    male   62    9.6875        Q  NaN    Singleton      Mr\n",
       "3         3    male   27    8.6625        S  NaN    Singleton      Mr\n",
       "4         3  female   22   12.2875        S  NaN  SmallFamily     Mrs\n",
       "..      ...     ...  ...       ...      ...  ...          ...     ...\n",
       "413       3    male   27    8.0500        S  NaN    Singleton      Mr\n",
       "414       1  female   39  108.9000        C    C    Singleton    Dona\n",
       "415       3    male   38    7.2500        S  NaN    Singleton      Mr\n",
       "416       3    male   33    8.0500        S  NaN    Singleton      Mr\n",
       "417       3    male   26   22.3583        C  NaN  SmallFamily  Master\n",
       "\n",
       "[418 rows x 8 columns]"
      ]
     },
     "execution_count": 74,
     "metadata": {},
     "output_type": "execute_result"
    }
   ],
   "source": [
    "def new_data_preprocess(df):\n",
    "    # Load preprocessing data\n",
    "    with open('preprocess_data.pkl', 'rb') as f:\n",
    "        preprocess_data = pickle.load(f)\n",
    "        \n",
    "    # Fill missing age values\n",
    "    df = fill_missing_age(df, preprocess_data['age_mean'], preprocess_data['age_std'])\n",
    "    \n",
    "    # Fill missing fare values\n",
    "    df['Fare'] = df['Fare'].fillna(preprocess_data['fare_mean'])\n",
    "    \n",
    "    # Fill missing embarked values if any\n",
    "    df['Embarked'] = df['Embarked'].fillna(preprocess_data['embarked_mode'])\n",
    "    \n",
    "    # Turn Cabin number into Deck    \n",
    "    df['Deck'] = df['Cabin'].map(lambda x: substring_in(x, preprocess_data['decks']))\n",
    "    \n",
    "    # Combine SibSp, Parch (siblings/spouse/parents/children) into new feature\n",
    "    df['Relatives'] = df['SibSp']+df['Parch']\n",
    "    # Extend field 'Relatives' into 3 categories: Singleton, SmallFamily, LargerFamily with family_size() function\n",
    "    df['Relatives'] = df['Relatives'].map(lambda x: family_size(x))\n",
    "    \n",
    "    # Extract from Name field title (it might be that some education or profession correlate with surviving)\n",
    "    df['Title'] = df['Name'].map(lambda name: name.split(',')[1].split('.')[0].strip())\n",
    "    \n",
    "    # Drop extra features\n",
    "    df = df.drop(['PassengerId', 'Name', 'SibSp', 'Parch', 'Ticket', 'Cabin'], axis=1)\n",
    "\n",
    "    return df\n",
    "\n",
    "test_df = new_data_preprocess(test_df)\n",
    "test_df"
   ]
  },
  {
   "cell_type": "markdown",
   "id": "eb1166c8",
   "metadata": {},
   "source": [
    "### Scale new data numerical values"
   ]
  },
  {
   "cell_type": "code",
   "execution_count": 75,
   "id": "2032b0eb",
   "metadata": {},
   "outputs": [
    {
     "data": {
      "text/html": [
       "<div>\n",
       "<style scoped>\n",
       "    .dataframe tbody tr th:only-of-type {\n",
       "        vertical-align: middle;\n",
       "    }\n",
       "\n",
       "    .dataframe tbody tr th {\n",
       "        vertical-align: top;\n",
       "    }\n",
       "\n",
       "    .dataframe thead th {\n",
       "        text-align: right;\n",
       "    }\n",
       "</style>\n",
       "<table border=\"1\" class=\"dataframe\">\n",
       "  <thead>\n",
       "    <tr style=\"text-align: right;\">\n",
       "      <th></th>\n",
       "      <th>Pclass</th>\n",
       "      <th>Sex</th>\n",
       "      <th>Age</th>\n",
       "      <th>Fare</th>\n",
       "      <th>Embarked</th>\n",
       "      <th>Deck</th>\n",
       "      <th>Relatives</th>\n",
       "      <th>Title</th>\n",
       "    </tr>\n",
       "  </thead>\n",
       "  <tbody>\n",
       "    <tr>\n",
       "      <th>0</th>\n",
       "      <td>3</td>\n",
       "      <td>male</td>\n",
       "      <td>0.326716</td>\n",
       "      <td>-0.490783</td>\n",
       "      <td>Q</td>\n",
       "      <td>NaN</td>\n",
       "      <td>Singleton</td>\n",
       "      <td>Mr</td>\n",
       "    </tr>\n",
       "    <tr>\n",
       "      <th>1</th>\n",
       "      <td>3</td>\n",
       "      <td>female</td>\n",
       "      <td>1.288431</td>\n",
       "      <td>-0.507479</td>\n",
       "      <td>S</td>\n",
       "      <td>NaN</td>\n",
       "      <td>SmallFamily</td>\n",
       "      <td>Mrs</td>\n",
       "    </tr>\n",
       "    <tr>\n",
       "      <th>2</th>\n",
       "      <td>2</td>\n",
       "      <td>male</td>\n",
       "      <td>2.398101</td>\n",
       "      <td>-0.453367</td>\n",
       "      <td>Q</td>\n",
       "      <td>NaN</td>\n",
       "      <td>Singleton</td>\n",
       "      <td>Mr</td>\n",
       "    </tr>\n",
       "    <tr>\n",
       "      <th>3</th>\n",
       "      <td>3</td>\n",
       "      <td>male</td>\n",
       "      <td>-0.191131</td>\n",
       "      <td>-0.474005</td>\n",
       "      <td>S</td>\n",
       "      <td>NaN</td>\n",
       "      <td>Singleton</td>\n",
       "      <td>Mr</td>\n",
       "    </tr>\n",
       "    <tr>\n",
       "      <th>4</th>\n",
       "      <td>3</td>\n",
       "      <td>female</td>\n",
       "      <td>-0.561021</td>\n",
       "      <td>-0.401017</td>\n",
       "      <td>S</td>\n",
       "      <td>NaN</td>\n",
       "      <td>SmallFamily</td>\n",
       "      <td>Mrs</td>\n",
       "    </tr>\n",
       "    <tr>\n",
       "      <th>...</th>\n",
       "      <td>...</td>\n",
       "      <td>...</td>\n",
       "      <td>...</td>\n",
       "      <td>...</td>\n",
       "      <td>...</td>\n",
       "      <td>...</td>\n",
       "      <td>...</td>\n",
       "      <td>...</td>\n",
       "    </tr>\n",
       "    <tr>\n",
       "      <th>413</th>\n",
       "      <td>3</td>\n",
       "      <td>male</td>\n",
       "      <td>-0.191131</td>\n",
       "      <td>-0.486337</td>\n",
       "      <td>S</td>\n",
       "      <td>NaN</td>\n",
       "      <td>Singleton</td>\n",
       "      <td>Mr</td>\n",
       "    </tr>\n",
       "    <tr>\n",
       "      <th>414</th>\n",
       "      <td>1</td>\n",
       "      <td>female</td>\n",
       "      <td>0.696606</td>\n",
       "      <td>1.544246</td>\n",
       "      <td>C</td>\n",
       "      <td>C</td>\n",
       "      <td>Singleton</td>\n",
       "      <td>Dona</td>\n",
       "    </tr>\n",
       "    <tr>\n",
       "      <th>415</th>\n",
       "      <td>3</td>\n",
       "      <td>male</td>\n",
       "      <td>0.622628</td>\n",
       "      <td>-0.502445</td>\n",
       "      <td>S</td>\n",
       "      <td>NaN</td>\n",
       "      <td>Singleton</td>\n",
       "      <td>Mr</td>\n",
       "    </tr>\n",
       "    <tr>\n",
       "      <th>416</th>\n",
       "      <td>3</td>\n",
       "      <td>male</td>\n",
       "      <td>0.252738</td>\n",
       "      <td>-0.486337</td>\n",
       "      <td>S</td>\n",
       "      <td>NaN</td>\n",
       "      <td>Singleton</td>\n",
       "      <td>Mr</td>\n",
       "    </tr>\n",
       "    <tr>\n",
       "      <th>417</th>\n",
       "      <td>3</td>\n",
       "      <td>male</td>\n",
       "      <td>-0.265109</td>\n",
       "      <td>-0.198244</td>\n",
       "      <td>C</td>\n",
       "      <td>NaN</td>\n",
       "      <td>SmallFamily</td>\n",
       "      <td>Master</td>\n",
       "    </tr>\n",
       "  </tbody>\n",
       "</table>\n",
       "<p>418 rows × 8 columns</p>\n",
       "</div>"
      ],
      "text/plain": [
       "    Pclass     Sex       Age      Fare Embarked Deck    Relatives   Title\n",
       "0        3    male  0.326716 -0.490783        Q  NaN    Singleton      Mr\n",
       "1        3  female  1.288431 -0.507479        S  NaN  SmallFamily     Mrs\n",
       "2        2    male  2.398101 -0.453367        Q  NaN    Singleton      Mr\n",
       "3        3    male -0.191131 -0.474005        S  NaN    Singleton      Mr\n",
       "4        3  female -0.561021 -0.401017        S  NaN  SmallFamily     Mrs\n",
       "..     ...     ...       ...       ...      ...  ...          ...     ...\n",
       "413      3    male -0.191131 -0.486337        S  NaN    Singleton      Mr\n",
       "414      1  female  0.696606  1.544246        C    C    Singleton    Dona\n",
       "415      3    male  0.622628 -0.502445        S  NaN    Singleton      Mr\n",
       "416      3    male  0.252738 -0.486337        S  NaN    Singleton      Mr\n",
       "417      3    male -0.265109 -0.198244        C  NaN  SmallFamily  Master\n",
       "\n",
       "[418 rows x 8 columns]"
      ]
     },
     "execution_count": 75,
     "metadata": {},
     "output_type": "execute_result"
    }
   ],
   "source": [
    "def new_data_scale(df):\n",
    "    # Change Pclass type as it is a categorical variable\n",
    "    df['Pclass'] = df['Pclass'].astype(str)\n",
    "\n",
    "    # Load scale data\n",
    "    with open('scale_data.pkl', 'rb') as f:\n",
    "        scale_data = pickle.load(f)\n",
    "\n",
    "    #Transform numerical values\n",
    "    scaler, features_to_scale = scale_data['scaler'], scale_data['features_to_scale']\n",
    "    df[features_to_scale] = scaler.transform(df[features_to_scale])\n",
    "        \n",
    "    return df\n",
    "\n",
    "# Copy Dataframes before scaling\n",
    "test_scaled = test_df.copy()\n",
    "\n",
    "test_scaled = new_data_scale(test_scaled)\n",
    "test_scaled"
   ]
  },
  {
   "cell_type": "markdown",
   "id": "708af17d",
   "metadata": {},
   "source": [
    "### Transform new data categorical variables into dummies"
   ]
  },
  {
   "cell_type": "code",
   "execution_count": 76,
   "id": "cd0566ed",
   "metadata": {},
   "outputs": [
    {
     "data": {
      "text/html": [
       "<div>\n",
       "<style scoped>\n",
       "    .dataframe tbody tr th:only-of-type {\n",
       "        vertical-align: middle;\n",
       "    }\n",
       "\n",
       "    .dataframe tbody tr th {\n",
       "        vertical-align: top;\n",
       "    }\n",
       "\n",
       "    .dataframe thead th {\n",
       "        text-align: right;\n",
       "    }\n",
       "</style>\n",
       "<table border=\"1\" class=\"dataframe\">\n",
       "  <thead>\n",
       "    <tr style=\"text-align: right;\">\n",
       "      <th></th>\n",
       "      <th>Age</th>\n",
       "      <th>Fare</th>\n",
       "      <th>Pclass_2</th>\n",
       "      <th>Pclass_3</th>\n",
       "      <th>Sex_male</th>\n",
       "      <th>Embarked_Q</th>\n",
       "      <th>Embarked_S</th>\n",
       "      <th>Deck_B</th>\n",
       "      <th>Deck_C</th>\n",
       "      <th>Deck_D</th>\n",
       "      <th>...</th>\n",
       "      <th>Title_Master</th>\n",
       "      <th>Title_Miss</th>\n",
       "      <th>Title_Mlle</th>\n",
       "      <th>Title_Mme</th>\n",
       "      <th>Title_Mr</th>\n",
       "      <th>Title_Mrs</th>\n",
       "      <th>Title_Ms</th>\n",
       "      <th>Title_Rev</th>\n",
       "      <th>Title_Sir</th>\n",
       "      <th>Title_the Countess</th>\n",
       "    </tr>\n",
       "  </thead>\n",
       "  <tbody>\n",
       "    <tr>\n",
       "      <th>0</th>\n",
       "      <td>0.326716</td>\n",
       "      <td>-0.490783</td>\n",
       "      <td>0</td>\n",
       "      <td>1</td>\n",
       "      <td>1</td>\n",
       "      <td>1</td>\n",
       "      <td>0</td>\n",
       "      <td>0</td>\n",
       "      <td>0</td>\n",
       "      <td>0</td>\n",
       "      <td>...</td>\n",
       "      <td>0</td>\n",
       "      <td>0</td>\n",
       "      <td>0</td>\n",
       "      <td>0</td>\n",
       "      <td>1</td>\n",
       "      <td>0</td>\n",
       "      <td>0</td>\n",
       "      <td>0</td>\n",
       "      <td>0</td>\n",
       "      <td>0</td>\n",
       "    </tr>\n",
       "    <tr>\n",
       "      <th>1</th>\n",
       "      <td>1.288431</td>\n",
       "      <td>-0.507479</td>\n",
       "      <td>0</td>\n",
       "      <td>1</td>\n",
       "      <td>0</td>\n",
       "      <td>0</td>\n",
       "      <td>1</td>\n",
       "      <td>0</td>\n",
       "      <td>0</td>\n",
       "      <td>0</td>\n",
       "      <td>...</td>\n",
       "      <td>0</td>\n",
       "      <td>0</td>\n",
       "      <td>0</td>\n",
       "      <td>0</td>\n",
       "      <td>0</td>\n",
       "      <td>1</td>\n",
       "      <td>0</td>\n",
       "      <td>0</td>\n",
       "      <td>0</td>\n",
       "      <td>0</td>\n",
       "    </tr>\n",
       "    <tr>\n",
       "      <th>2</th>\n",
       "      <td>2.398101</td>\n",
       "      <td>-0.453367</td>\n",
       "      <td>1</td>\n",
       "      <td>0</td>\n",
       "      <td>1</td>\n",
       "      <td>1</td>\n",
       "      <td>0</td>\n",
       "      <td>0</td>\n",
       "      <td>0</td>\n",
       "      <td>0</td>\n",
       "      <td>...</td>\n",
       "      <td>0</td>\n",
       "      <td>0</td>\n",
       "      <td>0</td>\n",
       "      <td>0</td>\n",
       "      <td>1</td>\n",
       "      <td>0</td>\n",
       "      <td>0</td>\n",
       "      <td>0</td>\n",
       "      <td>0</td>\n",
       "      <td>0</td>\n",
       "    </tr>\n",
       "    <tr>\n",
       "      <th>3</th>\n",
       "      <td>-0.191131</td>\n",
       "      <td>-0.474005</td>\n",
       "      <td>0</td>\n",
       "      <td>1</td>\n",
       "      <td>1</td>\n",
       "      <td>0</td>\n",
       "      <td>1</td>\n",
       "      <td>0</td>\n",
       "      <td>0</td>\n",
       "      <td>0</td>\n",
       "      <td>...</td>\n",
       "      <td>0</td>\n",
       "      <td>0</td>\n",
       "      <td>0</td>\n",
       "      <td>0</td>\n",
       "      <td>1</td>\n",
       "      <td>0</td>\n",
       "      <td>0</td>\n",
       "      <td>0</td>\n",
       "      <td>0</td>\n",
       "      <td>0</td>\n",
       "    </tr>\n",
       "    <tr>\n",
       "      <th>4</th>\n",
       "      <td>-0.561021</td>\n",
       "      <td>-0.401017</td>\n",
       "      <td>0</td>\n",
       "      <td>1</td>\n",
       "      <td>0</td>\n",
       "      <td>0</td>\n",
       "      <td>1</td>\n",
       "      <td>0</td>\n",
       "      <td>0</td>\n",
       "      <td>0</td>\n",
       "      <td>...</td>\n",
       "      <td>0</td>\n",
       "      <td>0</td>\n",
       "      <td>0</td>\n",
       "      <td>0</td>\n",
       "      <td>0</td>\n",
       "      <td>1</td>\n",
       "      <td>0</td>\n",
       "      <td>0</td>\n",
       "      <td>0</td>\n",
       "      <td>0</td>\n",
       "    </tr>\n",
       "    <tr>\n",
       "      <th>...</th>\n",
       "      <td>...</td>\n",
       "      <td>...</td>\n",
       "      <td>...</td>\n",
       "      <td>...</td>\n",
       "      <td>...</td>\n",
       "      <td>...</td>\n",
       "      <td>...</td>\n",
       "      <td>...</td>\n",
       "      <td>...</td>\n",
       "      <td>...</td>\n",
       "      <td>...</td>\n",
       "      <td>...</td>\n",
       "      <td>...</td>\n",
       "      <td>...</td>\n",
       "      <td>...</td>\n",
       "      <td>...</td>\n",
       "      <td>...</td>\n",
       "      <td>...</td>\n",
       "      <td>...</td>\n",
       "      <td>...</td>\n",
       "      <td>...</td>\n",
       "    </tr>\n",
       "    <tr>\n",
       "      <th>413</th>\n",
       "      <td>-0.191131</td>\n",
       "      <td>-0.486337</td>\n",
       "      <td>0</td>\n",
       "      <td>1</td>\n",
       "      <td>1</td>\n",
       "      <td>0</td>\n",
       "      <td>1</td>\n",
       "      <td>0</td>\n",
       "      <td>0</td>\n",
       "      <td>0</td>\n",
       "      <td>...</td>\n",
       "      <td>0</td>\n",
       "      <td>0</td>\n",
       "      <td>0</td>\n",
       "      <td>0</td>\n",
       "      <td>1</td>\n",
       "      <td>0</td>\n",
       "      <td>0</td>\n",
       "      <td>0</td>\n",
       "      <td>0</td>\n",
       "      <td>0</td>\n",
       "    </tr>\n",
       "    <tr>\n",
       "      <th>414</th>\n",
       "      <td>0.696606</td>\n",
       "      <td>1.544246</td>\n",
       "      <td>0</td>\n",
       "      <td>0</td>\n",
       "      <td>0</td>\n",
       "      <td>0</td>\n",
       "      <td>0</td>\n",
       "      <td>0</td>\n",
       "      <td>1</td>\n",
       "      <td>0</td>\n",
       "      <td>...</td>\n",
       "      <td>0</td>\n",
       "      <td>0</td>\n",
       "      <td>0</td>\n",
       "      <td>0</td>\n",
       "      <td>0</td>\n",
       "      <td>0</td>\n",
       "      <td>0</td>\n",
       "      <td>0</td>\n",
       "      <td>0</td>\n",
       "      <td>0</td>\n",
       "    </tr>\n",
       "    <tr>\n",
       "      <th>415</th>\n",
       "      <td>0.622628</td>\n",
       "      <td>-0.502445</td>\n",
       "      <td>0</td>\n",
       "      <td>1</td>\n",
       "      <td>1</td>\n",
       "      <td>0</td>\n",
       "      <td>1</td>\n",
       "      <td>0</td>\n",
       "      <td>0</td>\n",
       "      <td>0</td>\n",
       "      <td>...</td>\n",
       "      <td>0</td>\n",
       "      <td>0</td>\n",
       "      <td>0</td>\n",
       "      <td>0</td>\n",
       "      <td>1</td>\n",
       "      <td>0</td>\n",
       "      <td>0</td>\n",
       "      <td>0</td>\n",
       "      <td>0</td>\n",
       "      <td>0</td>\n",
       "    </tr>\n",
       "    <tr>\n",
       "      <th>416</th>\n",
       "      <td>0.252738</td>\n",
       "      <td>-0.486337</td>\n",
       "      <td>0</td>\n",
       "      <td>1</td>\n",
       "      <td>1</td>\n",
       "      <td>0</td>\n",
       "      <td>1</td>\n",
       "      <td>0</td>\n",
       "      <td>0</td>\n",
       "      <td>0</td>\n",
       "      <td>...</td>\n",
       "      <td>0</td>\n",
       "      <td>0</td>\n",
       "      <td>0</td>\n",
       "      <td>0</td>\n",
       "      <td>1</td>\n",
       "      <td>0</td>\n",
       "      <td>0</td>\n",
       "      <td>0</td>\n",
       "      <td>0</td>\n",
       "      <td>0</td>\n",
       "    </tr>\n",
       "    <tr>\n",
       "      <th>417</th>\n",
       "      <td>-0.265109</td>\n",
       "      <td>-0.198244</td>\n",
       "      <td>0</td>\n",
       "      <td>1</td>\n",
       "      <td>1</td>\n",
       "      <td>0</td>\n",
       "      <td>0</td>\n",
       "      <td>0</td>\n",
       "      <td>0</td>\n",
       "      <td>0</td>\n",
       "      <td>...</td>\n",
       "      <td>1</td>\n",
       "      <td>0</td>\n",
       "      <td>0</td>\n",
       "      <td>0</td>\n",
       "      <td>0</td>\n",
       "      <td>0</td>\n",
       "      <td>0</td>\n",
       "      <td>0</td>\n",
       "      <td>0</td>\n",
       "      <td>0</td>\n",
       "    </tr>\n",
       "  </tbody>\n",
       "</table>\n",
       "<p>418 rows × 33 columns</p>\n",
       "</div>"
      ],
      "text/plain": [
       "          Age      Fare  Pclass_2  Pclass_3  Sex_male  Embarked_Q  Embarked_S  \\\n",
       "0    0.326716 -0.490783         0         1         1           1           0   \n",
       "1    1.288431 -0.507479         0         1         0           0           1   \n",
       "2    2.398101 -0.453367         1         0         1           1           0   \n",
       "3   -0.191131 -0.474005         0         1         1           0           1   \n",
       "4   -0.561021 -0.401017         0         1         0           0           1   \n",
       "..        ...       ...       ...       ...       ...         ...         ...   \n",
       "413 -0.191131 -0.486337         0         1         1           0           1   \n",
       "414  0.696606  1.544246         0         0         0           0           0   \n",
       "415  0.622628 -0.502445         0         1         1           0           1   \n",
       "416  0.252738 -0.486337         0         1         1           0           1   \n",
       "417 -0.265109 -0.198244         0         1         1           0           0   \n",
       "\n",
       "     Deck_B  Deck_C  Deck_D  ...  Title_Master  Title_Miss  Title_Mlle  \\\n",
       "0         0       0       0  ...             0           0           0   \n",
       "1         0       0       0  ...             0           0           0   \n",
       "2         0       0       0  ...             0           0           0   \n",
       "3         0       0       0  ...             0           0           0   \n",
       "4         0       0       0  ...             0           0           0   \n",
       "..      ...     ...     ...  ...           ...         ...         ...   \n",
       "413       0       0       0  ...             0           0           0   \n",
       "414       0       1       0  ...             0           0           0   \n",
       "415       0       0       0  ...             0           0           0   \n",
       "416       0       0       0  ...             0           0           0   \n",
       "417       0       0       0  ...             1           0           0   \n",
       "\n",
       "     Title_Mme  Title_Mr  Title_Mrs  Title_Ms  Title_Rev  Title_Sir  \\\n",
       "0            0         1          0         0          0          0   \n",
       "1            0         0          1         0          0          0   \n",
       "2            0         1          0         0          0          0   \n",
       "3            0         1          0         0          0          0   \n",
       "4            0         0          1         0          0          0   \n",
       "..         ...       ...        ...       ...        ...        ...   \n",
       "413          0         1          0         0          0          0   \n",
       "414          0         0          0         0          0          0   \n",
       "415          0         1          0         0          0          0   \n",
       "416          0         1          0         0          0          0   \n",
       "417          0         0          0         0          0          0   \n",
       "\n",
       "     Title_the Countess  \n",
       "0                     0  \n",
       "1                     0  \n",
       "2                     0  \n",
       "3                     0  \n",
       "4                     0  \n",
       "..                  ...  \n",
       "413                   0  \n",
       "414                   0  \n",
       "415                   0  \n",
       "416                   0  \n",
       "417                   0  \n",
       "\n",
       "[418 rows x 33 columns]"
      ]
     },
     "execution_count": 76,
     "metadata": {},
     "output_type": "execute_result"
    }
   ],
   "source": [
    "def new_data_one_hot(df):\n",
    "    # Load encode data\n",
    "    with open('encode_data.pkl', 'rb') as f:\n",
    "        encode_data = pickle.load(f)\n",
    "    \n",
    "    # Transform features listed in features_to_encode into dummies\n",
    "    encoder, features_to_encode = encode_data['encoder'], encode_data['features_to_encode']\n",
    "    encoded_df = encoder.transform(df[features_to_encode])\n",
    "\n",
    "    # Get DataFrame from dummies matrix\n",
    "    encoded_features = encoder.get_feature_names_out(features_to_encode)    \n",
    "    encoded_df = pd.DataFrame(encoded_df.todense(), columns=encoded_features)\n",
    "    \n",
    "    # Concatenate scaled DataFrame and encoded DataFrame, drop already encoded features\n",
    "    df = pd.concat([df, encoded_df], axis=1)\n",
    "    df = df.drop(features_to_encode, axis=1)    \n",
    "    return df\n",
    "\n",
    "# Copy Dataframes before scaling\n",
    "test_encoded = test_scaled.copy()\n",
    "\n",
    "test_encoded = new_data_one_hot(test_encoded)\n",
    "test_encoded"
   ]
  },
  {
   "cell_type": "markdown",
   "id": "36f32dd8",
   "metadata": {},
   "source": [
    "### Check there is no mismatch in features in train and new data sets"
   ]
  },
  {
   "cell_type": "code",
   "execution_count": 77,
   "id": "3722e258",
   "metadata": {},
   "outputs": [
    {
     "name": "stdout",
     "output_type": "stream",
     "text": [
      "True\n"
     ]
    }
   ],
   "source": [
    "comparison = train_encoded.columns.values[1:] == test_encoded.columns.values\n",
    "equal_features = comparison.all()\n",
    "  \n",
    "print(equal_features)"
   ]
  },
  {
   "cell_type": "markdown",
   "id": "cdc8a228",
   "metadata": {},
   "source": [
    "## Run best perforemed model on new data and save prediction as submission.csv "
   ]
  },
  {
   "cell_type": "code",
   "execution_count": null,
   "id": "ddfb5d1b",
   "metadata": {},
   "outputs": [],
   "source": []
  }
 ],
 "metadata": {
  "kernelspec": {
   "display_name": "python3.8_TF2.7",
   "language": "python",
   "name": "python3.8_tf2.7"
  },
  "language_info": {
   "codemirror_mode": {
    "name": "ipython",
    "version": 3
   },
   "file_extension": ".py",
   "mimetype": "text/x-python",
   "name": "python",
   "nbconvert_exporter": "python",
   "pygments_lexer": "ipython3",
   "version": "3.8.12"
  }
 },
 "nbformat": 4,
 "nbformat_minor": 5
}
